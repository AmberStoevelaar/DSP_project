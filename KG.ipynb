{
 "cells": [
  {
   "cell_type": "code",
   "execution_count": 1,
   "metadata": {},
   "outputs": [],
   "source": [
    "from langchain.document_loaders import PyPDFLoader\n",
    "from langchain.docstore.document import Document\n",
    "import os\n",
    "\n",
    "# Directory containing your PDF files\n",
    "directory_path = 'TCs'\n",
    "\n",
    "# Initialize PyPDFLoader for each PDF in the directory\n",
    "loaders = [PyPDFLoader(os.path.join(directory_path, f)) for f in os.listdir(directory_path) if f.endswith('.pdf')]\n",
    "\n",
    "# Load documents from PDFs\n",
    "news_docs = []\n",
    "for loader in loaders:\n",
    "    news_docs.extend(loader.load())\n",
    "\n",
    "# Prepare the content and metadata for each news article as Document objects\n",
    "news_articles_data = [\n",
    "    Document(\n",
    "        page_content=doc.page_content,  # Assuming this is how you access the page content of the document\n",
    "        metadata={\n",
    "            \"source\": doc.metadata['source'].removeprefix('TCs'),  # Assuming this is the metadata format\n",
    "            # Include any other metadata items here\n",
    "        }\n",
    "    )\n",
    "    for doc in news_docs  # Assuming news_docs is a list of objects with page_content and metadata\n",
    "]\n",
    "\n",
    "data = news_articles_data[0].page_content"
   ]
  },
  {
   "cell_type": "code",
   "execution_count": 2,
   "metadata": {},
   "outputs": [
    {
     "name": "stdout",
     "output_type": "stream",
     "text": [
      "9\n"
     ]
    }
   ],
   "source": [
    "\n",
    "from langchain.text_splitter import RecursiveCharacterTextSplitter\n",
    "\n",
    "text_splitter = RecursiveCharacterTextSplitter(\n",
    "    chunk_size=500, chunk_overlap=80\n",
    ")\n",
    "split_docs = text_splitter.split_text(data)\n",
    "print(len(split_docs))"
   ]
  },
  {
   "cell_type": "code",
   "execution_count": 3,
   "metadata": {},
   "outputs": [
    {
     "name": "stdout",
     "output_type": "stream",
     "text": [
      "\u001b[33mDEPRECATION: Configuring installation scheme with distutils config files is deprecated and will no longer work in the near future. If you are using a Homebrew or Linuxbrew Python, please see discussion at https://github.com/Homebrew/homebrew-core/issues/76621\u001b[0m\u001b[33m\n",
      "\u001b[0mCollecting en-core-web-md==3.8.0\n",
      "  Using cached https://github.com/explosion/spacy-models/releases/download/en_core_web_md-3.8.0/en_core_web_md-3.8.0-py3-none-any.whl (33.5 MB)\n",
      "\u001b[33mWARNING: Error parsing dependencies of bleach: Expected matching RIGHT_PARENTHESIS for LEFT_PARENTHESIS, after version specifier\n",
      "    tinycss2 (>=1.1.0<1.2) ; extra == 'css'\n",
      "             ~~~~~~~~^\u001b[0m\u001b[33m\n",
      "\u001b[0m\u001b[33mDEPRECATION: Configuring installation scheme with distutils config files is deprecated and will no longer work in the near future. If you are using a Homebrew or Linuxbrew Python, please see discussion at https://github.com/Homebrew/homebrew-core/issues/76621\u001b[0m\u001b[33m\n",
      "\u001b[0m\u001b[38;5;2m✔ Download and installation successful\u001b[0m\n",
      "You can now load the package via spacy.load('en_core_web_md')\n"
     ]
    }
   ],
   "source": [
    "!python3.9 -m spacy download en_core_web_md\n"
   ]
  },
  {
   "cell_type": "markdown",
   "metadata": {},
   "source": [
    "entity & relationships"
   ]
  },
  {
   "cell_type": "code",
   "execution_count": 4,
   "metadata": {},
   "outputs": [
    {
     "name": "stderr",
     "output_type": "stream",
     "text": [
      "/usr/local/lib/python3.9/site-packages/spacy_llm/pipeline/llm.py:143: UserWarning: Task supports sharding, but model does not provide context length. Data won't be sharded, prompt might exceed the model's context length. Set context length in your config. If you think spacy-llm should provide the context length for this model automatically, report this to https://github.com/explosion/spacy-llm/issues.\n",
      "  warnings.warn(\n"
     ]
    },
    {
     "name": "stdout",
     "output_type": "stream",
     "text": [
      "Text: ENGLISH[ENT0:NORP] APPLE INC.[ENT1:ORG] SOFTWARE LICENSE AGREEMENT FOR\n",
      "macOS Sequoia[ENT2:PERSON] For use on Apple[ENT3:ORG]-branded Systems PLEASE\n",
      "READ THIS SOFTWARE LICENSE AGREEMENT (“LICENSE”) CAREFULLY BEFORE  USING THE\n",
      "APPLE SOFTWARE.  BY USING THE APPLE SOFTWARE, YOU ARE AGREEING TO BE  BOUND BY\n",
      "THE TERMS OF THIS LICENSE.  IF YOU DO NOT AGREE TO THE TERMS OF THIS  LICENSE,\n",
      "DO NOT INSTALL AND/OR USE THE APPLE SOFTWARE AND, IF PRESENTED WITH  THE OPTION\n",
      "TO “AGREE” OR “DISAGREE[ENT4:WORK_OF_ART]” TO THE TERMS, CLICK\n",
      "“DISAGREE[ENT5:WORK_OF_ART]”. IF YOU\n",
      "Entities: [('ENGLISH', 'NORP'), ('APPLE INC.', 'ORG'), ('macOS Sequoia',\n",
      "'PERSON'), ('Apple', 'ORG'), ('DISAGREE', 'WORK_OF_ART'), ('DISAGREE',\n",
      "'WORK_OF_ART')]\n",
      "Relations:\n",
      "  - macOS Sequoia [LICENSE_FOR] APPLE INC.\n",
      "  - Apple [BRANDED_BY] APPLE INC.\n",
      "Text: THE OPTION TO “AGREE” OR “DISAGREE[ENT0:WORK_OF_ART]” TO THE TERMS, CLICK\n",
      "“DISAGREE[ENT1:WORK_OF_ART]”. IF YOU  ACQUIRED THE APPLE SOFTWARE AS PART OF AN\n",
      "APPLE HARDWARE PURCHASE AND IF YOU  DO NOT AGREE TO THE TERMS OF THIS LICENSE,\n",
      "YOU MAY RETURN THE ENTIRE APPLE  HARDWARE/SOFTWARE PACKAGE WITHIN THE RETURN\n",
      "PERIOD TO THE APPLE STORE OR  AUTHORIZED DISTRIBUTOR WHERE YOU OBTAINED IT FOR A\n",
      "REFUND, SUBJECT TO APPLE[ENT2:ORG]’S  RETURN POLICY FOUND AT\n",
      "https://www.apple.com/legal/sales-support/. YOU MUST RETURN\n",
      "Entities: [('DISAGREE', 'WORK_OF_ART'), ('DISAGREE', 'WORK_OF_ART'), ('APPLE',\n",
      "'ORG')]\n",
      "Relations:\n",
      "  - DISAGREE [SAME] DISAGREE\n",
      "Text: THE ENTIRE HARDWARE/SOFTWARE PACKAGE IN[ENT0:ORG] ORDER TO OBTAIN A\n",
      "REFUND. IMPORTANT NOTE: To the extent that this software may be used to\n",
      "reproduce, modify, publish or  distribute materials, it is licensed to you only\n",
      "for reproduction, modiﬁcation, publication and  distribution of non-copyrighted\n",
      "materials, materials in which you own the copyright, or materials  you are\n",
      "authorized or legally permitted to reproduce, modify, publish or distribute. If\n",
      "you are\n",
      "Entities: [('THE ENTIRE HARDWARE/SOFTWARE PACKAGE IN', 'ORG')]\n",
      "Relations:\n",
      "  - THE ENTIRE HARDWARE/SOFTWARE PACKAGE IN [ORG] THE ENTIRE HARDWARE/SOFTWARE\n",
      "PACKAGE IN\n",
      "Text: uncertain about your right to copy, modify, publish or distribute any\n",
      "material, you should contact  your legal advisor. 1[ENT0:CARDINAL]. General. A.\n",
      "The Apple[ENT1:ORG] software (including Boot ROM[ENT2:PERSON] code), any\n",
      "third[ENT3:ORDINAL] party software, documentation, interfaces,  content, fonts\n",
      "and any data accompanying this License (“Original Apple Software”), as may be\n",
      "updated  or replaced by feature enhancements, software updates, security\n",
      "responses, system ﬁles, or system\n",
      "Entities: [('1', 'CARDINAL'), ('Apple', 'ORG'), ('Boot ROM', 'PERSON'),\n",
      "('third', 'ORDINAL')]\n",
      "Relations:\n",
      "  - Boot ROM [affiliation] Apple\n",
      "Entity counts: Counter({'ORG': 5, 'WORK_OF_ART': 4, 'PERSON': 2, 'NORP': 1,\n",
      "'CARDINAL': 1, 'ORDINAL': 1})\n",
      "Relation counts: Counter({'LICENSE_FOR': 1, 'BRANDED_BY': 1, 'SAME': 1, 'ORG':\n",
      "1, 'affiliation': 1})\n"
     ]
    }
   ],
   "source": [
    "import os\n",
    "import json\n",
    "import spacy\n",
    "from collections import Counter\n",
    "from pathlib import Path\n",
    "from wasabi import msg\n",
    "from spacy_llm.util import assemble\n",
    "\n",
    "# traditional spacy NER (Named Recognition Library)\n",
    "def split_document_sent(text):\n",
    "    nlp = spacy.load(\"en_core_web_sm\")\n",
    "    doc = nlp(text)\n",
    "    return [sent.text.strip() for sent in doc.sents] # referencial\n",
    "\n",
    "# spacy-llm relationship extraction\n",
    "def process_text(nlp, text, verbose=False):\n",
    "    doc = nlp(text)\n",
    "    if verbose:\n",
    "        msg.text(f\"Text: {doc.text}\")\n",
    "        msg.text(f\"Entities: {[(ent.text, ent.label_) for ent in doc.ents]}\")\n",
    "        msg.text(\"Relations:\")\n",
    "        for r in doc._.rel:\n",
    "            msg.text(f\"  - {doc.ents[r.dep]} [{r.relation}] {doc.ents[r.dest]}\")\n",
    "    return doc\n",
    "\n",
    "def run_pipeline(config_path, examples_path=None, verbose=False):\n",
    "    if not os.getenv(\"OPENAI_API_KEY\"):\n",
    "        msg.fail(\"OPENAI_API_KEY env variable was not found. Set it and try again.\", exits=1)\n",
    "\n",
    "    nlp = assemble(config_path, overrides={} if examples_path is None else {\"paths.examples\": str(examples_path)})\n",
    "\n",
    "    # Initialize counters and storage\n",
    "    processed_data = []\n",
    "    entity_counts = Counter()\n",
    "    relation_counts = Counter()\n",
    "\n",
    "    # Load your articles and news data here\n",
    "    # all_data = news_articles_data + documents\n",
    "\n",
    "    # sents = split_document_sent(summarization_results)\n",
    "    sents = split_docs[:4]\n",
    "    for sent in sents:\n",
    "        doc = process_text(nlp, sent, verbose)\n",
    "        entities = [(ent.text, ent.label_) for ent in doc.ents]\n",
    "        relations = [(doc.ents[r.dep].text, r.relation, doc.ents[r.dest].text) for r in doc._.rel]\n",
    "\n",
    "        # Store processed data\n",
    "        processed_data.append({'text': doc.text, 'entities': entities, 'relations': relations})\n",
    "\n",
    "        # Update counters\n",
    "        entity_counts.update([ent[1] for ent in entities])\n",
    "        relation_counts.update([rel[1] for rel in relations])\n",
    "\n",
    "    # Export to JSON\n",
    "    with open('processed_data.json', 'w') as f:\n",
    "        json.dump(processed_data, f)\n",
    "\n",
    "    # Display summary\n",
    "    msg.text(f\"Entity counts: {entity_counts}\")\n",
    "    msg.text(f\"Relation counts: {relation_counts}\")\n",
    "\n",
    "# Set your configuration paths and flags\n",
    "config_path = Path(\"config.cfg\")\n",
    "examples_path = None  # or None if not using few-shot\n",
    "verbose = True\n",
    "\n",
    "# Run the pipeline\n",
    "file = run_pipeline(config_path, None, verbose)\n"
   ]
  },
  {
   "cell_type": "code",
   "execution_count": 5,
   "metadata": {},
   "outputs": [],
   "source": [
    "# from spacy_llm.util import assemble\n",
    "\n",
    "# nlp = assemble(\"config.cfg\")\n",
    "# doc = nlp(\"You look gorgeous!\")\n",
    "# print(doc.cats)"
   ]
  }
 ],
 "metadata": {
  "kernelspec": {
   "display_name": "Python 3",
   "language": "python",
   "name": "python3"
  },
  "language_info": {
   "codemirror_mode": {
    "name": "ipython",
    "version": 3
   },
   "file_extension": ".py",
   "mimetype": "text/x-python",
   "name": "python",
   "nbconvert_exporter": "python",
   "pygments_lexer": "ipython3",
   "version": "3.9.21"
  }
 },
 "nbformat": 4,
 "nbformat_minor": 2
}
