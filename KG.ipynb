{
 "cells": [
  {
   "cell_type": "code",
<<<<<<< HEAD
<<<<<<< HEAD
<<<<<<< HEAD
<<<<<<< HEAD
<<<<<<< HEAD
<<<<<<< HEAD
<<<<<<< HEAD
<<<<<<< HEAD
   "execution_count": 2,
=======
   "execution_count": 1,
>>>>>>> 8510426 (Running notebook with UI)
=======
   "execution_count": 26,
>>>>>>> f93dfe9 (final knowledge graph tinkering)
=======
   "execution_count": 1,
>>>>>>> 996ce76 (descriptions added per node for summarization)
=======
   "execution_count": 3,
>>>>>>> 29a6de2 (final summary)
=======
   "execution_count": 106,
>>>>>>> c23e0bf (bullet points first summary)
=======
   "execution_count": 1,
>>>>>>> b282914 (clean data and code)
=======
   "execution_count": 26,
>>>>>>> 88a56bc (final knowledge graph tinkering)
=======
   "execution_count": 1,
>>>>>>> 1eceed3 (descriptions added per node for summarization)
   "metadata": {},
   "outputs": [
    {
     "name": "stdout",
     "output_type": "stream",
     "text": [
<<<<<<< HEAD
<<<<<<< HEAD
<<<<<<< HEAD
<<<<<<< HEAD
<<<<<<< HEAD
<<<<<<< HEAD
=======
=======
>>>>>>> 51eb27b (descriptions added per node for summarization)
<<<<<<< HEAD
=======
=======
>>>>>>> 99e7eef (final knowledge graph tinkering)
=======
>>>>>>> 34fa0c5 (descriptions added per node for summarization)
=======
>>>>>>> 269354e (fixes)

>>>>>>> b03de1a (fixes)
      "3.9.21\n"
<<<<<<< HEAD
=======
<<<<<<< HEAD
>>>>>>> de60678 (Running notebook with UI)
=======
<<<<<<< HEAD
=======
<<<<<<< HEAD
>>>>>>> f93dfe9 (final knowledge graph tinkering)
>>>>>>> 7bb8422 (final knowledge graph tinkering)
      "3.9.21\n",
      "\u001b[33mDEPRECATION: Configuring installation scheme with distutils config files is deprecated and will no longer work in the near future. If you are using a Homebrew or Linuxbrew Python, please see discussion at https://github.com/Homebrew/homebrew-core/issues/76621\u001b[0m\u001b[33m\n",
      "\u001b[0mRequirement already satisfied: langchain in /usr/local/lib/python3.9/site-packages (0.3.15)\n",
      "Requirement already satisfied: PyYAML>=5.3 in /usr/local/lib/python3.9/site-packages (from langchain) (6.0.1)\n",
      "Requirement already satisfied: SQLAlchemy<3,>=1.4 in /usr/local/lib/python3.9/site-packages (from langchain) (2.0.37)\n",
      "Requirement already satisfied: aiohttp<4.0.0,>=3.8.3 in /usr/local/lib/python3.9/site-packages (from langchain) (3.11.11)\n",
      "Requirement already satisfied: async-timeout<5.0.0,>=4.0.0 in /usr/local/lib/python3.9/site-packages (from langchain) (4.0.3)\n",
      "Requirement already satisfied: langchain-core<0.4.0,>=0.3.31 in /usr/local/lib/python3.9/site-packages (from langchain) (0.3.31)\n",
      "Requirement already satisfied: langchain-text-splitters<0.4.0,>=0.3.3 in /usr/local/lib/python3.9/site-packages (from langchain) (0.3.5)\n",
      "Requirement already satisfied: langsmith<0.4,>=0.1.17 in /usr/local/lib/python3.9/site-packages (from langchain) (0.2.11)\n",
      "Requirement already satisfied: numpy<2,>=1.22.4 in /usr/local/lib/python3.9/site-packages (from langchain) (1.24.4)\n",
      "Requirement already satisfied: pydantic<3.0.0,>=2.7.4 in /usr/local/lib/python3.9/site-packages (from langchain) (2.10.5)\n",
      "Requirement already satisfied: requests<3,>=2 in /usr/local/lib/python3.9/site-packages (from langchain) (2.28.2)\n",
      "Requirement already satisfied: tenacity!=8.4.0,<10,>=8.1.0 in /usr/local/lib/python3.9/site-packages (from langchain) (9.0.0)\n",
      "Requirement already satisfied: aiohappyeyeballs>=2.3.0 in /usr/local/lib/python3.9/site-packages (from aiohttp<4.0.0,>=3.8.3->langchain) (2.4.4)\n",
      "Requirement already satisfied: aiosignal>=1.1.2 in /usr/local/lib/python3.9/site-packages (from aiohttp<4.0.0,>=3.8.3->langchain) (1.3.2)\n",
      "Requirement already satisfied: attrs>=17.3.0 in /usr/local/lib/python3.9/site-packages (from aiohttp<4.0.0,>=3.8.3->langchain) (21.4.0)\n",
      "Requirement already satisfied: frozenlist>=1.1.1 in /usr/local/lib/python3.9/site-packages (from aiohttp<4.0.0,>=3.8.3->langchain) (1.5.0)\n",
      "Requirement already satisfied: multidict<7.0,>=4.5 in /usr/local/lib/python3.9/site-packages (from aiohttp<4.0.0,>=3.8.3->langchain) (6.1.0)\n",
      "Requirement already satisfied: propcache>=0.2.0 in /usr/local/lib/python3.9/site-packages (from aiohttp<4.0.0,>=3.8.3->langchain) (0.2.1)\n",
      "Requirement already satisfied: yarl<2.0,>=1.17.0 in /usr/local/lib/python3.9/site-packages (from aiohttp<4.0.0,>=3.8.3->langchain) (1.18.3)\n",
      "Requirement already satisfied: jsonpatch<2.0,>=1.33 in /usr/local/lib/python3.9/site-packages (from langchain-core<0.4.0,>=0.3.31->langchain) (1.33)\n",
      "Requirement already satisfied: packaging<25,>=23.2 in /usr/local/lib/python3.9/site-packages (from langchain-core<0.4.0,>=0.3.31->langchain) (24.2)\n",
      "Requirement already satisfied: typing-extensions>=4.7 in /usr/local/lib/python3.9/site-packages (from langchain-core<0.4.0,>=0.3.31->langchain) (4.12.2)\n",
      "Requirement already satisfied: httpx<1,>=0.23.0 in /usr/local/lib/python3.9/site-packages (from langsmith<0.4,>=0.1.17->langchain) (0.28.1)\n",
      "Requirement already satisfied: orjson<4.0.0,>=3.9.14 in /usr/local/lib/python3.9/site-packages (from langsmith<0.4,>=0.1.17->langchain) (3.10.14)\n",
      "Requirement already satisfied: requests-toolbelt<2.0.0,>=1.0.0 in /usr/local/lib/python3.9/site-packages (from langsmith<0.4,>=0.1.17->langchain) (1.0.0)\n",
      "Requirement already satisfied: annotated-types>=0.6.0 in /usr/local/lib/python3.9/site-packages (from pydantic<3.0.0,>=2.7.4->langchain) (0.7.0)\n",
      "Requirement already satisfied: pydantic-core==2.27.2 in /usr/local/lib/python3.9/site-packages (from pydantic<3.0.0,>=2.7.4->langchain) (2.27.2)\n",
      "Requirement already satisfied: charset-normalizer<4,>=2 in /usr/local/lib/python3.9/site-packages (from requests<3,>=2->langchain) (3.1.0)\n",
      "Requirement already satisfied: idna<4,>=2.5 in /usr/local/lib/python3.9/site-packages (from requests<3,>=2->langchain) (3.4)\n",
      "Requirement already satisfied: urllib3<1.27,>=1.21.1 in /usr/local/lib/python3.9/site-packages (from requests<3,>=2->langchain) (1.26.15)\n",
      "Requirement already satisfied: certifi>=2017.4.17 in /usr/local/lib/python3.9/site-packages (from requests<3,>=2->langchain) (2022.12.7)\n",
      "Requirement already satisfied: greenlet!=0.4.17 in /usr/local/lib/python3.9/site-packages (from SQLAlchemy<3,>=1.4->langchain) (3.1.1)\n",
      "Requirement already satisfied: anyio in /usr/local/lib/python3.9/site-packages (from httpx<1,>=0.23.0->langsmith<0.4,>=0.1.17->langchain) (4.8.0)\n",
      "Requirement already satisfied: httpcore==1.* in /usr/local/lib/python3.9/site-packages (from httpx<1,>=0.23.0->langsmith<0.4,>=0.1.17->langchain) (1.0.7)\n",
      "Requirement already satisfied: h11<0.15,>=0.13 in /usr/local/lib/python3.9/site-packages (from httpcore==1.*->httpx<1,>=0.23.0->langsmith<0.4,>=0.1.17->langchain) (0.14.0)\n",
      "Requirement already satisfied: jsonpointer>=1.9 in /usr/local/lib/python3.9/site-packages (from jsonpatch<2.0,>=1.33->langchain-core<0.4.0,>=0.3.31->langchain) (3.0.0)\n",
      "Requirement already satisfied: exceptiongroup>=1.0.2 in /usr/local/lib/python3.9/site-packages (from anyio->httpx<1,>=0.23.0->langsmith<0.4,>=0.1.17->langchain) (1.2.2)\n",
      "Requirement already satisfied: sniffio>=1.1 in /usr/local/lib/python3.9/site-packages (from anyio->httpx<1,>=0.23.0->langsmith<0.4,>=0.1.17->langchain) (1.3.1)\n",
      "\u001b[33mWARNING: Error parsing dependencies of bleach: Expected matching RIGHT_PARENTHESIS for LEFT_PARENTHESIS, after version specifier\n",
      "    tinycss2 (>=1.1.0<1.2) ; extra == 'css'\n",
      "             ~~~~~~~~^\u001b[0m\u001b[33m\n",
      "\u001b[0m\u001b[33mDEPRECATION: Configuring installation scheme with distutils config files is deprecated and will no longer work in the near future. If you are using a Homebrew or Linuxbrew Python, please see discussion at https://github.com/Homebrew/homebrew-core/issues/76621\u001b[0m\u001b[33m\n",
      "\u001b[0mNote: you may need to restart the kernel to use updated packages.\n",
      "\u001b[33mDEPRECATION: Configuring installation scheme with distutils config files is deprecated and will no longer work in the near future. If you are using a Homebrew or Linuxbrew Python, please see discussion at https://github.com/Homebrew/homebrew-core/issues/76621\u001b[0m\u001b[33m\n",
      "\u001b[0mRequirement already satisfied: langchain-community in /usr/local/lib/python3.9/site-packages (0.3.15)\n",
      "Requirement already satisfied: PyYAML>=5.3 in /usr/local/lib/python3.9/site-packages (from langchain-community) (6.0.1)\n",
      "Requirement already satisfied: SQLAlchemy<3,>=1.4 in /usr/local/lib/python3.9/site-packages (from langchain-community) (2.0.37)\n",
      "Requirement already satisfied: aiohttp<4.0.0,>=3.8.3 in /usr/local/lib/python3.9/site-packages (from langchain-community) (3.11.11)\n",
      "Requirement already satisfied: dataclasses-json<0.7,>=0.5.7 in /usr/local/lib/python3.9/site-packages (from langchain-community) (0.6.7)\n",
      "Requirement already satisfied: httpx-sse<0.5.0,>=0.4.0 in /usr/local/lib/python3.9/site-packages (from langchain-community) (0.4.0)\n",
      "Requirement already satisfied: langchain<0.4.0,>=0.3.15 in /usr/local/lib/python3.9/site-packages (from langchain-community) (0.3.15)\n",
      "Requirement already satisfied: langchain-core<0.4.0,>=0.3.31 in /usr/local/lib/python3.9/site-packages (from langchain-community) (0.3.31)\n",
      "Requirement already satisfied: langsmith<0.4,>=0.1.125 in /usr/local/lib/python3.9/site-packages (from langchain-community) (0.2.11)\n",
      "Requirement already satisfied: numpy<2,>=1.22.4 in /usr/local/lib/python3.9/site-packages (from langchain-community) (1.24.4)\n",
      "Requirement already satisfied: pydantic-settings<3.0.0,>=2.4.0 in /usr/local/lib/python3.9/site-packages (from langchain-community) (2.7.1)\n",
      "Requirement already satisfied: requests<3,>=2 in /usr/local/lib/python3.9/site-packages (from langchain-community) (2.28.2)\n",
      "Requirement already satisfied: tenacity!=8.4.0,<10,>=8.1.0 in /usr/local/lib/python3.9/site-packages (from langchain-community) (9.0.0)\n",
      "Requirement already satisfied: aiohappyeyeballs>=2.3.0 in /usr/local/lib/python3.9/site-packages (from aiohttp<4.0.0,>=3.8.3->langchain-community) (2.4.4)\n",
      "Requirement already satisfied: aiosignal>=1.1.2 in /usr/local/lib/python3.9/site-packages (from aiohttp<4.0.0,>=3.8.3->langchain-community) (1.3.2)\n",
      "Requirement already satisfied: async-timeout<6.0,>=4.0 in /usr/local/lib/python3.9/site-packages (from aiohttp<4.0.0,>=3.8.3->langchain-community) (4.0.3)\n",
      "Requirement already satisfied: attrs>=17.3.0 in /usr/local/lib/python3.9/site-packages (from aiohttp<4.0.0,>=3.8.3->langchain-community) (21.4.0)\n",
      "Requirement already satisfied: frozenlist>=1.1.1 in /usr/local/lib/python3.9/site-packages (from aiohttp<4.0.0,>=3.8.3->langchain-community) (1.5.0)\n",
      "Requirement already satisfied: multidict<7.0,>=4.5 in /usr/local/lib/python3.9/site-packages (from aiohttp<4.0.0,>=3.8.3->langchain-community) (6.1.0)\n",
      "Requirement already satisfied: propcache>=0.2.0 in /usr/local/lib/python3.9/site-packages (from aiohttp<4.0.0,>=3.8.3->langchain-community) (0.2.1)\n",
      "Requirement already satisfied: yarl<2.0,>=1.17.0 in /usr/local/lib/python3.9/site-packages (from aiohttp<4.0.0,>=3.8.3->langchain-community) (1.18.3)\n",
      "Requirement already satisfied: marshmallow<4.0.0,>=3.18.0 in /usr/local/lib/python3.9/site-packages (from dataclasses-json<0.7,>=0.5.7->langchain-community) (3.25.1)\n",
      "Requirement already satisfied: typing-inspect<1,>=0.4.0 in /usr/local/lib/python3.9/site-packages (from dataclasses-json<0.7,>=0.5.7->langchain-community) (0.9.0)\n",
      "Requirement already satisfied: langchain-text-splitters<0.4.0,>=0.3.3 in /usr/local/lib/python3.9/site-packages (from langchain<0.4.0,>=0.3.15->langchain-community) (0.3.5)\n",
      "Requirement already satisfied: pydantic<3.0.0,>=2.7.4 in /usr/local/lib/python3.9/site-packages (from langchain<0.4.0,>=0.3.15->langchain-community) (2.10.5)\n",
      "Requirement already satisfied: jsonpatch<2.0,>=1.33 in /usr/local/lib/python3.9/site-packages (from langchain-core<0.4.0,>=0.3.31->langchain-community) (1.33)\n",
      "Requirement already satisfied: packaging<25,>=23.2 in /usr/local/lib/python3.9/site-packages (from langchain-core<0.4.0,>=0.3.31->langchain-community) (24.2)\n",
      "Requirement already satisfied: typing-extensions>=4.7 in /usr/local/lib/python3.9/site-packages (from langchain-core<0.4.0,>=0.3.31->langchain-community) (4.12.2)\n",
      "Requirement already satisfied: httpx<1,>=0.23.0 in /usr/local/lib/python3.9/site-packages (from langsmith<0.4,>=0.1.125->langchain-community) (0.28.1)\n",
      "Requirement already satisfied: orjson<4.0.0,>=3.9.14 in /usr/local/lib/python3.9/site-packages (from langsmith<0.4,>=0.1.125->langchain-community) (3.10.14)\n",
      "Requirement already satisfied: requests-toolbelt<2.0.0,>=1.0.0 in /usr/local/lib/python3.9/site-packages (from langsmith<0.4,>=0.1.125->langchain-community) (1.0.0)\n",
      "Requirement already satisfied: python-dotenv>=0.21.0 in /usr/local/lib/python3.9/site-packages (from pydantic-settings<3.0.0,>=2.4.0->langchain-community) (1.0.1)\n",
      "Requirement already satisfied: charset-normalizer<4,>=2 in /usr/local/lib/python3.9/site-packages (from requests<3,>=2->langchain-community) (3.1.0)\n",
      "Requirement already satisfied: idna<4,>=2.5 in /usr/local/lib/python3.9/site-packages (from requests<3,>=2->langchain-community) (3.4)\n",
      "Requirement already satisfied: urllib3<1.27,>=1.21.1 in /usr/local/lib/python3.9/site-packages (from requests<3,>=2->langchain-community) (1.26.15)\n",
      "Requirement already satisfied: certifi>=2017.4.17 in /usr/local/lib/python3.9/site-packages (from requests<3,>=2->langchain-community) (2022.12.7)\n",
      "Requirement already satisfied: greenlet!=0.4.17 in /usr/local/lib/python3.9/site-packages (from SQLAlchemy<3,>=1.4->langchain-community) (3.1.1)\n",
      "Requirement already satisfied: anyio in /usr/local/lib/python3.9/site-packages (from httpx<1,>=0.23.0->langsmith<0.4,>=0.1.125->langchain-community) (4.8.0)\n",
      "Requirement already satisfied: httpcore==1.* in /usr/local/lib/python3.9/site-packages (from httpx<1,>=0.23.0->langsmith<0.4,>=0.1.125->langchain-community) (1.0.7)\n",
      "Requirement already satisfied: h11<0.15,>=0.13 in /usr/local/lib/python3.9/site-packages (from httpcore==1.*->httpx<1,>=0.23.0->langsmith<0.4,>=0.1.125->langchain-community) (0.14.0)\n",
      "Requirement already satisfied: jsonpointer>=1.9 in /usr/local/lib/python3.9/site-packages (from jsonpatch<2.0,>=1.33->langchain-core<0.4.0,>=0.3.31->langchain-community) (3.0.0)\n",
      "Requirement already satisfied: annotated-types>=0.6.0 in /usr/local/lib/python3.9/site-packages (from pydantic<3.0.0,>=2.7.4->langchain<0.4.0,>=0.3.15->langchain-community) (0.7.0)\n",
      "Requirement already satisfied: pydantic-core==2.27.2 in /usr/local/lib/python3.9/site-packages (from pydantic<3.0.0,>=2.7.4->langchain<0.4.0,>=0.3.15->langchain-community) (2.27.2)\n",
      "Requirement already satisfied: mypy-extensions>=0.3.0 in /usr/local/lib/python3.9/site-packages (from typing-inspect<1,>=0.4.0->dataclasses-json<0.7,>=0.5.7->langchain-community) (1.0.0)\n",
      "Requirement already satisfied: exceptiongroup>=1.0.2 in /usr/local/lib/python3.9/site-packages (from anyio->httpx<1,>=0.23.0->langsmith<0.4,>=0.1.125->langchain-community) (1.2.2)\n",
      "Requirement already satisfied: sniffio>=1.1 in /usr/local/lib/python3.9/site-packages (from anyio->httpx<1,>=0.23.0->langsmith<0.4,>=0.1.125->langchain-community) (1.3.1)\n",
      "\u001b[33mWARNING: Error parsing dependencies of bleach: Expected matching RIGHT_PARENTHESIS for LEFT_PARENTHESIS, after version specifier\n",
      "    tinycss2 (>=1.1.0<1.2) ; extra == 'css'\n",
      "             ~~~~~~~~^\u001b[0m\u001b[33m\n",
      "\u001b[0m\u001b[33mDEPRECATION: Configuring installation scheme with distutils config files is deprecated and will no longer work in the near future. If you are using a Homebrew or Linuxbrew Python, please see discussion at https://github.com/Homebrew/homebrew-core/issues/76621\u001b[0m\u001b[33m\n",
      "\u001b[0mNote: you may need to restart the kernel to use updated packages.\n",
      "\u001b[33mDEPRECATION: Configuring installation scheme with distutils config files is deprecated and will no longer work in the near future. If you are using a Homebrew or Linuxbrew Python, please see discussion at https://github.com/Homebrew/homebrew-core/issues/76621\u001b[0m\u001b[33m\n",
      "\u001b[0mRequirement already satisfied: pypdf in /usr/local/lib/python3.9/site-packages (5.1.0)\n",
      "Requirement already satisfied: typing_extensions>=4.0 in /usr/local/lib/python3.9/site-packages (from pypdf) (4.12.2)\n",
      "\u001b[33mWARNING: Error parsing dependencies of bleach: Expected matching RIGHT_PARENTHESIS for LEFT_PARENTHESIS, after version specifier\n",
      "    tinycss2 (>=1.1.0<1.2) ; extra == 'css'\n",
      "             ~~~~~~~~^\u001b[0m\u001b[33m\n",
      "\u001b[0m\u001b[33mDEPRECATION: Configuring installation scheme with distutils config files is deprecated and will no longer work in the near future. If you are using a Homebrew or Linuxbrew Python, please see discussion at https://github.com/Homebrew/homebrew-core/issues/76621\u001b[0m\u001b[33m\n",
      "\u001b[0mNote: you may need to restart the kernel to use updated packages.\n",
      "\u001b[33mDEPRECATION: Configuring installation scheme with distutils config files is deprecated and will no longer work in the near future. If you are using a Homebrew or Linuxbrew Python, please see discussion at https://github.com/Homebrew/homebrew-core/issues/76621\u001b[0m\u001b[33m\n",
      "\u001b[0mRequirement already satisfied: spacy in /usr/local/lib/python3.9/site-packages (3.8.3)\n",
      "Requirement already satisfied: spacy-legacy<3.1.0,>=3.0.11 in /usr/local/lib/python3.9/site-packages (from spacy) (3.0.12)\n",
      "Requirement already satisfied: spacy-loggers<2.0.0,>=1.0.0 in /usr/local/lib/python3.9/site-packages (from spacy) (1.0.5)\n",
      "Requirement already satisfied: murmurhash<1.1.0,>=0.28.0 in /usr/local/lib/python3.9/site-packages (from spacy) (1.0.12)\n",
      "Requirement already satisfied: cymem<2.1.0,>=2.0.2 in /usr/local/lib/python3.9/site-packages (from spacy) (2.0.11)\n",
      "Requirement already satisfied: preshed<3.1.0,>=3.0.2 in /usr/local/lib/python3.9/site-packages (from spacy) (3.0.9)\n",
      "Requirement already satisfied: thinc<8.4.0,>=8.3.0 in /usr/local/lib/python3.9/site-packages (from spacy) (8.3.4)\n",
      "Requirement already satisfied: wasabi<1.2.0,>=0.9.1 in /usr/local/lib/python3.9/site-packages (from spacy) (1.1.3)\n",
      "Requirement already satisfied: srsly<3.0.0,>=2.4.3 in /usr/local/lib/python3.9/site-packages (from spacy) (2.5.1)\n",
      "Requirement already satisfied: catalogue<2.1.0,>=2.0.6 in /usr/local/lib/python3.9/site-packages (from spacy) (2.0.10)\n",
      "Requirement already satisfied: weasel<0.5.0,>=0.1.0 in /usr/local/lib/python3.9/site-packages (from spacy) (0.4.1)\n",
      "Requirement already satisfied: typer<1.0.0,>=0.3.0 in /usr/local/lib/python3.9/site-packages (from spacy) (0.15.1)\n",
      "Requirement already satisfied: tqdm<5.0.0,>=4.38.0 in /usr/local/lib/python3.9/site-packages (from spacy) (4.64.1)\n",
      "Requirement already satisfied: numpy>=1.19.0 in /usr/local/lib/python3.9/site-packages (from spacy) (1.24.4)\n",
      "Requirement already satisfied: requests<3.0.0,>=2.13.0 in /usr/local/lib/python3.9/site-packages (from spacy) (2.28.2)\n",
      "Requirement already satisfied: pydantic!=1.8,!=1.8.1,<3.0.0,>=1.7.4 in /usr/local/lib/python3.9/site-packages (from spacy) (2.10.5)\n",
      "Requirement already satisfied: jinja2 in /usr/local/lib/python3.9/site-packages (from spacy) (3.1.2)\n",
      "Requirement already satisfied: setuptools in /usr/local/lib/python3.9/site-packages (from spacy) (75.6.0)\n",
      "Requirement already satisfied: packaging>=20.0 in /usr/local/lib/python3.9/site-packages (from spacy) (24.2)\n",
      "Requirement already satisfied: langcodes<4.0.0,>=3.2.0 in /usr/local/lib/python3.9/site-packages (from spacy) (3.5.0)\n",
      "Requirement already satisfied: language-data>=1.2 in /usr/local/lib/python3.9/site-packages (from langcodes<4.0.0,>=3.2.0->spacy) (1.3.0)\n",
      "Requirement already satisfied: annotated-types>=0.6.0 in /usr/local/lib/python3.9/site-packages (from pydantic!=1.8,!=1.8.1,<3.0.0,>=1.7.4->spacy) (0.7.0)\n",
      "Requirement already satisfied: pydantic-core==2.27.2 in /usr/local/lib/python3.9/site-packages (from pydantic!=1.8,!=1.8.1,<3.0.0,>=1.7.4->spacy) (2.27.2)\n",
      "Requirement already satisfied: typing-extensions>=4.12.2 in /usr/local/lib/python3.9/site-packages (from pydantic!=1.8,!=1.8.1,<3.0.0,>=1.7.4->spacy) (4.12.2)\n",
      "Requirement already satisfied: charset-normalizer<4,>=2 in /usr/local/lib/python3.9/site-packages (from requests<3.0.0,>=2.13.0->spacy) (3.1.0)\n",
      "Requirement already satisfied: idna<4,>=2.5 in /usr/local/lib/python3.9/site-packages (from requests<3.0.0,>=2.13.0->spacy) (3.4)\n",
      "Requirement already satisfied: urllib3<1.27,>=1.21.1 in /usr/local/lib/python3.9/site-packages (from requests<3.0.0,>=2.13.0->spacy) (1.26.15)\n",
      "Requirement already satisfied: certifi>=2017.4.17 in /usr/local/lib/python3.9/site-packages (from requests<3.0.0,>=2.13.0->spacy) (2022.12.7)\n",
      "Requirement already satisfied: blis<1.3.0,>=1.2.0 in /usr/local/lib/python3.9/site-packages (from thinc<8.4.0,>=8.3.0->spacy) (1.2.0)\n",
      "Requirement already satisfied: confection<1.0.0,>=0.0.1 in /usr/local/lib/python3.9/site-packages (from thinc<8.4.0,>=8.3.0->spacy) (0.1.5)\n",
      "Requirement already satisfied: click>=8.0.0 in /usr/local/lib/python3.9/site-packages (from typer<1.0.0,>=0.3.0->spacy) (8.1.3)\n",
      "Requirement already satisfied: shellingham>=1.3.0 in /usr/local/lib/python3.9/site-packages (from typer<1.0.0,>=0.3.0->spacy) (1.5.4)\n",
      "Requirement already satisfied: rich>=10.11.0 in /usr/local/lib/python3.9/site-packages (from typer<1.0.0,>=0.3.0->spacy) (13.9.4)\n",
      "Requirement already satisfied: cloudpathlib<1.0.0,>=0.7.0 in /usr/local/lib/python3.9/site-packages (from weasel<0.5.0,>=0.1.0->spacy) (0.20.0)\n",
      "Requirement already satisfied: smart-open<8.0.0,>=5.2.1 in /usr/local/lib/python3.9/site-packages (from weasel<0.5.0,>=0.1.0->spacy) (6.4.0)\n",
      "Requirement already satisfied: MarkupSafe>=2.0 in /usr/local/lib/python3.9/site-packages (from jinja2->spacy) (2.1.1)\n",
      "Requirement already satisfied: marisa-trie>=1.1.0 in /usr/local/lib/python3.9/site-packages (from language-data>=1.2->langcodes<4.0.0,>=3.2.0->spacy) (1.2.1)\n",
      "Requirement already satisfied: markdown-it-py>=2.2.0 in /usr/local/lib/python3.9/site-packages (from rich>=10.11.0->typer<1.0.0,>=0.3.0->spacy) (3.0.0)\n",
      "Requirement already satisfied: pygments<3.0.0,>=2.13.0 in /Users/amber/Library/Python/3.9/lib/python/site-packages (from rich>=10.11.0->typer<1.0.0,>=0.3.0->spacy) (2.14.0)\n",
      "Requirement already satisfied: mdurl~=0.1 in /usr/local/lib/python3.9/site-packages (from markdown-it-py>=2.2.0->rich>=10.11.0->typer<1.0.0,>=0.3.0->spacy) (0.1.2)\n",
      "\u001b[33mWARNING: Error parsing dependencies of bleach: Expected matching RIGHT_PARENTHESIS for LEFT_PARENTHESIS, after version specifier\n",
      "    tinycss2 (>=1.1.0<1.2) ; extra == 'css'\n",
      "             ~~~~~~~~^\u001b[0m\u001b[33m\n",
      "\u001b[0m\u001b[33mDEPRECATION: Configuring installation scheme with distutils config files is deprecated and will no longer work in the near future. If you are using a Homebrew or Linuxbrew Python, please see discussion at https://github.com/Homebrew/homebrew-core/issues/76621\u001b[0m\u001b[33m\n",
      "\u001b[0mNote: you may need to restart the kernel to use updated packages.\n",
      "\u001b[33mDEPRECATION: Configuring installation scheme with distutils config files is deprecated and will no longer work in the near future. If you are using a Homebrew or Linuxbrew Python, please see discussion at https://github.com/Homebrew/homebrew-core/issues/76621\u001b[0m\u001b[33m\n",
      "\u001b[0mRequirement already satisfied: spacy-llm in /usr/local/lib/python3.9/site-packages (0.7.3)\n",
      "Requirement already satisfied: spacy<4.0,>=3.5 in /usr/local/lib/python3.9/site-packages (from spacy-llm) (3.8.3)\n",
      "Requirement already satisfied: jinja2 in /usr/local/lib/python3.9/site-packages (from spacy-llm) (3.1.2)\n",
      "Requirement already satisfied: confection<1.0.0,>=0.1.3 in /usr/local/lib/python3.9/site-packages (from spacy-llm) (0.1.5)\n",
      "Requirement already satisfied: pydantic!=1.8,!=1.8.1,<3.0.0,>=1.7.4 in /usr/local/lib/python3.9/site-packages (from confection<1.0.0,>=0.1.3->spacy-llm) (2.10.5)\n",
      "Requirement already satisfied: srsly<3.0.0,>=2.4.0 in /usr/local/lib/python3.9/site-packages (from confection<1.0.0,>=0.1.3->spacy-llm) (2.5.1)\n",
      "Requirement already satisfied: spacy-legacy<3.1.0,>=3.0.11 in /usr/local/lib/python3.9/site-packages (from spacy<4.0,>=3.5->spacy-llm) (3.0.12)\n",
      "Requirement already satisfied: spacy-loggers<2.0.0,>=1.0.0 in /usr/local/lib/python3.9/site-packages (from spacy<4.0,>=3.5->spacy-llm) (1.0.5)\n",
      "Requirement already satisfied: murmurhash<1.1.0,>=0.28.0 in /usr/local/lib/python3.9/site-packages (from spacy<4.0,>=3.5->spacy-llm) (1.0.12)\n",
      "Requirement already satisfied: cymem<2.1.0,>=2.0.2 in /usr/local/lib/python3.9/site-packages (from spacy<4.0,>=3.5->spacy-llm) (2.0.11)\n",
      "Requirement already satisfied: preshed<3.1.0,>=3.0.2 in /usr/local/lib/python3.9/site-packages (from spacy<4.0,>=3.5->spacy-llm) (3.0.9)\n",
      "Requirement already satisfied: thinc<8.4.0,>=8.3.0 in /usr/local/lib/python3.9/site-packages (from spacy<4.0,>=3.5->spacy-llm) (8.3.4)\n",
      "Requirement already satisfied: wasabi<1.2.0,>=0.9.1 in /usr/local/lib/python3.9/site-packages (from spacy<4.0,>=3.5->spacy-llm) (1.1.3)\n",
      "Requirement already satisfied: catalogue<2.1.0,>=2.0.6 in /usr/local/lib/python3.9/site-packages (from spacy<4.0,>=3.5->spacy-llm) (2.0.10)\n",
      "Requirement already satisfied: weasel<0.5.0,>=0.1.0 in /usr/local/lib/python3.9/site-packages (from spacy<4.0,>=3.5->spacy-llm) (0.4.1)\n",
      "Requirement already satisfied: typer<1.0.0,>=0.3.0 in /usr/local/lib/python3.9/site-packages (from spacy<4.0,>=3.5->spacy-llm) (0.15.1)\n",
      "Requirement already satisfied: tqdm<5.0.0,>=4.38.0 in /usr/local/lib/python3.9/site-packages (from spacy<4.0,>=3.5->spacy-llm) (4.64.1)\n",
      "Requirement already satisfied: numpy>=1.19.0 in /usr/local/lib/python3.9/site-packages (from spacy<4.0,>=3.5->spacy-llm) (1.24.4)\n",
      "Requirement already satisfied: requests<3.0.0,>=2.13.0 in /usr/local/lib/python3.9/site-packages (from spacy<4.0,>=3.5->spacy-llm) (2.28.2)\n",
      "Requirement already satisfied: setuptools in /usr/local/lib/python3.9/site-packages (from spacy<4.0,>=3.5->spacy-llm) (75.6.0)\n",
      "Requirement already satisfied: packaging>=20.0 in /usr/local/lib/python3.9/site-packages (from spacy<4.0,>=3.5->spacy-llm) (24.2)\n",
      "Requirement already satisfied: langcodes<4.0.0,>=3.2.0 in /usr/local/lib/python3.9/site-packages (from spacy<4.0,>=3.5->spacy-llm) (3.5.0)\n",
      "Requirement already satisfied: MarkupSafe>=2.0 in /usr/local/lib/python3.9/site-packages (from jinja2->spacy-llm) (2.1.1)\n",
      "Requirement already satisfied: language-data>=1.2 in /usr/local/lib/python3.9/site-packages (from langcodes<4.0.0,>=3.2.0->spacy<4.0,>=3.5->spacy-llm) (1.3.0)\n",
      "Requirement already satisfied: annotated-types>=0.6.0 in /usr/local/lib/python3.9/site-packages (from pydantic!=1.8,!=1.8.1,<3.0.0,>=1.7.4->confection<1.0.0,>=0.1.3->spacy-llm) (0.7.0)\n",
      "Requirement already satisfied: pydantic-core==2.27.2 in /usr/local/lib/python3.9/site-packages (from pydantic!=1.8,!=1.8.1,<3.0.0,>=1.7.4->confection<1.0.0,>=0.1.3->spacy-llm) (2.27.2)\n",
      "Requirement already satisfied: typing-extensions>=4.12.2 in /usr/local/lib/python3.9/site-packages (from pydantic!=1.8,!=1.8.1,<3.0.0,>=1.7.4->confection<1.0.0,>=0.1.3->spacy-llm) (4.12.2)\n",
      "Requirement already satisfied: charset-normalizer<4,>=2 in /usr/local/lib/python3.9/site-packages (from requests<3.0.0,>=2.13.0->spacy<4.0,>=3.5->spacy-llm) (3.1.0)\n",
      "Requirement already satisfied: idna<4,>=2.5 in /usr/local/lib/python3.9/site-packages (from requests<3.0.0,>=2.13.0->spacy<4.0,>=3.5->spacy-llm) (3.4)\n",
      "Requirement already satisfied: urllib3<1.27,>=1.21.1 in /usr/local/lib/python3.9/site-packages (from requests<3.0.0,>=2.13.0->spacy<4.0,>=3.5->spacy-llm) (1.26.15)\n",
      "Requirement already satisfied: certifi>=2017.4.17 in /usr/local/lib/python3.9/site-packages (from requests<3.0.0,>=2.13.0->spacy<4.0,>=3.5->spacy-llm) (2022.12.7)\n",
      "Requirement already satisfied: blis<1.3.0,>=1.2.0 in /usr/local/lib/python3.9/site-packages (from thinc<8.4.0,>=8.3.0->spacy<4.0,>=3.5->spacy-llm) (1.2.0)\n",
      "Requirement already satisfied: click>=8.0.0 in /usr/local/lib/python3.9/site-packages (from typer<1.0.0,>=0.3.0->spacy<4.0,>=3.5->spacy-llm) (8.1.3)\n",
      "Requirement already satisfied: shellingham>=1.3.0 in /usr/local/lib/python3.9/site-packages (from typer<1.0.0,>=0.3.0->spacy<4.0,>=3.5->spacy-llm) (1.5.4)\n",
      "Requirement already satisfied: rich>=10.11.0 in /usr/local/lib/python3.9/site-packages (from typer<1.0.0,>=0.3.0->spacy<4.0,>=3.5->spacy-llm) (13.9.4)\n",
      "Requirement already satisfied: cloudpathlib<1.0.0,>=0.7.0 in /usr/local/lib/python3.9/site-packages (from weasel<0.5.0,>=0.1.0->spacy<4.0,>=3.5->spacy-llm) (0.20.0)\n",
      "Requirement already satisfied: smart-open<8.0.0,>=5.2.1 in /usr/local/lib/python3.9/site-packages (from weasel<0.5.0,>=0.1.0->spacy<4.0,>=3.5->spacy-llm) (6.4.0)\n",
      "Requirement already satisfied: marisa-trie>=1.1.0 in /usr/local/lib/python3.9/site-packages (from language-data>=1.2->langcodes<4.0.0,>=3.2.0->spacy<4.0,>=3.5->spacy-llm) (1.2.1)\n",
      "Requirement already satisfied: markdown-it-py>=2.2.0 in /usr/local/lib/python3.9/site-packages (from rich>=10.11.0->typer<1.0.0,>=0.3.0->spacy<4.0,>=3.5->spacy-llm) (3.0.0)\n",
      "Requirement already satisfied: pygments<3.0.0,>=2.13.0 in /Users/amber/Library/Python/3.9/lib/python/site-packages (from rich>=10.11.0->typer<1.0.0,>=0.3.0->spacy<4.0,>=3.5->spacy-llm) (2.14.0)\n",
      "Requirement already satisfied: mdurl~=0.1 in /usr/local/lib/python3.9/site-packages (from markdown-it-py>=2.2.0->rich>=10.11.0->typer<1.0.0,>=0.3.0->spacy<4.0,>=3.5->spacy-llm) (0.1.2)\n",
      "\u001b[33mWARNING: Error parsing dependencies of bleach: Expected matching RIGHT_PARENTHESIS for LEFT_PARENTHESIS, after version specifier\n",
      "    tinycss2 (>=1.1.0<1.2) ; extra == 'css'\n",
      "             ~~~~~~~~^\u001b[0m\u001b[33m\n",
      "\u001b[0m\u001b[33mDEPRECATION: Configuring installation scheme with distutils config files is deprecated and will no longer work in the near future. If you are using a Homebrew or Linuxbrew Python, please see discussion at https://github.com/Homebrew/homebrew-core/issues/76621\u001b[0m\u001b[33m\n",
      "\u001b[0m\u001b[33mDEPRECATION: Configuring installation scheme with distutils config files is deprecated and will no longer work in the near future. If you are using a Homebrew or Linuxbrew Python, please see discussion at https://github.com/Homebrew/homebrew-core/issues/76621\u001b[0m\u001b[33m\n",
      "\u001b[0mCollecting en-core-web-sm==3.8.0\n",
      "  Using cached https://github.com/explosion/spacy-models/releases/download/en_core_web_sm-3.8.0/en_core_web_sm-3.8.0-py3-none-any.whl (12.8 MB)\n",
      "\u001b[33mWARNING: Error parsing dependencies of bleach: Expected matching RIGHT_PARENTHESIS for LEFT_PARENTHESIS, after version specifier\n",
      "    tinycss2 (>=1.1.0<1.2) ; extra == 'css'\n",
      "             ~~~~~~~~^\u001b[0m\u001b[33m\n",
      "\u001b[0m\u001b[33mDEPRECATION: Configuring installation scheme with distutils config files is deprecated and will no longer work in the near future. If you are using a Homebrew or Linuxbrew Python, please see discussion at https://github.com/Homebrew/homebrew-core/issues/76621\u001b[0m\u001b[33m\n",
      "\u001b[0m\u001b[38;5;2m✔ Download and installation successful\u001b[0m\n",
      "You can now load the package via spacy.load('en_core_web_sm')\n",
      "\u001b[33mDEPRECATION: Configuring installation scheme with distutils config files is deprecated and will no longer work in the near future. If you are using a Homebrew or Linuxbrew Python, please see discussion at https://github.com/Homebrew/homebrew-core/issues/76621\u001b[0m\u001b[33m\n",
      "\u001b[0mRequirement already satisfied: scikit-learn in /usr/local/lib/python3.9/site-packages (1.5.2)\n",
      "Requirement already satisfied: numpy>=1.19.5 in /usr/local/lib/python3.9/site-packages (from scikit-learn) (1.24.4)\n",
      "Requirement already satisfied: scipy>=1.6.0 in /usr/local/lib/python3.9/site-packages (from scikit-learn) (1.13.1)\n",
      "Requirement already satisfied: joblib>=1.2.0 in /usr/local/lib/python3.9/site-packages (from scikit-learn) (1.2.0)\n",
      "Requirement already satisfied: threadpoolctl>=3.1.0 in /usr/local/lib/python3.9/site-packages (from scikit-learn) (3.1.0)\n",
      "\u001b[33mWARNING: Error parsing dependencies of bleach: Expected matching RIGHT_PARENTHESIS for LEFT_PARENTHESIS, after version specifier\n",
      "    tinycss2 (>=1.1.0<1.2) ; extra == 'css'\n",
      "             ~~~~~~~~^\u001b[0m\u001b[33m\n",
      "\u001b[0m\u001b[33mDEPRECATION: Configuring installation scheme with distutils config files is deprecated and will no longer work in the near future. If you are using a Homebrew or Linuxbrew Python, please see discussion at https://github.com/Homebrew/homebrew-core/issues/76621\u001b[0m\u001b[33m\n",
      "\u001b[0mNote: you may need to restart the kernel to use updated packages.\n",
      "\u001b[33mDEPRECATION: Configuring installation scheme with distutils config files is deprecated and will no longer work in the near future. If you are using a Homebrew or Linuxbrew Python, please see discussion at https://github.com/Homebrew/homebrew-core/issues/76621\u001b[0m\u001b[33m\n",
      "\u001b[0mRequirement already satisfied: sentence-transformers in /usr/local/lib/python3.9/site-packages (3.3.1)\n",
      "Requirement already satisfied: transformers<5.0.0,>=4.41.0 in /usr/local/lib/python3.9/site-packages (from sentence-transformers) (4.48.1)\n",
      "Requirement already satisfied: tqdm in /usr/local/lib/python3.9/site-packages (from sentence-transformers) (4.64.1)\n",
      "Requirement already satisfied: torch>=1.11.0 in /usr/local/lib/python3.9/site-packages (from sentence-transformers) (2.0.1)\n",
      "Requirement already satisfied: scikit-learn in /usr/local/lib/python3.9/site-packages (from sentence-transformers) (1.5.2)\n",
      "Requirement already satisfied: scipy in /usr/local/lib/python3.9/site-packages (from sentence-transformers) (1.13.1)\n",
      "Requirement already satisfied: huggingface-hub>=0.20.0 in /usr/local/lib/python3.9/site-packages (from sentence-transformers) (0.27.1)\n",
      "Requirement already satisfied: Pillow in /usr/local/lib/python3.9/site-packages (from sentence-transformers) (9.0.1)\n",
      "Requirement already satisfied: filelock in /usr/local/lib/python3.9/site-packages (from huggingface-hub>=0.20.0->sentence-transformers) (3.12.4)\n",
      "Requirement already satisfied: fsspec>=2023.5.0 in /usr/local/lib/python3.9/site-packages (from huggingface-hub>=0.20.0->sentence-transformers) (2024.12.0)\n",
      "Requirement already satisfied: packaging>=20.9 in /usr/local/lib/python3.9/site-packages (from huggingface-hub>=0.20.0->sentence-transformers) (24.2)\n",
      "Requirement already satisfied: pyyaml>=5.1 in /usr/local/lib/python3.9/site-packages (from huggingface-hub>=0.20.0->sentence-transformers) (6.0.1)\n",
      "Requirement already satisfied: requests in /usr/local/lib/python3.9/site-packages (from huggingface-hub>=0.20.0->sentence-transformers) (2.28.2)\n",
      "Requirement already satisfied: typing-extensions>=3.7.4.3 in /usr/local/lib/python3.9/site-packages (from huggingface-hub>=0.20.0->sentence-transformers) (4.12.2)\n",
      "Requirement already satisfied: sympy in /usr/local/lib/python3.9/site-packages (from torch>=1.11.0->sentence-transformers) (1.12)\n",
      "Requirement already satisfied: networkx in /usr/local/lib/python3.9/site-packages (from torch>=1.11.0->sentence-transformers) (3.0)\n",
      "Requirement already satisfied: jinja2 in /usr/local/lib/python3.9/site-packages (from torch>=1.11.0->sentence-transformers) (3.1.2)\n",
      "Requirement already satisfied: numpy>=1.17 in /usr/local/lib/python3.9/site-packages (from transformers<5.0.0,>=4.41.0->sentence-transformers) (1.24.4)\n",
      "Requirement already satisfied: regex!=2019.12.17 in /usr/local/lib/python3.9/site-packages (from transformers<5.0.0,>=4.41.0->sentence-transformers) (2022.10.31)\n",
      "Requirement already satisfied: tokenizers<0.22,>=0.21 in /usr/local/lib/python3.9/site-packages (from transformers<5.0.0,>=4.41.0->sentence-transformers) (0.21.0)\n",
      "Requirement already satisfied: safetensors>=0.4.1 in /usr/local/lib/python3.9/site-packages (from transformers<5.0.0,>=4.41.0->sentence-transformers) (0.5.2)\n",
      "Requirement already satisfied: joblib>=1.2.0 in /usr/local/lib/python3.9/site-packages (from scikit-learn->sentence-transformers) (1.2.0)\n",
      "Requirement already satisfied: threadpoolctl>=3.1.0 in /usr/local/lib/python3.9/site-packages (from scikit-learn->sentence-transformers) (3.1.0)\n",
      "Requirement already satisfied: MarkupSafe>=2.0 in /usr/local/lib/python3.9/site-packages (from jinja2->torch>=1.11.0->sentence-transformers) (2.1.1)\n",
      "Requirement already satisfied: charset-normalizer<4,>=2 in /usr/local/lib/python3.9/site-packages (from requests->huggingface-hub>=0.20.0->sentence-transformers) (3.1.0)\n",
      "Requirement already satisfied: idna<4,>=2.5 in /usr/local/lib/python3.9/site-packages (from requests->huggingface-hub>=0.20.0->sentence-transformers) (3.4)\n",
      "Requirement already satisfied: urllib3<1.27,>=1.21.1 in /usr/local/lib/python3.9/site-packages (from requests->huggingface-hub>=0.20.0->sentence-transformers) (1.26.15)\n",
      "Requirement already satisfied: certifi>=2017.4.17 in /usr/local/lib/python3.9/site-packages (from requests->huggingface-hub>=0.20.0->sentence-transformers) (2022.12.7)\n",
      "Requirement already satisfied: mpmath>=0.19 in /usr/local/lib/python3.9/site-packages (from sympy->torch>=1.11.0->sentence-transformers) (1.3.0)\n",
      "\u001b[33mWARNING: Error parsing dependencies of bleach: Expected matching RIGHT_PARENTHESIS for LEFT_PARENTHESIS, after version specifier\n",
      "    tinycss2 (>=1.1.0<1.2) ; extra == 'css'\n",
      "             ~~~~~~~~^\u001b[0m\u001b[33m\n",
      "\u001b[0m\u001b[33mDEPRECATION: Configuring installation scheme with distutils config files is deprecated and will no longer work in the near future. If you are using a Homebrew or Linuxbrew Python, please see discussion at https://github.com/Homebrew/homebrew-core/issues/76621\u001b[0m\u001b[33m\n",
      "\u001b[0mNote: you may need to restart the kernel to use updated packages.\n",
      "\u001b[33mDEPRECATION: Configuring installation scheme with distutils config files is deprecated and will no longer work in the near future. If you are using a Homebrew or Linuxbrew Python, please see discussion at https://github.com/Homebrew/homebrew-core/issues/76621\u001b[0m\u001b[33m\n",
      "\u001b[0mRequirement already satisfied: keybert in /usr/local/lib/python3.9/site-packages (0.8.5)\n",
      "Requirement already satisfied: numpy>=1.18.5 in /usr/local/lib/python3.9/site-packages (from keybert) (1.24.4)\n",
      "Requirement already satisfied: rich>=10.4.0 in /usr/local/lib/python3.9/site-packages (from keybert) (13.9.4)\n",
      "Requirement already satisfied: scikit-learn>=0.22.2 in /usr/local/lib/python3.9/site-packages (from keybert) (1.5.2)\n",
      "Requirement already satisfied: sentence-transformers>=0.3.8 in /usr/local/lib/python3.9/site-packages (from keybert) (3.3.1)\n",
      "Requirement already satisfied: markdown-it-py>=2.2.0 in /usr/local/lib/python3.9/site-packages (from rich>=10.4.0->keybert) (3.0.0)\n",
      "Requirement already satisfied: pygments<3.0.0,>=2.13.0 in /Users/amber/Library/Python/3.9/lib/python/site-packages (from rich>=10.4.0->keybert) (2.14.0)\n",
      "Requirement already satisfied: typing-extensions<5.0,>=4.0.0 in /usr/local/lib/python3.9/site-packages (from rich>=10.4.0->keybert) (4.12.2)\n",
      "Requirement already satisfied: scipy>=1.6.0 in /usr/local/lib/python3.9/site-packages (from scikit-learn>=0.22.2->keybert) (1.13.1)\n",
      "Requirement already satisfied: joblib>=1.2.0 in /usr/local/lib/python3.9/site-packages (from scikit-learn>=0.22.2->keybert) (1.2.0)\n",
      "Requirement already satisfied: threadpoolctl>=3.1.0 in /usr/local/lib/python3.9/site-packages (from scikit-learn>=0.22.2->keybert) (3.1.0)\n",
      "Requirement already satisfied: transformers<5.0.0,>=4.41.0 in /usr/local/lib/python3.9/site-packages (from sentence-transformers>=0.3.8->keybert) (4.48.1)\n",
      "Requirement already satisfied: tqdm in /usr/local/lib/python3.9/site-packages (from sentence-transformers>=0.3.8->keybert) (4.64.1)\n",
      "Requirement already satisfied: torch>=1.11.0 in /usr/local/lib/python3.9/site-packages (from sentence-transformers>=0.3.8->keybert) (2.0.1)\n",
      "Requirement already satisfied: huggingface-hub>=0.20.0 in /usr/local/lib/python3.9/site-packages (from sentence-transformers>=0.3.8->keybert) (0.27.1)\n",
      "Requirement already satisfied: Pillow in /usr/local/lib/python3.9/site-packages (from sentence-transformers>=0.3.8->keybert) (9.0.1)\n",
      "Requirement already satisfied: filelock in /usr/local/lib/python3.9/site-packages (from huggingface-hub>=0.20.0->sentence-transformers>=0.3.8->keybert) (3.12.4)\n",
      "Requirement already satisfied: fsspec>=2023.5.0 in /usr/local/lib/python3.9/site-packages (from huggingface-hub>=0.20.0->sentence-transformers>=0.3.8->keybert) (2024.12.0)\n",
      "Requirement already satisfied: packaging>=20.9 in /usr/local/lib/python3.9/site-packages (from huggingface-hub>=0.20.0->sentence-transformers>=0.3.8->keybert) (24.2)\n",
      "Requirement already satisfied: pyyaml>=5.1 in /usr/local/lib/python3.9/site-packages (from huggingface-hub>=0.20.0->sentence-transformers>=0.3.8->keybert) (6.0.1)\n",
      "Requirement already satisfied: requests in /usr/local/lib/python3.9/site-packages (from huggingface-hub>=0.20.0->sentence-transformers>=0.3.8->keybert) (2.28.2)\n",
      "Requirement already satisfied: mdurl~=0.1 in /usr/local/lib/python3.9/site-packages (from markdown-it-py>=2.2.0->rich>=10.4.0->keybert) (0.1.2)\n",
      "Requirement already satisfied: sympy in /usr/local/lib/python3.9/site-packages (from torch>=1.11.0->sentence-transformers>=0.3.8->keybert) (1.12)\n",
      "Requirement already satisfied: networkx in /usr/local/lib/python3.9/site-packages (from torch>=1.11.0->sentence-transformers>=0.3.8->keybert) (3.0)\n",
      "Requirement already satisfied: jinja2 in /usr/local/lib/python3.9/site-packages (from torch>=1.11.0->sentence-transformers>=0.3.8->keybert) (3.1.2)\n",
      "Requirement already satisfied: regex!=2019.12.17 in /usr/local/lib/python3.9/site-packages (from transformers<5.0.0,>=4.41.0->sentence-transformers>=0.3.8->keybert) (2022.10.31)\n",
      "Requirement already satisfied: tokenizers<0.22,>=0.21 in /usr/local/lib/python3.9/site-packages (from transformers<5.0.0,>=4.41.0->sentence-transformers>=0.3.8->keybert) (0.21.0)\n",
      "Requirement already satisfied: safetensors>=0.4.1 in /usr/local/lib/python3.9/site-packages (from transformers<5.0.0,>=4.41.0->sentence-transformers>=0.3.8->keybert) (0.5.2)\n",
      "Requirement already satisfied: MarkupSafe>=2.0 in /usr/local/lib/python3.9/site-packages (from jinja2->torch>=1.11.0->sentence-transformers>=0.3.8->keybert) (2.1.1)\n",
      "Requirement already satisfied: charset-normalizer<4,>=2 in /usr/local/lib/python3.9/site-packages (from requests->huggingface-hub>=0.20.0->sentence-transformers>=0.3.8->keybert) (3.1.0)\n",
      "Requirement already satisfied: idna<4,>=2.5 in /usr/local/lib/python3.9/site-packages (from requests->huggingface-hub>=0.20.0->sentence-transformers>=0.3.8->keybert) (3.4)\n",
      "Requirement already satisfied: urllib3<1.27,>=1.21.1 in /usr/local/lib/python3.9/site-packages (from requests->huggingface-hub>=0.20.0->sentence-transformers>=0.3.8->keybert) (1.26.15)\n",
      "Requirement already satisfied: certifi>=2017.4.17 in /usr/local/lib/python3.9/site-packages (from requests->huggingface-hub>=0.20.0->sentence-transformers>=0.3.8->keybert) (2022.12.7)\n",
      "Requirement already satisfied: mpmath>=0.19 in /usr/local/lib/python3.9/site-packages (from sympy->torch>=1.11.0->sentence-transformers>=0.3.8->keybert) (1.3.0)\n",
      "\u001b[33mWARNING: Error parsing dependencies of bleach: Expected matching RIGHT_PARENTHESIS for LEFT_PARENTHESIS, after version specifier\n",
      "    tinycss2 (>=1.1.0<1.2) ; extra == 'css'\n",
      "             ~~~~~~~~^\u001b[0m\u001b[33m\n",
      "\u001b[0m\u001b[33mDEPRECATION: Configuring installation scheme with distutils config files is deprecated and will no longer work in the near future. If you are using a Homebrew or Linuxbrew Python, please see discussion at https://github.com/Homebrew/homebrew-core/issues/76621\u001b[0m\u001b[33m\n",
      "\u001b[0mNote: you may need to restart the kernel to use updated packages.\n",
      "\u001b[33mDEPRECATION: Configuring installation scheme with distutils config files is deprecated and will no longer work in the near future. If you are using a Homebrew or Linuxbrew Python, please see discussion at https://github.com/Homebrew/homebrew-core/issues/76621\u001b[0m\u001b[33m\n",
      "\u001b[0mRequirement already satisfied: transformers in /usr/local/lib/python3.9/site-packages (4.48.1)\n",
      "Requirement already satisfied: sentence-transformers in /usr/local/lib/python3.9/site-packages (3.3.1)\n",
      "Requirement already satisfied: nltk in /usr/local/lib/python3.9/site-packages (3.7)\n",
      "Requirement already satisfied: filelock in /usr/local/lib/python3.9/site-packages (from transformers) (3.12.4)\n",
      "Requirement already satisfied: huggingface-hub<1.0,>=0.24.0 in /usr/local/lib/python3.9/site-packages (from transformers) (0.27.1)\n",
      "Requirement already satisfied: numpy>=1.17 in /usr/local/lib/python3.9/site-packages (from transformers) (1.24.4)\n",
      "Requirement already satisfied: packaging>=20.0 in /usr/local/lib/python3.9/site-packages (from transformers) (24.2)\n",
      "Requirement already satisfied: pyyaml>=5.1 in /usr/local/lib/python3.9/site-packages (from transformers) (6.0.1)\n",
      "Requirement already satisfied: regex!=2019.12.17 in /usr/local/lib/python3.9/site-packages (from transformers) (2022.10.31)\n",
      "Requirement already satisfied: requests in /usr/local/lib/python3.9/site-packages (from transformers) (2.28.2)\n",
      "Requirement already satisfied: tokenizers<0.22,>=0.21 in /usr/local/lib/python3.9/site-packages (from transformers) (0.21.0)\n",
      "Requirement already satisfied: safetensors>=0.4.1 in /usr/local/lib/python3.9/site-packages (from transformers) (0.5.2)\n",
      "Requirement already satisfied: tqdm>=4.27 in /usr/local/lib/python3.9/site-packages (from transformers) (4.64.1)\n",
      "Requirement already satisfied: torch>=1.11.0 in /usr/local/lib/python3.9/site-packages (from sentence-transformers) (2.0.1)\n",
      "Requirement already satisfied: scikit-learn in /usr/local/lib/python3.9/site-packages (from sentence-transformers) (1.5.2)\n",
      "Requirement already satisfied: scipy in /usr/local/lib/python3.9/site-packages (from sentence-transformers) (1.13.1)\n",
      "Requirement already satisfied: Pillow in /usr/local/lib/python3.9/site-packages (from sentence-transformers) (9.0.1)\n",
      "Requirement already satisfied: click in /usr/local/lib/python3.9/site-packages (from nltk) (8.1.3)\n",
      "Requirement already satisfied: joblib in /usr/local/lib/python3.9/site-packages (from nltk) (1.2.0)\n",
      "Requirement already satisfied: fsspec>=2023.5.0 in /usr/local/lib/python3.9/site-packages (from huggingface-hub<1.0,>=0.24.0->transformers) (2024.12.0)\n",
      "Requirement already satisfied: typing-extensions>=3.7.4.3 in /usr/local/lib/python3.9/site-packages (from huggingface-hub<1.0,>=0.24.0->transformers) (4.12.2)\n",
      "Requirement already satisfied: sympy in /usr/local/lib/python3.9/site-packages (from torch>=1.11.0->sentence-transformers) (1.12)\n",
      "Requirement already satisfied: networkx in /usr/local/lib/python3.9/site-packages (from torch>=1.11.0->sentence-transformers) (3.0)\n",
      "Requirement already satisfied: jinja2 in /usr/local/lib/python3.9/site-packages (from torch>=1.11.0->sentence-transformers) (3.1.2)\n",
      "Requirement already satisfied: charset-normalizer<4,>=2 in /usr/local/lib/python3.9/site-packages (from requests->transformers) (3.1.0)\n",
      "Requirement already satisfied: idna<4,>=2.5 in /usr/local/lib/python3.9/site-packages (from requests->transformers) (3.4)\n",
      "Requirement already satisfied: urllib3<1.27,>=1.21.1 in /usr/local/lib/python3.9/site-packages (from requests->transformers) (1.26.15)\n",
      "Requirement already satisfied: certifi>=2017.4.17 in /usr/local/lib/python3.9/site-packages (from requests->transformers) (2022.12.7)\n",
      "Requirement already satisfied: threadpoolctl>=3.1.0 in /usr/local/lib/python3.9/site-packages (from scikit-learn->sentence-transformers) (3.1.0)\n",
      "Requirement already satisfied: MarkupSafe>=2.0 in /usr/local/lib/python3.9/site-packages (from jinja2->torch>=1.11.0->sentence-transformers) (2.1.1)\n",
      "Requirement already satisfied: mpmath>=0.19 in /usr/local/lib/python3.9/site-packages (from sympy->torch>=1.11.0->sentence-transformers) (1.3.0)\n",
      "\u001b[33mWARNING: Error parsing dependencies of bleach: Expected matching RIGHT_PARENTHESIS for LEFT_PARENTHESIS, after version specifier\n",
      "    tinycss2 (>=1.1.0<1.2) ; extra == 'css'\n",
      "             ~~~~~~~~^\u001b[0m\u001b[33m\n",
      "\u001b[0m\u001b[33mDEPRECATION: Configuring installation scheme with distutils config files is deprecated and will no longer work in the near future. If you are using a Homebrew or Linuxbrew Python, please see discussion at https://github.com/Homebrew/homebrew-core/issues/76621\u001b[0m\u001b[33m\n",
      "\u001b[0mNote: you may need to restart the kernel to use updated packages.\n"
<<<<<<< HEAD
<<<<<<< HEAD
=======
>>>>>>> 8510426 (Running notebook with UI)
>>>>>>> de60678 (Running notebook with UI)
=======
>>>>>>> 8510426 (Running notebook with UI)
=======
=======
      "3.9.21\n"
>>>>>>> 58cdc82 (final knowledge graph tinkering)
>>>>>>> b373de7 (final knowledge graph tinkering)
<<<<<<< HEAD
>>>>>>> f93dfe9 (final knowledge graph tinkering)
<<<<<<< HEAD
>>>>>>> 7bb8422 (final knowledge graph tinkering)
=======
=======
=======
      "3.9.21\n"
>>>>>>> 80e8ab8 (descriptions added per node for summarization)
>>>>>>> 996ce76 (descriptions added per node for summarization)
<<<<<<< HEAD
>>>>>>> 51eb27b (descriptions added per node for summarization)
=======
=======

<<<<<<< HEAD
>>>>>>> b6e9b37 (fixes)
<<<<<<< HEAD
>>>>>>> b03de1a (fixes)
=======
=======
=======
=======
>>>>>>> 3e2f682 (descriptions added per node for summarization)
<<<<<<< HEAD
      "3.9.21\n"
=======
<<<<<<< HEAD
      "3.9.21\n",
      "\u001b[33mDEPRECATION: Configuring installation scheme with distutils config files is deprecated and will no longer work in the near future. If you are using a Homebrew or Linuxbrew Python, please see discussion at https://github.com/Homebrew/homebrew-core/issues/76621\u001b[0m\u001b[33m\n",
      "\u001b[0mRequirement already satisfied: langchain in /usr/local/lib/python3.9/site-packages (0.3.15)\n",
      "Requirement already satisfied: PyYAML>=5.3 in /usr/local/lib/python3.9/site-packages (from langchain) (6.0.1)\n",
      "Requirement already satisfied: SQLAlchemy<3,>=1.4 in /usr/local/lib/python3.9/site-packages (from langchain) (2.0.37)\n",
      "Requirement already satisfied: aiohttp<4.0.0,>=3.8.3 in /usr/local/lib/python3.9/site-packages (from langchain) (3.11.11)\n",
      "Requirement already satisfied: async-timeout<5.0.0,>=4.0.0 in /usr/local/lib/python3.9/site-packages (from langchain) (4.0.3)\n",
      "Requirement already satisfied: langchain-core<0.4.0,>=0.3.31 in /usr/local/lib/python3.9/site-packages (from langchain) (0.3.31)\n",
      "Requirement already satisfied: langchain-text-splitters<0.4.0,>=0.3.3 in /usr/local/lib/python3.9/site-packages (from langchain) (0.3.5)\n",
      "Requirement already satisfied: langsmith<0.4,>=0.1.17 in /usr/local/lib/python3.9/site-packages (from langchain) (0.2.11)\n",
      "Requirement already satisfied: numpy<2,>=1.22.4 in /usr/local/lib/python3.9/site-packages (from langchain) (1.24.4)\n",
      "Requirement already satisfied: pydantic<3.0.0,>=2.7.4 in /usr/local/lib/python3.9/site-packages (from langchain) (2.10.5)\n",
      "Requirement already satisfied: requests<3,>=2 in /usr/local/lib/python3.9/site-packages (from langchain) (2.28.2)\n",
      "Requirement already satisfied: tenacity!=8.4.0,<10,>=8.1.0 in /usr/local/lib/python3.9/site-packages (from langchain) (9.0.0)\n",
      "Requirement already satisfied: aiohappyeyeballs>=2.3.0 in /usr/local/lib/python3.9/site-packages (from aiohttp<4.0.0,>=3.8.3->langchain) (2.4.4)\n",
      "Requirement already satisfied: aiosignal>=1.1.2 in /usr/local/lib/python3.9/site-packages (from aiohttp<4.0.0,>=3.8.3->langchain) (1.3.2)\n",
      "Requirement already satisfied: attrs>=17.3.0 in /usr/local/lib/python3.9/site-packages (from aiohttp<4.0.0,>=3.8.3->langchain) (21.4.0)\n",
      "Requirement already satisfied: frozenlist>=1.1.1 in /usr/local/lib/python3.9/site-packages (from aiohttp<4.0.0,>=3.8.3->langchain) (1.5.0)\n",
      "Requirement already satisfied: multidict<7.0,>=4.5 in /usr/local/lib/python3.9/site-packages (from aiohttp<4.0.0,>=3.8.3->langchain) (6.1.0)\n",
      "Requirement already satisfied: propcache>=0.2.0 in /usr/local/lib/python3.9/site-packages (from aiohttp<4.0.0,>=3.8.3->langchain) (0.2.1)\n",
      "Requirement already satisfied: yarl<2.0,>=1.17.0 in /usr/local/lib/python3.9/site-packages (from aiohttp<4.0.0,>=3.8.3->langchain) (1.18.3)\n",
      "Requirement already satisfied: jsonpatch<2.0,>=1.33 in /usr/local/lib/python3.9/site-packages (from langchain-core<0.4.0,>=0.3.31->langchain) (1.33)\n",
      "Requirement already satisfied: packaging<25,>=23.2 in /usr/local/lib/python3.9/site-packages (from langchain-core<0.4.0,>=0.3.31->langchain) (24.2)\n",
      "Requirement already satisfied: typing-extensions>=4.7 in /usr/local/lib/python3.9/site-packages (from langchain-core<0.4.0,>=0.3.31->langchain) (4.12.2)\n",
      "Requirement already satisfied: httpx<1,>=0.23.0 in /usr/local/lib/python3.9/site-packages (from langsmith<0.4,>=0.1.17->langchain) (0.28.1)\n",
      "Requirement already satisfied: orjson<4.0.0,>=3.9.14 in /usr/local/lib/python3.9/site-packages (from langsmith<0.4,>=0.1.17->langchain) (3.10.14)\n",
      "Requirement already satisfied: requests-toolbelt<2.0.0,>=1.0.0 in /usr/local/lib/python3.9/site-packages (from langsmith<0.4,>=0.1.17->langchain) (1.0.0)\n",
      "Requirement already satisfied: annotated-types>=0.6.0 in /usr/local/lib/python3.9/site-packages (from pydantic<3.0.0,>=2.7.4->langchain) (0.7.0)\n",
      "Requirement already satisfied: pydantic-core==2.27.2 in /usr/local/lib/python3.9/site-packages (from pydantic<3.0.0,>=2.7.4->langchain) (2.27.2)\n",
      "Requirement already satisfied: charset-normalizer<4,>=2 in /usr/local/lib/python3.9/site-packages (from requests<3,>=2->langchain) (3.1.0)\n",
      "Requirement already satisfied: idna<4,>=2.5 in /usr/local/lib/python3.9/site-packages (from requests<3,>=2->langchain) (3.4)\n",
      "Requirement already satisfied: urllib3<1.27,>=1.21.1 in /usr/local/lib/python3.9/site-packages (from requests<3,>=2->langchain) (1.26.15)\n",
      "Requirement already satisfied: certifi>=2017.4.17 in /usr/local/lib/python3.9/site-packages (from requests<3,>=2->langchain) (2022.12.7)\n",
      "Requirement already satisfied: greenlet!=0.4.17 in /usr/local/lib/python3.9/site-packages (from SQLAlchemy<3,>=1.4->langchain) (3.1.1)\n",
      "Requirement already satisfied: anyio in /usr/local/lib/python3.9/site-packages (from httpx<1,>=0.23.0->langsmith<0.4,>=0.1.17->langchain) (4.8.0)\n",
      "Requirement already satisfied: httpcore==1.* in /usr/local/lib/python3.9/site-packages (from httpx<1,>=0.23.0->langsmith<0.4,>=0.1.17->langchain) (1.0.7)\n",
      "Requirement already satisfied: h11<0.15,>=0.13 in /usr/local/lib/python3.9/site-packages (from httpcore==1.*->httpx<1,>=0.23.0->langsmith<0.4,>=0.1.17->langchain) (0.14.0)\n",
      "Requirement already satisfied: jsonpointer>=1.9 in /usr/local/lib/python3.9/site-packages (from jsonpatch<2.0,>=1.33->langchain-core<0.4.0,>=0.3.31->langchain) (3.0.0)\n",
      "Requirement already satisfied: exceptiongroup>=1.0.2 in /usr/local/lib/python3.9/site-packages (from anyio->httpx<1,>=0.23.0->langsmith<0.4,>=0.1.17->langchain) (1.2.2)\n",
      "Requirement already satisfied: sniffio>=1.1 in /usr/local/lib/python3.9/site-packages (from anyio->httpx<1,>=0.23.0->langsmith<0.4,>=0.1.17->langchain) (1.3.1)\n",
      "\u001b[33mWARNING: Error parsing dependencies of bleach: Expected matching RIGHT_PARENTHESIS for LEFT_PARENTHESIS, after version specifier\n",
      "    tinycss2 (>=1.1.0<1.2) ; extra == 'css'\n",
      "             ~~~~~~~~^\u001b[0m\u001b[33m\n",
      "\u001b[0m\u001b[33mDEPRECATION: Configuring installation scheme with distutils config files is deprecated and will no longer work in the near future. If you are using a Homebrew or Linuxbrew Python, please see discussion at https://github.com/Homebrew/homebrew-core/issues/76621\u001b[0m\u001b[33m\n",
      "\u001b[0mNote: you may need to restart the kernel to use updated packages.\n",
      "\u001b[33mDEPRECATION: Configuring installation scheme with distutils config files is deprecated and will no longer work in the near future. If you are using a Homebrew or Linuxbrew Python, please see discussion at https://github.com/Homebrew/homebrew-core/issues/76621\u001b[0m\u001b[33m\n",
      "\u001b[0mRequirement already satisfied: langchain-community in /usr/local/lib/python3.9/site-packages (0.3.15)\n",
      "Requirement already satisfied: PyYAML>=5.3 in /usr/local/lib/python3.9/site-packages (from langchain-community) (6.0.1)\n",
      "Requirement already satisfied: SQLAlchemy<3,>=1.4 in /usr/local/lib/python3.9/site-packages (from langchain-community) (2.0.37)\n",
      "Requirement already satisfied: aiohttp<4.0.0,>=3.8.3 in /usr/local/lib/python3.9/site-packages (from langchain-community) (3.11.11)\n",
      "Requirement already satisfied: dataclasses-json<0.7,>=0.5.7 in /usr/local/lib/python3.9/site-packages (from langchain-community) (0.6.7)\n",
      "Requirement already satisfied: httpx-sse<0.5.0,>=0.4.0 in /usr/local/lib/python3.9/site-packages (from langchain-community) (0.4.0)\n",
      "Requirement already satisfied: langchain<0.4.0,>=0.3.15 in /usr/local/lib/python3.9/site-packages (from langchain-community) (0.3.15)\n",
      "Requirement already satisfied: langchain-core<0.4.0,>=0.3.31 in /usr/local/lib/python3.9/site-packages (from langchain-community) (0.3.31)\n",
      "Requirement already satisfied: langsmith<0.4,>=0.1.125 in /usr/local/lib/python3.9/site-packages (from langchain-community) (0.2.11)\n",
      "Requirement already satisfied: numpy<2,>=1.22.4 in /usr/local/lib/python3.9/site-packages (from langchain-community) (1.24.4)\n",
      "Requirement already satisfied: pydantic-settings<3.0.0,>=2.4.0 in /usr/local/lib/python3.9/site-packages (from langchain-community) (2.7.1)\n",
      "Requirement already satisfied: requests<3,>=2 in /usr/local/lib/python3.9/site-packages (from langchain-community) (2.28.2)\n",
      "Requirement already satisfied: tenacity!=8.4.0,<10,>=8.1.0 in /usr/local/lib/python3.9/site-packages (from langchain-community) (9.0.0)\n",
      "Requirement already satisfied: aiohappyeyeballs>=2.3.0 in /usr/local/lib/python3.9/site-packages (from aiohttp<4.0.0,>=3.8.3->langchain-community) (2.4.4)\n",
      "Requirement already satisfied: aiosignal>=1.1.2 in /usr/local/lib/python3.9/site-packages (from aiohttp<4.0.0,>=3.8.3->langchain-community) (1.3.2)\n",
      "Requirement already satisfied: async-timeout<6.0,>=4.0 in /usr/local/lib/python3.9/site-packages (from aiohttp<4.0.0,>=3.8.3->langchain-community) (4.0.3)\n",
      "Requirement already satisfied: attrs>=17.3.0 in /usr/local/lib/python3.9/site-packages (from aiohttp<4.0.0,>=3.8.3->langchain-community) (21.4.0)\n",
      "Requirement already satisfied: frozenlist>=1.1.1 in /usr/local/lib/python3.9/site-packages (from aiohttp<4.0.0,>=3.8.3->langchain-community) (1.5.0)\n",
      "Requirement already satisfied: multidict<7.0,>=4.5 in /usr/local/lib/python3.9/site-packages (from aiohttp<4.0.0,>=3.8.3->langchain-community) (6.1.0)\n",
      "Requirement already satisfied: propcache>=0.2.0 in /usr/local/lib/python3.9/site-packages (from aiohttp<4.0.0,>=3.8.3->langchain-community) (0.2.1)\n",
      "Requirement already satisfied: yarl<2.0,>=1.17.0 in /usr/local/lib/python3.9/site-packages (from aiohttp<4.0.0,>=3.8.3->langchain-community) (1.18.3)\n",
      "Requirement already satisfied: marshmallow<4.0.0,>=3.18.0 in /usr/local/lib/python3.9/site-packages (from dataclasses-json<0.7,>=0.5.7->langchain-community) (3.25.1)\n",
      "Requirement already satisfied: typing-inspect<1,>=0.4.0 in /usr/local/lib/python3.9/site-packages (from dataclasses-json<0.7,>=0.5.7->langchain-community) (0.9.0)\n",
      "Requirement already satisfied: langchain-text-splitters<0.4.0,>=0.3.3 in /usr/local/lib/python3.9/site-packages (from langchain<0.4.0,>=0.3.15->langchain-community) (0.3.5)\n",
      "Requirement already satisfied: pydantic<3.0.0,>=2.7.4 in /usr/local/lib/python3.9/site-packages (from langchain<0.4.0,>=0.3.15->langchain-community) (2.10.5)\n",
      "Requirement already satisfied: jsonpatch<2.0,>=1.33 in /usr/local/lib/python3.9/site-packages (from langchain-core<0.4.0,>=0.3.31->langchain-community) (1.33)\n",
      "Requirement already satisfied: packaging<25,>=23.2 in /usr/local/lib/python3.9/site-packages (from langchain-core<0.4.0,>=0.3.31->langchain-community) (24.2)\n",
      "Requirement already satisfied: typing-extensions>=4.7 in /usr/local/lib/python3.9/site-packages (from langchain-core<0.4.0,>=0.3.31->langchain-community) (4.12.2)\n",
      "Requirement already satisfied: httpx<1,>=0.23.0 in /usr/local/lib/python3.9/site-packages (from langsmith<0.4,>=0.1.125->langchain-community) (0.28.1)\n",
      "Requirement already satisfied: orjson<4.0.0,>=3.9.14 in /usr/local/lib/python3.9/site-packages (from langsmith<0.4,>=0.1.125->langchain-community) (3.10.14)\n",
      "Requirement already satisfied: requests-toolbelt<2.0.0,>=1.0.0 in /usr/local/lib/python3.9/site-packages (from langsmith<0.4,>=0.1.125->langchain-community) (1.0.0)\n",
      "Requirement already satisfied: python-dotenv>=0.21.0 in /usr/local/lib/python3.9/site-packages (from pydantic-settings<3.0.0,>=2.4.0->langchain-community) (1.0.1)\n",
      "Requirement already satisfied: charset-normalizer<4,>=2 in /usr/local/lib/python3.9/site-packages (from requests<3,>=2->langchain-community) (3.1.0)\n",
      "Requirement already satisfied: idna<4,>=2.5 in /usr/local/lib/python3.9/site-packages (from requests<3,>=2->langchain-community) (3.4)\n",
      "Requirement already satisfied: urllib3<1.27,>=1.21.1 in /usr/local/lib/python3.9/site-packages (from requests<3,>=2->langchain-community) (1.26.15)\n",
      "Requirement already satisfied: certifi>=2017.4.17 in /usr/local/lib/python3.9/site-packages (from requests<3,>=2->langchain-community) (2022.12.7)\n",
      "Requirement already satisfied: greenlet!=0.4.17 in /usr/local/lib/python3.9/site-packages (from SQLAlchemy<3,>=1.4->langchain-community) (3.1.1)\n",
      "Requirement already satisfied: anyio in /usr/local/lib/python3.9/site-packages (from httpx<1,>=0.23.0->langsmith<0.4,>=0.1.125->langchain-community) (4.8.0)\n",
      "Requirement already satisfied: httpcore==1.* in /usr/local/lib/python3.9/site-packages (from httpx<1,>=0.23.0->langsmith<0.4,>=0.1.125->langchain-community) (1.0.7)\n",
      "Requirement already satisfied: h11<0.15,>=0.13 in /usr/local/lib/python3.9/site-packages (from httpcore==1.*->httpx<1,>=0.23.0->langsmith<0.4,>=0.1.125->langchain-community) (0.14.0)\n",
      "Requirement already satisfied: jsonpointer>=1.9 in /usr/local/lib/python3.9/site-packages (from jsonpatch<2.0,>=1.33->langchain-core<0.4.0,>=0.3.31->langchain-community) (3.0.0)\n",
      "Requirement already satisfied: annotated-types>=0.6.0 in /usr/local/lib/python3.9/site-packages (from pydantic<3.0.0,>=2.7.4->langchain<0.4.0,>=0.3.15->langchain-community) (0.7.0)\n",
      "Requirement already satisfied: pydantic-core==2.27.2 in /usr/local/lib/python3.9/site-packages (from pydantic<3.0.0,>=2.7.4->langchain<0.4.0,>=0.3.15->langchain-community) (2.27.2)\n",
      "Requirement already satisfied: mypy-extensions>=0.3.0 in /usr/local/lib/python3.9/site-packages (from typing-inspect<1,>=0.4.0->dataclasses-json<0.7,>=0.5.7->langchain-community) (1.0.0)\n",
      "Requirement already satisfied: exceptiongroup>=1.0.2 in /usr/local/lib/python3.9/site-packages (from anyio->httpx<1,>=0.23.0->langsmith<0.4,>=0.1.125->langchain-community) (1.2.2)\n",
      "Requirement already satisfied: sniffio>=1.1 in /usr/local/lib/python3.9/site-packages (from anyio->httpx<1,>=0.23.0->langsmith<0.4,>=0.1.125->langchain-community) (1.3.1)\n",
      "\u001b[33mWARNING: Error parsing dependencies of bleach: Expected matching RIGHT_PARENTHESIS for LEFT_PARENTHESIS, after version specifier\n",
      "    tinycss2 (>=1.1.0<1.2) ; extra == 'css'\n",
      "             ~~~~~~~~^\u001b[0m\u001b[33m\n",
      "\u001b[0m\u001b[33mDEPRECATION: Configuring installation scheme with distutils config files is deprecated and will no longer work in the near future. If you are using a Homebrew or Linuxbrew Python, please see discussion at https://github.com/Homebrew/homebrew-core/issues/76621\u001b[0m\u001b[33m\n",
      "\u001b[0mNote: you may need to restart the kernel to use updated packages.\n",
      "\u001b[33mDEPRECATION: Configuring installation scheme with distutils config files is deprecated and will no longer work in the near future. If you are using a Homebrew or Linuxbrew Python, please see discussion at https://github.com/Homebrew/homebrew-core/issues/76621\u001b[0m\u001b[33m\n",
      "\u001b[0mRequirement already satisfied: pypdf in /usr/local/lib/python3.9/site-packages (5.1.0)\n",
      "Requirement already satisfied: typing_extensions>=4.0 in /usr/local/lib/python3.9/site-packages (from pypdf) (4.12.2)\n",
      "\u001b[33mWARNING: Error parsing dependencies of bleach: Expected matching RIGHT_PARENTHESIS for LEFT_PARENTHESIS, after version specifier\n",
      "    tinycss2 (>=1.1.0<1.2) ; extra == 'css'\n",
      "             ~~~~~~~~^\u001b[0m\u001b[33m\n",
      "\u001b[0m\u001b[33mDEPRECATION: Configuring installation scheme with distutils config files is deprecated and will no longer work in the near future. If you are using a Homebrew or Linuxbrew Python, please see discussion at https://github.com/Homebrew/homebrew-core/issues/76621\u001b[0m\u001b[33m\n",
      "\u001b[0mNote: you may need to restart the kernel to use updated packages.\n",
      "\u001b[33mDEPRECATION: Configuring installation scheme with distutils config files is deprecated and will no longer work in the near future. If you are using a Homebrew or Linuxbrew Python, please see discussion at https://github.com/Homebrew/homebrew-core/issues/76621\u001b[0m\u001b[33m\n",
      "\u001b[0mRequirement already satisfied: spacy in /usr/local/lib/python3.9/site-packages (3.8.3)\n",
      "Requirement already satisfied: spacy-legacy<3.1.0,>=3.0.11 in /usr/local/lib/python3.9/site-packages (from spacy) (3.0.12)\n",
      "Requirement already satisfied: spacy-loggers<2.0.0,>=1.0.0 in /usr/local/lib/python3.9/site-packages (from spacy) (1.0.5)\n",
      "Requirement already satisfied: murmurhash<1.1.0,>=0.28.0 in /usr/local/lib/python3.9/site-packages (from spacy) (1.0.12)\n",
      "Requirement already satisfied: cymem<2.1.0,>=2.0.2 in /usr/local/lib/python3.9/site-packages (from spacy) (2.0.11)\n",
      "Requirement already satisfied: preshed<3.1.0,>=3.0.2 in /usr/local/lib/python3.9/site-packages (from spacy) (3.0.9)\n",
      "Requirement already satisfied: thinc<8.4.0,>=8.3.0 in /usr/local/lib/python3.9/site-packages (from spacy) (8.3.4)\n",
      "Requirement already satisfied: wasabi<1.2.0,>=0.9.1 in /usr/local/lib/python3.9/site-packages (from spacy) (1.1.3)\n",
      "Requirement already satisfied: srsly<3.0.0,>=2.4.3 in /usr/local/lib/python3.9/site-packages (from spacy) (2.5.1)\n",
      "Requirement already satisfied: catalogue<2.1.0,>=2.0.6 in /usr/local/lib/python3.9/site-packages (from spacy) (2.0.10)\n",
      "Requirement already satisfied: weasel<0.5.0,>=0.1.0 in /usr/local/lib/python3.9/site-packages (from spacy) (0.4.1)\n",
      "Requirement already satisfied: typer<1.0.0,>=0.3.0 in /usr/local/lib/python3.9/site-packages (from spacy) (0.15.1)\n",
      "Requirement already satisfied: tqdm<5.0.0,>=4.38.0 in /usr/local/lib/python3.9/site-packages (from spacy) (4.64.1)\n",
      "Requirement already satisfied: numpy>=1.19.0 in /usr/local/lib/python3.9/site-packages (from spacy) (1.24.4)\n",
      "Requirement already satisfied: requests<3.0.0,>=2.13.0 in /usr/local/lib/python3.9/site-packages (from spacy) (2.28.2)\n",
      "Requirement already satisfied: pydantic!=1.8,!=1.8.1,<3.0.0,>=1.7.4 in /usr/local/lib/python3.9/site-packages (from spacy) (2.10.5)\n",
      "Requirement already satisfied: jinja2 in /usr/local/lib/python3.9/site-packages (from spacy) (3.1.2)\n",
      "Requirement already satisfied: setuptools in /usr/local/lib/python3.9/site-packages (from spacy) (75.6.0)\n",
      "Requirement already satisfied: packaging>=20.0 in /usr/local/lib/python3.9/site-packages (from spacy) (24.2)\n",
      "Requirement already satisfied: langcodes<4.0.0,>=3.2.0 in /usr/local/lib/python3.9/site-packages (from spacy) (3.5.0)\n",
      "Requirement already satisfied: language-data>=1.2 in /usr/local/lib/python3.9/site-packages (from langcodes<4.0.0,>=3.2.0->spacy) (1.3.0)\n",
      "Requirement already satisfied: annotated-types>=0.6.0 in /usr/local/lib/python3.9/site-packages (from pydantic!=1.8,!=1.8.1,<3.0.0,>=1.7.4->spacy) (0.7.0)\n",
      "Requirement already satisfied: pydantic-core==2.27.2 in /usr/local/lib/python3.9/site-packages (from pydantic!=1.8,!=1.8.1,<3.0.0,>=1.7.4->spacy) (2.27.2)\n",
      "Requirement already satisfied: typing-extensions>=4.12.2 in /usr/local/lib/python3.9/site-packages (from pydantic!=1.8,!=1.8.1,<3.0.0,>=1.7.4->spacy) (4.12.2)\n",
      "Requirement already satisfied: charset-normalizer<4,>=2 in /usr/local/lib/python3.9/site-packages (from requests<3.0.0,>=2.13.0->spacy) (3.1.0)\n",
      "Requirement already satisfied: idna<4,>=2.5 in /usr/local/lib/python3.9/site-packages (from requests<3.0.0,>=2.13.0->spacy) (3.4)\n",
      "Requirement already satisfied: urllib3<1.27,>=1.21.1 in /usr/local/lib/python3.9/site-packages (from requests<3.0.0,>=2.13.0->spacy) (1.26.15)\n",
      "Requirement already satisfied: certifi>=2017.4.17 in /usr/local/lib/python3.9/site-packages (from requests<3.0.0,>=2.13.0->spacy) (2022.12.7)\n",
      "Requirement already satisfied: blis<1.3.0,>=1.2.0 in /usr/local/lib/python3.9/site-packages (from thinc<8.4.0,>=8.3.0->spacy) (1.2.0)\n",
      "Requirement already satisfied: confection<1.0.0,>=0.0.1 in /usr/local/lib/python3.9/site-packages (from thinc<8.4.0,>=8.3.0->spacy) (0.1.5)\n",
      "Requirement already satisfied: click>=8.0.0 in /usr/local/lib/python3.9/site-packages (from typer<1.0.0,>=0.3.0->spacy) (8.1.3)\n",
      "Requirement already satisfied: shellingham>=1.3.0 in /usr/local/lib/python3.9/site-packages (from typer<1.0.0,>=0.3.0->spacy) (1.5.4)\n",
      "Requirement already satisfied: rich>=10.11.0 in /usr/local/lib/python3.9/site-packages (from typer<1.0.0,>=0.3.0->spacy) (13.9.4)\n",
      "Requirement already satisfied: cloudpathlib<1.0.0,>=0.7.0 in /usr/local/lib/python3.9/site-packages (from weasel<0.5.0,>=0.1.0->spacy) (0.20.0)\n",
      "Requirement already satisfied: smart-open<8.0.0,>=5.2.1 in /usr/local/lib/python3.9/site-packages (from weasel<0.5.0,>=0.1.0->spacy) (6.4.0)\n",
      "Requirement already satisfied: MarkupSafe>=2.0 in /usr/local/lib/python3.9/site-packages (from jinja2->spacy) (2.1.1)\n",
      "Requirement already satisfied: marisa-trie>=1.1.0 in /usr/local/lib/python3.9/site-packages (from language-data>=1.2->langcodes<4.0.0,>=3.2.0->spacy) (1.2.1)\n",
      "Requirement already satisfied: markdown-it-py>=2.2.0 in /usr/local/lib/python3.9/site-packages (from rich>=10.11.0->typer<1.0.0,>=0.3.0->spacy) (3.0.0)\n",
      "Requirement already satisfied: pygments<3.0.0,>=2.13.0 in /Users/amber/Library/Python/3.9/lib/python/site-packages (from rich>=10.11.0->typer<1.0.0,>=0.3.0->spacy) (2.14.0)\n",
      "Requirement already satisfied: mdurl~=0.1 in /usr/local/lib/python3.9/site-packages (from markdown-it-py>=2.2.0->rich>=10.11.0->typer<1.0.0,>=0.3.0->spacy) (0.1.2)\n",
      "\u001b[33mWARNING: Error parsing dependencies of bleach: Expected matching RIGHT_PARENTHESIS for LEFT_PARENTHESIS, after version specifier\n",
      "    tinycss2 (>=1.1.0<1.2) ; extra == 'css'\n",
      "             ~~~~~~~~^\u001b[0m\u001b[33m\n",
      "\u001b[0m\u001b[33mDEPRECATION: Configuring installation scheme with distutils config files is deprecated and will no longer work in the near future. If you are using a Homebrew or Linuxbrew Python, please see discussion at https://github.com/Homebrew/homebrew-core/issues/76621\u001b[0m\u001b[33m\n",
      "\u001b[0mNote: you may need to restart the kernel to use updated packages.\n",
      "\u001b[33mDEPRECATION: Configuring installation scheme with distutils config files is deprecated and will no longer work in the near future. If you are using a Homebrew or Linuxbrew Python, please see discussion at https://github.com/Homebrew/homebrew-core/issues/76621\u001b[0m\u001b[33m\n",
      "\u001b[0mRequirement already satisfied: spacy-llm in /usr/local/lib/python3.9/site-packages (0.7.3)\n",
      "Requirement already satisfied: spacy<4.0,>=3.5 in /usr/local/lib/python3.9/site-packages (from spacy-llm) (3.8.3)\n",
      "Requirement already satisfied: jinja2 in /usr/local/lib/python3.9/site-packages (from spacy-llm) (3.1.2)\n",
      "Requirement already satisfied: confection<1.0.0,>=0.1.3 in /usr/local/lib/python3.9/site-packages (from spacy-llm) (0.1.5)\n",
      "Requirement already satisfied: pydantic!=1.8,!=1.8.1,<3.0.0,>=1.7.4 in /usr/local/lib/python3.9/site-packages (from confection<1.0.0,>=0.1.3->spacy-llm) (2.10.5)\n",
      "Requirement already satisfied: srsly<3.0.0,>=2.4.0 in /usr/local/lib/python3.9/site-packages (from confection<1.0.0,>=0.1.3->spacy-llm) (2.5.1)\n",
      "Requirement already satisfied: spacy-legacy<3.1.0,>=3.0.11 in /usr/local/lib/python3.9/site-packages (from spacy<4.0,>=3.5->spacy-llm) (3.0.12)\n",
      "Requirement already satisfied: spacy-loggers<2.0.0,>=1.0.0 in /usr/local/lib/python3.9/site-packages (from spacy<4.0,>=3.5->spacy-llm) (1.0.5)\n",
      "Requirement already satisfied: murmurhash<1.1.0,>=0.28.0 in /usr/local/lib/python3.9/site-packages (from spacy<4.0,>=3.5->spacy-llm) (1.0.12)\n",
      "Requirement already satisfied: cymem<2.1.0,>=2.0.2 in /usr/local/lib/python3.9/site-packages (from spacy<4.0,>=3.5->spacy-llm) (2.0.11)\n",
      "Requirement already satisfied: preshed<3.1.0,>=3.0.2 in /usr/local/lib/python3.9/site-packages (from spacy<4.0,>=3.5->spacy-llm) (3.0.9)\n",
      "Requirement already satisfied: thinc<8.4.0,>=8.3.0 in /usr/local/lib/python3.9/site-packages (from spacy<4.0,>=3.5->spacy-llm) (8.3.4)\n",
      "Requirement already satisfied: wasabi<1.2.0,>=0.9.1 in /usr/local/lib/python3.9/site-packages (from spacy<4.0,>=3.5->spacy-llm) (1.1.3)\n",
      "Requirement already satisfied: catalogue<2.1.0,>=2.0.6 in /usr/local/lib/python3.9/site-packages (from spacy<4.0,>=3.5->spacy-llm) (2.0.10)\n",
      "Requirement already satisfied: weasel<0.5.0,>=0.1.0 in /usr/local/lib/python3.9/site-packages (from spacy<4.0,>=3.5->spacy-llm) (0.4.1)\n",
      "Requirement already satisfied: typer<1.0.0,>=0.3.0 in /usr/local/lib/python3.9/site-packages (from spacy<4.0,>=3.5->spacy-llm) (0.15.1)\n",
      "Requirement already satisfied: tqdm<5.0.0,>=4.38.0 in /usr/local/lib/python3.9/site-packages (from spacy<4.0,>=3.5->spacy-llm) (4.64.1)\n",
      "Requirement already satisfied: numpy>=1.19.0 in /usr/local/lib/python3.9/site-packages (from spacy<4.0,>=3.5->spacy-llm) (1.24.4)\n",
      "Requirement already satisfied: requests<3.0.0,>=2.13.0 in /usr/local/lib/python3.9/site-packages (from spacy<4.0,>=3.5->spacy-llm) (2.28.2)\n",
      "Requirement already satisfied: setuptools in /usr/local/lib/python3.9/site-packages (from spacy<4.0,>=3.5->spacy-llm) (75.6.0)\n",
      "Requirement already satisfied: packaging>=20.0 in /usr/local/lib/python3.9/site-packages (from spacy<4.0,>=3.5->spacy-llm) (24.2)\n",
      "Requirement already satisfied: langcodes<4.0.0,>=3.2.0 in /usr/local/lib/python3.9/site-packages (from spacy<4.0,>=3.5->spacy-llm) (3.5.0)\n",
      "Requirement already satisfied: MarkupSafe>=2.0 in /usr/local/lib/python3.9/site-packages (from jinja2->spacy-llm) (2.1.1)\n",
      "Requirement already satisfied: language-data>=1.2 in /usr/local/lib/python3.9/site-packages (from langcodes<4.0.0,>=3.2.0->spacy<4.0,>=3.5->spacy-llm) (1.3.0)\n",
      "Requirement already satisfied: annotated-types>=0.6.0 in /usr/local/lib/python3.9/site-packages (from pydantic!=1.8,!=1.8.1,<3.0.0,>=1.7.4->confection<1.0.0,>=0.1.3->spacy-llm) (0.7.0)\n",
      "Requirement already satisfied: pydantic-core==2.27.2 in /usr/local/lib/python3.9/site-packages (from pydantic!=1.8,!=1.8.1,<3.0.0,>=1.7.4->confection<1.0.0,>=0.1.3->spacy-llm) (2.27.2)\n",
      "Requirement already satisfied: typing-extensions>=4.12.2 in /usr/local/lib/python3.9/site-packages (from pydantic!=1.8,!=1.8.1,<3.0.0,>=1.7.4->confection<1.0.0,>=0.1.3->spacy-llm) (4.12.2)\n",
      "Requirement already satisfied: charset-normalizer<4,>=2 in /usr/local/lib/python3.9/site-packages (from requests<3.0.0,>=2.13.0->spacy<4.0,>=3.5->spacy-llm) (3.1.0)\n",
      "Requirement already satisfied: idna<4,>=2.5 in /usr/local/lib/python3.9/site-packages (from requests<3.0.0,>=2.13.0->spacy<4.0,>=3.5->spacy-llm) (3.4)\n",
      "Requirement already satisfied: urllib3<1.27,>=1.21.1 in /usr/local/lib/python3.9/site-packages (from requests<3.0.0,>=2.13.0->spacy<4.0,>=3.5->spacy-llm) (1.26.15)\n",
      "Requirement already satisfied: certifi>=2017.4.17 in /usr/local/lib/python3.9/site-packages (from requests<3.0.0,>=2.13.0->spacy<4.0,>=3.5->spacy-llm) (2022.12.7)\n",
      "Requirement already satisfied: blis<1.3.0,>=1.2.0 in /usr/local/lib/python3.9/site-packages (from thinc<8.4.0,>=8.3.0->spacy<4.0,>=3.5->spacy-llm) (1.2.0)\n",
      "Requirement already satisfied: click>=8.0.0 in /usr/local/lib/python3.9/site-packages (from typer<1.0.0,>=0.3.0->spacy<4.0,>=3.5->spacy-llm) (8.1.3)\n",
      "Requirement already satisfied: shellingham>=1.3.0 in /usr/local/lib/python3.9/site-packages (from typer<1.0.0,>=0.3.0->spacy<4.0,>=3.5->spacy-llm) (1.5.4)\n",
      "Requirement already satisfied: rich>=10.11.0 in /usr/local/lib/python3.9/site-packages (from typer<1.0.0,>=0.3.0->spacy<4.0,>=3.5->spacy-llm) (13.9.4)\n",
      "Requirement already satisfied: cloudpathlib<1.0.0,>=0.7.0 in /usr/local/lib/python3.9/site-packages (from weasel<0.5.0,>=0.1.0->spacy<4.0,>=3.5->spacy-llm) (0.20.0)\n",
      "Requirement already satisfied: smart-open<8.0.0,>=5.2.1 in /usr/local/lib/python3.9/site-packages (from weasel<0.5.0,>=0.1.0->spacy<4.0,>=3.5->spacy-llm) (6.4.0)\n",
      "Requirement already satisfied: marisa-trie>=1.1.0 in /usr/local/lib/python3.9/site-packages (from language-data>=1.2->langcodes<4.0.0,>=3.2.0->spacy<4.0,>=3.5->spacy-llm) (1.2.1)\n",
      "Requirement already satisfied: markdown-it-py>=2.2.0 in /usr/local/lib/python3.9/site-packages (from rich>=10.11.0->typer<1.0.0,>=0.3.0->spacy<4.0,>=3.5->spacy-llm) (3.0.0)\n",
      "Requirement already satisfied: pygments<3.0.0,>=2.13.0 in /Users/amber/Library/Python/3.9/lib/python/site-packages (from rich>=10.11.0->typer<1.0.0,>=0.3.0->spacy<4.0,>=3.5->spacy-llm) (2.14.0)\n",
      "Requirement already satisfied: mdurl~=0.1 in /usr/local/lib/python3.9/site-packages (from markdown-it-py>=2.2.0->rich>=10.11.0->typer<1.0.0,>=0.3.0->spacy<4.0,>=3.5->spacy-llm) (0.1.2)\n",
      "\u001b[33mWARNING: Error parsing dependencies of bleach: Expected matching RIGHT_PARENTHESIS for LEFT_PARENTHESIS, after version specifier\n",
      "    tinycss2 (>=1.1.0<1.2) ; extra == 'css'\n",
      "             ~~~~~~~~^\u001b[0m\u001b[33m\n",
      "\u001b[0m\u001b[33mDEPRECATION: Configuring installation scheme with distutils config files is deprecated and will no longer work in the near future. If you are using a Homebrew or Linuxbrew Python, please see discussion at https://github.com/Homebrew/homebrew-core/issues/76621\u001b[0m\u001b[33m\n",
      "\u001b[0m\u001b[33mDEPRECATION: Configuring installation scheme with distutils config files is deprecated and will no longer work in the near future. If you are using a Homebrew or Linuxbrew Python, please see discussion at https://github.com/Homebrew/homebrew-core/issues/76621\u001b[0m\u001b[33m\n",
      "\u001b[0mCollecting en-core-web-sm==3.8.0\n",
      "  Using cached https://github.com/explosion/spacy-models/releases/download/en_core_web_sm-3.8.0/en_core_web_sm-3.8.0-py3-none-any.whl (12.8 MB)\n",
      "\u001b[33mWARNING: Error parsing dependencies of bleach: Expected matching RIGHT_PARENTHESIS for LEFT_PARENTHESIS, after version specifier\n",
      "    tinycss2 (>=1.1.0<1.2) ; extra == 'css'\n",
      "             ~~~~~~~~^\u001b[0m\u001b[33m\n",
      "\u001b[0m\u001b[33mDEPRECATION: Configuring installation scheme with distutils config files is deprecated and will no longer work in the near future. If you are using a Homebrew or Linuxbrew Python, please see discussion at https://github.com/Homebrew/homebrew-core/issues/76621\u001b[0m\u001b[33m\n",
      "\u001b[0m\u001b[38;5;2m✔ Download and installation successful\u001b[0m\n",
      "You can now load the package via spacy.load('en_core_web_sm')\n",
      "\u001b[33mDEPRECATION: Configuring installation scheme with distutils config files is deprecated and will no longer work in the near future. If you are using a Homebrew or Linuxbrew Python, please see discussion at https://github.com/Homebrew/homebrew-core/issues/76621\u001b[0m\u001b[33m\n",
      "\u001b[0mRequirement already satisfied: scikit-learn in /usr/local/lib/python3.9/site-packages (1.5.2)\n",
      "Requirement already satisfied: numpy>=1.19.5 in /usr/local/lib/python3.9/site-packages (from scikit-learn) (1.24.4)\n",
      "Requirement already satisfied: scipy>=1.6.0 in /usr/local/lib/python3.9/site-packages (from scikit-learn) (1.13.1)\n",
      "Requirement already satisfied: joblib>=1.2.0 in /usr/local/lib/python3.9/site-packages (from scikit-learn) (1.2.0)\n",
      "Requirement already satisfied: threadpoolctl>=3.1.0 in /usr/local/lib/python3.9/site-packages (from scikit-learn) (3.1.0)\n",
      "\u001b[33mWARNING: Error parsing dependencies of bleach: Expected matching RIGHT_PARENTHESIS for LEFT_PARENTHESIS, after version specifier\n",
      "    tinycss2 (>=1.1.0<1.2) ; extra == 'css'\n",
      "             ~~~~~~~~^\u001b[0m\u001b[33m\n",
      "\u001b[0m\u001b[33mDEPRECATION: Configuring installation scheme with distutils config files is deprecated and will no longer work in the near future. If you are using a Homebrew or Linuxbrew Python, please see discussion at https://github.com/Homebrew/homebrew-core/issues/76621\u001b[0m\u001b[33m\n",
      "\u001b[0mNote: you may need to restart the kernel to use updated packages.\n",
      "\u001b[33mDEPRECATION: Configuring installation scheme with distutils config files is deprecated and will no longer work in the near future. If you are using a Homebrew or Linuxbrew Python, please see discussion at https://github.com/Homebrew/homebrew-core/issues/76621\u001b[0m\u001b[33m\n",
      "\u001b[0mRequirement already satisfied: sentence-transformers in /usr/local/lib/python3.9/site-packages (3.3.1)\n",
      "Requirement already satisfied: transformers<5.0.0,>=4.41.0 in /usr/local/lib/python3.9/site-packages (from sentence-transformers) (4.48.1)\n",
      "Requirement already satisfied: tqdm in /usr/local/lib/python3.9/site-packages (from sentence-transformers) (4.64.1)\n",
      "Requirement already satisfied: torch>=1.11.0 in /usr/local/lib/python3.9/site-packages (from sentence-transformers) (2.0.1)\n",
      "Requirement already satisfied: scikit-learn in /usr/local/lib/python3.9/site-packages (from sentence-transformers) (1.5.2)\n",
      "Requirement already satisfied: scipy in /usr/local/lib/python3.9/site-packages (from sentence-transformers) (1.13.1)\n",
      "Requirement already satisfied: huggingface-hub>=0.20.0 in /usr/local/lib/python3.9/site-packages (from sentence-transformers) (0.27.1)\n",
      "Requirement already satisfied: Pillow in /usr/local/lib/python3.9/site-packages (from sentence-transformers) (9.0.1)\n",
      "Requirement already satisfied: filelock in /usr/local/lib/python3.9/site-packages (from huggingface-hub>=0.20.0->sentence-transformers) (3.12.4)\n",
      "Requirement already satisfied: fsspec>=2023.5.0 in /usr/local/lib/python3.9/site-packages (from huggingface-hub>=0.20.0->sentence-transformers) (2024.12.0)\n",
      "Requirement already satisfied: packaging>=20.9 in /usr/local/lib/python3.9/site-packages (from huggingface-hub>=0.20.0->sentence-transformers) (24.2)\n",
      "Requirement already satisfied: pyyaml>=5.1 in /usr/local/lib/python3.9/site-packages (from huggingface-hub>=0.20.0->sentence-transformers) (6.0.1)\n",
      "Requirement already satisfied: requests in /usr/local/lib/python3.9/site-packages (from huggingface-hub>=0.20.0->sentence-transformers) (2.28.2)\n",
      "Requirement already satisfied: typing-extensions>=3.7.4.3 in /usr/local/lib/python3.9/site-packages (from huggingface-hub>=0.20.0->sentence-transformers) (4.12.2)\n",
      "Requirement already satisfied: sympy in /usr/local/lib/python3.9/site-packages (from torch>=1.11.0->sentence-transformers) (1.12)\n",
      "Requirement already satisfied: networkx in /usr/local/lib/python3.9/site-packages (from torch>=1.11.0->sentence-transformers) (3.0)\n",
      "Requirement already satisfied: jinja2 in /usr/local/lib/python3.9/site-packages (from torch>=1.11.0->sentence-transformers) (3.1.2)\n",
      "Requirement already satisfied: numpy>=1.17 in /usr/local/lib/python3.9/site-packages (from transformers<5.0.0,>=4.41.0->sentence-transformers) (1.24.4)\n",
      "Requirement already satisfied: regex!=2019.12.17 in /usr/local/lib/python3.9/site-packages (from transformers<5.0.0,>=4.41.0->sentence-transformers) (2022.10.31)\n",
      "Requirement already satisfied: tokenizers<0.22,>=0.21 in /usr/local/lib/python3.9/site-packages (from transformers<5.0.0,>=4.41.0->sentence-transformers) (0.21.0)\n",
      "Requirement already satisfied: safetensors>=0.4.1 in /usr/local/lib/python3.9/site-packages (from transformers<5.0.0,>=4.41.0->sentence-transformers) (0.5.2)\n",
      "Requirement already satisfied: joblib>=1.2.0 in /usr/local/lib/python3.9/site-packages (from scikit-learn->sentence-transformers) (1.2.0)\n",
      "Requirement already satisfied: threadpoolctl>=3.1.0 in /usr/local/lib/python3.9/site-packages (from scikit-learn->sentence-transformers) (3.1.0)\n",
      "Requirement already satisfied: MarkupSafe>=2.0 in /usr/local/lib/python3.9/site-packages (from jinja2->torch>=1.11.0->sentence-transformers) (2.1.1)\n",
      "Requirement already satisfied: charset-normalizer<4,>=2 in /usr/local/lib/python3.9/site-packages (from requests->huggingface-hub>=0.20.0->sentence-transformers) (3.1.0)\n",
      "Requirement already satisfied: idna<4,>=2.5 in /usr/local/lib/python3.9/site-packages (from requests->huggingface-hub>=0.20.0->sentence-transformers) (3.4)\n",
      "Requirement already satisfied: urllib3<1.27,>=1.21.1 in /usr/local/lib/python3.9/site-packages (from requests->huggingface-hub>=0.20.0->sentence-transformers) (1.26.15)\n",
      "Requirement already satisfied: certifi>=2017.4.17 in /usr/local/lib/python3.9/site-packages (from requests->huggingface-hub>=0.20.0->sentence-transformers) (2022.12.7)\n",
      "Requirement already satisfied: mpmath>=0.19 in /usr/local/lib/python3.9/site-packages (from sympy->torch>=1.11.0->sentence-transformers) (1.3.0)\n",
      "\u001b[33mWARNING: Error parsing dependencies of bleach: Expected matching RIGHT_PARENTHESIS for LEFT_PARENTHESIS, after version specifier\n",
      "    tinycss2 (>=1.1.0<1.2) ; extra == 'css'\n",
      "             ~~~~~~~~^\u001b[0m\u001b[33m\n",
      "\u001b[0m\u001b[33mDEPRECATION: Configuring installation scheme with distutils config files is deprecated and will no longer work in the near future. If you are using a Homebrew or Linuxbrew Python, please see discussion at https://github.com/Homebrew/homebrew-core/issues/76621\u001b[0m\u001b[33m\n",
      "\u001b[0mNote: you may need to restart the kernel to use updated packages.\n",
      "\u001b[33mDEPRECATION: Configuring installation scheme with distutils config files is deprecated and will no longer work in the near future. If you are using a Homebrew or Linuxbrew Python, please see discussion at https://github.com/Homebrew/homebrew-core/issues/76621\u001b[0m\u001b[33m\n",
      "\u001b[0mRequirement already satisfied: keybert in /usr/local/lib/python3.9/site-packages (0.8.5)\n",
      "Requirement already satisfied: numpy>=1.18.5 in /usr/local/lib/python3.9/site-packages (from keybert) (1.24.4)\n",
      "Requirement already satisfied: rich>=10.4.0 in /usr/local/lib/python3.9/site-packages (from keybert) (13.9.4)\n",
      "Requirement already satisfied: scikit-learn>=0.22.2 in /usr/local/lib/python3.9/site-packages (from keybert) (1.5.2)\n",
      "Requirement already satisfied: sentence-transformers>=0.3.8 in /usr/local/lib/python3.9/site-packages (from keybert) (3.3.1)\n",
      "Requirement already satisfied: markdown-it-py>=2.2.0 in /usr/local/lib/python3.9/site-packages (from rich>=10.4.0->keybert) (3.0.0)\n",
      "Requirement already satisfied: pygments<3.0.0,>=2.13.0 in /Users/amber/Library/Python/3.9/lib/python/site-packages (from rich>=10.4.0->keybert) (2.14.0)\n",
      "Requirement already satisfied: typing-extensions<5.0,>=4.0.0 in /usr/local/lib/python3.9/site-packages (from rich>=10.4.0->keybert) (4.12.2)\n",
      "Requirement already satisfied: scipy>=1.6.0 in /usr/local/lib/python3.9/site-packages (from scikit-learn>=0.22.2->keybert) (1.13.1)\n",
      "Requirement already satisfied: joblib>=1.2.0 in /usr/local/lib/python3.9/site-packages (from scikit-learn>=0.22.2->keybert) (1.2.0)\n",
      "Requirement already satisfied: threadpoolctl>=3.1.0 in /usr/local/lib/python3.9/site-packages (from scikit-learn>=0.22.2->keybert) (3.1.0)\n",
      "Requirement already satisfied: transformers<5.0.0,>=4.41.0 in /usr/local/lib/python3.9/site-packages (from sentence-transformers>=0.3.8->keybert) (4.48.1)\n",
      "Requirement already satisfied: tqdm in /usr/local/lib/python3.9/site-packages (from sentence-transformers>=0.3.8->keybert) (4.64.1)\n",
      "Requirement already satisfied: torch>=1.11.0 in /usr/local/lib/python3.9/site-packages (from sentence-transformers>=0.3.8->keybert) (2.0.1)\n",
      "Requirement already satisfied: huggingface-hub>=0.20.0 in /usr/local/lib/python3.9/site-packages (from sentence-transformers>=0.3.8->keybert) (0.27.1)\n",
      "Requirement already satisfied: Pillow in /usr/local/lib/python3.9/site-packages (from sentence-transformers>=0.3.8->keybert) (9.0.1)\n",
      "Requirement already satisfied: filelock in /usr/local/lib/python3.9/site-packages (from huggingface-hub>=0.20.0->sentence-transformers>=0.3.8->keybert) (3.12.4)\n",
      "Requirement already satisfied: fsspec>=2023.5.0 in /usr/local/lib/python3.9/site-packages (from huggingface-hub>=0.20.0->sentence-transformers>=0.3.8->keybert) (2024.12.0)\n",
      "Requirement already satisfied: packaging>=20.9 in /usr/local/lib/python3.9/site-packages (from huggingface-hub>=0.20.0->sentence-transformers>=0.3.8->keybert) (24.2)\n",
      "Requirement already satisfied: pyyaml>=5.1 in /usr/local/lib/python3.9/site-packages (from huggingface-hub>=0.20.0->sentence-transformers>=0.3.8->keybert) (6.0.1)\n",
      "Requirement already satisfied: requests in /usr/local/lib/python3.9/site-packages (from huggingface-hub>=0.20.0->sentence-transformers>=0.3.8->keybert) (2.28.2)\n",
      "Requirement already satisfied: mdurl~=0.1 in /usr/local/lib/python3.9/site-packages (from markdown-it-py>=2.2.0->rich>=10.4.0->keybert) (0.1.2)\n",
      "Requirement already satisfied: sympy in /usr/local/lib/python3.9/site-packages (from torch>=1.11.0->sentence-transformers>=0.3.8->keybert) (1.12)\n",
      "Requirement already satisfied: networkx in /usr/local/lib/python3.9/site-packages (from torch>=1.11.0->sentence-transformers>=0.3.8->keybert) (3.0)\n",
      "Requirement already satisfied: jinja2 in /usr/local/lib/python3.9/site-packages (from torch>=1.11.0->sentence-transformers>=0.3.8->keybert) (3.1.2)\n",
      "Requirement already satisfied: regex!=2019.12.17 in /usr/local/lib/python3.9/site-packages (from transformers<5.0.0,>=4.41.0->sentence-transformers>=0.3.8->keybert) (2022.10.31)\n",
      "Requirement already satisfied: tokenizers<0.22,>=0.21 in /usr/local/lib/python3.9/site-packages (from transformers<5.0.0,>=4.41.0->sentence-transformers>=0.3.8->keybert) (0.21.0)\n",
      "Requirement already satisfied: safetensors>=0.4.1 in /usr/local/lib/python3.9/site-packages (from transformers<5.0.0,>=4.41.0->sentence-transformers>=0.3.8->keybert) (0.5.2)\n",
      "Requirement already satisfied: MarkupSafe>=2.0 in /usr/local/lib/python3.9/site-packages (from jinja2->torch>=1.11.0->sentence-transformers>=0.3.8->keybert) (2.1.1)\n",
      "Requirement already satisfied: charset-normalizer<4,>=2 in /usr/local/lib/python3.9/site-packages (from requests->huggingface-hub>=0.20.0->sentence-transformers>=0.3.8->keybert) (3.1.0)\n",
      "Requirement already satisfied: idna<4,>=2.5 in /usr/local/lib/python3.9/site-packages (from requests->huggingface-hub>=0.20.0->sentence-transformers>=0.3.8->keybert) (3.4)\n",
      "Requirement already satisfied: urllib3<1.27,>=1.21.1 in /usr/local/lib/python3.9/site-packages (from requests->huggingface-hub>=0.20.0->sentence-transformers>=0.3.8->keybert) (1.26.15)\n",
      "Requirement already satisfied: certifi>=2017.4.17 in /usr/local/lib/python3.9/site-packages (from requests->huggingface-hub>=0.20.0->sentence-transformers>=0.3.8->keybert) (2022.12.7)\n",
      "Requirement already satisfied: mpmath>=0.19 in /usr/local/lib/python3.9/site-packages (from sympy->torch>=1.11.0->sentence-transformers>=0.3.8->keybert) (1.3.0)\n",
      "\u001b[33mWARNING: Error parsing dependencies of bleach: Expected matching RIGHT_PARENTHESIS for LEFT_PARENTHESIS, after version specifier\n",
      "    tinycss2 (>=1.1.0<1.2) ; extra == 'css'\n",
      "             ~~~~~~~~^\u001b[0m\u001b[33m\n",
      "\u001b[0m\u001b[33mDEPRECATION: Configuring installation scheme with distutils config files is deprecated and will no longer work in the near future. If you are using a Homebrew or Linuxbrew Python, please see discussion at https://github.com/Homebrew/homebrew-core/issues/76621\u001b[0m\u001b[33m\n",
      "\u001b[0mNote: you may need to restart the kernel to use updated packages.\n",
      "\u001b[33mDEPRECATION: Configuring installation scheme with distutils config files is deprecated and will no longer work in the near future. If you are using a Homebrew or Linuxbrew Python, please see discussion at https://github.com/Homebrew/homebrew-core/issues/76621\u001b[0m\u001b[33m\n",
      "\u001b[0mRequirement already satisfied: transformers in /usr/local/lib/python3.9/site-packages (4.48.1)\n",
      "Requirement already satisfied: sentence-transformers in /usr/local/lib/python3.9/site-packages (3.3.1)\n",
      "Requirement already satisfied: nltk in /usr/local/lib/python3.9/site-packages (3.7)\n",
      "Requirement already satisfied: filelock in /usr/local/lib/python3.9/site-packages (from transformers) (3.12.4)\n",
      "Requirement already satisfied: huggingface-hub<1.0,>=0.24.0 in /usr/local/lib/python3.9/site-packages (from transformers) (0.27.1)\n",
      "Requirement already satisfied: numpy>=1.17 in /usr/local/lib/python3.9/site-packages (from transformers) (1.24.4)\n",
      "Requirement already satisfied: packaging>=20.0 in /usr/local/lib/python3.9/site-packages (from transformers) (24.2)\n",
      "Requirement already satisfied: pyyaml>=5.1 in /usr/local/lib/python3.9/site-packages (from transformers) (6.0.1)\n",
      "Requirement already satisfied: regex!=2019.12.17 in /usr/local/lib/python3.9/site-packages (from transformers) (2022.10.31)\n",
      "Requirement already satisfied: requests in /usr/local/lib/python3.9/site-packages (from transformers) (2.28.2)\n",
      "Requirement already satisfied: tokenizers<0.22,>=0.21 in /usr/local/lib/python3.9/site-packages (from transformers) (0.21.0)\n",
      "Requirement already satisfied: safetensors>=0.4.1 in /usr/local/lib/python3.9/site-packages (from transformers) (0.5.2)\n",
      "Requirement already satisfied: tqdm>=4.27 in /usr/local/lib/python3.9/site-packages (from transformers) (4.64.1)\n",
      "Requirement already satisfied: torch>=1.11.0 in /usr/local/lib/python3.9/site-packages (from sentence-transformers) (2.0.1)\n",
      "Requirement already satisfied: scikit-learn in /usr/local/lib/python3.9/site-packages (from sentence-transformers) (1.5.2)\n",
      "Requirement already satisfied: scipy in /usr/local/lib/python3.9/site-packages (from sentence-transformers) (1.13.1)\n",
      "Requirement already satisfied: Pillow in /usr/local/lib/python3.9/site-packages (from sentence-transformers) (9.0.1)\n",
      "Requirement already satisfied: click in /usr/local/lib/python3.9/site-packages (from nltk) (8.1.3)\n",
      "Requirement already satisfied: joblib in /usr/local/lib/python3.9/site-packages (from nltk) (1.2.0)\n",
      "Requirement already satisfied: fsspec>=2023.5.0 in /usr/local/lib/python3.9/site-packages (from huggingface-hub<1.0,>=0.24.0->transformers) (2024.12.0)\n",
      "Requirement already satisfied: typing-extensions>=3.7.4.3 in /usr/local/lib/python3.9/site-packages (from huggingface-hub<1.0,>=0.24.0->transformers) (4.12.2)\n",
      "Requirement already satisfied: sympy in /usr/local/lib/python3.9/site-packages (from torch>=1.11.0->sentence-transformers) (1.12)\n",
      "Requirement already satisfied: networkx in /usr/local/lib/python3.9/site-packages (from torch>=1.11.0->sentence-transformers) (3.0)\n",
      "Requirement already satisfied: jinja2 in /usr/local/lib/python3.9/site-packages (from torch>=1.11.0->sentence-transformers) (3.1.2)\n",
      "Requirement already satisfied: charset-normalizer<4,>=2 in /usr/local/lib/python3.9/site-packages (from requests->transformers) (3.1.0)\n",
      "Requirement already satisfied: idna<4,>=2.5 in /usr/local/lib/python3.9/site-packages (from requests->transformers) (3.4)\n",
      "Requirement already satisfied: urllib3<1.27,>=1.21.1 in /usr/local/lib/python3.9/site-packages (from requests->transformers) (1.26.15)\n",
      "Requirement already satisfied: certifi>=2017.4.17 in /usr/local/lib/python3.9/site-packages (from requests->transformers) (2022.12.7)\n",
      "Requirement already satisfied: threadpoolctl>=3.1.0 in /usr/local/lib/python3.9/site-packages (from scikit-learn->sentence-transformers) (3.1.0)\n",
      "Requirement already satisfied: MarkupSafe>=2.0 in /usr/local/lib/python3.9/site-packages (from jinja2->torch>=1.11.0->sentence-transformers) (2.1.1)\n",
      "Requirement already satisfied: mpmath>=0.19 in /usr/local/lib/python3.9/site-packages (from sympy->torch>=1.11.0->sentence-transformers) (1.3.0)\n",
      "\u001b[33mWARNING: Error parsing dependencies of bleach: Expected matching RIGHT_PARENTHESIS for LEFT_PARENTHESIS, after version specifier\n",
      "    tinycss2 (>=1.1.0<1.2) ; extra == 'css'\n",
      "             ~~~~~~~~^\u001b[0m\u001b[33m\n",
      "\u001b[0m\u001b[33mDEPRECATION: Configuring installation scheme with distutils config files is deprecated and will no longer work in the near future. If you are using a Homebrew or Linuxbrew Python, please see discussion at https://github.com/Homebrew/homebrew-core/issues/76621\u001b[0m\u001b[33m\n",
      "\u001b[0mNote: you may need to restart the kernel to use updated packages.\n"
=======
      "3.9.21\n"
>>>>>>> 58cdc82 (final knowledge graph tinkering)
>>>>>>> b373de7 (final knowledge graph tinkering)
<<<<<<< HEAD
>>>>>>> f4a4989 (final knowledge graph tinkering)
<<<<<<< HEAD
>>>>>>> 88a56bc (final knowledge graph tinkering)
<<<<<<< HEAD
>>>>>>> 99e7eef (final knowledge graph tinkering)
=======
=======
=======
=======
      "3.9.21\n"
>>>>>>> 80e8ab8 (descriptions added per node for summarization)
>>>>>>> 3e2f682 (descriptions added per node for summarization)
<<<<<<< HEAD
>>>>>>> 1eceed3 (descriptions added per node for summarization)
<<<<<<< HEAD
>>>>>>> 34fa0c5 (descriptions added per node for summarization)
=======
=======
=======

      "3.9.21\n"

>>>>>>> 18b0f51 (fixes)
>>>>>>> a7fbca0 (fixes)
>>>>>>> 269354e (fixes)
     ]
    }
   ],
   "source": [
    "from platform import python_version\n",
<<<<<<< HEAD
    "\n",
    "print(python_version())\n",
    "\n",
<<<<<<< HEAD
<<<<<<< HEAD
<<<<<<< HEAD
<<<<<<< HEAD
=======
>>>>>>> 99e7eef (final knowledge graph tinkering)
=======
>>>>>>> 269354e (fixes)
=======
<<<<<<< HEAD
=======
<<<<<<< HEAD
<<<<<<< HEAD
>>>>>>> 7bb8422 (final knowledge graph tinkering)
=======
>>>>>>> 99e7eef (final knowledge graph tinkering)
    "%pip install langchain\n",
    "%pip install -U langchain-community\n",
    "%pip install pypdf\n",
    "%pip install spacy\n",
    "!python3.9 -m pip install spacy-llm\n",
    "!python3.9 -m spacy download en_core_web_sm\n",
    "%pip install scikit-learn\n",
    "%pip install -U sentence-transformers\n",
    "%pip install keybert\n",
    "%pip install transformers sentence-transformers nltk"
<<<<<<< HEAD
<<<<<<< HEAD
=======
=======
>>>>>>> 99e7eef (final knowledge graph tinkering)
=======
>>>>>>> b373de7 (final knowledge graph tinkering)
    "# %pip install langchain\n",
    "# %pip install -U langchain-community\n",
    "# %pip install pypdf\n",
    "# %pip install spacy\n",
    "# !python3.9 -m pip install spacy-llm\n",
<<<<<<< HEAD
<<<<<<< HEAD
<<<<<<< HEAD
<<<<<<< HEAD
=======
>>>>>>> 99e7eef (final knowledge graph tinkering)
=======
>>>>>>> 34fa0c5 (descriptions added per node for summarization)
    "# !python3.9 -m spacy download en_core_web_sm\n",
    "# %pip install scikit-learn\n",
    "# %pip install -U sentence-transformers\n",
    "# %pip install keybert\n",
    "# %pip install transformers sentence-transformers nltk\n"
=======
    "# !python3.9 -m spacy download en_core_web_sm"
>>>>>>> 58cdc82 (final knowledge graph tinkering)
>>>>>>> b373de7 (final knowledge graph tinkering)
<<<<<<< HEAD
<<<<<<< HEAD
<<<<<<< HEAD
>>>>>>> 7bb8422 (final knowledge graph tinkering)
=======
=======
    "# !python3.9 -m spacy download en_core_web_sm"
>>>>>>> 58cdc82 (final knowledge graph tinkering)
=======
    "# !python3.9 -m spacy download en_core_web_sm\n",
    "# %pip install scikit-learn\n",
    "# %pip install -U sentence-transformers\n",
    "# %pip install keybert\n",
    "# %pip install transformers sentence-transformers nltk\n"
>>>>>>> cca7142 (descriptions added per node for summarization)
>>>>>>> 80e8ab8 (descriptions added per node for summarization)
>>>>>>> 51eb27b (descriptions added per node for summarization)
=======
>>>>>>> b03de1a (fixes)
=======
>>>>>>> f4a4989 (final knowledge graph tinkering)
>>>>>>> 99e7eef (final knowledge graph tinkering)
=======
>>>>>>> f4a4989 (final knowledge graph tinkering)
=======
=======
    "# !python3.9 -m spacy download en_core_web_sm"
>>>>>>> 58cdc82 (final knowledge graph tinkering)
=======
    "# !python3.9 -m spacy download en_core_web_sm\n",
    "# %pip install scikit-learn\n",
    "# %pip install -U sentence-transformers\n",
    "# %pip install keybert\n",
    "# %pip install transformers sentence-transformers nltk\n"
>>>>>>> cca7142 (descriptions added per node for summarization)
>>>>>>> 80e8ab8 (descriptions added per node for summarization)
>>>>>>> 3e2f682 (descriptions added per node for summarization)
<<<<<<< HEAD
>>>>>>> 34fa0c5 (descriptions added per node for summarization)
=======
=======
>>>>>>> 18b0f51 (fixes)
>>>>>>> 269354e (fixes)
   ]
  },
  {
   "cell_type": "markdown",
   "metadata": {},
   "source": [
    "#### Document reading and split"
<<<<<<< HEAD
=======
    "\n",
    "print(python_version())\n",
    "\n",
    "%pip install langchain\n",
    "%pip install -U langchain-community\n",
    "%pip install pypdf\n",
    "%pip install spacy\n",
    "!python3.9 -m pip install spacy-llm\n",
    "!python3.9 -m spacy download en_core_web_sm\n",
    "%pip install scikit-learn\n",
    "%pip install -U sentence-transformers\n",
    "%pip install keybert\n",
    "%pip install transformers sentence-transformers nltk"
=======
>>>>>>> 4af650e (add first title)
   ]
  },
  {
   "cell_type": "markdown",
   "metadata": {},
   "source": [
    "#### Document reading and split"
   ]
  },
  {
   "cell_type": "code",
<<<<<<< HEAD
<<<<<<< HEAD
<<<<<<< HEAD

=======
<<<<<<< HEAD
>>>>>>> f4a4989 (final knowledge graph tinkering)
=======
<<<<<<< HEAD
>>>>>>> 3e2f682 (descriptions added per node for summarization)
=======

>>>>>>> 18b0f51 (fixes)
   "execution_count": 2,
=======
   "execution_count": 21,
>>>>>>> 58cdc82 (final knowledge graph tinkering)
<<<<<<< HEAD
<<<<<<< HEAD
=======
   "execution_count": 2,
>>>>>>> cca7142 (descriptions added per node for summarization)
=======
   "execution_count": 4,
>>>>>>> 7ffbc9e (final summary)
   "metadata": {},
   "outputs": [
    {
<<<<<<< HEAD
     "data": {
      "text/plain": [
       "str"
      ]
     },
     "execution_count": 2,
     "metadata": {},
     "output_type": "execute_result"
    }
   ],
   "source": [
    "import langchain\n",
    "from langchain.document_loaders import PyPDFLoader\n",
    "from langchain.docstore.document import Document\n",
    "import os\n",
    "\n",
    "# Directory containing your PDF files\n",
    "directory_path = 'TCs'\n",
    "\n",
    "# Initialize PyPDFLoader for each PDF in the directory\n",
    "loaders = [PyPDFLoader(os.path.join(directory_path, f)) for f in os.listdir(directory_path) if f.endswith('.pdf')]\n",
    "\n",
    "# Load documents from PDFs\n",
    "tc_docs = []\n",
    "for loader in loaders:\n",
    "    tc_docs.extend(loader.load())\n",
    "\n",
    "# Prepare the content and metadata for each news article as Document objects\n",
    "tc_data = [\n",
    "    Document(\n",
    "        page_content=doc.page_content,  # Assuming this is how you access the page content of the document\n",
    "        metadata={\n",
    "            \"source\": doc.metadata['source'].removeprefix('TCs'),  # Assuming this is the metadata format\n",
    "        }\n",
    "    )\n",
    "    for doc in tc_docs  # Assuming news_docs is a list of objects with page_content and metadata\n",
    "]\n",
    "\n",
    "data = tc_data[0].page_content\n",
    "# print(type(news_articles_data))\n",
    "\n",
    "page_contents = [doc.page_content for doc in tc_docs]\n",
    "combined = \"\".join(page_contents)\n",
    "type(combined)"
>>>>>>> 8510426 (Running notebook with UI)
   ]
  },
  {
   "cell_type": "code",
   "execution_count": 3,
   "metadata": {},
   "outputs": [
    {
<<<<<<< HEAD
<<<<<<< HEAD
     "data": {
      "text/plain": [
       "str"
      ]
     },
     "execution_count": 2,
     "metadata": {},
     "output_type": "execute_result"
=======
=======
=======
<<<<<<< HEAD
>>>>>>> f93dfe9 (final knowledge graph tinkering)
>>>>>>> 7bb8422 (final knowledge graph tinkering)
     "name": "stdout",
     "output_type": "stream",
     "text": [
<<<<<<< HEAD
<<<<<<< HEAD
      "Number of Apple-related documents: 17\n"
=======
      "150\n"
>>>>>>> 8510426 (Running notebook with UI)
=======
      "Number of Apple-related documents: 17\n"
>>>>>>> 4bff6fb (add first title)
     ]
<<<<<<< HEAD
>>>>>>> 590db99 (add first title)
=======
=======
     "data": {
      "text/plain": [
       "str"
      ]
     },
<<<<<<< HEAD
<<<<<<< HEAD
<<<<<<< HEAD
     "execution_count": 2,
=======
     "execution_count": 21,
>>>>>>> 58cdc82 (final knowledge graph tinkering)
=======
     "execution_count": 2,
>>>>>>> cca7142 (descriptions added per node for summarization)
=======
     "execution_count": 4,
>>>>>>> 7ffbc9e (final summary)
     "metadata": {},
     "output_type": "execute_result"
<<<<<<< HEAD
>>>>>>> b373de7 (final knowledge graph tinkering)
<<<<<<< HEAD
>>>>>>> 7bb8422 (final knowledge graph tinkering)
=======
=======
=======
   "execution_count": 107,
=======
   "execution_count": 2,
>>>>>>> 8a6ce70 (clean data and code)
=======
>>>>>>> f4a4989 (final knowledge graph tinkering)
=======
=======
   "execution_count": 2,
>>>>>>> cca7142 (descriptions added per node for summarization)
>>>>>>> 3e2f682 (descriptions added per node for summarization)
   "metadata": {},
   "outputs": [
    {
<<<<<<< HEAD
     "name": "stdout",
     "output_type": "stream",
     "text": [
      "Number of Apple-related documents: 17\n"
     ]
<<<<<<< HEAD
>>>>>>> 251d979 (bullet points first summary)
>>>>>>> b23acd2 (bullet points first summary)
<<<<<<< HEAD
>>>>>>> 466df5a (bullet points first summary)
=======
=======
=======
     "data": {
      "text/plain": [
       "str"
      ]
     },
<<<<<<< HEAD
<<<<<<< HEAD
     "execution_count": 2,
=======
     "execution_count": 21,
>>>>>>> 58cdc82 (final knowledge graph tinkering)
=======
     "execution_count": 2,
>>>>>>> cca7142 (descriptions added per node for summarization)
     "metadata": {},
     "output_type": "execute_result"
>>>>>>> b373de7 (final knowledge graph tinkering)
>>>>>>> f4a4989 (final knowledge graph tinkering)
>>>>>>> 99e7eef (final knowledge graph tinkering)
    }
   ],
   "source": [
<<<<<<< HEAD
    "import langchain\n",
    "from langchain.document_loaders import PyPDFLoader\n",
    "from langchain.docstore.document import Document\n",
    "import os\n",
    "\n",
    "# Directory containing your PDF files\n",
    "directory_path = 'TCs'\n",
    "\n",
    "# Initialize PyPDFLoader for each PDF in the directory\n",
    "loaders = [PyPDFLoader(os.path.join(directory_path, f)) for f in os.listdir(directory_path) if f.endswith('.pdf')]\n",
    "\n",
    "# Load documents from PDFs\n",
    "tc_docs = []\n",
    "for loader in loaders:\n",
    "    tc_docs.extend(loader.load())\n",
    "\n",
    "# Prepare the content and metadata for each news article as Document objects\n",
    "tc_data = [\n",
    "    Document(\n",
    "        page_content=doc.page_content,  # Assuming this is how you access the page content of the document\n",
    "        metadata={\n",
    "            \"source\": doc.metadata['source'].removeprefix('TCs'),  # Assuming this is the metadata format\n",
    "        }\n",
    "    )\n",
    "    for doc in tc_docs  # Assuming news_docs is a list of objects with page_content and metadata\n",
    "]\n",
    "\n",
<<<<<<< HEAD
<<<<<<< HEAD
<<<<<<< HEAD
<<<<<<< HEAD
<<<<<<< HEAD
<<<<<<< HEAD
    "data = tc_data[0].page_content\n",
    "# print(type(news_articles_data))\n",
=======
=======
>>>>>>> 51eb27b (descriptions added per node for summarization)
=======
>>>>>>> 466df5a (bullet points first summary)
=======
>>>>>>> ce673d1 (clean data and code)
=======
>>>>>>> 99e7eef (final knowledge graph tinkering)
<<<<<<< HEAD
=======
<<<<<<< HEAD
=======
>>>>>>> 3e2f682 (descriptions added per node for summarization)
>>>>>>> 34fa0c5 (descriptions added per node for summarization)
    "apple_docs = [doc for doc in tc_data if \"apple_macos_english\" in doc.metadata[\"source\"].lower()]\n",
=======
=======
>>>>>>> 80e8ab8 (descriptions added per node for summarization)
<<<<<<< HEAD
=======
>>>>>>> b23acd2 (bullet points first summary)
=======
>>>>>>> 42f5a18 (clean data and code)
=======
    "apple_docs = [doc for doc in tc_data if \"apple_macos_english\" in doc.metadata[\"source\"].lower()]\n",
=======
>>>>>>> f4a4989 (final knowledge graph tinkering)
=======
>>>>>>> 3e2f682 (descriptions added per node for summarization)
<<<<<<< HEAD
    "data = tc_data[0].page_content\n",
    "# print(type(news_articles_data))\n",
>>>>>>> b373de7 (final knowledge graph tinkering)
>>>>>>> 7bb8422 (final knowledge graph tinkering)
    "\n",
    "page_contents = [doc.page_content for doc in tc_docs]\n",
    "combined = \"\".join(page_contents)\n",
    "type(combined)"
   ]
  },
  {
   "cell_type": "code",
   "execution_count": 3,
   "metadata": {},
   "outputs": [
    {
     "name": "stdout",
     "output_type": "stream",
     "text": [
      "150\n"
     ]
    }
   ],
   "source": [
=======
>>>>>>> 8510426 (Running notebook with UI)
    "from langchain.text_splitter import RecursiveCharacterTextSplitter\n",
    "\n",
    "text_splitter = RecursiveCharacterTextSplitter(\n",
    "    chunk_size=500, chunk_overlap=60\n",
    ")\n",
    "# split_docs = text_splitter.split_text(data)\n",
<<<<<<< HEAD
    "split_docs = text_splitter.split_text(combined)\n",
    "print(len(split_docs))\n",
=======
<<<<<<< HEAD
    "split_docs_apple = text_splitter.split_text(combined_apple)\n",
    "print(len(split_docs_apple))\n",
=======
    "split_docs = text_splitter.split_text(combined)\n",
    "print(len(split_docs))\n",
>>>>>>> 8510426 (Running notebook with UI)
>>>>>>> de60678 (Running notebook with UI)
    "\n",
    "# function for functionality of pipeline\n",
    "def split_text(combined_text):\n",
    "    text_splitter = RecursiveCharacterTextSplitter(\n",
    "        chunk_size=500,\n",
    "        chunk_overlap=60\n",
    "    )\n",
    "    return text_splitter.split_text(combined_text)"
   ]
  },
  {
=======
    "data = news_articles_data[0].page_content\n",
    "type(news_articles_data[0])\n",
<<<<<<< HEAD
<<<<<<< HEAD
=======
>>>>>>> 3e2f682 (descriptions added per node for summarization)
=======
    "data = tc_data[0].page_content\n",
    "# print(type(news_articles_data))\n",
>>>>>>> cca7142 (descriptions added per node for summarization)
<<<<<<< HEAD
    "\n",
    "page_contents = [doc.page_content for doc in tc_docs]\n",
    "combined = \"\".join(page_contents) \n",
    "type(combined)"
=======
    "# Separate documents based on their source metadata\n",
=======
>>>>>>> 8a6ce70 (clean data and code)
    "apple_docs = [doc for doc in tc_data if \"apple_macos_english\" in doc.metadata[\"source\"].lower()]\n",
    "\n",
    "print(f\"Number of Apple-related documents: {len(apple_docs)}\")\n",
    "\n",
    "page_contents_apple = [doc.page_content for doc in apple_docs]\n",
    "\n",
<<<<<<< HEAD
    "combined_apple = \"\".join(page_contents_apple) \n",
    "combined_rstudio = \"\".join(page_contents_rstudio) \n"
>>>>>>> 251d979 (bullet points first summary)
=======
    "combined_apple = \"\".join(page_contents_apple) \n"
>>>>>>> 8a6ce70 (clean data and code)
=======
=======
>>>>>>> 3e2f682 (descriptions added per node for summarization)
    "\n",
    "page_contents = [doc.page_content for doc in tc_docs]\n",
    "combined = \"\".join(page_contents) \n",
    "type(combined)"
>>>>>>> f4a4989 (final knowledge graph tinkering)
   ]
  },
  {
   "cell_type": "code",
<<<<<<< HEAD
<<<<<<< HEAD
   "execution_count": 4,
=======
   "execution_count": 22,
>>>>>>> f4a4989 (final knowledge graph tinkering)
=======
   "execution_count": 39,
>>>>>>> 3e2f682 (descriptions added per node for summarization)
   "metadata": {},
   "outputs": [
    {
     "name": "stdout",
     "output_type": "stream",
     "text": [
<<<<<<< HEAD
<<<<<<< HEAD
      "Apple 150\n",
      "Rstudio 112\n"
=======
      "38\n"
>>>>>>> f4a4989 (final knowledge graph tinkering)
=======
      "150\n"
>>>>>>> 3e2f682 (descriptions added per node for summarization)
     ]
    }
   ],
   "source": [
    "from langchain.text_splitter import RecursiveCharacterTextSplitter\n",
    "\n",
    "text_splitter = RecursiveCharacterTextSplitter(\n",
<<<<<<< HEAD
<<<<<<< HEAD
    "    chunk_size=500, chunk_overlap=60\n",
    ")\n",
    "# split_docs = text_splitter.split_text(data)\n",
    "split_docs_apple = text_splitter.split_text(combined_apple)\n",
    "print(len(split_docs_apple))\n",
    "\n",
    "# function for functionality of pipeline\n",
    "def split_text(combined_text):\n",
    "    text_splitter = RecursiveCharacterTextSplitter(\n",
    "        chunk_size=500,\n",
    "        chunk_overlap=60\n",
    "    )\n",
    "    return text_splitter.split_text(combined_text)"
=======
    "    chunk_size=2000, chunk_overlap=200\n",
    ")\n",
    "# split_docs = text_splitter.split_text(data)\n",
    "split_docs = text_splitter.split_text(combined)\n",
    "print(len(split_docs))"
>>>>>>> f4a4989 (final knowledge graph tinkering)
=======
    "    chunk_size=500, chunk_overlap=60\n",
    ")\n",
    "# split_docs = text_splitter.split_text(data)\n",
    "split_docs = text_splitter.split_text(combined)\n",
    "print(len(split_docs))\n",
    "\n",
    "# function for functionality of pipeline\n",
    "def split_text(combined_text):\n",
    "    text_splitter = RecursiveCharacterTextSplitter(\n",
    "        chunk_size=500,\n",
    "        chunk_overlap=60\n",
    "    )\n",
    "    return text_splitter.split_text(combined_text)"
>>>>>>> 3e2f682 (descriptions added per node for summarization)
   ]
  },
  {
>>>>>>> 58cdc82 (final knowledge graph tinkering)
   "cell_type": "markdown",
   "metadata": {},
   "source": [
    "### Entity & Relationships"
   ]
  },
  {
   "cell_type": "code",
<<<<<<< HEAD
<<<<<<< HEAD
<<<<<<< HEAD
<<<<<<< HEAD
<<<<<<< HEAD
<<<<<<< HEAD
<<<<<<< HEAD
   "execution_count": 4,
=======
<<<<<<< HEAD
=======
   "execution_count": 28,
>>>>>>> 7bb8422 (final knowledge graph tinkering)
=======
=======
>>>>>>> 359fda0 (final summary)
=======
>>>>>>> 466df5a (bullet points first summary)
=======
>>>>>>> ce673d1 (clean data and code)
=======
>>>>>>> 99e7eef (final knowledge graph tinkering)
<<<<<<< HEAD
=======
<<<<<<< HEAD
=======
>>>>>>> 3e2f682 (descriptions added per node for summarization)
>>>>>>> 34fa0c5 (descriptions added per node for summarization)
=======
   "execution_count": 28,
=======
   "execution_count": 42,
>>>>>>> 80e8ab8 (descriptions added per node for summarization)
<<<<<<< HEAD
<<<<<<< HEAD
>>>>>>> 51eb27b (descriptions added per node for summarization)
=======
=======
>>>>>>> 34fa0c5 (descriptions added per node for summarization)
=======
   "execution_count": 6,
>>>>>>> ff425e9 (final summary)
<<<<<<< HEAD
>>>>>>> 359fda0 (final summary)
=======
=======
   "execution_count": 109,
>>>>>>> b23acd2 (bullet points first summary)
<<<<<<< HEAD
>>>>>>> 466df5a (bullet points first summary)
=======
=======
   "execution_count": 5,
>>>>>>> 42f5a18 (clean data and code)
<<<<<<< HEAD
>>>>>>> ce673d1 (clean data and code)
=======
=======
=======
   "execution_count": 28,
>>>>>>> f4a4989 (final knowledge graph tinkering)
<<<<<<< HEAD
>>>>>>> 99e7eef (final knowledge graph tinkering)
=======
=======
>>>>>>> 3e2f682 (descriptions added per node for summarization)
>>>>>>> 34fa0c5 (descriptions added per node for summarization)
   "metadata": {},
   "outputs": [],
   "source": [
    "import json\n",
    "with open('text_var.json', 'r') as f:\n",
    "    data = json.load(f)\n",
    "\n",
    "text_var = data['text_var']"
   ]
  },
  {
   "cell_type": "code",
<<<<<<< HEAD
=======
>>>>>>> b373de7 (final knowledge graph tinkering)
>>>>>>> 7bb8422 (final knowledge graph tinkering)
   "execution_count": 5,
   "metadata": {},
   "outputs": [],
   "source": [
    "import json\n",
    "with open('text_var.json', 'r') as f:\n",
    "    data = json.load(f)\n",
    "\n",
    "text_var = data['text_var']"
   ]
  },
  {
   "cell_type": "code",
   "execution_count": 5,
   "metadata": {},
   "outputs": [
    {
     "name": "stderr",
     "output_type": "stream",
     "text": [
      "/usr/local/lib/python3.9/site-packages/spacy_llm/pipeline/llm.py:143: UserWarning: Task supports sharding, but model does not provide context length. Data won't be sharded, prompt might exceed the model's context length. Set context length in your config. If you think spacy-llm should provide the context length for this model automatically, report this to https://github.com/explosion/spacy-llm/issues.\n",
      "  warnings.warn(\n"
     ]
    },
    {
     "name": "stdout",
     "output_type": "stream",
     "text": [
<<<<<<< HEAD
<<<<<<< HEAD
<<<<<<< HEAD
<<<<<<< HEAD
=======
>>>>>>> f4a4989 (final knowledge graph tinkering)
=======
>>>>>>> 3e2f682 (descriptions added per node for summarization)
      "Entity counts: Counter({'ORG': 263, 'GPE': 81, 'CARDINAL': 20, 'PERSON': 20,\n",
      "'ORDINAL': 17, 'LAW': 13, 'WORK_OF_ART': 10, 'PRODUCT': 1, 'DATE': 1, 'EVENT':\n",
      "1, 'TIME': 1})\n",
<<<<<<< HEAD
<<<<<<< HEAD
<<<<<<< HEAD
<<<<<<< HEAD
<<<<<<< HEAD
<<<<<<< HEAD
      "Relation counts: Counter({'adjacent': 43, 'associated_with': 16, 'related_to':\n",
      "11, 'affiliation': 9, 'defined_in': 6, 'operates_on': 5, 'RELATED_TO': 5,\n",
      "'governed_by': 4, 'governs': 4, 'responsible_for': 4, 'enable_access': 4,\n",
      "'affiliated_with': 4, 'self': 4, 'provided_by': 3, 'is_licensed_by': 3,\n",
      "'licensed_by': 3, 'ASSOCIATED_WITH': 3, 'authorized_by': 3, 'OWNED_BY': 2,\n",
      "'part_of': 2, 'quantity': 2, 'PRODUCT_OF': 2, 'content_of': 2, 'implemented_by':\n",
      "2, 'displayed_on': 2, 'MODIFIER_OF': 2, 'no_relation': 2, 'assist': 2,\n",
      "'has_attribute': 2, 'PART_OF': 2, 'same_entity': 2, 'included_with': 2,\n",
      "'LOCATION': 2, 'same_as': 2, 'is_feature_of': 2, 'compatible_with': 2,\n",
      "'return_policy': 1, 'LICENSED_FROM': 1, 'subject_to': 1, 'owned_by': 1,\n",
      "'run_on': 1, 'supported_on': 1, 'WORKS_FOR': 1, 'ALIAS_OF': 1, 'feature_of': 1,\n",
      "'software_of': 1, 'runs_on': 1, 'branded_as': 1, 'FOR': 1,\n",
      "'require_authentication_with': 1, 'delivered_through': 1, 'govern': 1,\n",
      "'rights_of': 1, 'is_software_of': 1, 'is_branded_as': 1, 'equivalent': 1,\n",
      "'prohibition_on': 1, 'QUANTITY_OF': 1, 'transfer_from': 1, 'transfer_to': 1,\n",
      "'MAKES_AVAILABLE': 1, 'affects': 1, 'alias_of': 1, 'USES': 1, 'BOUND_BY': 1,\n",
      "'INSTALLED_ON': 1, 'subject_of': 1, 'mentioned_in': 1, 'notice_from': 1,\n",
      "'provision_tool_for': 1, 'access_to': 1, 'ORG_AFFILIATION': 1, 'license_from':\n",
      "1, 'distribution_medium': 1, 'transfer_with': 1, 'include': 1,\n",
      "'update_version_of': 1, 'product_of': 1, 'Information_Sent_To': 1,\n",
      "'SAME_ENTITY': 1, 'is_part_of': 1, 'is_equivalent_to': 1, 'INVOLVES': 1,\n",
      "'Location_of': 1, 'ORG_OF': 1, 'SAME': 1, 'ATTRIBUTE': 1, 'COMPATIBLE_WITH': 1,\n",
      "'AFFILIATION': 1, 'legislation_applies_to': 1, 'ORG-LOCATED_IN': 1,\n",
      "'licensed_to': 1, 'ORG_BASED_IN': 1, 'provides_license_for': 1, 'contains': 1,\n",
      "'require_consent_from': 1, 'distributed_with': 1, 'available_from': 1, 'same':\n",
      "1, 'USED_WITH': 1, 'account_of': 1, 'requires': 1, 'incompatible_with': 1,\n",
      "'applicable_to': 1, 'involved_with': 1, 'DISCLAIMS_LIABILITY_FOR': 1,\n",
      "'used_with': 1, 'affiliate_of': 1})\n"
=======
=======
>>>>>>> de60678 (Running notebook with UI)
=======
>>>>>>> 7bb8422 (final knowledge graph tinkering)
=======
>>>>>>> 466df5a (bullet points first summary)
=======
>>>>>>> ce673d1 (clean data and code)
=======
>>>>>>> 99e7eef (final knowledge graph tinkering)
      "Relation counts: Counter({'is located in': 43, 'is a country in': 27, 'uses':\n",
      "20, 'related_to': 20, 'provides': 16, 'includes': 10, 'runs_on': 9, 'is_a': 7,\n",
      "'refers_to': 6, 'affiliated_with': 5, 'has access to': 5, 'supports': 4,\n",
      "'related to': 3, 'licensed_by': 3, 'runs': 3, 'included_with': 3,\n",
      "'associated_with': 3, 'governs': 2, 'affects': 2, 'is part of': 2, 'owned_by':\n",
      "2, 'does not endorse': 2, 'is a type of': 2, 'maintains': 2, 'owns': 1,\n",
      "'accompanied by': 1, 'competes_with': 1, 'obtained_from': 1, 'subject to': 1,\n",
      "'set forth in': 1, 'produces': 1, 'ownership': 1, 'supported_on': 1,\n",
      "'branded_by': 1, 'downloads': 1, 'delivers': 1, 'is_related_to': 1, 'enables':\n",
      "1, 'authorizes': 1, 'involves': 1, 'governed_by': 1, 'has_rights_over': 1,\n",
      "'license_for': 1, 'controls': 1, 'prohibits': 1, 'restricts': 1, 'transfers\n",
      "software to': 1, 'compatible_with': 1, 'offers': 1, 'provides support for': 1,\n",
      "'modification of': 1, 'part of': 1, 'checks_with': 1, 'leases': 1,\n",
      "'installed_on': 1, 'defines': 1, 'subleasing': 1, 'complies_with': 1,\n",
      "'agrees_to': 1, 'assists': 1, 'notifies': 1, 'terminates': 1, 'is_instance_of':\n",
      "1, 'responsibility': 1, 'licensed_from': 1, 'provided_by': 1,\n",
      "'transferred_with': 1, 'provides_update': 1, 'brand': 1, 'enables access to': 1,\n",
      "'cease_use_of': 1, 'disclaims': 1, 'authorized representative of': 1, 'applies\n",
      "to': 1, 'perpetrates': 1, 'authorized by': 1, 'obtained under': 1, 'licensed\n",
      "to': 1, 'located_in': 1, 'licensed under': 1, 'licensed by': 1, 'compliance\n",
      "with': 1, 'contains': 1, 'consent': 1, 'not liable': 1,\n",
      "'no_obligation_to_support': 1, 'distributed_with': 1, 'available_from': 1,\n",
      "'stored_in': 1, 'licensed_to': 1, 'is_feature_of': 1, 'is_type_of': 1, 'is\n",
      "provided by': 1, 'requires': 1, 'applies_to': 1, 'contracts_with': 1, 'not a\n",
      "party to agreement': 1})\n"
<<<<<<< HEAD
>>>>>>> 0e81b9d (final clean code)
=======
=======
=======
>>>>>>> c23e0bf (bullet points first summary)
=======
>>>>>>> b282914 (clean data and code)
=======
=======
>>>>>>> f4a4989 (final knowledge graph tinkering)
>>>>>>> 88a56bc (final knowledge graph tinkering)
      "Relation counts: Counter({'is in': 43, 'is a country in': 27, 'related_to': 20,\n",
      "'uses': 17, 'provides': 12, 'includes': 10, 'runs_on': 8, 'is_a': 7,\n",
      "'refers_to': 6, 'affiliated_with': 5, 'has access to': 5, 'supports': 4, 'is a\n",
      "type of': 4, 'included_with': 4, 'governs': 3, 'involves': 3, 'associated_with':\n",
      "3, 'obtained_from': 2, 'branded_by': 2, 'licensed_by': 2, 'provides_access_to':\n",
      "2, 'requires': 2, 'does not endorse': 2, 'provides_service': 2, 'governed by':\n",
      "2, 'maintains': 2, 'owns': 1, 'subject to': 1, 'set forth in': 1, 'related to':\n",
      "1, 'produces': 1, 'owned_by': 1, 'supported_on': 1, 'is_part_of': 1,\n",
      "'downloads': 1, 'runs': 1, 'delivers': 1, 'is_related_to': 1, 'enables': 1,\n",
      "'has_license': 1, 'grants_rights': 1, 'has_rights_over': 1, 'interferes_with':\n",
      "1, 'branded_as': 1, 'is_same_as': 1, 'is_a_part_of': 1, 'prohibits': 1,\n",
      "'brand_association': 1, 'transfers software to': 1, 'is compatible with': 1,\n",
      "'affects usability of': 1, 'available_on': 1, 'part_of': 1, 'modifies': 1,\n",
      "'modification of': 1, 'part of': 1, 'is part of': 1, 'checks_with': 1, 'is a\n",
      "subsidiary of': 1, 'leases': 1, 'used by': 1, 'installed on': 1, 'defines': 1,\n",
      "'subleases': 1, 'complies_with': 1, 'agrees_to': 1, 'enforces_compliance': 1,\n",
      "'license_terms': 1, 'use_of': 1, 'notice_of_breach': 1, 'regulates': 1,\n",
      "'references': 1, 'responsibility': 1, 'licensed_from': 1, 'provided_by': 1,\n",
      "'transferred_with': 1, 'provides_update': 1, 'brand': 1, 'enables access to': 1,\n",
      "'owned by': 1, 'cease_use': 1, 'affects': 1, 'disclaims': 1, 'compatible_with':\n",
      "1, 'authorized representative of': 1, 'applies to': 1, 'is subject to': 1,\n",
      "'licensed to': 1, 'located_in': 1, 'licensed under': 1, 'licensed by': 1,\n",
      "'compliance with': 1, 'contains': 1, 'consent_required': 1, 'not liable': 1,\n",
      "'under_obligation': 1, 'distributed_with': 1, 'available_from': 1,\n",
      "'licensed_to': 1, 'is_feature_of': 1, 'is_type_of': 1, 'in_good_standing_with':\n",
      "1, 'applies_to': 1, 'disclaims liability': 1})\n"
>>>>>>> f93dfe9 (final knowledge graph tinkering)
=======
<<<<<<< HEAD
=======
>>>>>>> b23acd2 (bullet points first summary)
=======
>>>>>>> 42f5a18 (clean data and code)
=======
>>>>>>> f4a4989 (final knowledge graph tinkering)
      "Relation counts: Counter({'adjacent': 43, 'associated_with': 16, 'related_to':\n",
      "11, 'affiliation': 9, 'defined_in': 6, 'operates_on': 5, 'RELATED_TO': 5,\n",
      "'governed_by': 4, 'governs': 4, 'responsible_for': 4, 'enable_access': 4,\n",
      "'affiliated_with': 4, 'self': 4, 'provided_by': 3, 'is_licensed_by': 3,\n",
      "'licensed_by': 3, 'ASSOCIATED_WITH': 3, 'authorized_by': 3, 'OWNED_BY': 2,\n",
      "'part_of': 2, 'quantity': 2, 'PRODUCT_OF': 2, 'content_of': 2, 'implemented_by':\n",
      "2, 'displayed_on': 2, 'MODIFIER_OF': 2, 'no_relation': 2, 'assist': 2,\n",
      "'has_attribute': 2, 'PART_OF': 2, 'same_entity': 2, 'included_with': 2,\n",
      "'LOCATION': 2, 'same_as': 2, 'is_feature_of': 2, 'compatible_with': 2,\n",
      "'return_policy': 1, 'LICENSED_FROM': 1, 'subject_to': 1, 'owned_by': 1,\n",
      "'run_on': 1, 'supported_on': 1, 'WORKS_FOR': 1, 'ALIAS_OF': 1, 'feature_of': 1,\n",
      "'software_of': 1, 'runs_on': 1, 'branded_as': 1, 'FOR': 1,\n",
      "'require_authentication_with': 1, 'delivered_through': 1, 'govern': 1,\n",
      "'rights_of': 1, 'is_software_of': 1, 'is_branded_as': 1, 'equivalent': 1,\n",
      "'prohibition_on': 1, 'QUANTITY_OF': 1, 'transfer_from': 1, 'transfer_to': 1,\n",
      "'MAKES_AVAILABLE': 1, 'affects': 1, 'alias_of': 1, 'USES': 1, 'BOUND_BY': 1,\n",
      "'INSTALLED_ON': 1, 'subject_of': 1, 'mentioned_in': 1, 'notice_from': 1,\n",
      "'provision_tool_for': 1, 'access_to': 1, 'ORG_AFFILIATION': 1, 'license_from':\n",
      "1, 'distribution_medium': 1, 'transfer_with': 1, 'include': 1,\n",
      "'update_version_of': 1, 'product_of': 1, 'Information_Sent_To': 1,\n",
      "'SAME_ENTITY': 1, 'is_part_of': 1, 'is_equivalent_to': 1, 'INVOLVES': 1,\n",
      "'Location_of': 1, 'ORG_OF': 1, 'SAME': 1, 'ATTRIBUTE': 1, 'COMPATIBLE_WITH': 1,\n",
      "'AFFILIATION': 1, 'legislation_applies_to': 1, 'ORG-LOCATED_IN': 1,\n",
      "'licensed_to': 1, 'ORG_BASED_IN': 1, 'provides_license_for': 1, 'contains': 1,\n",
      "'require_consent_from': 1, 'distributed_with': 1, 'available_from': 1, 'same':\n",
      "1, 'USED_WITH': 1, 'account_of': 1, 'requires': 1, 'incompatible_with': 1,\n",
      "'applicable_to': 1, 'involved_with': 1, 'DISCLAIMS_LIABILITY_FOR': 1,\n",
      "'used_with': 1, 'affiliate_of': 1})\n"
<<<<<<< HEAD
>>>>>>> 8510426 (Running notebook with UI)
<<<<<<< HEAD
>>>>>>> de60678 (Running notebook with UI)
=======
=======
=======
      "Text: ENGLISH[ENT0:NORP] APPLE INC.[ENT1:ORG] SOFTWARE LICENSE AGREEMENT FOR\n",
      "macOS Sequoia[ENT2:PERSON] For use on Apple[ENT3:ORG]-branded Systems PLEASE\n",
      "READ THIS SOFTWARE LICENSE AGREEMENT (“LICENSE”) CAREFULLY BEFORE  USING THE\n",
      "APPLE SOFTWARE.  BY USING THE APPLE SOFTWARE, YOU ARE AGREEING TO BE  BOUND BY\n",
      "THE TERMS OF THIS LICENSE.  IF YOU DO NOT AGREE TO THE TERMS OF THIS  LICENSE,\n",
      "DO NOT INSTALL AND/OR USE THE APPLE SOFTWARE AND, IF PRESENTED WITH  THE OPTION\n",
      "TO “AGREE” OR “DISAGREE[ENT4:WORK_OF_ART]” TO THE TERMS, CLICK\n",
      "“DISAGREE[ENT5:WORK_OF_ART]”. IF YOU  ACQUIRED THE APPLE SOFTWARE AS PART OF AN\n",
      "APPLE HARDWARE PURCHASE AND IF YOU  DO NOT AGREE TO THE TERMS OF THIS LICENSE,\n",
      "YOU MAY RETURN THE ENTIRE APPLE  HARDWARE/SOFTWARE PACKAGE WITHIN THE RETURN\n",
      "PERIOD TO THE APPLE STORE OR  AUTHORIZED DISTRIBUTOR WHERE YOU OBTAINED IT FOR A\n",
      "REFUND, SUBJECT TO APPLE[ENT6:ORG]’S  RETURN POLICY FOUND AT\n",
      "https://www.apple.com/legal/sales-support/. YOU MUST RETURN  THE ENTIRE\n",
      "HARDWARE/SOFTWARE PACKAGE IN[ENT7:ORG] ORDER TO OBTAIN A REFUND. IMPORTANT NOTE:\n",
      "To the extent that this software may be used to reproduce, modify, publish or\n",
      "distribute materials, it is licensed to you only for reproduction, modiﬁcation,\n",
      "publication and  distribution of non-copyrighted materials, materials in which\n",
      "you own the copyright, or materials  you are authorized or legally permitted to\n",
      "reproduce, modify, publish or distribute. If you are  uncertain about your right\n",
      "to copy, modify, publish or distribute any material, you should contact  your\n",
      "legal advisor. 1[ENT8:CARDINAL]. General. A. The Apple[ENT9:ORG] software\n",
      "(including Boot ROM[ENT10:PERSON] code), any third[ENT11:ORDINAL] party\n",
      "software, documentation, interfaces,  content, fonts and any data accompanying\n",
      "this License (“Original Apple Software”), as may be updated  or replaced by\n",
      "feature enhancements, software updates, security responses, system ﬁles, or\n",
      "system  restore software provided by Apple[ENT12:ORG] for your\n",
      "Apple[ENT13:ORG]-branded computer or supported peripheral device  (“Apple\n",
      "Software Changes”), whether preinstalled on Apple[ENT14:ORG]-branded hardware,\n",
      "on internal storage, on\n",
      "Entities: [('ENGLISH', 'NORP'), ('APPLE INC.', 'ORG'), ('macOS Sequoia',\n",
      "'PERSON'), ('Apple', 'ORG'), ('DISAGREE', 'WORK_OF_ART'), ('DISAGREE',\n",
      "'WORK_OF_ART'), ('APPLE', 'ORG'), ('THE ENTIRE HARDWARE/SOFTWARE PACKAGE IN',\n",
      "'ORG'), ('1', 'CARDINAL'), ('Apple', 'ORG'), ('Boot ROM', 'PERSON'), ('third',\n",
      "'ORDINAL'), ('Apple', 'ORG'), ('Apple', 'ORG'), ('Apple', 'ORG')]\n",
      "Relations:\n",
      "  - APPLE INC. [produced_by] Apple\n",
      "  - APPLE INC. [produced_by] APPLE\n",
      "  - APPLE INC. [produced_by] Apple\n",
      "  - APPLE INC. [produced_by] Apple\n",
      "  - APPLE INC. [produced_by] Apple\n",
      "  - macOS Sequoia [contains] DISAGREE\n",
      "  - macOS Sequoia [contains] DISAGREE\n",
      "  - Boot ROM [related_to] APPLE INC.\n",
      "Text: restore software provided by Apple[ENT0:ORG] for your\n",
      "Apple[ENT1:ORG]-branded computer or supported peripheral device  (“Apple\n",
      "Software Changes”), whether preinstalled on Apple[ENT2:ORG]-branded hardware, on\n",
      "internal storage, on  removable media, on disk, in read only memory, on any\n",
      "other media or in any other form (the Original  Apple Software[ENT3:ORG] and\n",
      "Apple Software Changes[ENT4:ORG] are collectively referred to as the “Apple\n",
      "Software[ENT5:ORG]”), are  licensed, not sold, to you by Apple Inc.[ENT6:ORG]\n",
      "(“Apple[ENT7:ORG]”) for use only under the terms of this License[ENT8:ORG].\n",
      "Apple[ENT9:ORG] and/ or Apple[ENT10:ORG]’s licensors retain ownership of the\n",
      "Apple Software[ENT11:ORG] itself and reserve all rights not expressly  granted\n",
      "to you. You agree that the terms of this License[ENT12:ORG] will apply to any\n",
      "Apple[ENT13:ORG]-branded application  software product that may be preinstalled\n",
      "on your Apple[ENT14:ORG]-branded hardware, unless such product is  accompanied\n",
      "by a separate license, in which case you agree that the terms of that license\n",
      "will govern  your use of that product. B. Apple[ENT15:ORG], at its discretion,\n",
      "may make available future Apple Software Changes[ENT16:ORG]. Apple Software\n",
      "Changes[ENT17:ORG], if any, may not necessarily include all existing software\n",
      "features or new features that Apple[ENT18:ORG]  releases for newer or other\n",
      "models of Apple[ENT19:ORG]-branded computers. The terms of this\n",
      "License[ENT20:ORG] will govern  any Apple Software Changes[ENT21:ORG] provided\n",
      "by Apple[ENT22:ORG], unless such Apple Software Changes[ENT23:ORG] are\n",
      "accompanied  by a separate license, in which case the terms of that license will\n",
      "govern. C. Title[ENT24:ORG] and intellectual property rights in and to any\n",
      "content displayed by or accessed through the Apple[ENT25:ORG]  Software belongs\n",
      "to the respective content owner. Such content may be protected by copyright or\n",
      "other  intellectual property laws and treaties, and may be subject to terms of\n",
      "use of the third[ENT26:ORDINAL] party providing  such content. Except as\n",
      "otherwise provided herein, this License[ENT27:ORG] does not grant you any rights\n",
      "to use\n",
      "Entities: [('Apple', 'ORG'), ('Apple', 'ORG'), ('Apple', 'ORG'), ('the Original\n",
      "\\nApple Software', 'ORG'), ('Apple Software Changes', 'ORG'), ('the “Apple\n",
      "Software', 'ORG'), ('Apple Inc.', 'ORG'), ('Apple', 'ORG'), ('License', 'ORG'),\n",
      "('Apple', 'ORG'), ('Apple', 'ORG'), ('the Apple Software', 'ORG'), ('License',\n",
      "'ORG'), ('Apple', 'ORG'), ('Apple', 'ORG'), ('B. Apple', 'ORG'), ('Apple\n",
      "Software Changes', 'ORG'), ('Apple Software \\nChanges', 'ORG'), ('Apple',\n",
      "'ORG'), ('Apple', 'ORG'), ('License', 'ORG'), ('Apple Software Changes', 'ORG'),\n",
      "('Apple', 'ORG'), ('Apple Software Changes', 'ORG'), ('C. Title', 'ORG'),\n",
      "('Apple', 'ORG'), ('third', 'ORDINAL'), ('License', 'ORG')]\n",
      "Relations:\n",
      "  - Apple [provides] Apple\n",
      "  - Apple [is branded for] Apple\n",
      "  - Apple [includes] the Original  Apple Software\n",
      "  - the Original  Apple Software [is part of] Apple Software Changes\n",
      "  - Apple Software Changes [is collectively referred to as] the “Apple Software\n",
      "  - the “Apple Software [is licensed by] Apple Inc.\n",
      "  - Apple Inc. [is also known as] Apple\n",
      "  - License [governs] License\n",
      "  - Apple [retains ownership of] Apple\n",
      "  - the Apple Software [is subject to] License\n",
      "  - B. Apple [may provide] Apple Software Changes\n",
      "  - Apple Software  Changes [may not include] Apple\n",
      "  - License [governs] Apple Software Changes\n",
      "  - Apple [is provided by] third\n",
      "  - License [does not grant rights to] C. Title\n",
      "Text: such content. Except as otherwise provided herein, this License[ENT0:ORG]\n",
      "does not grant you any rights to use  such content nor does it guarantee that\n",
      "such content will continue to be available to you. You are prohibited from\n",
      "republishing, retransmitting or reproducing any images accessed through News or\n",
      "Maps  as a stand-alone ﬁle. 2[ENT1:CARDINAL]. Permitted License Uses and\n",
      "Restrictions. A. Preinstalled and Single-Copy Apple Software License. Subject to\n",
      "the terms and conditions of this  License, unless you obtained the Apple\n",
      "Software[ENT2:ORG] from the Mac App Store[ENT3:WORK_OF_ART], through an\n",
      "automatic  download or under a volume license, maintenance or other written\n",
      "agreement from Apple[ENT4:ORG], you are  granted a limited, non-exclusive\n",
      "license to install, use and run one[ENT5:CARDINAL] (1[ENT6:CARDINAL]) copy of\n",
      "the Apple Software[ENT7:ORG] on a  single Apple[ENT8:ORG]-branded computer at\n",
      "any one[ENT9:CARDINAL] time. For example, these single-copy license terms apply\n",
      "to  you if you obtained the Apple Software[ENT10:ORG] preinstalled on\n",
      "Apple[ENT11:ORG]-branded hardware. B. Mac App Store License[ENT12:ORG]. If you\n",
      "obtained a license for the Apple Software[ENT13:ORG] from the Mac App\n",
      "Store[ENT14:WORK_OF_ART] or  through an automatic download, then subject to the\n",
      "terms and conditions of this License[ENT15:ORG] and as  permitted by the\n",
      "Services and Content Usage Rules[ENT16:ORG] set forth in the Apple Media\n",
      "Services[ENT17:ORG] Terms and  Conditions\n",
      "(https://www.apple.com/legal/internet-services/itunes/) (“Usage Rules”), you are\n",
      "granted a  limited, non-transferable, non-exclusive license: (i) to download,\n",
      "install, use and run for personal, non-commercial use, one[ENT18:CARDINAL]\n",
      "(1[ENT19:CARDINAL]) copy of the Apple  Software[ENT20:ORG] directly on each\n",
      "Apple[ENT21:ORG]-branded computer running macOS Sonoma[ENT22:GPE], macOS\n",
      "Ventura[ENT23:GPE],  macOS Monterey[ENT24:PERSON], macOS Big Sur, macOS\n",
      "Catalina, macOS Mojave[ENT25:PERSON], or macOS High Sierra[ENT26:ORG]   (“Mac\n",
      "Computer[ENT27:WORK_OF_ART]”) that you own or control; (ii) If you are a\n",
      "commercial enterprise or educational institution, to download, install, use and\n",
      "run  one[ENT28:CARDINAL] (1[ENT29:CARDINAL]) copy of the Apple\n",
      "Software[ENT30:ORG] for use either: (a) by a single individual on each of the\n",
      "Mac[ENT31:PERSON]\n",
      "Entities: [('License', 'ORG'), ('2', 'CARDINAL'), ('the Apple Software', 'ORG'),\n",
      "('Mac App Store', 'WORK_OF_ART'), ('Apple', 'ORG'), ('one', 'CARDINAL'), ('1',\n",
      "'CARDINAL'), ('the Apple Software', 'ORG'), ('Apple', 'ORG'), ('one',\n",
      "'CARDINAL'), ('the Apple Software', 'ORG'), ('Apple', 'ORG'), ('B. Mac App Store\n",
      "License', 'ORG'), ('the Apple Software', 'ORG'), ('Mac App Store',\n",
      "'WORK_OF_ART'), ('License', 'ORG'), ('the Services and Content Usage Rules',\n",
      "'ORG'), ('the Apple Media Services', 'ORG'), ('one', 'CARDINAL'), ('1',\n",
      "'CARDINAL'), ('the Apple \\nSoftware', 'ORG'), ('Apple', 'ORG'), ('Sonoma',\n",
      "'GPE'), ('Ventura', 'GPE'), ('macOS Monterey', 'PERSON'), ('macOS Mojave',\n",
      "'PERSON'), ('macOS High Sierra', 'ORG'), ('Mac Computer', 'WORK_OF_ART'),\n",
      "('one', 'CARDINAL'), ('1', 'CARDINAL'), ('the Apple Software', 'ORG'), ('Mac',\n",
      "'PERSON')]\n",
      "Relations:\n",
      "  - License [grants_license] License\n",
      "  - the Apple Software [obtained_from] Apple\n",
      "  - Mac App Store [related_to] Mac App Store\n",
      "  - Apple [related_to] Apple\n",
      "  - the Apple Software [related_to] the Apple  Software\n",
      "  - B. Mac App Store License [related_to] the Services and Content Usage Rules\n",
      "  - the Apple Media Services [related_to] Sonoma\n",
      "  - Apple [related_to] Mac Computer\n",
      "Text: one[ENT0:CARDINAL] (1[ENT1:CARDINAL]) copy of the Apple Software[ENT2:ORG]\n",
      "for use either: (a) by a single individual on each of the Mac  Computer(s) that\n",
      "you own or control, or (b) by multiple individuals on a single shared Mac\n",
      "Computer[ENT3:ORG] that you own or control. For example, a single employee may\n",
      "use the Apple Software[ENT4:ORG]  on both the employee’s desktop Mac\n",
      "Computer[ENT5:ORG] and laptop Mac Computer[ENT6:ORG], or multiple students  may\n",
      "serially use the Apple Software[ENT7:ORG] on a single Mac Computer[ENT8:ORG]\n",
      "located at a resource center or  library; and  (iii) to install, use and run up\n",
      "to two[ENT9:CARDINAL] (2[ENT10:CARDINAL]) additional copies or instances of the\n",
      "Apple Software[ENT11:ORG], or  any prior macOS or OS X operating system software\n",
      "or subsequent release of the Apple  Software[ENT12:ORG], within virtual\n",
      "operating system environments on each Apple[ENT13:ORG]-branded computer you  own\n",
      "or control that is already running the Apple Software[ENT14:ORG], for purposes\n",
      "of: (a) software  development; (b) testing during software development; (c)\n",
      "using macOS Server; or (d) personal,  non-commercial use. Except as expressly\n",
      "permitted in Section 3[ENT15:LAW], the grant set forth in Section\n",
      "2B(iii[ENT16:LAW]) above does not permit  you to use the virtualized copies or\n",
      "instances of the Apple Software[ENT17:ORG] in connection with service bureau,\n",
      "time-sharing, terminal sharing, relay service or other similar types of\n",
      "services. Except as expressly  permitted in this Section 2B[ENT18:LAW], you may\n",
      "not use the Apple Software[ENT19:ORG] to run any Apple[ENT20:ORG] operating\n",
      "system  software, including iOS, iPadOS, watchOS or tvOS, in virtual operating\n",
      "system environments on Mac  Computer(s). C. Volume[ENT21:ORG] or Maintenance\n",
      "License[ENT22:ORG]. If you obtained the Apple Software[ENT23:ORG] under a volume\n",
      "or maintenance  license program with Apple[ENT24:ORG], the terms of your volume\n",
      "or maintenance license will determine the number  of copies of the Apple\n",
      "Software[ENT25:ORG] you are permitted to download, install, use and run on\n",
      "Apple[ENT26:ORG]-branded  computers you own or control.  Except as agreed to in\n",
      "writing by Apple[ENT27:ORG], all other terms and conditions\n",
      "Entities: [('one', 'CARDINAL'), ('1', 'CARDINAL'), ('the Apple Software',\n",
      "'ORG'), ('Mac \\nComputer', 'ORG'), ('Apple Software', 'ORG'), ('Mac Computer',\n",
      "'ORG'), ('Mac Computer', 'ORG'), ('the Apple Software', 'ORG'), ('Mac Computer',\n",
      "'ORG'), ('up to two', 'CARDINAL'), ('2', 'CARDINAL'), ('the Apple Software',\n",
      "'ORG'), ('the Apple \\nSoftware', 'ORG'), ('Apple', 'ORG'), ('the Apple\n",
      "Software', 'ORG'), ('Section 3', 'LAW'), ('Section 2B(iii', 'LAW'), ('the Apple\n",
      "Software', 'ORG'), ('Section 2B', 'LAW'), ('the Apple Software', 'ORG'),\n",
      "('Apple', 'ORG'), ('C. Volume', 'ORG'), ('Maintenance License', 'ORG'), ('the\n",
      "Apple Software', 'ORG'), ('Apple', 'ORG'), ('the Apple Software', 'ORG'),\n",
      "('Apple', 'ORG'), ('Apple', 'ORG')]\n",
      "Relations:\n",
      "  - the Apple Software [uses] Apple Software\n",
      "  - Apple Software [is_a] the Apple Software\n",
      "  - the Apple Software [is_related_to] the Apple  Software\n",
      "  - the Apple  Software [is_a] the Apple Software\n",
      "  - the Apple Software [is_a] the Apple Software\n",
      "  - the Apple Software [is_a] the Apple Software\n",
      "  - Apple [is_a] Apple\n",
      "  - C. Volume [is_a] Maintenance License\n",
      "  - one [limits] up to two\n",
      "  - 1 [limits] 2\n",
      "  - Mac  Computer [is_a] Mac Computer\n",
      "  - Mac Computer [is_a] Mac Computer\n",
      "  - Mac Computer [is_a] Mac Computer\n",
      "  - Mac Computer [is_a] Mac  Computer\n",
      "Text: computers you own or control.  Except as agreed to in writing by\n",
      "Apple[ENT0:ORG], all other terms and conditions  of this License[ENT1:ORG] shall\n",
      "apply to your use of the Apple Software[ENT2:ORG] obtained under a volume or\n",
      "maintenance  license. D. System Requirements[ENT3:ORG]; Apple Account[ENT4:ORG].\n",
      "Please note that the Apple Software[ENT5:ORG] is supported on only\n",
      "Apple[ENT6:ORG]-branded hardware that meets speciﬁed system requirements as\n",
      "indicated by Apple[ENT7:ORG]. In addition,  use of and access to certain\n",
      "features of the Apple Software[ENT8:ORG] and certain Services (as deﬁned in\n",
      "Section  6[ENT9:CARDINAL]) may require you to apply for a unique user name and\n",
      "password combination, known as an Apple[ENT10:ORG]  Account. E.\n",
      "Fonts[ENT11:PERSON]. Subject to the terms and conditions of this\n",
      "License[ENT12:ORG], you may use the fonts included with the  Apple\n",
      "Software[ENT13:ORG] to display and print content while running the Apple\n",
      "Software[ENT14:ORG]; however, you may only  embed fonts in content if that is\n",
      "permitted by the embedding restrictions accompanying the font in  question.\n",
      "These embedding restrictions can be found in the Font Book/Preview/Show Font\n",
      "Info[ENT15:EVENT] panel. F. Voices[ENT16:PERSON]; Live Captions[ENT17:ORG].\n",
      "Subject to the terms and conditions of this License[ENT18:ORG], you may: (i) use\n",
      "the system  voices included in the Apple Software[ENT19:ORG] (“System\n",
      "Voices[ENT20:WORK_OF_ART]”) (1[ENT21:CARDINAL]) while running the Apple\n",
      "Software[ENT22:ORG] and (2[ENT23:CARDINAL]) to  create your own original content\n",
      "and projects for your personal, non-commercial use; (ii) use the Live\n",
      "Captions[ENT24:ORG] automatically generated on-device in real time by the Apple\n",
      "Software[ENT25:ORG] (“Live Captions”),  whether generated during a\n",
      "FaceTime[ENT26:PRODUCT] call or otherwise, only for your personal,\n",
      "non-commercial use; and  (iii) use the Personal Voice[ENT27:ORG] feature to\n",
      "create a voice on device that sounds like you (“Personal Voice[ENT28:ORG]”)\n",
      "using your own personal voice for your personal, non-commercial use. No other\n",
      "creation or use of the  System Voices[ENT29:FAC], Live Captions[ENT30:ORG] or\n",
      "Personal Voice[ENT31:ORG] is permitted by this License[ENT32:ORG], including but\n",
      "not limited to  the use, reproduction, display, performance, recording,\n",
      "publishing or redistribution of any of the System\n",
      "Entities: [('Apple', 'ORG'), ('License', 'ORG'), ('the Apple Software', 'ORG'),\n",
      "('D. System Requirements', 'ORG'), ('Apple Account', 'ORG'), ('the Apple\n",
      "Software', 'ORG'), ('Apple', 'ORG'), ('Apple', 'ORG'), ('the Apple Software',\n",
      "'ORG'), ('6', 'CARDINAL'), ('Apple', 'ORG'), ('E. Fonts', 'PERSON'), ('License',\n",
      "'ORG'), ('the \\nApple Software', 'ORG'), ('the Apple Software', 'ORG'), ('the\n",
      "Font Book/Preview/Show Font Info', 'EVENT'), ('F. Voices', 'PERSON'), ('Live\n",
      "Captions', 'ORG'), ('License', 'ORG'), ('the Apple Software', 'ORG'), ('System\n",
      "Voices', 'WORK_OF_ART'), ('1', 'CARDINAL'), ('the Apple Software', 'ORG'), ('2',\n",
      "'CARDINAL'), ('the Live \\nCaptions', 'ORG'), ('the Apple Software', 'ORG'),\n",
      "('FaceTime', 'PRODUCT'), ('Personal Voice', 'ORG'), ('Personal Voice', 'ORG'),\n",
      "('System Voices', 'FAC'), ('Live Captions', 'ORG'), ('Personal Voice', 'ORG'),\n",
      "('License', 'ORG')]\n",
      "Relations:\n",
      "  - Apple [agrees_to] License\n",
      "  - License [applies_to] the Apple Software\n",
      "  - the Apple Software [obtained_under] Apple\n",
      "  - D. System Requirements [requires] Apple Account\n",
      "  - Apple Account [associated_with] Apple\n",
      "  - the Apple Software [includes] the  Apple Software\n",
      "  - License [subject_to] License\n",
      "  - F. Voices [uses] the Live  Captions\n",
      "  - the Apple Software [while_running] the Apple Software\n",
      "  - the Live  Captions [generated_by] the Apple Software\n",
      "  - Personal Voice [sounds_like] Personal Voice\n",
      "  - Live Captions [permitted_by] License\n",
      "Text: the use, reproduction, display, performance, recording, publishing or\n",
      "redistribution of any of the System  Voices, Live Captions or[ENT0:ORG] Personal\n",
      "Voice[ENT1:ORG] in a proﬁt, non-proﬁt[ENT2:NORP], public sharing or commercial\n",
      "context. G. Photos App Features and Support[ENT3:PERSON]. The Photos application\n",
      "of the Apple Software[ENT4:ORG] (“Photos App[ENT5:WORK_OF_ART]”) may  not\n",
      "support some video and photo formats. Use of some features of the Photos App\n",
      "will depend on the  features of your camera. Synchronizing photos with the\n",
      "Photos App and any Apple[ENT6:ORG] or third[ENT7:ORDINAL] party  services may\n",
      "result in loss of data. The slideshow graphics, music and themes included with\n",
      "the Photos  App are only for personal, non-commercial use in slideshows you\n",
      "create using the Photos App. You may  not use, extract or distribute,\n",
      "commercially or otherwise, on a standalone basis, any photographs,  images,\n",
      "graphics, artwork, audio, video or similar assets (“Digital\n",
      "Materials”[ENT8:ORG]) contained within, or  provided as a part of, the Photos\n",
      "App, or otherwise use the Digital Materials[ENT9:ORG] outside the context of its\n",
      "intended use as part of the Photos App. H. Content Caching Features[ENT10:ORG].\n",
      "1[ENT11:CARDINAL].  To the extent that Apple[ENT12:ORG] and/or its aﬃliates make\n",
      "particular software and/or content available for  caching (e.g., applicable\n",
      "content from the Mac App Store[ENT13:LAW]) (“Apple Eligible Content”), certain\n",
      "features of  the Apple Software[ENT14:ORG] (the “Content Caching Features”) may\n",
      "automatically download and locally cache  such Apple Eligible Content[ENT15:ORG]\n",
      "on your Apple[ENT16:ORG]-branded computer that is running the Apple\n",
      "Software[ENT17:ORG] (for  purposes of this Section, such\n",
      "Apple[ENT18:ORG]-branded computer is referred to as the “Caching Enabled Mac”). \n",
      "By using the Content Caching Features of[ENT19:LAW] the Apple\n",
      "Software[ENT20:ORG], you agree that Apple[ENT21:ORG] may  download and cache\n",
      "such Apple Eligible Content on your Caching Enabled Mac[ENT22:ORG].  You can\n",
      "turn oﬀ  the Content Caching Features of[ENT23:LAW] the Apple\n",
      "Software[ENT24:ORG] at any time by going to Sharing under System  Settings on\n",
      "your Caching Enabled Mac[ENT25:ORG].\n",
      "Entities: [('the System \\nVoices, Live Captions or', 'ORG'), ('Personal Voice',\n",
      "'ORG'), ('non-proﬁt', 'NORP'), ('G. Photos App Features and Support', 'PERSON'),\n",
      "('the Apple Software', 'ORG'), ('Photos App', 'WORK_OF_ART'), ('Apple', 'ORG'),\n",
      "('third', 'ORDINAL'), ('Digital Materials”', 'ORG'), ('Digital Materials',\n",
      "'ORG'), ('H. Content Caching Features', 'ORG'), ('1', 'CARDINAL'), ('Apple',\n",
      "'ORG'), ('the Mac App Store', 'LAW'), ('the Apple Software', 'ORG'), ('Apple\n",
      "Eligible Content', 'ORG'), ('Apple', 'ORG'), ('the Apple Software', 'ORG'),\n",
      "('Apple', 'ORG'), ('the Content Caching Features of', 'LAW'), ('the Apple\n",
      "Software', 'ORG'), ('Apple', 'ORG'), ('Caching Enabled Mac', 'ORG'), ('the\n",
      "Content Caching Features of', 'LAW'), ('the Apple Software', 'ORG'), ('Caching\n",
      "Enabled Mac', 'ORG')]\n",
      "Relations:\n",
      "  - the System  Voices, Live Captions or [related_to] Personal Voice\n",
      "  - G. Photos App Features and Support [part_of] the Apple Software\n",
      "  - the Apple Software [related_to] Apple\n",
      "  - the Apple Software [contains] Digital Materials”\n",
      "  - H. Content Caching Features [related_to] Apple\n",
      "  - Apple [part_of] the Apple Software\n",
      "  - Apple [related_to] Apple\n",
      "  - the Apple Software [part_of] the Apple Software\n",
      "  - Apple Eligible Content [part_of] the Apple Software\n",
      "  - the Content Caching Features of [related_to] Apple\n",
      "  - Apple [related_to] Caching Enabled Mac\n",
      "  - Caching Enabled Mac [part_of] Caching Enabled Mac\n",
      "Text: the Content Caching Features of the Apple Software[ENT0:LAW] at any time\n",
      "by going to Sharing under System  Settings on your Caching Enabled\n",
      "Mac[ENT1:ORG]. 2[ENT2:CARDINAL].  The Content Caching Features of[ENT3:LAW] the\n",
      "Apple Software[ENT4:ORG] are for use only on a Caching Enabled Mac you  own or\n",
      "control and solely for purposes of expediting the delivery of such Apple\n",
      "Eligible Content[ENT5:ORG] to  authorized end users within your home, company or\n",
      "organization.  You understand that such users may  need to separately\n",
      "authenticate with Apple[ENT6:ORG] prior to receiving the Apple Eligible\n",
      "Content[ENT7:ORG] and that the  expedited delivery of Apple Eligible\n",
      "Content[ENT8:ORG] through the use of your Caching Enabled Mac[ENT9:ORG] will not\n",
      "modify the terms under which you or your end users receive such Apple Eligible\n",
      "Content[ENT10:ORG].  3[ENT11:CARDINAL].  You acknowledge and agree that all use\n",
      "of the Apple Eligible Content[ENT12:ORG] is subject to the applicable  license\n",
      "terms that govern the type of Apple Eligible Content[ENT13:ORG] being cached.\n",
      " These terms may include,  but are not limited to, the Apple Media Services\n",
      "Terms and Conditions[ENT14:ORG], the iCloud Terms and Conditions[ENT15:ORG], the\n",
      "iTunes U Instructor Agreement, the iTunes U Software License\n",
      "Agreement[ENT16:ORG], and/or the  applicable licensing terms that accompanied\n",
      "the software being downloaded, unless the download was  accompanied by its own\n",
      "separate license agreement in which case the latter would apply.  A list of\n",
      "Apple Software License Agreements[ENT17:ORG] (SLAs) may be found here:\n",
      "https://www.apple.com/legal/sla/.[ENT18:PERSON]  You  acknowledge and agree that\n",
      "the use of the Content Caching Features[ENT19:LAW] and storage of Apple Eligible\n",
      "Content[ENT20:ORG] on your Caching Enabled Mac[ENT21:ORG] does not transfer to\n",
      "you any rights beyond those granted to you  in the applicable license terms for\n",
      "the Apple Eligible Content[ENT22:ORG] and shall not constitute a grant, waiver,\n",
      "or  other limitation of any rights of Apple[ENT23:ORG] or any other copyright\n",
      "owners in any Apple Eligible Content[ENT24:ORG]. 4[ENT25:CARDINAL].  You are not\n",
      "authorized to deploy your Caching Enabled Mac[ENT26:ORG] with the Content\n",
      "Caching Features[ENT27:LAW]\n",
      "Entities: [('the Content Caching Features of the Apple Software', 'LAW'),\n",
      "('Caching Enabled Mac', 'ORG'), ('2', 'CARDINAL'), ('The Content Caching\n",
      "Features of', 'LAW'), ('the Apple Software', 'ORG'), ('Apple Eligible Content',\n",
      "'ORG'), ('Apple', 'ORG'), ('the Apple Eligible Content', 'ORG'), ('Apple\n",
      "Eligible Content', 'ORG'), ('Caching Enabled Mac', 'ORG'), ('Apple Eligible\n",
      "Content', 'ORG'), ('3', 'CARDINAL'), ('the Apple Eligible Content', 'ORG'),\n",
      "('Apple Eligible Content', 'ORG'), ('the Apple Media Services Terms and\n",
      "Conditions', 'ORG'), ('the iCloud Terms and Conditions', 'ORG'), ('the iTunes U\n",
      "Software License Agreement', 'ORG'), ('Apple Software License Agreements',\n",
      "'ORG'), ('https://www.apple.com/legal/sla/.', 'PERSON'), ('the Content Caching\n",
      "Features', 'LAW'), ('Apple Eligible \\nContent', 'ORG'), ('Caching Enabled Mac',\n",
      "'ORG'), ('the Apple Eligible Content', 'ORG'), ('Apple', 'ORG'), ('Apple\n",
      "Eligible Content', 'ORG'), ('4', 'CARDINAL'), ('Caching Enabled Mac', 'ORG'),\n",
      "('the Content Caching Features', 'LAW')]\n",
      "Relations:\n",
      "  - the Content Caching Features of the Apple Software [is_part_of] Caching\n",
      "Enabled Mac\n",
      "  - The Content Caching Features of [is_part_of] the Apple Software\n",
      "  - Apple Eligible Content [requires_authentication] Apple\n",
      "  - the Apple Eligible Content [is_subject_to] Apple Eligible Content\n",
      "  - the Apple Media Services Terms and Conditions [is_related_to] the iCloud\n",
      "Terms and Conditions\n",
      "  - Apple Software License Agreements [is_found_at]\n",
      "https://www.apple.com/legal/sla/.\n",
      "  - the Content Caching Features [uses] Caching Enabled Mac\n",
      "  - Apple Eligible  Content [is_subject_to] the Apple Eligible Content\n",
      "  - Apple [holds_rights_over] Apple Eligible Content\n",
      "  - Caching Enabled Mac [uses] the Content Caching Features\n",
      "Text: other limitation of any rights of Apple[ENT0:ORG] or any other copyright\n",
      "owners in any Apple Eligible Content[ENT1:ORG]. 4[ENT2:CARDINAL].  You are not\n",
      "authorized to deploy your Caching Enabled Mac[ENT3:ORG] with the Content Caching\n",
      "Features[ENT4:LAW]  enabled on a network you do not own or control (or which you\n",
      "are not legally authorized to use for such  purposes), or to permit access to\n",
      "such Apple Eligible Content[ENT5:ORG] from end users outside of your home,\n",
      "company or organization.  You agree to only use the Content Caching\n",
      "Features[ENT6:LAW] for your own personal,  non-commercial use or for internal\n",
      "use within your company or organization, and only as expressly  permitted\n",
      "herein.  You may not provide a service to third[ENT7:ORDINAL] parties that\n",
      "integrates with or leverages  services or information provided by the Content\n",
      "Caching Features[ENT8:LAW] or uses the Content Caching Features[ENT9:LAW]  in\n",
      "any way. 5[ENT10:CARDINAL].  By enabling the Content Caching Features\n",
      "of[ENT11:LAW] the Apple Software[ENT12:ORG], you agree that Apple[ENT13:ORG] may\n",
      "store,  monitor, and secure the Apple Eligible Content[ENT14:ORG] on your\n",
      "Caching Enabled Mac[ENT15:ORG], and may collect and use  technical information\n",
      "about your Caching Enabled Mac[ENT16:ORG] and related networks, including but\n",
      "not limited  to, hardware identiﬁers and IP[ENT17:ORG] addresses, for such\n",
      "purposes.  You agree not to disable, disrupt, hack,  circumvent, or otherwise\n",
      "interfere with Apple[ENT18:ORG]’s veriﬁcation, storage or authentication\n",
      "mechanisms, digital  signing, digital rights management, or other security\n",
      "mechanisms implemented in or by the Apple  Software[ENT19:ORG], services, the\n",
      "Apple Eligible Content[ENT20:ORG], or other Apple[ENT21:ORG] software or\n",
      "technology, or to enable  others to do so.   6[ENT22:CARDINAL]. \n",
      "Apple[ENT23:ORG] reserves the right to stop making Apple Eligible\n",
      "Content[ENT24:ORG] available for caching on your Caching  Enabled Mac[ENT25:ORG]\n",
      "(e.g., some content that you may have previously cached may not be available for\n",
      "subsequent caching) and to remove any cached Apple[ENT26:ORG] Eligible Content\n",
      "from your Caching Enabled  Macs[ENT27:ORG] at any time in its sole discretion,\n",
      "and Apple[ENT28:ORG] shall have no liability to you in such event.  You\n",
      "Entities: [('Apple', 'ORG'), ('Apple Eligible Content', 'ORG'), ('4',\n",
      "'CARDINAL'), ('Caching Enabled Mac', 'ORG'), ('the Content Caching Features',\n",
      "'LAW'), ('Apple Eligible Content', 'ORG'), ('the Content Caching Features',\n",
      "'LAW'), ('third', 'ORDINAL'), ('the Content Caching Features', 'LAW'), ('the\n",
      "Content Caching Features', 'LAW'), ('5', 'CARDINAL'), ('the Content Caching\n",
      "Features of', 'LAW'), ('the Apple Software', 'ORG'), ('Apple', 'ORG'), ('the\n",
      "Apple Eligible Content', 'ORG'), ('Caching Enabled Mac', 'ORG'), ('Caching\n",
      "Enabled Mac', 'ORG'), ('IP', 'ORG'), ('Apple', 'ORG'), ('the Apple \\nSoftware',\n",
      "'ORG'), ('the Apple Eligible Content', 'ORG'), ('Apple', 'ORG'), ('6',\n",
      "'CARDINAL'), ('Apple', 'ORG'), ('Apple Eligible Content', 'ORG'), ('Caching\n",
      "\\nEnabled Mac', 'ORG'), ('Apple', 'ORG'), ('Caching Enabled \\nMacs', 'ORG'),\n",
      "('Apple', 'ORG')]\n",
      "Relations:\n",
      "  - Apple [has_rights] Apple Eligible Content\n",
      "  - Caching Enabled Mac [uses_feature] the Content Caching Features\n",
      "  - Apple Eligible Content [related_to] Apple Eligible Content\n",
      "  - the Content Caching Features of [part_of] the Apple Software\n",
      "  - the Apple Software [developed_by] Apple\n",
      "  - Apple [manages_content] the Apple Eligible Content\n",
      "  - Caching Enabled Mac [uses_device] Caching Enabled Mac\n",
      "  - Apple [implements] the Apple  Software\n",
      "  - Apple [controls_content] Apple Eligible Content\n",
      "  - Caching  Enabled Mac [related_to] Apple\n",
      "Text: subsequent caching) and to remove any cached Apple[ENT0:ORG] Eligible\n",
      "Content from your Caching Enabled  Macs[ENT1:ORG] at any time in its sole\n",
      "discretion, and Apple[ENT2:ORG] shall have no liability to you in such event. \n",
      "You  understand that such caching of Apple Eligible Content[ENT3:ORG] may not be\n",
      "available in all countries or regions.   You may remove the cached Apple\n",
      "Eligible Content[ENT4:ORG] and disable the Content Caching Features[ENT5:LAW] at\n",
      "any  time. I. Remote Desktop Connections[ENT6:ORG].  Subject to the terms and\n",
      "conditions of this License[ENT7:ORG], when remotely  connecting from another\n",
      "computer or electronic device (each a “Device”) to an Apple[ENT8:ORG]-branded\n",
      "computer  that is running the Apple Software[ENT9:ORG] (for purposes of this\n",
      "Section, such Apple[ENT10:ORG]-branded computer is  referred to as the “Home\n",
      "Mac[ENT11:ORG]”), whether through the Screen Sharing feature or through any\n",
      "other  means: (i) only one[ENT12:CARDINAL] (1[ENT13:CARDINAL]) Device may\n",
      "remotely connect at any one[ENT14:CARDINAL] time, whether directly or\n",
      "indirectly, to  control the graphical desktop session of the Apple\n",
      "Software[ENT15:ORG] that is running and being displayed  on the Home\n",
      "Mac[ENT16:ORG]; and (ii) a reasonable number of Devices may remotely connect at\n",
      "the same time for the sole purpose  of simultaneously observing the same\n",
      "graphical desktop session of the Apple Software[ENT17:ORG] that is  running and\n",
      "being displayed on the Home Mac[ENT18:ORG], as long as they do not control the\n",
      "Apple  Software[ENT19:ORG] in any way; but (iii) only one[ENT20:CARDINAL]\n",
      "(1[ENT21:CARDINAL]) Apple[ENT22:ORG]-branded Device may remotely connect at any\n",
      "one[ENT23:CARDINAL] time, whether directly or  indirectly, to control a separate\n",
      "graphical desktop session of the Apple Software[ENT24:ORG] that is diﬀerent from\n",
      "the one running and being displayed on the Home Mac[ENT25:ORG], and such\n",
      "connection may only be  made through the Screen Sharing feature of the Apple\n",
      "Software[ENT26:ORG]. Except as expressly permitted in this Section 2I[ENT27:LAW]\n",
      "or Section 3[ENT28:LAW], or except as otherwise licensed by Apple[ENT29:ORG],\n",
      "you agree not to use the Apple Software[ENT30:ORG], or any of its functionality,\n",
      "in connection with service bureau,  time-sharing, terminal sharing or other\n",
      "similar types of services, whether such services are being\n",
      "Entities: [('Apple', 'ORG'), ('Caching Enabled \\nMacs', 'ORG'), ('Apple',\n",
      "'ORG'), ('Apple Eligible Content', 'ORG'), ('Apple Eligible Content', 'ORG'),\n",
      "('the Content Caching Features', 'LAW'), ('I. Remote Desktop Connections',\n",
      "'ORG'), ('License', 'ORG'), ('Apple', 'ORG'), ('the Apple Software', 'ORG'),\n",
      "('Apple', 'ORG'), ('the “Home Mac', 'ORG'), ('only one', 'CARDINAL'), ('1',\n",
      "'CARDINAL'), ('one', 'CARDINAL'), ('the Apple Software', 'ORG'), ('the Home\n",
      "Mac', 'ORG'), ('the Apple Software', 'ORG'), ('the Home Mac', 'ORG'), ('Apple\n",
      "\\nSoftware', 'ORG'), ('only one', 'CARDINAL'), ('1', 'CARDINAL'), ('Apple',\n",
      "'ORG'), ('one', 'CARDINAL'), ('the Apple Software', 'ORG'), ('the Home Mac',\n",
      "'ORG'), ('the Apple Software', 'ORG'), ('Section 2I', 'LAW'), ('Section 3',\n",
      "'LAW'), ('Apple', 'ORG'), ('the Apple Software', 'ORG')]\n",
      "Relations:\n",
      "  - Apple [is a parent of] Apple\n",
      "  - Caching Enabled  Macs [is a sibling of] Apple\n",
      "  - Apple Eligible Content [is a type of] Apple\n",
      "  - Apple Eligible Content [is related to] the Content Caching Features\n",
      "  - I. Remote Desktop Connections [is governed by] License\n",
      "  - Apple [is a type of] the Apple Software\n",
      "  - Apple [is a type of] the “Home Mac\n",
      "  - only one [is a quantity of] 1\n",
      "  - one [is a quantity of] only one\n",
      "  - the Apple Software [is a type of] the Home Mac\n",
      "  - the Apple Software [is a type of] the Home Mac\n",
      "  - Apple  Software [is a type of] only one\n",
      "  - 1 [is a type of] Apple\n",
      "  - one [is a type of] the Apple Software\n",
      "  - the Home Mac [is a type of] the Apple Software\n",
      "  - Section 2I [is a section of] Section 3\n",
      "  - Apple [is a type of] the Apple Software\n",
      "Text: time-sharing, terminal sharing or other similar types of services, whether\n",
      "such services are being  provided within your own organization or to\n",
      "third[ENT0:ORDINAL] parties. J. Other Use Restrictions[ENT1:ORG]. The grants set\n",
      "forth in this License[ENT2:ORG] do not permit you to, and you agree not to,\n",
      "install, use or run the Apple Software[ENT3:ORG] on any\n",
      "non-Apple[ENT4:ORG]-branded computer, or to enable others to do so.  You agree\n",
      "not to remove, obscure, or alter any proprietary notices (including trademark\n",
      "and copyright  notices) that may be aﬃxed to or contained within the Apple\n",
      "Software[ENT5:ORG]. Except as otherwise permitted by  the terms of this License\n",
      "or otherwise licensed by Apple[ENT6:ORG]: (i) only one[ENT7:CARDINAL] user may\n",
      "use the Apple Software[ENT8:ORG] at  a time, and (ii) you may not make the Apple\n",
      "Software[ENT9:ORG] available over a network where it could be run or  used by\n",
      "multiple computers at the same time. Except as expressly permitted in Section\n",
      "3[ENT10:LAW], you may not  rent, lease, lend, sell, redistribute or sublicense\n",
      "the Apple Software[ENT11:ORG]. K. Backup Copy[ENT12:PERSON]. You may make\n",
      "one[ENT13:CARDINAL] copy of the Apple Software[ENT14:ORG] (excluding the Boot\n",
      "ROM code and  other Apple[ENT15:ORG] ﬁrmware that is embedded or otherwise\n",
      "contained in Apple[ENT16:ORG]-branded hardware) in machine-[ENT17:DATE] readable\n",
      "form for backup purposes only; provided that the backup copy must include all\n",
      "copyright or  other proprietary notices contained on the original. Apple Boot\n",
      "ROM[ENT18:PERSON] code and ﬁrmware is provided only  for use on\n",
      "Apple[ENT19:ORG]-branded hardware and you may not copy, modify or redistribute\n",
      "the Apple Boot ROM  code or ﬁrmware, or any portions thereof. L. Migration of\n",
      "Existing Software[ENT20:ORG]. If you use Setup/Migration Assistant to transfer\n",
      "software from one[ENT21:CARDINAL]  Apple[ENT22:ORG]-branded computer to another\n",
      "Apple[ENT23:ORG]-branded computer, please remember that continued use of  the\n",
      "original copy of the software may be prohibited once a copy has been transferred\n",
      "to another  computer, unless you already have a licensed copy of such software\n",
      "on both computers. You should  check the relevant software license agreements\n",
      "for applicable terms and conditions. Third[ENT24:ORDINAL] party\n",
      "Entities: [('third', 'ORDINAL'), ('J. Other Use Restrictions', 'ORG'),\n",
      "('License', 'ORG'), ('the Apple Software', 'ORG'), ('non-Apple', 'ORG'), ('the\n",
      "Apple Software', 'ORG'), ('Apple', 'ORG'), ('only one', 'CARDINAL'), ('the Apple\n",
      "Software', 'ORG'), ('the Apple Software', 'ORG'), ('Section 3', 'LAW'), ('the\n",
      "Apple Software', 'ORG'), ('K. Backup Copy', 'PERSON'), ('one', 'CARDINAL'),\n",
      "('the Apple Software', 'ORG'), ('Apple', 'ORG'), ('Apple', 'ORG'), ('machine-',\n",
      "'DATE'), ('Apple Boot ROM', 'PERSON'), ('Apple', 'ORG'), ('L. Migration of\n",
      "Existing Software', 'ORG'), ('one', 'CARDINAL'), ('Apple', 'ORG'), ('Apple',\n",
      "'ORG'), ('Third', 'ORDINAL')]\n",
      "Relations:\n",
      "  - J. Other Use Restrictions [License] License\n",
      "  - the Apple Software [Brand] non-Apple\n",
      "  - the Apple Software [Brand] Apple\n",
      "  - the Apple Software [Software] the Apple Software\n",
      "  - K. Backup Copy [Backup] the Apple Software\n",
      "  - Apple Boot ROM [Brand] Apple\n",
      "  - L. Migration of Existing Software [Migration] Apple\n",
      "  - Apple [Brand] Apple\n",
      "Text: computer, unless you already have a licensed copy of such software on both\n",
      "computers. You should  check the relevant software license agreements for\n",
      "applicable terms and conditions. Third[ENT0:ORDINAL] party  software and\n",
      "services may not be compatible with this Apple Software[ENT1:ORG] and\n",
      "installation of this Apple  Software[ENT2:ORG] may aﬀect the availability and\n",
      "usability of such third[ENT3:ORDINAL] party software or services. M. Open\n",
      "Source[ENT4:ORG]. Certain components of the Apple Software[ENT5:ORG], and\n",
      "third[ENT6:ORDINAL] party open source programs  included with the Apple\n",
      "Software[ENT7:ORG], have been or may be made available by Apple[ENT8:ORG] on its\n",
      "Open Source[ENT9:WORK_OF_ART]  web site (https://www.opensource.apple.com/)\n",
      "(collectively the “Open-Sourced Components[ENT10:EVENT]”). You may  modify or\n",
      "replace only these Open-Sourced Components[ENT11:ORG]; provided that: (i) the\n",
      "resultant modiﬁed Apple  Software[ENT12:ORG] is used, in place of the unmodiﬁed\n",
      "Apple Software[ENT13:ORG], on Apple[ENT14:ORG]-branded computers you own or\n",
      "control, as long as each such Apple[ENT15:ORG] computer has a properly licensed\n",
      "copy of the Apple Software[ENT16:ORG] on it;  and (ii) you otherwise comply with\n",
      "the terms of this License[ENT17:ORG] and any applicable licensing terms\n",
      "governing use of the Open-Sourced Components[ENT18:ORG]. Apple[ENT19:ORG] is not\n",
      "obligated to provide any updates,  maintenance, warranty, technical or other\n",
      "support, or services for the resultant modiﬁed Apple Software[ENT20:ORG].  You\n",
      "expressly acknowledge that if failure or damage to Apple[ENT21:ORG] hardware\n",
      "results from modiﬁcation of the  Open-Sourced Components of the Apple\n",
      "Software[ENT22:ORG], such failure or damage is excluded from the terms of  the\n",
      "Apple[ENT23:ORG] hardware warranty. N. No Reverse Engineering[ENT24:ORG]. You\n",
      "may not, and you agree not to or enable others to, copy (except as  expressly\n",
      "permitted by this License[ENT25:PERSON] or by the Usage Rules[ENT26:ORG] if they\n",
      "are applicable to you), decompile,  reverse engineer, disassemble, attempt to\n",
      "derive the source code of, decrypt, modify, or create  derivative works of the\n",
      "Apple Software[ENT27:ORG] or any services provided by the Apple\n",
      "Software[ENT28:ORG] or any part\n",
      "Entities: [('Third', 'ORDINAL'), ('this Apple Software', 'ORG'), ('Apple\n",
      "\\nSoftware', 'ORG'), ('third', 'ORDINAL'), ('M. Open Source', 'ORG'), ('the\n",
      "Apple Software', 'ORG'), ('third', 'ORDINAL'), ('the Apple Software', 'ORG'),\n",
      "('Apple', 'ORG'), ('Open Source', 'WORK_OF_ART'), ('the “Open-Sourced\n",
      "Components', 'EVENT'), ('these Open-Sourced Components', 'ORG'), ('Apple\n",
      "\\nSoftware', 'ORG'), ('Apple Software', 'ORG'), ('Apple', 'ORG'), ('Apple',\n",
      "'ORG'), ('the Apple Software', 'ORG'), ('License', 'ORG'), ('the Open-Sourced\n",
      "Components', 'ORG'), ('Apple', 'ORG'), ('Apple Software', 'ORG'), ('Apple',\n",
      "'ORG'), ('the Apple Software', 'ORG'), ('Apple', 'ORG'), ('N. No Reverse\n",
      "Engineering', 'ORG'), ('License', 'PERSON'), ('the Usage Rules', 'ORG'), ('the\n",
      "Apple Software', 'ORG'), ('the Apple Software', 'ORG')]\n",
      "Relations:\n",
      "  - this Apple Software [is_a] Apple  Software\n",
      "  - M. Open Source [is_a] the Apple Software\n",
      "  - third [is_a] the Apple Software\n",
      "  - Apple [is_a] Open Source\n",
      "  - the “Open-Sourced Components [is_a] these Open-Sourced Components\n",
      "  - Apple  Software [is_a] Apple Software\n",
      "  - Apple [is_a] Apple\n",
      "  - the Apple Software [is_a] License\n",
      "  - the Open-Sourced Components [is_a] Apple\n",
      "  - Apple Software [is_a] Apple\n",
      "  - the Apple Software [is_a] Apple\n",
      "  - N. No Reverse Engineering [is_a] License\n",
      "  - the Usage Rules [is_a] the Apple Software\n",
      "Text: reverse engineer, disassemble, attempt to derive the source code of,\n",
      "decrypt, modify, or create  derivative works of the Apple Software[ENT0:ORG] or\n",
      "any services provided by the Apple Software[ENT1:ORG] or any part  thereof\n",
      "(except as and only to the extent any foregoing restriction is prohibited by\n",
      "applicable law or by  licensing terms governing use of Open-Sourced\n",
      "Components[ENT2:ORG] that may be included with the Apple[ENT3:ORG]  Software).O.\n",
      "Compliance with Laws. You agree to use the Apple Software[ENT4:ORG] and the\n",
      "Services (as deﬁned in Section  6[ENT5:CARDINAL] below) in compliance with all\n",
      "applicable laws, including local laws of the country or region in which you\n",
      "reside or in which you download or use the Apple Software and\n",
      "Services[ENT6:ORG]. Features of the Apple  Software[ENT7:ORG] and the Services\n",
      "may not be available in all languages or regions, and some features may vary  by\n",
      "region. An Internet connection is required for some features of the Apple\n",
      "Software and Services[ENT8:ORG]. P. Third Party Software[ENT9:ORG].\n",
      "Apple[ENT10:ORG] has provided as part of the Apple Software[ENT11:ORG] package,\n",
      "and may provide as  an upgrade, update or supplement to the Apple\n",
      "Software[ENT12:ORG], access to certain third[ENT13:ORDINAL] party software or\n",
      "services as a convenience. To the extent that the Apple Software[ENT14:ORG]\n",
      "contains or provides access to any  third[ENT15:ORDINAL] party software or\n",
      "services, Apple[ENT16:ORG] has no express or implied obligation to provide any\n",
      "technical or  other support for such software or services. Please contact the\n",
      "appropriate software vendor,  manufacturer or service provider directly for\n",
      "technical support and customer service related to its  software, service and/or\n",
      "products. Q. Apple Software Changes[ENT17:ORG]. The Apple Software[ENT18:ORG]\n",
      "will periodically check with Apple for Apple Software  Changes[ENT19:ORG]. If a\n",
      "change is available, the change may automatically download and install onto your\n",
      "computer and, if applicable, your peripheral devices. By using the Apple\n",
      "Software[ENT20:ORG], you agree that  Apple[ENT21:ORG] may download and install\n",
      "automatic Apple Software Changes[ENT22:ORG] onto your computer and your\n",
      "Entities: [('the Apple Software', 'ORG'), ('the Apple Software', 'ORG'),\n",
      "('Open-Sourced Components', 'ORG'), ('Apple', 'ORG'), ('the Apple Software',\n",
      "'ORG'), ('6', 'CARDINAL'), ('the Apple Software and Services', 'ORG'), ('the\n",
      "Apple \\nSoftware', 'ORG'), ('the Apple Software and Services', 'ORG'), ('P.\n",
      "Third Party Software', 'ORG'), ('Apple', 'ORG'), ('Apple Software', 'ORG'),\n",
      "('the Apple Software', 'ORG'), ('third', 'ORDINAL'), ('the Apple Software',\n",
      "'ORG'), ('third', 'ORDINAL'), ('Apple', 'ORG'), ('Q. Apple Software Changes',\n",
      "'ORG'), ('The Apple Software', 'ORG'), ('Apple for Apple Software \\nChanges',\n",
      "'ORG'), ('the Apple Software', 'ORG'), ('Apple', 'ORG'), ('Apple Software\n",
      "Changes', 'ORG')]\n",
      "Relations:\n",
      "  - the Apple Software [provides] the Apple Software\n",
      "  - the Apple Software [includes] Open-Sourced Components\n",
      "  - Apple [is_part_of] the Apple Software\n",
      "  - the Apple Software [governs] 6\n",
      "  - the Apple Software and Services [is_related_to] the Apple  Software\n",
      "  - the Apple Software and Services [provides_access_to] P. Third Party Software\n",
      "  - Apple [is_part_of] Apple Software\n",
      "  - the Apple Software [contains] third\n",
      "  - the Apple Software [provides] third\n",
      "  - Apple [is_related_to] Q. Apple Software Changes\n",
      "  - The Apple Software [checks_for] Apple for Apple Software  Changes\n",
      "  - the Apple Software [may_download] Apple\n",
      "Text: computer and, if applicable, your peripheral devices. By using the Apple\n",
      "Software[ENT0:ORG], you agree that  Apple[ENT1:ORG] may download and install\n",
      "automatic Apple Software Changes[ENT2:ORG] onto your computer and your\n",
      "peripheral devices. You can turn oﬀ automatic operating system updates and Rapid\n",
      "Security[ENT3:ORG]  Responses at any time by adjusting the settings found within\n",
      "System Settings > Software Update[ENT4:ORG] >  Advanced. R. System Characters.\n",
      "Subject to the terms and conditions of this License[ENT5:ORG], you may use the\n",
      "Memoji[ENT6:PERSON]  characters included in or created with the Apple\n",
      "Software[ENT7:ORG] (“System Characters[ENT8:WORK_OF_ART]”): (i) while running\n",
      "the  Apple Software[ENT9:ORG]; and (ii) to create your own original content and\n",
      "projects for your personal, non- commercial use. No other use of the System\n",
      "Characters is permitted by this License[ENT10:ORG], including but not  limited\n",
      "to the use, reproduction, display, performance, recording, publishing or\n",
      "redistribution of any of  the System Characters in a proﬁt,\n",
      "non-proﬁt[ENT11:NORP], public sharing or commercial context. 3[ENT12:CARDINAL].\n",
      "Leasing for Permitted Developer Services. A. Leasing.  You may lease or sublease\n",
      "a validly licensed version of the Apple Software[ENT13:ORG] in its entirety to\n",
      "an individual or organization (each, a “Lessee[ENT14:WORK_OF_ART]”) provided\n",
      "that all of the following conditions are met:  (i) the leased Apple\n",
      "Software[ENT15:ORG] must be used for the sole purpose of providing Permitted\n",
      "Developer Services[ENT16:ORG] and each Lessee[ENT17:PERSON] must review and\n",
      "agree to be bound by the terms of this  License; (ii) each lease period must be\n",
      "for a minimum period of twenty-four[ENT18:CARDINAL] (24) consecutive\n",
      "hours[ENT19:TIME];  (iii) during the lease period, the End User Lessee must have\n",
      "sole and exclusive use and control  of the Apple Software[ENT20:ORG] and the\n",
      "Apple[ENT21:ORG]-branded hardware on which it is installed, except that you,  as\n",
      "the party leasing the Apple Software[ENT22:ORG] (“Lessor[ENT23:WORK_OF_ART]”),\n",
      "may provide administrative support for the  Apple Software[ENT24:ORG]; and  (iv)\n",
      "prior to using the Apple Software[ENT25:ORG], the End User Lessee must review\n",
      "and agree to be bound\n",
      "Entities: [('the Apple Software', 'ORG'), ('Apple', 'ORG'), ('Apple Software\n",
      "Changes', 'ORG'), ('Rapid Security', 'ORG'), ('System Settings > Software\n",
      "Update', 'ORG'), ('License', 'ORG'), ('Memoji', 'PERSON'), ('the Apple\n",
      "Software', 'ORG'), ('System Characters', 'WORK_OF_ART'), ('Apple Software',\n",
      "'ORG'), ('License', 'ORG'), ('non-proﬁt', 'NORP'), ('3', 'CARDINAL'), ('the\n",
      "Apple Software', 'ORG'), ('Lessee', 'WORK_OF_ART'), ('Apple Software', 'ORG'),\n",
      "('Permitted \\nDeveloper Services', 'ORG'), ('Lessee', 'PERSON'), ('twenty-four',\n",
      "'CARDINAL'), ('24) consecutive hours', 'TIME'), ('the Apple Software', 'ORG'),\n",
      "('Apple', 'ORG'), ('the Apple Software', 'ORG'), ('Lessor', 'WORK_OF_ART'),\n",
      "('Apple Software', 'ORG'), ('the Apple Software', 'ORG')]\n",
      "Relations:\n",
      "  - the Apple Software [developed_by] Apple\n",
      "  - Apple [provides] Apple Software Changes\n",
      "  - Apple Software Changes [related_to] Rapid Security\n",
      "  - License [uses] the Apple Software\n",
      "  - the Apple Software [includes] Apple Software\n",
      "  - License [restricts] non-proﬁt\n",
      "  - the Apple Software [leases] Apple Software\n",
      "  - Apple Software [provides] Permitted  Developer Services\n",
      "  - the Apple Software [installed_on] Apple\n",
      "  - the Apple Software [is] Lessor\n",
      "Text: Apple Software[ENT0:ORG]; and  (iv) prior to using the Apple\n",
      "Software[ENT1:ORG], the End User Lessee must review and agree to be bound  by\n",
      "the terms applicable to any software preinstalled on the Apple\n",
      "Software[ENT2:ORG], including, but not  limited to Apple[ENT3:ORG]’s\n",
      "Xcode[ENT4:ORG] developer software and any other Apple[ENT5:ORG] or\n",
      "third[ENT6:ORDINAL]-party software. For purposes of this Section 3[ENT7:LAW]:\n",
      "(A) End User Lessee means a Lessee[ENT8:PERSON] who is the end user ultimately\n",
      "using the leased Apple Software[ENT9:ORG] solely for Permitted Developer\n",
      "Services[ENT10:ORG]; and (B) Permitted Developer  Services means continuous\n",
      "integration services, including but not limited to software development,\n",
      "building software from source, automated testing during software development,\n",
      "and running necessary developer tools to support such activities. Each Lessor\n",
      "must provide Apple[ENT11:ORG] with advance notice prior to  leasing or\n",
      "subleasing the Apple Software[ENT12:ORG] pursuant to this Section 3[ENT13:LAW]\n",
      "by contacting Apple[ENT14:ORG] Developer  Relations\n",
      "(https://developer.apple.com/contact/macos-license/). B.\n",
      "Subleasing[ENT15:PERSON].  A Lessee[ENT16:PERSON] may further sublease the Apple\n",
      "Software[ENT17:ORG] pursuant to this Section 3[ENT18:LAW] provided  that such\n",
      "Lessee[ENT19:PERSON] complies with all of the terms of this Section\n",
      "3[ENT20:LAW]. A Lessee[ENT21:PERSON] subleasing the Apple  Software[ENT22:ORG]\n",
      "(who shall also be considered a Lessor under this Section 3[ENT23:LAW]) must\n",
      "fully relinquish exclusive use  and control of the Apple Software[ENT24:ORG] and\n",
      "the Apple[ENT25:ORG]-branded hardware on which it is installed to its\n",
      "Lessee[ENT26:PERSON]  during the lease period. C. Enforcement[ENT27:ORG]. As a\n",
      "Lessor, you shall be responsible for: (i) ensuring that each\n",
      "Lessee[ENT28:PERSON] complies with  the requirements of this Section\n",
      "3[ENT29:LAW]; (ii) ensuring each Lessee[ENT30:PERSON] agrees to all applicable\n",
      "license terms; and  (iii) assisting Apple[ENT31:ORG] in enforcing compliance\n",
      "therewith. If a Lessee[ENT32:PERSON] breaches this License[ENT33:PERSON] or\n",
      "other  applicable Apple[ENT34:ORG] license terms, their rights to use the Apple\n",
      "Software[ENT35:ORG] shall automatically terminate and  you agree to immediately\n",
      "terminate such Lessee[ENT36:PERSON]’s use of the Apple Software[ENT37:ORG] upon\n",
      "your discovery of  such breach or upon written notice from Apple[ENT38:ORG] of\n",
      "such breach.\n",
      "Entities: [('Apple Software', 'ORG'), ('the Apple Software', 'ORG'), ('the Apple\n",
      "Software', 'ORG'), ('Apple', 'ORG'), ('Xcode', 'ORG'), ('Apple', 'ORG'),\n",
      "('third', 'ORDINAL'), ('Section 3', 'LAW'), ('Lessee', 'PERSON'), ('Apple\n",
      "Software', 'ORG'), ('Permitted Developer Services', 'ORG'), ('Apple', 'ORG'),\n",
      "('Apple Software', 'ORG'), ('Section 3', 'LAW'), ('Apple', 'ORG'), ('B.\n",
      "Subleasing', 'PERSON'), ('Lessee', 'PERSON'), ('Apple Software', 'ORG'),\n",
      "('Section 3', 'LAW'), ('Lessee', 'PERSON'), ('Section 3', 'LAW'), ('Lessee',\n",
      "'PERSON'), ('Apple \\nSoftware', 'ORG'), ('Section 3', 'LAW'), ('the Apple\n",
      "Software', 'ORG'), ('Apple', 'ORG'), ('Lessee', 'PERSON'), ('C. Enforcement',\n",
      "'ORG'), ('Lessee', 'PERSON'), ('Section 3', 'LAW'), ('Lessee', 'PERSON'),\n",
      "('Apple', 'ORG'), ('Lessee', 'PERSON'), ('License', 'PERSON'), ('Apple', 'ORG'),\n",
      "('Apple Software', 'ORG'), ('Lessee', 'PERSON'), ('the Apple Software', 'ORG'),\n",
      "('Apple', 'ORG')]\n",
      "Relations:\n",
      "  - Apple Software [uses] the Apple Software\n",
      "  - the Apple Software [is_preinstalled_on] the Apple Software\n",
      "  - Apple [has_software] Xcode\n",
      "  - Apple [has_software] Apple\n",
      "  - Section 3 [defines] Lessee\n",
      "  - Apple Software [is_for] Permitted Developer Services\n",
      "  - Apple [provides_notice_to] Apple Software\n",
      "  - B. Subleasing [may_sublease] Lessee\n",
      "  - Lessee [complies_with] Section 3\n",
      "  - Lessee [subleases] Apple  Software\n",
      "  - Section 3 [relinquishes_control_of] the Apple Software\n",
      "  - C. Enforcement [is_responsible_for] Lessee\n",
      "  - Lessee [assists_in_enforcing] Apple\n",
      "  - Lessee [breaches] License\n",
      "  - Apple [terminates_use_of] Apple Software\n",
      "  - Apple [notifies_of_breach] Lessee\n",
      "Text: you agree to immediately terminate such Lessee[ENT0:PERSON]’s use of the\n",
      "Apple Software[ENT1:ORG] upon your discovery of  such breach or upon written\n",
      "notice from Apple[ENT2:ORG] of such breach.   D. Virtualization.  For each copy\n",
      "of the Apple Software[ENT3:ORG] subject to a lease under this Section\n",
      "3[ENT4:LAW], either a  Lessor or a Lessee[ENT5:PERSON] (but not both) may\n",
      "install, use and run additional copies or instances of the Apple[ENT6:ORG]\n",
      "Software within virtual operating system environments in accordance with Section\n",
      "2B(iii[ENT7:LAW]), provided that a  Lessor may only virtualize a single instance\n",
      "or copy of the Apple Software[ENT8:ORG] as a provisioning tool for the  purpose\n",
      "of providing a Lessee[ENT9:PERSON] with access to and use of the Apple\n",
      "Software[ENT10:ORG] pursuant to this Section 3[ENT11:LAW].  E. System\n",
      "Conﬁguration[ENT12:ORG]. If you are a Lessee[ENT13:PERSON], you acknowledge that\n",
      "the Apple Software[ENT14:ORG] may have been  previously conﬁgured by the\n",
      "Lessor[ENT15:PERSON] who is leasing the Apple Software[ENT16:ORG] to you,\n",
      "including the selection of  settings for Analytics, Location\n",
      "Services[ENT17:ORG], and other security, privacy and data collection-related\n",
      "features.  You acknowledge and agree that Apple[ENT18:ORG] is not responsible\n",
      "for the conﬁguration of the Apple Software[ENT19:ORG] by  the Lessor.\n",
      "4[ENT20:CARDINAL]. Transfer. A. If you obtained the Apple Software[ENT21:ORG]\n",
      "preinstalled on Apple[ENT22:ORG]-branded hardware or if you obtained your\n",
      "license to the Apple Software[ENT23:ORG] from the Mac App\n",
      "Store[ENT24:WORK_OF_ART] or through a software update, you may make a\n",
      "one[ENT25:CARDINAL]-time permanent transfer of all of your license rights to the\n",
      "Apple Software[ENT26:ORG] (in its original form as  provided by\n",
      "Apple[ENT27:ORG]) to another party, provided that: (i) the Apple\n",
      "Software[ENT28:ORG] is transferred together with  your Apple[ENT29:ORG]-branded\n",
      "hardware; (ii) the transfer must include all of the Apple Software[ENT30:ORG],\n",
      "including all its  component parts and this License; (iii) you do not retain any\n",
      "copies of the Apple Software[ENT31:ORG], full or partial,  including copies\n",
      "stored on a computer or other storage device; and (iv) the party receiving the\n",
      "Apple[ENT32:ORG]  Software reads and agrees to accept the terms and conditions\n",
      "of this License[ENT33:ORG]. For purposes of this\n",
      "Entities: [('Lessee', 'PERSON'), ('the Apple Software', 'ORG'), ('Apple',\n",
      "'ORG'), ('Apple Software', 'ORG'), ('Section 3', 'LAW'), ('Lessee', 'PERSON'),\n",
      "('Apple', 'ORG'), ('Section 2B(iii', 'LAW'), ('the Apple Software', 'ORG'),\n",
      "('Lessee', 'PERSON'), ('Apple Software', 'ORG'), ('Section 3', 'LAW'), ('E.\n",
      "System Conﬁguration', 'ORG'), ('Lessee', 'PERSON'), ('the Apple Software',\n",
      "'ORG'), ('Lessor', 'PERSON'), ('the Apple Software', 'ORG'), ('Location\n",
      "Services', 'ORG'), ('Apple', 'ORG'), ('the Apple Software', 'ORG'), ('4',\n",
      "'CARDINAL'), ('the Apple Software', 'ORG'), ('Apple', 'ORG'), ('the Apple\n",
      "Software', 'ORG'), ('Mac App Store', 'WORK_OF_ART'), ('one', 'CARDINAL'), ('the\n",
      "Apple Software', 'ORG'), ('Apple', 'ORG'), ('the Apple Software', 'ORG'),\n",
      "('Apple', 'ORG'), ('the Apple Software', 'ORG'), ('the Apple Software', 'ORG'),\n",
      "('Apple', 'ORG'), ('License', 'ORG')]\n",
      "Relations:\n",
      "  - Lessee [uses] the Apple Software\n",
      "  - Apple [provides] the Apple Software\n",
      "  - Lessee [leases] the Apple Software\n",
      "  - Lessee [accesses] the Apple Software\n",
      "  - Lessee [acknowledges] Lessor\n",
      "  - Lessor [leases] the Apple Software\n",
      "  - Apple [is responsible for] the Apple Software\n",
      "  - the Apple Software [obtains] the Apple Software\n",
      "  - Apple [is branded with] the Apple Software\n",
      "  - Apple [is provided by] the Apple Software\n",
      "  - Apple [is branded with] the Apple Software\n",
      "Text: Software reads and agrees to accept the terms and conditions of this\n",
      "License[ENT0:ORG]. For purposes of this  License, if Apple[ENT1:ORG] provides an\n",
      "update (e.g., version 10.14[ENT2:CARDINAL] to 10.14.1) to the Apple\n",
      "Software[ENT3:ORG], the update is  considered part of the Apple\n",
      "Software[ENT4:ORG] and may not be transferred separately from the pre-update\n",
      "version of the Apple Software[ENT5:ORG]. B. You may not transfer any Apple\n",
      "Software[ENT6:ORG] that has been modiﬁed or replaced under Section 2M[ENT7:LAW]\n",
      "above. All components of the Apple Software[ENT8:ORG] are provided as part of a\n",
      "bundle and may not be  separated from the bundle and distributed as standalone\n",
      "applications. Note that the Apple Software[ENT9:ORG]  provided with a particular\n",
      "Apple[ENT10:ORG]-branded hardware product might not run on other models of\n",
      "Apple- branded hardware. C. Any copy of the Apple Software[ENT11:ORG] that may\n",
      "be provided by Apple[ENT12:ORG] for promotional, evaluation,  diagnostic or\n",
      "restorative purposes may be used only for such purposes and may not be resold or\n",
      "transferred.D. Apple[ENT13:ORG] may assign all or any portion of this\n",
      "License[ENT14:PERSON] or any rights or obligations hereunder to any\n",
      "Apple[ENT15:ORG]  aﬃliate or subsidiary at any time without notice.\n",
      "5[ENT16:CARDINAL]. Consent to Use of Data. Certain features like Analytics,\n",
      "Location Services[ENT17:ORG], Siri, Dictation and  Spotlight may require\n",
      "information from your computer to provide their respective functions. When you\n",
      "turn on or use these features, details will be provided regarding what\n",
      "information is sent to Apple[ENT18:ORG] and  how the information may be used. \n",
      "You can learn more by visiting https://www.apple.com/privacy/. At all  times\n",
      "your information will be treated in accordance with Apple[ENT19:ORG]’s Privacy\n",
      "Policy[ENT20:ORG], which can be viewed at:\n",
      "https://www.apple.com/legal/privacy/. 6[ENT21:CARDINAL]. Apple Software,\n",
      "Services[ENT22:ORG], and Third Party Materials[ENT23:ORG]. A. General. The Apple\n",
      "Software[ENT24:ORG] may enable access to Apple[ENT25:ORG]’s iTunes\n",
      "Store[ENT26:ORG], Mac App Store[ENT27:WORK_OF_ART], Apple  Books, Game\n",
      "Center[ENT28:ORG], iCloud[ENT29:ORG], Maps, News and other Apple[ENT30:ORG] and\n",
      "third[ENT31:ORDINAL] party services and web sites\n",
      "Entities: [('License', 'ORG'), ('Apple', 'ORG'), ('10.14', 'CARDINAL'), ('the\n",
      "Apple Software', 'ORG'), ('the Apple Software', 'ORG'), ('the Apple Software',\n",
      "'ORG'), ('Apple Software', 'ORG'), ('Section 2M', 'LAW'), ('the Apple Software',\n",
      "'ORG'), ('the Apple Software', 'ORG'), ('Apple', 'ORG'), ('the Apple Software',\n",
      "'ORG'), ('Apple', 'ORG'), ('D. Apple', 'ORG'), ('License', 'PERSON'), ('Apple',\n",
      "'ORG'), ('5', 'CARDINAL'), ('Location Services', 'ORG'), ('Apple', 'ORG'),\n",
      "('Apple', 'ORG'), ('Privacy Policy', 'ORG'), ('6', 'CARDINAL'), ('Apple\n",
      "Software, Services', 'ORG'), ('Third Party Materials', 'ORG'), ('The Apple\n",
      "Software', 'ORG'), ('Apple', 'ORG'), ('iTunes Store', 'ORG'), ('Mac App Store',\n",
      "'WORK_OF_ART'), ('Apple \\nBooks, Game Center', 'ORG'), ('iCloud', 'ORG'),\n",
      "('Apple', 'ORG'), ('third', 'ORDINAL')]\n",
      "Relations:\n",
      "  - Apple [provides] the Apple Software\n",
      "  - the Apple Software [is part of] the Apple Software\n",
      "  - Apple [provides] Apple\n",
      "  - Apple [assigns] License\n",
      "  - Apple [is treated in accordance with] Apple\n",
      "  - The Apple Software [enables access to] Apple\n",
      "Text: A. General. The Apple Software[ENT0:ORG] may enable access to\n",
      "Apple[ENT1:ORG]’s iTunes Store[ENT2:ORG], Mac App Store[ENT3:WORK_OF_ART], Apple\n",
      "Books, Game Center[ENT4:ORG], iCloud[ENT5:ORG], Maps, News and other\n",
      "Apple[ENT6:ORG] and third[ENT7:ORDINAL] party services and web sites\n",
      "(collectively and individually, “Services”). Use of these Services requires\n",
      "Internet access and use of  certain Services may require an Apple\n",
      "Account[ENT8:ORG], may require you to accept additional terms and may be\n",
      "subject to additional fees. By using this software in connection with an Apple\n",
      "Account[ENT9:ORG], or other Apple  Services[ENT10:ORG], you agree to the\n",
      "applicable terms of service, such as the latest Apple Media Services[ENT11:ORG]\n",
      "Terms  and Conditions for the country or region in which you access such\n",
      "Services, which you may access and  review at\n",
      "https://www.apple.com/legal/internet-services/itunes/.[ENT12:ORG] B. If you sign\n",
      "up for iCloud[ENT13:PERSON], certain iCloud[ENT14:PERSON] features like “iCloud\n",
      "Drive”, “Shared Albums[ENT15:WORK_OF_ART]” and “Find My[ENT16:WORK_OF_ART]”  may\n",
      "be accessed directly from the Apple Software[ENT17:ORG]. You acknowledge and\n",
      "agree that your use of iCloud[ENT18:PERSON]  and these features is subject to\n",
      "the latest terms and conditions of the iCloud[ENT19:PERSON] service, which you\n",
      "may  access and review at:\n",
      "https://www.apple.com/legal/internet-services/icloud/. C. News App Content. Your\n",
      "use of content accessed through the News application is limited solely to\n",
      "personal, noncommercial use, does not transfer any ownership interest to you in\n",
      "the content, and  speciﬁcally excludes, without limitation, any commercial or\n",
      "promotional use rights in such content.   D. Maps. The maps service and features\n",
      "of the Apple Software[ENT20:ORG] (“Maps”), including map data coverage,  may\n",
      "vary by region. When you turn on or use Maps, details will be provided regarding\n",
      "what information  is sent to Apple[ENT21:ORG] and how the information may be\n",
      "used. You acknowledge and agree that your use of  Maps is subject to the latest\n",
      "terms and conditions of the Maps service, which you may access and  review on\n",
      "the sidebar of the Maps application.\n",
      "Entities: [('The Apple Software', 'ORG'), ('Apple', 'ORG'), ('iTunes Store',\n",
      "'ORG'), ('Mac App Store', 'WORK_OF_ART'), ('Apple \\nBooks, Game Center', 'ORG'),\n",
      "('iCloud', 'ORG'), ('Apple', 'ORG'), ('third', 'ORDINAL'), ('Apple Account',\n",
      "'ORG'), ('an Apple Account', 'ORG'), ('Apple \\nServices', 'ORG'), ('Apple Media\n",
      "Services', 'ORG'), ('https://www.apple.com/legal/internet-services/itunes/.',\n",
      "'ORG'), ('iCloud', 'PERSON'), ('iCloud', 'PERSON'), ('Shared Albums',\n",
      "'WORK_OF_ART'), ('Find My', 'WORK_OF_ART'), ('the Apple Software', 'ORG'),\n",
      "('iCloud', 'PERSON'), ('iCloud', 'PERSON'), ('the Apple Software', 'ORG'),\n",
      "('Apple', 'ORG')]\n",
      "Relations:\n",
      "  - The Apple Software [enables access to] Apple\n",
      "  - Apple [has access to] iTunes Store\n",
      "  - Apple [has access to] Mac App Store\n",
      "  - Apple [has access to] Apple  Books, Game Center\n",
      "  - Apple [has access to] iCloud\n",
      "  - Apple [has access to] Apple\n",
      "  - Apple Account [requires] an Apple Account\n",
      "  - Apple  Services [includes] Apple Media Services\n",
      "  - iCloud [has features] iCloud\n",
      "  - iCloud [is subject to] iCloud\n",
      "  - the Apple Software [provides information to] Apple\n",
      "Text: Maps is subject to the latest terms and conditions of the Maps service,\n",
      "which you may access and  review on the sidebar of the Maps application. E. You\n",
      "understand that by using any of the Apple Software and Services[ENT0:ORG], you\n",
      "may encounter content  that may be deemed oﬀensive, indecent, or objectionable,\n",
      "which content may or may not be identiﬁed  as having explicit language, and that\n",
      "the results of any search or entering of a particular URL may  automatically and\n",
      "unintentionally generate links or references to objectionable material.\n",
      "Nevertheless,  you agree to use the Apple Software and Services[ENT1:ORG] at\n",
      "your sole risk and that Apple[ENT2:ORG], its aﬃliates, agents,  principals, or\n",
      "licensors shall have no liability to you for content that may be found to be\n",
      "oﬀensive,  indecent, or objectionable. F. Certain Apple Software and\n",
      "Services[ENT3:ORG] may display, include or make available content, data,\n",
      "information, applications or materials from third[ENT4:ORDINAL] parties (“Third\n",
      "Party Materials”) or provide links to  certain third[ENT5:ORDINAL] party web\n",
      "sites. By using the Apple Software and Services[ENT6:ORG], you acknowledge and\n",
      "agree  that Apple[ENT7:ORG] is not responsible for examining or evaluating the\n",
      "content, accuracy, completeness,  timeliness, validity, copyright compliance,\n",
      "legality, decency, quality or any other aspect of such Third[ENT8:ORDINAL]\n",
      "Party Materials[ENT9:ORG] or web sites. Apple[ENT10:ORG], its oﬃcers, aﬃliates\n",
      "and subsidiaries do not warrant or endorse and  do not assume and will not have\n",
      "any liability or responsibility to you or any other person for any third- party\n",
      "Services[ENT11:ORG], Third Party Materials[ENT12:ORG] or web sites, or for any\n",
      "other materials, products, or services of  third[ENT13:ORDINAL] parties. Third\n",
      "Party Materials[ENT14:ORG] and links to other web sites are provided solely as a\n",
      "convenience to you. G. Neither Apple[ENT15:ORG] nor any of its content providers\n",
      "guarantees the availability, accuracy, completeness,  reliability, or timeliness\n",
      "of stock information, location data, health information or any other data\n",
      "displayed\n",
      "Entities: [('the Apple Software and Services', 'ORG'), ('the Apple Software and\n",
      "Services', 'ORG'), ('Apple', 'ORG'), ('F. Certain Apple Software and Services',\n",
      "'ORG'), ('third', 'ORDINAL'), ('third', 'ORDINAL'), ('the Apple Software and\n",
      "Services', 'ORG'), ('Apple', 'ORG'), ('Third', 'ORDINAL'), ('Party Materials',\n",
      "'ORG'), ('Apple', 'ORG'), ('party Services', 'ORG'), ('Third Party Materials',\n",
      "'ORG'), ('third', 'ORDINAL'), ('Third Party Materials', 'ORG'), ('G. Neither\n",
      "Apple', 'ORG')]\n",
      "Relations:\n",
      "  - the Apple Software and Services [uses] the Apple Software and Services\n",
      "  - the Apple Software and Services [provided_by] Apple\n",
      "  - F. Certain Apple Software and Services [includes] the Apple Software and\n",
      "Services\n",
      "  - the Apple Software and Services [provided_by] Apple\n",
      "  - Party Materials [related_to] party Services\n",
      "  - Third Party Materials [includes] Third Party Materials\n",
      "  - G. Neither Apple [associated_with] Apple\n",
      "Text: reliability, or timeliness of stock information, location data, health\n",
      "information or any other data displayed  by any Apple Software and\n",
      "Services[ENT0:ORG]. Financial information displayed by any Apple\n",
      "Software[ENT1:ORG] and  Services is for general informational purposes only and\n",
      "should not be relied upon as investment advice.  Before executing any securities\n",
      "transaction based upon information obtained through the Apple  Software and\n",
      "Services[ENT2:ORG], you should consult with a ﬁnancial or securities\n",
      "professional who is legally  qualiﬁed to give ﬁnancial or securities advice in\n",
      "your country or region. You should evaluate the outputs  generated by artiﬁcial\n",
      "intelligence for accuracy and appropriateness for your use case, including using\n",
      "human review as appropriate, before using or sharing the outputs from the Apple\n",
      "Software and Services[ENT3:ORG].  Location data provided by any Apple Software\n",
      "and Services[ENT4:ORG], including the Apple Maps[ENT5:ORG] service, is  provided\n",
      "for basic navigational and/or planning purposes only and is not intended to be\n",
      "relied upon in  situations where precise location information is needed or where\n",
      "erroneous, inaccurate, time-delayed or  incomplete location data may lead to\n",
      "death, personal injury, or property or environmental damage. You  agree that the\n",
      "results you receive from the Maps service may vary from actual road or terrain\n",
      "conditions  due to factors that can aﬀect the accuracy of the Maps[ENT6:ORG]\n",
      "data, such as, but not limited to, weather, road  and traﬃc conditions, and\n",
      "geopolitical events. For your safety, always pay attention to posted road signs\n",
      "and current road conditions. Follow safe driving practices and traﬃc\n",
      "regulations, and note that cycling  and walking directions may not include\n",
      "designated pathways. H. To the extent that you transmit any content through the\n",
      "use of the Apple Software and Services[ENT7:ORG], you  represent that you own\n",
      "all rights in, or have authorization or are otherwise legally permitted to\n",
      "transmit,\n",
      "Entities: [('Apple Software and Services', 'ORG'), ('Apple Software', 'ORG'),\n",
      "('the Apple \\nSoftware and Services', 'ORG'), ('the Apple Software and\n",
      "Services', 'ORG'), ('Apple Software and Services', 'ORG'), ('Apple Maps',\n",
      "'ORG'), ('Maps', 'ORG'), ('the Apple Software and Services', 'ORG')]\n",
      "Relations:\n",
      "  - Apple Software and Services [provides] Apple Software\n",
      "  - Apple Software [provides] the Apple  Software and Services\n",
      "  - the Apple  Software and Services [provides] the Apple Software and Services\n",
      "  - Apple Software and Services [includes] Apple Maps\n",
      "  - Apple Maps [provides] Maps\n",
      "  - Maps [transmits] the Apple Software and Services\n",
      "Text: represent that you own all rights in, or have authorization or are\n",
      "otherwise legally permitted to transmit,  such content and that such content\n",
      "does not violate any terms of service applicable to the Apple  Software and\n",
      "Services[ENT0:ORG]. You agree that the Apple Software and Services[ENT1:ORG]\n",
      "contain proprietary content,  information and material that is owned by\n",
      "Apple[ENT2:ORG], the site owner or their licensors, and is protected by\n",
      "applicable intellectual property and other laws, including but not limited to\n",
      "copyright. You agree that you  will not use such proprietary content,\n",
      "information or materials other than for permitted use of the Apple  Software and\n",
      "Services[ENT3:ORG] or in any manner that is inconsistent with the terms of this\n",
      "License[ENT4:PERSON] or that  infringes any intellectual property rights of a\n",
      "third[ENT5:ORDINAL] party or Apple[ENT6:ORG]. No portion of the Apple\n",
      "Software[ENT7:ORG] and  Services may be reproduced in any form or by any means.\n",
      "You agree not to modify, rent, lease, loan,  sell, distribute, or create\n",
      "derivative works based on the Apple Software and Services[ENT8:ORG], in any\n",
      "manner, and  you shall not exploit the Apple Software and Services[ENT9:ORG] in\n",
      "any unauthorized way whatsoever, including but  not limited to, using the Apple\n",
      "Software and Services[ENT10:ORG] to transmit any computer viruses, worms, trojan\n",
      "horses or other malware, or by trespass or burdening network capacity. You\n",
      "further agree not to use the  Apple Software and Services[ENT11:ORG] in any\n",
      "manner to spam, defraud, harass, abuse, stalk, threaten, defame or  otherwise\n",
      "infringe or violate the rights of any other party, and that Apple[ENT12:ORG] is\n",
      "not in any way responsible for  any such use by you, nor for any harassing,\n",
      "threatening, defamatory, oﬀensive, infringing or illegal  messages or\n",
      "transmissions that you may receive as a result of using any of the Apple\n",
      "Software[ENT13:ORG] and  Services. I. Certain Apple Software,\n",
      "Services[ENT14:ORG], and Third Party Materials[ENT15:ORG] may not be available\n",
      "in all languages or in  all countries or regions. Apple[ENT16:ORG] makes no\n",
      "representation that such Apple Software, Services[ENT17:ORG], and\n",
      "Third[ENT18:ORDINAL]\n",
      "Entities: [('the Apple \\nSoftware and Services', 'ORG'), ('the Apple Software\n",
      "and Services', 'ORG'), ('Apple', 'ORG'), ('the Apple \\nSoftware and Services',\n",
      "'ORG'), ('License', 'PERSON'), ('third', 'ORDINAL'), ('Apple', 'ORG'), ('the\n",
      "Apple Software', 'ORG'), ('the Apple Software and Services', 'ORG'), ('the Apple\n",
      "Software and Services', 'ORG'), ('the Apple Software and Services', 'ORG'),\n",
      "('Apple Software and Services', 'ORG'), ('Apple', 'ORG'), ('the Apple Software',\n",
      "'ORG'), ('I. Certain Apple Software, Services', 'ORG'), ('Third Party\n",
      "Materials', 'ORG'), ('Apple', 'ORG'), ('Apple Software, Services', 'ORG'),\n",
      "('Third', 'ORDINAL')]\n",
      "Relations:\n",
      "  - the Apple  Software and Services [contains] the Apple Software and Services\n",
      "  - the Apple Software and Services [owned_by] Apple\n",
      "  - the Apple Software and Services [permitted_use] the Apple  Software and\n",
      "Services\n",
      "  - Apple [is_related_to] Apple\n",
      "  - the Apple Software and Services [is_related_to] the Apple Software and\n",
      "Services\n",
      "  - the Apple Software and Services [is_related_to] the Apple Software and\n",
      "Services\n",
      "  - the Apple Software and Services [is_related_to] Apple Software and Services\n",
      "  - Apple [is_related_to] Apple\n",
      "  - the Apple Software and Services [is_related_to] I. Certain Apple Software,\n",
      "Services\n",
      "  - the Apple Software and Services [is_related_to] Apple Software, Services\n",
      "Text: all countries or regions. Apple[ENT0:ORG] makes no representation that\n",
      "such Apple Software, Services[ENT1:ORG], and Third[ENT2:ORDINAL]  Party\n",
      "Materials[ENT3:ORG] are appropriate or available for use in any particular\n",
      "location. To the extent you choose  to use or access such Apple Software,\n",
      "Services[ENT4:ORG], or Third Party Materials[ENT5:ORG], you do so at your own\n",
      "initiative  and are responsible for compliance with any applicable laws,\n",
      "including but not limited to applicable local  laws and privacy and data\n",
      "collection laws. Apple[ENT6:ORG] and its licensors reserve the right to change,\n",
      "suspend,  remove, or disable access to any Apple Software and Services[ENT7:ORG]\n",
      "at any time without notice. In no event  will Apple[ENT8:ORG] be liable for the\n",
      "removal of or disabling of access to any such Apple Software and\n",
      "Services[ENT9:ORG].  Apple[ENT10:ORG] may also impose limits on the use of or\n",
      "access to certain Apple Software and Services[ENT11:ORG], in any  case and\n",
      "without notice or liability.7. Termination. This License is eﬀective until\n",
      "terminated. Your rights under this License[ENT12:ORG] will terminate\n",
      "automatically or otherwise cease to be eﬀective without notice from\n",
      "Apple[ENT13:ORG] if you fail to comply with any  term(s) of this\n",
      "License[ENT14:ORG]. Upon the termination of this License[ENT15:ORG], you shall\n",
      "cease all use of the Apple  Software[ENT16:ORG] and destroy all copies, full or\n",
      "partial, of the Apple Software[ENT17:ORG]. Sections 5[ENT18:CARDINAL],\n",
      "6[ENT19:DATE], 7[ENT20:DATE], 8[ENT21:DATE], 9[ENT22:DATE], 11[ENT23:DATE],\n",
      "12[ENT24:DATE] and  13[ENT25:CARDINAL] of this License[ENT26:ORG] shall survive\n",
      "any such termination. 8[ENT27:CARDINAL]. Disclaimer of Warranties. A. If you are\n",
      "a customer who is a consumer (someone who uses the Apple Software[ENT28:ORG]\n",
      "outside of your  trade, business or profession), you may have legal rights in\n",
      "your country of residence which would  prohibit the following limitations from\n",
      "applying to you, and where prohibited they will not apply to you.  To ﬁnd out\n",
      "more about rights, you should contact a local consumer advice organization. For\n",
      "consumers  in Australia[ENT29:GPE], nothing in this License[ENT30:ORG] aﬀects,\n",
      "or is intended to aﬀect, your statutory rights under the  Australian Consumer\n",
      "Law (including the consumer guarantees).\n",
      "Entities: [('Apple', 'ORG'), ('Apple Software, Services', 'ORG'), ('Third',\n",
      "'ORDINAL'), ('Party Materials', 'ORG'), ('Apple Software, Services', 'ORG'),\n",
      "('Third Party Materials', 'ORG'), ('Apple', 'ORG'), ('Apple Software and\n",
      "Services', 'ORG'), ('Apple', 'ORG'), ('Apple Software and Services', 'ORG'),\n",
      "('Apple', 'ORG'), ('Apple Software and Services', 'ORG'), ('License', 'ORG'),\n",
      "('Apple', 'ORG'), ('License', 'ORG'), ('License', 'ORG'), ('the Apple\n",
      "\\nSoftware', 'ORG'), ('the Apple Software', 'ORG'), ('5', 'CARDINAL'), ('6',\n",
      "'DATE'), ('7', 'DATE'), ('8', 'DATE'), ('9', 'DATE'), ('11', 'DATE'), ('12',\n",
      "'DATE'), ('13', 'CARDINAL'), ('License', 'ORG'), ('8', 'CARDINAL'), ('Apple\n",
      "Software', 'ORG'), ('Australia', 'GPE'), ('License', 'ORG')]\n",
      "Relations:\n",
      "  - Apple [uses] Apple Software, Services\n",
      "  - Apple Software, Services [includes] Party Materials\n",
      "  - Apple Software, Services [includes] Apple Software, Services\n",
      "  - Apple Software, Services [includes] Apple Software and Services\n",
      "  - Apple Software, Services [includes] Apple Software and Services\n",
      "  - Apple Software, Services [includes] Apple Software and Services\n",
      "  - Apple Software, Services [includes] License\n",
      "  - Apple Software, Services [related_to] License\n",
      "  - Apple [related_to] Apple\n",
      "  - License [related_to] License\n",
      "  - Apple Software [related_to] Australia\n",
      "Text: in Australia[ENT0:GPE], nothing in this License[ENT1:ORG] aﬀects, or is\n",
      "intended to aﬀect, your statutory rights under the  Australian Consumer Law\n",
      "(including the consumer guarantees). B. YOU EXPRESSLY ACKNOWLEDGE AND AGREE\n",
      "THAT, TO THE EXTENT PERMITTED BY  APPLICABLE LAW, USE OF THE APPLE SOFTWARE AND\n",
      "ANY SERVICES PERFORMED BY OR  ACCESSED THROUGH THE APPLE SOFTWARE IS AT YOUR\n",
      "SOLE RISK AND THAT THE ENTIRE RISK  AS TO SATISFACTORY QUALITY, PERFORMANCE,\n",
      "ACCURACY AND EFFORT IS WITH YOU. C. TO THE MAXIMUM EXTENT PERMITTED BY\n",
      "APPLICABLE LAW, THE APPLE SOFTWARE[ENT2:ORG] AND  SERVICES ARE PROVIDED “AS IS”\n",
      "AND “AS AVAILABLE”, WITH ALL FAULTS AND WITHOUT  WARRANTY OF ANY KIND, AND\n",
      "APPLE[ENT3:ORG] AND APPLE[ENT4:ORG]’S LICENSORS (COLLECTIVELY REFERRED TO  AS\n",
      "“APPLE[ENT5:ORG]” FOR THE PURPOSES OF SECTIONS 8 AND 9) HEREBY DISCLAIM ALL\n",
      "WARRANTIES  AND CONDITIONS WITH RESPECT TO THE APPLE SOFTWARE AND\n",
      "SERVICES[ENT6:ORG], EITHER EXPRESS,  IMPLIED[ENT7:ORG] OR STATUTORY, INCLUDING,\n",
      "BUT NOT LIMITED TO, THE IMPLIED WARRANTIES AND/OR  CONDITIONS OF\n",
      "MERCHANTABILITY, SATISFACTORY QUALITY, FITNESS FOR A PARTICULAR  PURPOSE,\n",
      "ACCURACY, QUIET ENJOYMENT, AND NON-INFRINGEMENT OF THIRD[ENT8:ORDINAL] PARTY\n",
      "RIGHTS. D. APPLE DOES NOT WARRANT AGAINST INTERFERENCE WITH YOUR ENJOYMENT OF\n",
      "THE APPLE  SOFTWARE AND SERVICES, THAT THE FUNCTIONS CONTAINED IN, OR SERVICES\n",
      "PERFORMED OR  PROVIDED BY, THE APPLE SOFTWARE[ENT9:ORG] WILL MEET YOUR\n",
      "REQUIREMENTS, THAT THE OPERATION[ENT10:EVENT]  OF THE APPLE SOFTWARE AND\n",
      "SERVICES[ENT11:ORG] WILL BE UNINTERRUPTED OR ERROR-FREE, THAT ANY  SERVICES WILL\n",
      "CONTINUE TO BE MADE AVAILABLE, THAT DEFECTS IN THE APPLE SOFTWARE OR  SERVICES\n",
      "WILL BE CORRECTED, OR THAT THE APPLE SOFTWARE OR[ENT12:ORG] SERVICES WILL BE\n",
      "COMPATIBLE OR WORK WITH ANY THIRD[ENT13:ORDINAL] PARTY SOFTWARE,\n",
      "APPLICATIONS[ENT14:ORG] OR THIRD PARTY  SERVICES. INSTALLATION OF THIS APPLE\n",
      "SOFTWARE MAY AFFECT THE AVAILABILITY AND  USABILITY[ENT15:ORDINAL] OF\n",
      "THIRD[ENT16:ORDINAL] PARTY SOFTWARE, APPLICATIONS[ENT17:ORG] OR\n",
      "THIRD[ENT18:ORDINAL] PARTY SERVICES, AS WELL AS  APPLE PRODUCTS AND SERVICES. E.\n",
      "YOU FURTHER ACKNOWLEDGE THAT THE APPLE SOFTWARE[ENT19:ORG] AND SERVICES ARE NOT\n",
      "Entities: [('Australia', 'GPE'), ('License', 'ORG'), ('THE APPLE SOFTWARE',\n",
      "'ORG'), ('APPLE', 'ORG'), ('APPLE', 'ORG'), ('APPLE', 'ORG'), ('THE APPLE\n",
      "SOFTWARE AND SERVICES', 'ORG'), ('IMPLIED', 'ORG'), ('THIRD', 'ORDINAL'), ('THE\n",
      "APPLE SOFTWARE', 'ORG'), ('OPERATION', 'EVENT'), ('THE APPLE SOFTWARE AND\n",
      "SERVICES', 'ORG'), ('THE APPLE SOFTWARE OR', 'ORG'), ('THIRD', 'ORDINAL'),\n",
      "('APPLICATIONS', 'ORG'), ('USABILITY', 'ORDINAL'), ('THIRD', 'ORDINAL'),\n",
      "('APPLICATIONS', 'ORG'), ('THIRD', 'ORDINAL'), ('THE APPLE SOFTWARE', 'ORG')]\n",
      "Relations:\n",
      "  - Australia [affects] License\n",
      "  - THE APPLE SOFTWARE [is_part_of] APPLE\n",
      "  - APPLE [is_referred_to_as] APPLE\n",
      "  - THE APPLE SOFTWARE [provides] THE APPLE SOFTWARE AND SERVICES\n",
      "  - THE APPLE SOFTWARE [is_part_of] THE APPLE SOFTWARE AND SERVICES\n",
      "  - THE APPLE SOFTWARE OR [is_related_to] APPLICATIONS\n",
      "  - THIRD [is_related_to] USABILITY\n",
      "  - THIRD [is_related_to] APPLICATIONS\n",
      "Text: USABILITY OF THIRD PARTY SOFTWARE[ENT0:ORG], APPLICATIONS[ENT1:ORG] OR\n",
      "THIRD[ENT2:ORDINAL] PARTY SERVICES, AS WELL AS  APPLE PRODUCTS AND SERVICES. E.\n",
      "YOU FURTHER ACKNOWLEDGE THAT THE APPLE SOFTWARE[ENT3:ORG] AND SERVICES ARE NOT\n",
      "INTENDED OR SUITABLE FOR USE IN SITUATIONS OR ENVIRONMENTS WHERE THE FAILURE OR\n",
      "TIME DELAYS OF, OR ERRORS OR INACCURACIES IN THE CONTENT[ENT4:ORG], DATA OR\n",
      "INFORMATION  PROVIDED BY THE APPLE SOFTWARE OR[ENT5:ORG] SERVICES COULD LEAD TO\n",
      "DEATH, PERSONAL INJURY,  OR SEVERE PHYSICAL OR ENVIRONMENTAL DAMAGE, INCLUDING\n",
      "WITHOUT LIMITATION THE  OPERATION OF NUCLEAR FACILITIES[ENT6:EVENT], AIRCRAFT\n",
      "NAVIGATION OR COMMUNICATION SYSTEMS,  AIR TRAFFIC CONTROL, LIFE SUPPORT OR\n",
      "WEAPONS SYSTEMS. F. NO ORAL OR WRITTEN INFORMATION OR ADVICE GIVEN BY\n",
      "APPLE[ENT7:ORG] OR AN APPLE[ENT8:ORG] AUTHORIZED  REPRESENTATIVE SHALL CREATE A\n",
      "WARRANTY. SHOULD THE APPLE SOFTWARE OR SERVICES  PROVE DEFECTIVE, YOU ASSUME THE\n",
      "ENTIRE COST OF ALL NECESSARY SERVICING, REPAIR OR  CORRECTION.  SOME\n",
      "JURISDICTIONS DO NOT ALLOW THE EXCLUSION OF IMPLIED WARRANTIES  OR LIMITATIONS\n",
      "ON APPLICABLE STATUTORY RIGHTS OF A CONSUMER, SO THE ABOVE EXCLUSION AND\n",
      "LIMITATIONS MAY NOT APPLY TO YOU. 9[ENT9:CARDINAL]. Limitation of Liability.\n",
      "EXCEPT AS OTHERWISE PROVIDED IN THIS LICENSE, TO THE EXTENT  NOT PROHIBITED BY\n",
      "APPLICABLE LAW, IN NO EVENT SHALL APPLE, ITS AFFILIATES, AGENTS OR  PRINCIPALS\n",
      "BE LIABLE FOR PERSONAL INJURY, OR ANY INCIDENTAL, SPECIAL, INDIRECT OR\n",
      "CONSEQUENTIAL DAMAGES WHATSOEVER, INCLUDING, WITHOUT LIMITATION, DAMAGES FOR\n",
      "LOSS OF PROFITS, CORRUPTION OR LOSS OF DATA, FAILURE TO TRANSMIT OR RECEIVE ANY\n",
      "DATA OR INFORMATION (INCLUDING WITHOUT LIMITATION COURSE INSTRUCTIONS,\n",
      "ASSIGNMENTS AND MATERIALS), BUSINESS INTERRUPTION OR ANY OTHER COMMERCIAL\n",
      "DAMAGES OR LOSSES, ARISING OUT OF OR RELATED TO YOUR USE OR INABILITY TO USE THE\n",
      "APPLE SOFTWARE OR[ENT10:ORG] SERVICES OR ANY THIRD[ENT11:ORDINAL] PARTY\n",
      "SOFTWARE, APPLICATIONS[ENT12:ORG] OR SERVICES  IN CONJUNCTION WITH THE APPLE\n",
      "SOFTWARE OR SERVICES, HOWEVER CAUSED, REGARDLESS  OF THE THEORY OF LIABILITY\n",
      "(CONTRACT, TORT OR OTHERWISE) AND EVEN IF APPLE[ENT13:ORG] HAS BEEN\n",
      "Entities: [('USABILITY OF THIRD PARTY SOFTWARE', 'ORG'), ('APPLICATIONS',\n",
      "'ORG'), ('THIRD', 'ORDINAL'), ('THE APPLE SOFTWARE', 'ORG'), ('CONTENT', 'ORG'),\n",
      "('THE APPLE SOFTWARE OR', 'ORG'), ('OPERATION OF NUCLEAR FACILITIES', 'EVENT'),\n",
      "('APPLE', 'ORG'), ('APPLE', 'ORG'), ('9', 'CARDINAL'), ('APPLE SOFTWARE OR',\n",
      "'ORG'), ('THIRD', 'ORDINAL'), ('APPLICATIONS', 'ORG'), ('APPLE', 'ORG')]\n",
      "Relations:\n",
      "  - USABILITY OF THIRD PARTY SOFTWARE [related_to] APPLICATIONS\n",
      "  - THE APPLE SOFTWARE [related_to] THE APPLE SOFTWARE OR\n",
      "  - THE APPLE SOFTWARE [provides] CONTENT\n",
      "  - APPLE [related_to] APPLE\n",
      "  - APPLE [related_to] APPLE SOFTWARE OR\n",
      "  - THIRD [related_to] APPLICATIONS\n",
      "  - THE APPLE SOFTWARE [related_to] APPLE SOFTWARE OR\n",
      "Text: IN CONJUNCTION WITH THE APPLE SOFTWARE OR SERVICES, HOWEVER CAUSED,\n",
      "REGARDLESS  OF THE THEORY OF LIABILITY (CONTRACT, TORT OR OTHERWISE) AND EVEN IF\n",
      "APPLE[ENT0:ORG] HAS BEEN  ADVISED OF THE POSSIBILITY OF SUCH DAMAGES. SOME\n",
      "JURISDICTIONS DO NOT ALLOW THE  EXCLUSION OR LIMITATION OF LIABILITY FOR\n",
      "PERSONAL INJURY, OR OF INCIDENTAL OR  CONSEQUENTIAL DAMAGES, SO THIS LIMITATION\n",
      "MAY[ENT1:DATE] NOT APPLY TO YOU. In no event shall  Apple[ENT2:ORG]’s total\n",
      "liability to you for all damages (other than as may be required by applicable\n",
      "law in cases  involving personal injury) exceed the amount of two\n",
      "hundred[ENT3:CARDINAL] and ﬁfty dollars (U.S.$250.00).  The  foregoing\n",
      "limitations will apply even if the above stated remedy fails of its essential\n",
      "purpose.  NOTWITHSTANDING ANY OTHER TERMS IN THIS LICENSE, IF THE CONSUMER\n",
      "CONTRACT ACT OF  JAPAN[ENT4:GPE] APPLIES, TERMS WHICH LIMIT APPLE[ENT5:ORG]’S\n",
      "LIABILITY FOR DAMAGES ARISING FROM BREACH  OF THE CONTRACT OR TORT COMMITTED BY\n",
      "APPLE SHALL NOT APPLY IF SUCH DAMAGE IS DUE  TO APPLE[ENT6:ORG]’S INTENTIONAL\n",
      "MISCONDUCT OR GROSS NEGLIGENCE. 10[ENT7:CARDINAL]. Export Control. You may not\n",
      "use or otherwise export or reexport the Apple Software[ENT8:ORG] except as\n",
      "authorized by United States[ENT9:GPE] law and the laws of the jurisdiction(s) in\n",
      "which the Apple Software[ENT10:ORG] was  obtained. In particular, but without\n",
      "limitation, the Apple Software[ENT11:ORG] may not be exported or re-exported (a)\n",
      "into any U.S.[ENT12:GPE] embargoed countries or (b) to anyone on the U.S.\n",
      "Treasury Department[ENT13:ORG]’s list of Specially  Designated Nationals or the\n",
      "U.S. Department of Commerce Denied Person’s[ENT14:ORG] List or Entity List or\n",
      "any  other restricted party lists. By using the Apple Software[ENT15:ORG], you\n",
      "represent and warrant that you are not  located in any such country or on any\n",
      "such list. You also agree that you will not use the Apple Software[ENT16:ORG]\n",
      "for any purposes prohibited by United States[ENT17:GPE] law, including, without\n",
      "limitation, the development, design,  manufacture or production of missiles,\n",
      "nuclear, chemical or biological weapons.\n",
      "Entities: [('APPLE', 'ORG'), ('MAY', 'DATE'), ('Apple', 'ORG'), ('two hundred',\n",
      "'CARDINAL'), ('JAPAN', 'GPE'), ('APPLE', 'ORG'), ('APPLE', 'ORG'), ('10',\n",
      "'CARDINAL'), ('the Apple Software', 'ORG'), ('United States', 'GPE'), ('the\n",
      "Apple Software', 'ORG'), ('the Apple Software', 'ORG'), ('U.S.', 'GPE'), ('the\n",
      "U.S. Treasury Department', 'ORG'), ('the U.S. Department of Commerce Denied\n",
      "Person’s', 'ORG'), ('the Apple Software', 'ORG'), ('Apple Software', 'ORG'),\n",
      "('United States', 'GPE')]\n",
      "Relations:\n",
      "  - APPLE [is_related_to] Apple\n",
      "  - APPLE [is_related_to] APPLE\n",
      "  - the Apple Software [is_related_to] the Apple Software\n",
      "  - the Apple Software [is_related_to] the Apple Software\n",
      "  - United States [is_related_to] United States\n",
      "Text: for any purposes prohibited by United States[ENT0:GPE] law, including,\n",
      "without limitation, the development, design,  manufacture or production of\n",
      "missiles, nuclear, chemical or biological weapons. 11[ENT1:CARDINAL]. Government\n",
      "End Users. The Apple Software[ENT2:ORG] and related documentation are\n",
      "“Commercial  Products”, as that term is deﬁned at 48[ENT3:CARDINAL]\n",
      "C.F.R.[ENT4:ORG] §2.101[ENT5:CARDINAL], consisting of “Commercial Computer\n",
      "Software[ENT6:ORG]”  and “Commercial Computer Software Documentation[ENT7:ORG]”,\n",
      "as such terms are used in 48[ENT8:CARDINAL] C.F.R.[ENT9:ORG]\n",
      "§12.212[ENT10:CARDINAL] or  48[ENT11:CARDINAL] C.F.R.[ENT12:ORG]\n",
      "§227.7202[ENT13:CARDINAL], as applicable. Consistent with 48[ENT14:CARDINAL]\n",
      "C.F.R.[ENT15:ORG] §12.212[ENT16:CARDINAL] or 48[ENT17:CARDINAL]\n",
      "C.F.R.[ENT18:ORG] §227.7202[ENT19:CARDINAL]-1  through 227.7202-4[ENT20:DATE],\n",
      "as applicable, the Commercial Computer Software[ENT21:ORG] and Commercial\n",
      "Computer  Software Documentation[ENT22:ORG] are being licensed to U.S.\n",
      "Government[ENT23:ORG] end users (a) only as Commercial  Products and (b) with\n",
      "only those rights as are granted to all other end users pursuant to the terms\n",
      "and  conditions herein.  Unpublished-rights reserved under the copyright laws of\n",
      "the United States[ENT24:GPE]. 12[ENT25:CARDINAL]. Controlling Law[ENT26:PERSON]\n",
      "and Severability[ENT27:ORG]. This License[ENT28:ORG] will be governed by and\n",
      "construed in accordance  with the laws of the State of California[ENT29:ORG],\n",
      "excluding its conﬂict of law principles. This License shall not be  governed by\n",
      "the United Nations Convention on Contracts for the International Sale of\n",
      "Goods[ENT30:ORG], the  application of which is expressly excluded. If you are a\n",
      "consumer based in the United Kingdom[ENT31:GPE], this  License will be governed\n",
      "by the laws of the jurisdiction of your residence. If for any reason a court of\n",
      "competent jurisdiction ﬁnds any provision, or portion thereof, to be\n",
      "unenforceable, the remainder of this  License shall continue in full force and\n",
      "eﬀect. 13[ENT32:CARDINAL]. Complete Agreement; Governing\n",
      "Language[ENT33:WORK_OF_ART]. This License constitutes the entire agreement\n",
      "between you and Apple[ENT34:ORG] relating to the Apple Software[ENT35:ORG] and\n",
      "supersedes all prior or contemporaneous  understandings regarding such subject\n",
      "matter.  No amendment to or modiﬁcation of this License[ENT36:ORG] will be\n",
      "Entities: [('United States', 'GPE'), ('11', 'CARDINAL'), ('The Apple Software',\n",
      "'ORG'), ('48', 'CARDINAL'), ('C.F.R.', 'ORG'), ('2.101', 'CARDINAL'),\n",
      "('Commercial Computer Software', 'ORG'), ('Commercial Computer Software\n",
      "Documentation', 'ORG'), ('48', 'CARDINAL'), ('C.F.R.', 'ORG'), ('12.212',\n",
      "'CARDINAL'), ('48', 'CARDINAL'), ('C.F.R.', 'ORG'), ('227.7202', 'CARDINAL'),\n",
      "('48', 'CARDINAL'), ('C.F.R.', 'ORG'), ('12.212', 'CARDINAL'), ('48',\n",
      "'CARDINAL'), ('C.F.R.', 'ORG'), ('227.7202', 'CARDINAL'), ('227.7202-4',\n",
      "'DATE'), ('the Commercial Computer Software', 'ORG'), ('Commercial Computer\n",
      "\\nSoftware Documentation', 'ORG'), ('U.S. Government', 'ORG'), ('the United\n",
      "States', 'GPE'), ('12', 'CARDINAL'), ('Law', 'PERSON'), ('Severability', 'ORG'),\n",
      "('License', 'ORG'), ('the State of California', 'ORG'), ('the United Nations\n",
      "Convention on Contracts for the International Sale of Goods', 'ORG'), ('the\n",
      "United Kingdom', 'GPE'), ('13', 'CARDINAL'), ('Governing Language',\n",
      "'WORK_OF_ART'), ('Apple', 'ORG'), ('the Apple Software', 'ORG'), ('License',\n",
      "'ORG')]\n",
      "Relations:\n",
      "  - United States [governed_by] the United States\n",
      "  - The Apple Software [related_to] Apple\n",
      "  - Apple [relates_to] the Apple Software\n",
      "  - the State of California [governed_by] Law\n",
      "  - the United Kingdom [governed_by] the State of California\n",
      "  - License [issued_by] Apple\n",
      "Text: understandings regarding such subject matter.  No amendment to or\n",
      "modiﬁcation of this License[ENT0:ORG] will be  binding unless in writing and\n",
      "signed by Apple[ENT1:ORG]. Any translation of this License[ENT2:ORG] is done for\n",
      "local  requirements and in the event of a dispute between the\n",
      "English[ENT3:LANGUAGE] and any non-English versions, the  English[ENT4:LANGUAGE]\n",
      "version of this License[ENT5:ORG] shall govern, to the extent not prohibited by\n",
      "local law in your jurisdiction. 14[ENT6:CARDINAL]. Third Party Acknowledgements.\n",
      "A. Portions of the Apple Software[ENT7:ORG] may utilize or include\n",
      "third[ENT8:ORDINAL] party software and other copyrighted  material.\n",
      "Acknowledgements, licensing terms and disclaimers for such material are\n",
      "contained in the  electronic documentation for the Apple Software[ENT9:ORG], and\n",
      "your use of such material is governed by their  respective terms. Use of the\n",
      "Google Safe Browsing Service[ENT10:ORG] is subject to the Google Terms of\n",
      "Service[ENT11:ORG]  (https://www.google.com/intl/en/policies/terms/) and to\n",
      "Google[ENT12:ORG]’s Privacy Policy (https://\n",
      "www.google.com/intl/en/policies/privacy/). B. Certain software libraries and\n",
      "other third[ENT13:ORDINAL] party software included with the Apple\n",
      "Software[ENT14:ORG] are free  software and licensed under the terms of the GNU\n",
      "General Public License (GPL) or the GNU[ENT15:ORG] Library/ Lesser General\n",
      "Public License[ENT16:ORG] (LGPL), as the case may be. You may obtain a complete\n",
      "machine- readable copy of the source code for such free software under the terms\n",
      "of the GPL or LGPL[ENT17:ORG], as the  case may be, without charge except for\n",
      "the cost of media, shipping, and handling, upon written request  to\n",
      "Apple[ENT18:ORG] at opensource@apple.com. The GPL/LGPL software is distributed\n",
      "in the hope that it will be  useful, but WITHOUT ANY WARRANTY[ENT19:ORG],\n",
      "without even the implied warranty of MERCHANTABILITY or  FITNESS FOR A\n",
      "PARTICULAR PURPOSE.  A copy of the GPL[ENT20:ORG] and LGPL[ENT21:ORG] is\n",
      "included with the Apple  Software[ENT22:ORG]. C. Use of MPEG-4[ENT23:ORG]. This\n",
      "product is licensed under the MPEG-4 Systems Patent Portfolio License[ENT24:ORG]\n",
      "for  encoding in compliance with the MPEG-4 Systems Standard[ENT25:ORG], except\n",
      "that an additional license and\n",
      "Entities: [('License', 'ORG'), ('Apple', 'ORG'), ('License', 'ORG'), ('English',\n",
      "'LANGUAGE'), ('English', 'LANGUAGE'), ('License', 'ORG'), ('14', 'CARDINAL'),\n",
      "('A. Portions of the Apple Software', 'ORG'), ('third', 'ORDINAL'), ('the Apple\n",
      "Software', 'ORG'), ('the Google Safe Browsing Service', 'ORG'), ('the Google\n",
      "Terms of Service', 'ORG'), ('Google', 'ORG'), ('third', 'ORDINAL'), ('the Apple\n",
      "Software', 'ORG'), ('GNU', 'ORG'), ('Lesser General Public License', 'ORG'),\n",
      "('LGPL', 'ORG'), ('Apple', 'ORG'), ('WARRANTY', 'ORG'), ('GPL', 'ORG'), ('LGPL',\n",
      "'ORG'), ('the Apple \\nSoftware', 'ORG'), ('C. Use of MPEG-4', 'ORG'), ('the\n",
      "MPEG-4 Systems Patent Portfolio License', 'ORG'), ('the MPEG-4 Systems\n",
      "Standard', 'ORG')]\n",
      "Relations:\n",
      "  - License [signed_by] Apple\n",
      "  - License [translation_of] License\n",
      "  - English [language_version] English\n",
      "  - A. Portions of the Apple Software [utilizes] the Apple Software\n",
      "  - the Google Safe Browsing Service [subject_to] the Google Terms of Service\n",
      "  - the Apple Software [request_to] Apple\n",
      "  - WARRANTY [includes] GPL\n",
      "  - GPL [includes] LGPL\n",
      "  - the Apple  Software [licensed_under] the MPEG-4 Systems Patent Portfolio\n",
      "License\n",
      "Text: C. Use of MPEG-4. This product is licensed under the MPEG-4 Systems Patent\n",
      "Portfolio License[ENT0:ORG] for  encoding in compliance with the MPEG-4 Systems\n",
      "Standard[ENT1:ORG], except that an additional license and  payment of royalties\n",
      "are necessary for encoding in connection with (i) data stored or replicated in\n",
      "physical media which is paid for on a title by title basis and/or (ii) data\n",
      "which is paid for on a title by title  basis and is transmitted to an end user\n",
      "for permanent storage and/or use. Such additional license may  be obtained from\n",
      "MPEG LA[ENT2:ORG], LLC[ENT3:GPE]. See https://www.mpegla.com for additional\n",
      "details. This product is licensed under the MPEG-4 Visual Patent Portfolio\n",
      "License[ENT4:ORG] for the personal and non- commercial use of a consumer for (i)\n",
      "encoding video in compliance with the MPEG-4 Visual Standard[ENT5:ORG]  (“MPEG-4\n",
      "Video”) and/or (ii) decoding MPEG-4 video that was encoded by a consumer engaged\n",
      "in a  personal and non-commercial activity and/or was obtained from a video\n",
      "provider licensed by MPEG LA[ENT6:ORG]  to provide MPEG-4 video. No license is\n",
      "granted or shall be implied for any other use. Additional  information including\n",
      "that relating to promotional, internal and commercial uses and licensing may be\n",
      "obtained from MPEG LA[ENT7:ORG], LLC[ENT8:GPE]. See https://www.mpegla.com. D.\n",
      "H.264/AVC Notice[ENT9:ORG].  To the extent that the Apple Software[ENT10:ORG]\n",
      "contains AVC[ENT11:ORG] encoding and/or decoding  functionality, commercial use\n",
      "of H.264/AVC requires additional licensing and the following provision  applies:\n",
      "THE AVC FUNCTIONALITY IN THIS PRODUCT IS LICENSED HEREIN ONLY FOR THE  PERSONAL\n",
      "AND NON-COMMERCIAL USE OF A CONSUMER TO (i) ENCODE VIDEO IN COMPLIANCE  WITH THE\n",
      "AVC STANDARD[ENT12:ORG] (“AVC VIDEO”) AND/OR (ii) DECODE AVC VIDEO THAT WAS\n",
      "ENCODED BY  A CONSUMER ENGAGED IN A PERSONAL AND NON-COMMERCIAL ACTIVITY AND/OR\n",
      "AVC VIDEO  THAT WAS OBTAINED FROM A VIDEO PROVIDER LICENSED TO PROVIDE AVC\n",
      "VIDEO.  INFORMATION REGARDING OTHER USES AND LICENSES MAY BE OBTAINED FROM MPEG\n",
      "LA  L.L.C.[ENT13:ORG] SEE HTTPS://WWW.MPEGLA.COM[ENT14:GPE].\n",
      "Entities: [('the MPEG-4 Systems Patent Portfolio License', 'ORG'), ('the MPEG-4\n",
      "Systems Standard', 'ORG'), ('MPEG LA', 'ORG'), ('LLC', 'GPE'), ('the MPEG-4\n",
      "Visual Patent Portfolio License', 'ORG'), ('the MPEG-4 Visual Standard', 'ORG'),\n",
      "('MPEG LA', 'ORG'), ('MPEG LA', 'ORG'), ('LLC', 'GPE'), ('AVC Notice', 'ORG'),\n",
      "('the Apple Software', 'ORG'), ('AVC', 'ORG'), ('THE AVC STANDARD', 'ORG'),\n",
      "('MPEG LA \\nL.L.C.', 'ORG'), ('HTTPS://WWW.MPEGLA.COM', 'GPE')]\n",
      "Relations:\n",
      "  - the MPEG-4 Systems Patent Portfolio License [licensed under] the MPEG-4\n",
      "Systems Standard\n",
      "  - MPEG LA [associated with] LLC\n",
      "  - the MPEG-4 Visual Patent Portfolio License [licensed under] the MPEG-4\n",
      "Visual Standard\n",
      "  - MPEG LA [associated with] MPEG LA\n",
      "  - AVC Notice [contains] the Apple Software\n",
      "  - AVC [compliance with] THE AVC STANDARD\n",
      "  - MPEG LA  L.L.C. [associated with] HTTPS://WWW.MPEGLA.COM\n",
      "Text: THAT WAS OBTAINED FROM A VIDEO PROVIDER LICENSED TO PROVIDE AVC VIDEO.\n",
      "INFORMATION REGARDING OTHER USES AND LICENSES MAY BE OBTAINED FROM MPEG LA\n",
      "L.L.C.[ENT0:ORG] SEE HTTPS://WWW.MPEGLA.COM[ENT1:GPE]. E. AMR Notice[ENT2:ORG].\n",
      "The Adaptive Multi-Rate (“AMR[ENT3:ORG]”) encoding and decoding functionality in\n",
      "this product is  not licensed to perform cellular voice calls, or for use in any\n",
      "telephony products built on the QuickTime  architecture for the\n",
      "Windows[ENT4:PRODUCT] platform. The AMR[ENT5:ORG] encoding and decoding\n",
      "functionality in this product is also not licensed for use in a cellular\n",
      "communications infrastructure including:  base stations, base  station\n",
      "controllers/radio network controllers, switching centers, and gateways to and\n",
      "from the public  switched network. F. FAA Notice[ENT6:ORG]. Aircraft Situation\n",
      "Display and National Airspace System Status Information[ENT7:ORG] data\n",
      "(collectively “Flight Data[ENT8:PRODUCT]”) displayed through the Apple\n",
      "Software[ENT9:ORG] is generated by the Federal Aviation\n",
      "Administration[ENT10:ORG]. You agree not to redistribute Flight Data[ENT11:ORG]\n",
      "without the prior written consent of the FAA[ENT12:ORG].  The FAA[ENT13:ORG] and\n",
      "Apple[ENT14:ORG] disclaim all warranties, expressed or implied (including the\n",
      "implied warranties of  merchantability and ﬁtness for a particular purpose),\n",
      "regarding the use and accuracy of the Flight Data[ENT15:ORG].  You agree that\n",
      "the FAA[ENT16:ORG] and Apple[ENT17:ORG] shall not be liable, either collectively\n",
      "or individually, for any loss,  damage, claim, liability, expense, or penalty,\n",
      "or for any indirect, special, secondary, incidental, or  consequential damages\n",
      "deriving from the use of the Flight Data[ENT18:ORG]. The Apple\n",
      "Software[ENT19:ORG] is not sponsored or  endorsed by the FAA[ENT20:ORG]. The\n",
      "FAA[ENT21:ORG] is not responsible for technical or system problems, and you\n",
      "should not  contact the FAA[ENT22:ORG] regarding such problems or regarding\n",
      "operational traﬃc ﬂow issues. G. Use[ENT23:PERSON] of Adobe Color\n",
      "Proﬁles[ENT24:ORG]. You may use the Adobe Color Proﬁle software included with\n",
      "the Apple[ENT25:ORG]  Software pursuant to this License[ENT26:ORG], but\n",
      "Adobe[ENT27:PERSON] is under no obligation to provide any support for the Color\n",
      "Entities: [('MPEG LA \\nL.L.C.', 'ORG'), ('HTTPS://WWW.MPEGLA.COM', 'GPE'), ('E.\n",
      "AMR Notice', 'ORG'), ('AMR', 'ORG'), ('Windows', 'PRODUCT'), ('AMR', 'ORG'),\n",
      "('F. FAA Notice', 'ORG'), ('National Airspace System Status Information',\n",
      "'ORG'), ('Flight Data', 'PRODUCT'), ('the Apple Software', 'ORG'), ('the Federal\n",
      "Aviation \\nAdministration', 'ORG'), ('Flight Data', 'ORG'), ('FAA', 'ORG'),\n",
      "('FAA', 'ORG'), ('Apple', 'ORG'), ('the Flight Data', 'ORG'), ('FAA', 'ORG'),\n",
      "('Apple', 'ORG'), ('the Flight Data', 'ORG'), ('The Apple Software', 'ORG'),\n",
      "('FAA', 'ORG'), ('FAA', 'ORG'), ('FAA', 'ORG'), ('G. Use', 'PERSON'), ('Adobe\n",
      "Color Proﬁles', 'ORG'), ('Apple', 'ORG'), ('License', 'ORG'), ('Adobe',\n",
      "'PERSON')]\n",
      "Relations:\n",
      "  - MPEG LA  L.L.C. [provides_information] HTTPS://WWW.MPEGLA.COM\n",
      "  - E. AMR Notice [is_related_to] AMR\n",
      "  - AMR [is_used_in] Windows\n",
      "  - F. FAA Notice [provides_data] National Airspace System Status Information\n",
      "  - the Federal Aviation  Administration [generates] Flight Data\n",
      "  - FAA [disclaims_warranties] Apple\n",
      "  - FAA [is_not_responsible_for] Apple\n",
      "  - G. Use [is_used_with] Apple\n",
      "  - Adobe Color Proﬁles [is_part_of] License\n",
      "Text: Software pursuant to this License[ENT0:ORG], but Adobe[ENT1:PERSON] is\n",
      "under no obligation to provide any support for the Color  Proﬁles[ENT2:ORG]\n",
      "hereunder, including upgrades or future versions of the Proﬁles[ENT3:NORP] or\n",
      "other items. In addition to the  provisions of Sections 8[ENT4:CARDINAL] and 9\n",
      "above, IN NO EVENT WILL ADOBE BE LIABLE TO YOU FOR ANY  DAMAGES, CLAIMS OR COSTS\n",
      "WHATSOEVER.  The Adobe Color Proﬁle[ENT5:ORG] software distributed with the\n",
      "Apple Software[ENT6:ORG] is also available for download from Adobe[ENT7:PERSON]\n",
      "at https://www.adobe.com. H. Gracenote® End User License Agreement[ENT8:ORG].\n",
      "This application or device contains software from  Gracenote, Inc.[ENT9:ORG] of\n",
      "Emeryville[ENT10:GPE], California[ENT11:GPE] (“Gracenote[ENT12:FAC]”).  The\n",
      "software from Gracenote[ENT13:GPE] (the “Gracenote  Software”) enables this\n",
      "application to perform disc and/or ﬁle identiﬁcation and obtain music-related\n",
      "information, including name, artist, track, and title information (“Gracenote\n",
      "Data[ENT14:WORK_OF_ART]”) from online servers or  embedded databases\n",
      "(collectively, “Gracenote Servers[ENT15:WORK_OF_ART]”) and to perform other\n",
      "functions. You may use  Gracenote Data[ENT16:ORG] only by means of the intended\n",
      "End-User functions of this application or device.  You agree that you will use\n",
      "Gracenote Data[ENT17:ORG], the Gracenote Software[ENT18:ORG], and Gracenote\n",
      "Servers[ENT19:ORG] for your  own personal non-commercial use only.  You agree\n",
      "not to assign, copy, transfer or transmit the  Gracenote Software[ENT20:ORG] or\n",
      "any Gracenote Data[ENT21:ORG] to any third[ENT22:ORDINAL] party. YOU AGREE NOT\n",
      "TO USE OR EXPLOIT  GRACENOTE DATA, THE GRACENOTE SOFTWARE[ENT23:ORG], OR\n",
      "GRACENOTE SERVERS, EXCEPT AS  EXPRESSLY PERMITTED HEREIN.  You agree that your\n",
      "non-exclusive license to use the Gracenote Data, the Gracenote\n",
      "Software[ENT24:ORG], and  Gracenote Servers[ENT25:ORG] will terminate if you\n",
      "violate these restrictions.  If your license terminates, you agree to  cease any\n",
      "and all use of the Gracenote Data[ENT26:ORG], the Gracenote Software[ENT27:ORG],\n",
      "and Gracenote Servers[ENT28:ORG].  Gracenote[ENT29:GPE] reserves all rights in\n",
      "Gracenote Data[ENT30:ORG], the Gracenote Software[ENT31:ORG], and the Gracenote\n",
      "Servers[ENT32:ORG],  including all ownership rights.  Under no circumstances\n",
      "will Gracenote[ENT33:GPE] become liable for any payment to\n",
      "Entities: [('License', 'ORG'), ('Adobe', 'PERSON'), ('the Color \\nProﬁles',\n",
      "'ORG'), ('Proﬁles', 'NORP'), ('8', 'CARDINAL'), ('The Adobe Color Proﬁle',\n",
      "'ORG'), ('the \\nApple Software', 'ORG'), ('Adobe', 'PERSON'), ('H. Gracenote®\n",
      "End User License Agreement', 'ORG'), ('Gracenote, Inc.', 'ORG'), ('Emeryville',\n",
      "'GPE'), ('California', 'GPE'), ('Gracenote', 'FAC'), ('Gracenote', 'GPE'),\n",
      "('Gracenote Data', 'WORK_OF_ART'), ('Gracenote Servers', 'WORK_OF_ART'),\n",
      "('Gracenote Data', 'ORG'), ('Gracenote Data', 'ORG'), ('the Gracenote Software',\n",
      "'ORG'), ('Gracenote Servers', 'ORG'), ('Gracenote Software', 'ORG'), ('Gracenote\n",
      "Data', 'ORG'), ('third', 'ORDINAL'), ('THE GRACENOTE SOFTWARE', 'ORG'), ('the\n",
      "Gracenote Software', 'ORG'), ('Gracenote Servers', 'ORG'), ('the Gracenote\n",
      "Data', 'ORG'), ('the Gracenote Software', 'ORG'), ('Gracenote Servers', 'ORG'),\n",
      "('Gracenote', 'GPE'), ('Gracenote Data', 'ORG'), ('the Gracenote Software',\n",
      "'ORG'), ('the Gracenote Servers', 'ORG'), ('Gracenote', 'GPE')]\n",
      "Relations:\n",
      "  - License [provides support for] the Color  Proﬁles\n",
      "  - Adobe [is associated with] Adobe\n",
      "  - The Adobe Color Proﬁle [is distributed with] the  Apple Software\n",
      "  - Gracenote, Inc. [is located in] Emeryville\n",
      "  - Emeryville [is located in] California\n",
      "  - Gracenote [is a facility of] Gracenote, Inc.\n",
      "  - Gracenote [provides] Gracenote Data\n",
      "  - Gracenote [provides] Gracenote Servers\n",
      "  - Gracenote Data [is a type of] Gracenote Data\n",
      "  - the Gracenote Software [is a type of] Gracenote Servers\n",
      "  - Gracenote Software [is a type of] Gracenote Data\n",
      "  - the Gracenote Software [is a type of] Gracenote Servers\n",
      "  - the Gracenote Data [is a type of] the Gracenote Software\n",
      "  - Gracenote Servers [is a type of] Gracenote\n",
      "  - Gracenote [reserves rights in] Gracenote Data\n",
      "  - Gracenote [reserves rights in] the Gracenote Software\n",
      "  - Gracenote [reserves rights in] the Gracenote Servers\n",
      "Text: including all ownership rights.  Under no circumstances will\n",
      "Gracenote[ENT0:GPE] become liable for any payment to  you for any information\n",
      "that you provide.  You agree that Gracenote, Inc.[ENT1:ORG] may enforce its\n",
      "rights under  this Agreement against you directly in its own name.  The\n",
      "Gracenote[ENT2:GPE] service uses a unique identiﬁer to track queries for\n",
      "statistical purposes.  The purpose of a  randomly assigned numeric identiﬁer is\n",
      "to allow the Gracenote[ENT3:GPE] service to count queries without knowing\n",
      "anything about who you are.  For more information, see the web page for the\n",
      "Gracenote Privacy Policy[ENT4:ORG]  for the Gracenote[ENT5:GPE] service.  The\n",
      "Gracenote Software[ENT6:ORG] and each item of Gracenote Data[ENT7:ORG] are\n",
      "licensed to you “AS IS.” Gracenote[ENT8:PERSON]  makes no representations or\n",
      "warranties, express or implied, regarding the accuracy of any Gracenote\n",
      "Data[ENT9:ORG] from in the Gracenote Servers[ENT10:FAC]. \n",
      "Gracenote[ENT11:PERSON] reserves the right to delete data from the Gracenote\n",
      "Servers[ENT12:ORG] or to change data categories for any cause that\n",
      "Gracenote[ENT13:GPE] deems suﬃcient.  No warranty is made that the Gracenote\n",
      "Software[ENT14:ORG] or Gracenote Servers[ENT15:ORG] are error-free or that\n",
      "functioning of Gracenote  Software[ENT16:ORG] or Gracenote Servers[ENT17:ORG]\n",
      "will be uninterrupted. Gracenote[ENT18:PERSON] is not obligated to provide you\n",
      "with new  enhanced or additional data types or categories that\n",
      "Gracenote[ENT19:GPE] may provide in the future and is free to  discontinue its\n",
      "services at any time. GRACENOTE DISCLAIMS ALL WARRANTIES EXPRESS OR  IMPLIED,\n",
      "INCLUDING, BUT NOT LIMITED TO, IMPLIED WARRANTIES OF MERCHANTABILITY,  FITNESS\n",
      "FOR A PARTICULAR PURPOSE, TITLE[ENT20:ORG], AND NON-INFRINGEMENT.   GRACENOTE\n",
      "DOES  NOT WARRANT THE RESULTS THAT WILL BE OBTAINED BY YOUR USE OF THE GRACENOTE\n",
      "SOFTWARE OR ANY GRACENOTE SERVER[ENT21:ORG]. IN NO CASE WILL GRACENOTE BE LIABLE\n",
      "FOR ANY  CONSEQUENTIAL OR INCIDENTAL DAMAGES OR FOR ANY LOST PROFITS OR LOST\n",
      "REVENUES.  15[ENT22:CARDINAL]. Yahoo Search Service Restrictions[ENT23:ORG]. The\n",
      "Yahoo Search Service[ENT24:ORG] available through Safari[ENT25:ORG] is licensed\n",
      "for use only in the following countries and regions: Argentina[ENT26:GPE],\n",
      "Aruba[ENT27:GPE], Australia[ENT28:GPE], Austria[ENT29:GPE], Barbados[ENT30:GPE],\n",
      "Entities: [('Gracenote', 'GPE'), ('Gracenote, Inc.', 'ORG'), ('Gracenote',\n",
      "'GPE'), ('Gracenote', 'GPE'), ('the Gracenote Privacy Policy', 'ORG'),\n",
      "('Gracenote', 'GPE'), ('The Gracenote Software', 'ORG'), ('Gracenote Data',\n",
      "'ORG'), ('Gracenote', 'PERSON'), ('Gracenote \\nData', 'ORG'), ('the Gracenote\n",
      "Servers', 'FAC'), ('Gracenote', 'PERSON'), ('the Gracenote \\nServers', 'ORG'),\n",
      "('Gracenote', 'GPE'), ('the Gracenote Software', 'ORG'), ('Gracenote Servers',\n",
      "'ORG'), ('Gracenote \\nSoftware', 'ORG'), ('Gracenote Servers', 'ORG'),\n",
      "('Gracenote', 'PERSON'), ('Gracenote', 'GPE'), ('TITLE', 'ORG'), ('SERVER',\n",
      "'ORG'), ('15', 'CARDINAL'), ('Yahoo Search Service Restrictions', 'ORG'), ('The\n",
      "Yahoo Search Service', 'ORG'), ('Safari', 'ORG'), ('Argentina', 'GPE'),\n",
      "('Aruba', 'GPE'), ('Australia', 'GPE'), ('Austria', 'GPE'), ('Barbados', 'GPE')]\n",
      "Relations:\n",
      "  - Gracenote [liability] Gracenote, Inc.\n",
      "  - Gracenote [service] Gracenote\n",
      "  - the Gracenote Privacy Policy [policy] The Gracenote Software\n",
      "  - The Gracenote Software [licensed] Gracenote Data\n",
      "  - Gracenote [accuracy] Gracenote  Data\n",
      "  - the Gracenote Servers [data] the Gracenote  Servers\n",
      "  - Gracenote [right] Gracenote\n",
      "  - the Gracenote Software [error-free] Gracenote Servers\n",
      "  - Gracenote [obligation] Gracenote\n",
      "  - TITLE [warranty] SERVER\n",
      "  - 15 [restriction] Yahoo Search Service Restrictions\n",
      "  - The Yahoo Search Service [service] Safari\n",
      "  - Argentina [country] Aruba\n",
      "  - Australia [country] Austria\n",
      "Text: for use only in the following countries and regions: Argentina[ENT0:GPE],\n",
      "Aruba[ENT1:GPE], Australia[ENT2:GPE], Austria[ENT3:GPE], Barbados[ENT4:GPE],\n",
      "Belgium[ENT5:GPE], Bermuda[ENT6:GPE], Brazil[ENT7:GPE], Bulgaria[ENT8:GPE],\n",
      "Canada[ENT9:GPE], Cayman Islands[ENT10:GPE], Chile[ENT11:GPE], China[ENT12:GPE]\n",
      "mainland, Hong Kong[ENT13:GPE],  Taiwan[ENT14:GPE], Colombia[ENT15:GPE],\n",
      "Cyprus[ENT16:GPE], Czech Republic[ENT17:GPE], Denmark[ENT18:GPE], Dominican\n",
      "Republic[ENT19:GPE], Ecuador[ENT20:GPE], El Salvador[ENT21:GPE],\n",
      "Finland[ENT22:GPE], France[ENT23:GPE], Germany[ENT24:GPE], Greece[ENT25:GPE],\n",
      "Grenada[ENT26:GPE], Guatemala[ENT27:GPE], Hungary[ENT28:GPE],\n",
      "Iceland[ENT29:GPE], India[ENT30:GPE], Indonesia[ENT31:GPE], Ireland[ENT32:GPE],\n",
      "Italy[ENT33:GPE], Jamaica[ENT34:GPE], Japan[ENT35:GPE], Latvia[ENT36:GPE],\n",
      "Lithuania[ENT37:GPE], Luxembourg[ENT38:GPE], Malaysia[ENT39:GPE],\n",
      "Malta[ENT40:GPE], Mexico[ENT41:GPE], Netherlands[ENT42:GPE], New\n",
      "Zealand[ENT43:GPE], Nicaragua[ENT44:GPE], Norway[ENT45:GPE], Panama[ENT46:GPE],\n",
      "Peru[ENT47:GPE], Philippines[ENT48:GPE], Poland[ENT49:GPE], Portugal[ENT50:GPE],\n",
      "Puerto Rico[ENT51:GPE], Romania[ENT52:GPE],  Singapore[ENT53:GPE],\n",
      "Slovakia[ENT54:GPE], Slovenia[ENT55:GPE], South Korea[ENT56:GPE],\n",
      "Spain[ENT57:GPE], St. Lucia[ENT58:GPE], St. Vincent[ENT59:GPE],\n",
      "Sweden[ENT60:GPE], Switzerland[ENT61:GPE],  Thailand[ENT62:GPE], The\n",
      "Bahamas[ENT63:GPE], Trinidad[ENT64:GPE] and Tobago[ENT65:GPE],\n",
      "Turkey[ENT66:GPE], UK[ENT67:GPE], Uruguay[ENT68:GPE], US[ENT69:GPE] and\n",
      "Venezuela[ENT70:GPE]. EA1885[ENT71:CARDINAL] 07/11/2024 ———————————— Apple Pay &\n",
      "Wallet Terms and[ENT72:ORG] Conditions These Apple Pay & Wallet Terms and\n",
      "Conditions (the “Apple Pay & Wallet Terms”) supplement the Apple  Software\n",
      "License Agreement[ENT73:ORG] for macOS (the “License”); both the terms of the\n",
      "License[ENT74:ORG] and these Apple  Pay & Wallet[ENT75:ORG] Terms govern your\n",
      "use of the Apple[ENT76:ORG] Pay feature (“Apple Pay”[ENT77:WORK_OF_ART]) and\n",
      "Apple Wallet[ENT78:ORG] (“Wallet[ENT79:WORK_OF_ART]”),  which shall be deemed a\n",
      "“Service” under the License[ENT80:ORG].  Capitalized terms used in these Apple\n",
      "Pay &  Wallet Terms[ENT81:ORG] have the meanings set forth in the\n",
      "License[ENT82:ORG]. Your acceptance of these Apple Pay & Wallet[ENT83:ORG]\n",
      "Terms constitutes your acceptance of the respective Apple Pay & Wallet\n",
      "Terms[ENT84:ORG] on all of your Apple[ENT85:ORG]  devices that support\n",
      "Apple[ENT86:ORG] Pay and Wallet. Apple[ENT87:ORG] Pay and support of your Apple\n",
      "Pay Cards[ENT88:ORG] (as deﬁned below) in Apple Wallet[ENT89:ORG]\n",
      "(“Wallet[ENT90:WORK_OF_ART]”) are  provided in the United States[ENT91:GPE] by\n",
      "Apple Payments Services[ENT92:ORG] LLC (“Apple Payments Services[ENT93:ORG]”)\n",
      "and outside  of the United States[ENT94:GPE] by other Apple[ENT95:ORG] aﬃ\n",
      "liates. Wallet is otherwise provided by Apple[ENT96:ORG] and other\n",
      "Apple[ENT97:ORG]  aﬃliates. Apple[ENT98:ORG], Apple Payments\n",
      "Services[ENT99:ORG], and the respective Apple[ENT100:ORG] aﬃliates are each a\n",
      "party to these  Apple Pay Terms with respect to the Services it provides.\n",
      "1[ENT101:CARDINAL]. Overview Apple Pay\n",
      "Entities: [('Argentina', 'GPE'), ('Aruba', 'GPE'), ('Australia', 'GPE'),\n",
      "('Austria', 'GPE'), ('Barbados', 'GPE'), ('Belgium', 'GPE'), ('Bermuda', 'GPE'),\n",
      "('Brazil', 'GPE'), ('Bulgaria', 'GPE'), ('Canada', 'GPE'), ('Cayman Islands',\n",
      "'GPE'), ('Chile', 'GPE'), ('China', 'GPE'), ('Hong Kong', 'GPE'), ('Taiwan',\n",
      "'GPE'), ('Colombia', 'GPE'), ('Cyprus', 'GPE'), ('Czech Republic', 'GPE'),\n",
      "('Denmark', 'GPE'), ('Dominican Republic', 'GPE'), ('Ecuador', 'GPE'), ('El\n",
      "Salvador', 'GPE'), ('Finland', 'GPE'), ('France', 'GPE'), ('Germany', 'GPE'),\n",
      "('Greece', 'GPE'), ('Grenada', 'GPE'), ('Guatemala', 'GPE'), ('Hungary', 'GPE'),\n",
      "('Iceland', 'GPE'), ('India', 'GPE'), ('Indonesia', 'GPE'), ('Ireland', 'GPE'),\n",
      "('Italy', 'GPE'), ('Jamaica', 'GPE'), ('Japan', 'GPE'), ('Latvia', 'GPE'),\n",
      "('Lithuania', 'GPE'), ('Luxembourg', 'GPE'), ('Malaysia', 'GPE'), ('Malta',\n",
      "'GPE'), ('Mexico', 'GPE'), ('Netherlands', 'GPE'), ('New \\nZealand', 'GPE'),\n",
      "('Nicaragua', 'GPE'), ('Norway', 'GPE'), ('Panama', 'GPE'), ('Peru', 'GPE'),\n",
      "('Philippines', 'GPE'), ('Poland', 'GPE'), ('Portugal', 'GPE'), ('Puerto Rico',\n",
      "'GPE'), ('Romania', 'GPE'), ('Singapore', 'GPE'), ('Slovakia', 'GPE'),\n",
      "('Slovenia', 'GPE'), ('South Korea', 'GPE'), ('Spain', 'GPE'), ('St. Lucia',\n",
      "'GPE'), ('St. Vincent', 'GPE'), ('Sweden', 'GPE'), ('Switzerland', 'GPE'),\n",
      "('Thailand', 'GPE'), ('Bahamas', 'GPE'), ('Trinidad', 'GPE'), ('Tobago', 'GPE'),\n",
      "('Turkey', 'GPE'), ('UK', 'GPE'), ('Uruguay', 'GPE'), ('US', 'GPE'),\n",
      "('Venezuela', 'GPE'), ('EA1885', 'CARDINAL'), ('Apple Pay & Wallet Terms and',\n",
      "'ORG'), ('Apple \\nSoftware License Agreement', 'ORG'), ('License', 'ORG'),\n",
      "('Apple \\nPay & Wallet', 'ORG'), ('Apple', 'ORG'), ('Apple Pay”',\n",
      "'WORK_OF_ART'), ('Apple Wallet', 'ORG'), ('Wallet', 'WORK_OF_ART'), ('License',\n",
      "'ORG'), ('Apple Pay & \\nWallet Terms', 'ORG'), ('License', 'ORG'), ('these Apple\n",
      "Pay & Wallet', 'ORG'), ('Apple Pay & Wallet Terms', 'ORG'), ('Apple', 'ORG'),\n",
      "('Apple', 'ORG'), ('Apple', 'ORG'), ('Apple Pay Cards', 'ORG'), ('Apple Wallet',\n",
      "'ORG'), ('Wallet', 'WORK_OF_ART'), ('the United States', 'GPE'), ('Apple\n",
      "Payments Services', 'ORG'), ('Apple Payments Services', 'ORG'), ('the United\n",
      "States', 'GPE'), ('Apple', 'ORG'), ('Apple', 'ORG'), ('Apple', 'ORG'), ('Apple',\n",
      "'ORG'), ('Apple Payments Services', 'ORG'), ('Apple', 'ORG'), ('1', 'CARDINAL')]\n",
      "Relations:\n",
      "  - Apple Pay & Wallet Terms and [supplements] Apple  Software License Agreement\n",
      "  - Apple  Software License Agreement [governs] License\n",
      "  - License [governs] Apple  Pay & Wallet\n",
      "  - Apple  Pay & Wallet [governs] Apple\n",
      "  - Apple [is_feature_of] Apple Pay”\n",
      "  - Apple Wallet [is_feature_of] Wallet\n",
      "  - Apple Pay &  Wallet Terms [has_meaning_in] License\n",
      "  - the United States [provided_by] Apple Payments Services\n",
      "  - the United States [provided_by] Apple\n",
      "  - Apple [provided_by] Apple\n",
      "Text: aﬃliates. Apple[ENT0:ORG], Apple Payments Services[ENT1:ORG], and the\n",
      "respective Apple[ENT2:ORG] aﬃliates are each a party to these  Apple Pay Terms\n",
      "with respect to the Services it provides. 1[ENT3:CARDINAL]. Overview Apple Pay\n",
      "Apple[ENT4:ORG] Pay allows you to make contactless payments using credit, debit\n",
      "and prepaid cards, as well as  third[ENT5:ORDINAL] party installment payment\n",
      "services, within select websites.  Apple[ENT6:ORG] Pay and certain features of\n",
      "Apple  Pay[ENT7:ORG] may only be available in select regions, with select card\n",
      "issuers, payment networks, merchants, and  other third[ENT8:ORDINAL] parties.\n",
      "Wallet Wallet allows you to store virtual representations of credit, debit, and\n",
      "prepaid cards to be used with  Apple[ENT9:ORG] Pay (collectively, “Supported\n",
      "Cards[ENT10:WORK_OF_ART]”). Supported Cards may only be available in select\n",
      "regions and with select partners and Supported Cards[ENT11:ORG] may change from\n",
      "time to time. 2[ENT12:CARDINAL]. Eligibility To set up and use Apple[ENT13:ORG]\n",
      "Pay and Wallet, you must have (i) a supported Mac Computer[ENT14:ORG] running a\n",
      "version  of operating software that supports the Services (latest version\n",
      "recommended and sometimes required),  (ii) an Apple Account[ENT15:ORG]\n",
      "associated with an iCloud[ENT16:PERSON] account that is in good standing with\n",
      "Apple[ENT17:ORG], and (iii)  Internet access or cellular data access (fees may\n",
      "apply). Subject to certain exceptions, Supported Cards[ENT18:ORG]  are only\n",
      "available to individuals aged 13 years or older[ENT19:DATE], and may be subject\n",
      "to additional age-based  restrictions imposed by iCloud[ENT20:PERSON] or the\n",
      "relevant issuer, merchant, or other third[ENT21:ORDINAL] party.\n",
      "3[ENT22:CARDINAL]. Use of the Services Apple Pay is intended for your personal\n",
      "use and you may only provision your own Supported Cards[ENT23:ORG].  If  you are\n",
      "provisioning a supported corporate card, you represent that you are doing so\n",
      "with the  authorization of your employer and you are authorized to bind your\n",
      "employer to these Apple Pay &  Wallet Terms[ENT24:ORG] and all transactions\n",
      "eﬀected by use of Apple[ENT25:ORG] Pay and Wallet.  You agree not to use\n",
      "Apple[ENT26:ORG] Pay for illegal or fraudulent purposes, or any other purposes\n",
      "that are\n",
      "Entities: [('Apple', 'ORG'), ('Apple Payments Services', 'ORG'), ('Apple',\n",
      "'ORG'), ('1', 'CARDINAL'), ('Apple', 'ORG'), ('third', 'ORDINAL'), ('Apple',\n",
      "'ORG'), ('Apple \\nPay', 'ORG'), ('third', 'ORDINAL'), ('Apple', 'ORG'),\n",
      "('Supported Cards', 'WORK_OF_ART'), ('Supported Cards', 'ORG'), ('2',\n",
      "'CARDINAL'), ('Apple', 'ORG'), ('Mac Computer', 'ORG'), ('Apple Account',\n",
      "'ORG'), ('iCloud', 'PERSON'), ('Apple', 'ORG'), ('Supported Cards', 'ORG'), ('13\n",
      "years or older', 'DATE'), ('iCloud', 'PERSON'), ('third', 'ORDINAL'), ('3',\n",
      "'CARDINAL'), ('Supported Cards', 'ORG'), ('Apple Pay & \\nWallet Terms', 'ORG'),\n",
      "('Apple', 'ORG'), ('Apple', 'ORG')]\n",
      "Relations:\n",
      "  - Apple [affiliated_with] Apple Payments Services\n",
      "  - Apple [provides_service] Apple\n",
      "  - Apple [provides_service] Apple\n",
      "  - Apple [uses] Apple\n",
      "  - Apple [uses] Apple\n",
      "  - Apple Account [associated_with] Apple\n",
      "  - iCloud [subject_to] 13 years or older\n",
      "  - Supported Cards [uses] Apple Pay &  Wallet Terms\n",
      "Text: Wallet Terms and all transactions eﬀected by use of Apple[ENT0:ORG] Pay\n",
      "and Wallet.  You agree not to use Apple[ENT1:ORG] Pay for illegal or fraudulent\n",
      "purposes, or any other purposes that are  prohibited by the License[ENT2:ORG]\n",
      "and these Apple Pay Terms.  You further agree to use Apple[ENT3:ORG] Pay in\n",
      "accordance with applicable laws and regulations.  You agree not to interfere\n",
      "with or disrupt Apple[ENT4:ORG] Pay  (including accessing the Service through\n",
      "any automated means), or any servers or networks connected  to the Service, or\n",
      "any policies, requirements or regulations of networks connected to the\n",
      "Service[ENT5:ORG]  (including any unauthorized access to, use or monitoring of\n",
      "data or traﬃc thereon). You can use Apple[ENT6:ORG] Pay on your supported Mac\n",
      "Computer[ENT7:ORG] to initiate payments on websites. You can  complete your\n",
      "purchase by authorizing the transaction using your Mac with Touch ID or\n",
      "password,  supported iPhone[ENT8:GPE], or supported Apple Watch[ENT9:ORG]. If\n",
      "you complete your purchase on your Mac Computer[ENT10:ORG],  you must have a\n",
      "Supported Card[ENT11:ORG] that is associated with an active iCloud[ENT12:PERSON]\n",
      "account. If you complete your  purchase using iPhone[ENT13:ORG] or Apple\n",
      "Watch[ENT14:ORG] (collectively, the “Supported Devices[ENT15:ORG]”), you must be\n",
      "signed in  with the same Apple Account[ENT16:ORG] as on your Mac\n",
      "Computer[ENT17:ORG].  When using Apple[ENT18:ORG] Pay on a desktop web browser\n",
      "other than Safari[ENT19:PERSON], you must have a Supported Card  that has been\n",
      "provisioned to a supported iPhone[ENT20:ORG] or iPad[ENT21:ORG]. In addition to\n",
      "the terms set forth in these  Apple Pay Terms, your use of Apple[ENT22:ORG] Pay\n",
      "to initiate payments on websites is subject to the Apple Pay &  Wallet Terms and\n",
      "Conditions[ENT23:ORG] applicable to your Supported Devices[ENT24:ORG], the terms\n",
      "of which are hereby  incorporated by reference and which can be accessed by\n",
      "going to:  Settings > General > About > Legal  > License from your iPhone, or\n",
      "About > Legal > License from the Watch app on a paired iPhone[ENT25:ORG].\n",
      "Supported Devices[ENT26:ORG] may change from time to time. 4[ENT27:CARDINAL].\n",
      "Apple[ENT28:ORG]’s Relationship With You For purposes of this Section\n",
      "3[ENT29:LAW] only, “Apple[ENT30:ORG]” refers to, collectively, Apple\n",
      "Inc.[ENT31:ORG], Apple Payments Services[ENT32:ORG]\n",
      "Entities: [('Apple', 'ORG'), ('Apple', 'ORG'), ('License', 'ORG'), ('Apple',\n",
      "'ORG'), ('Apple', 'ORG'), ('Service', 'ORG'), ('Apple', 'ORG'), ('Mac Computer',\n",
      "'ORG'), ('iPhone', 'GPE'), ('Apple Watch', 'ORG'), ('Mac Computer', 'ORG'), ('a\n",
      "Supported Card', 'ORG'), ('iCloud', 'PERSON'), ('iPhone', 'ORG'), ('Apple\n",
      "Watch', 'ORG'), ('the “Supported Devices', 'ORG'), ('Apple Account', 'ORG'),\n",
      "('Mac Computer', 'ORG'), ('Apple', 'ORG'), ('Safari', 'PERSON'), ('iPhone',\n",
      "'ORG'), ('iPad', 'ORG'), ('Apple', 'ORG'), ('the Apple Pay & \\nWallet Terms and\n",
      "Conditions', 'ORG'), ('Supported Devices', 'ORG'), ('iPhone', 'ORG'),\n",
      "('Supported Devices', 'ORG'), ('4', 'CARDINAL'), ('Apple', 'ORG'), ('Section 3',\n",
      "'LAW'), ('Apple', 'ORG'), ('Apple Inc.', 'ORG'), ('Apple Payments Services',\n",
      "'ORG')]\n",
      "Relations:\n",
      "  - Apple [uses] Apple\n",
      "  - Apple [prohibited by] License\n",
      "  - Apple [uses] Apple\n",
      "  - Apple [interferes with] Apple\n",
      "  - Apple [uses on] Mac Computer\n",
      "  - Mac Computer [initiates payments on] Mac Computer\n",
      "  - Mac Computer [requires] a Supported Card\n",
      "  - iPhone [uses on] Apple Watch\n",
      "  - the “Supported Devices [signed in with] Apple Account\n",
      "  - Apple [uses on] Safari\n",
      "  - iPhone [provisioned to] iPad\n",
      "  - Apple [subject to] Supported Devices\n",
      "  - Supported Devices [accessed by] iPhone\n",
      "  - Apple [refers to] Apple Inc.\n",
      "  - Apple [refers to] Apple Payments Services\n",
      "Text: Supported Devices[ENT0:ORG] may change from time to time.\n",
      "4[ENT1:CARDINAL]. Apple[ENT2:ORG]’s Relationship With You For purposes of this\n",
      "Section 3[ENT3:LAW] only, “Apple[ENT4:ORG]” refers to, collectively, Apple\n",
      "Inc.[ENT5:ORG], Apple Payments Services  LLC[ENT6:ORG], and the respective\n",
      "Apple[ENT7:ORG] aﬃliates. Your use of Apple[ENT8:ORG] Pay will be governed by\n",
      "these Apple[ENT9:ORG] Pay  Terms, as well as by the terms of the cardholder\n",
      "agreement you have in place with the relevant issuer,  merchant, or other\n",
      "third[ENT10:ORDINAL] party responsible for your Supported Card. Apple[ENT11:ORG]\n",
      "is not a ﬁnancial institution. Supported Cards are not issued or serviced by\n",
      "Apple[ENT12:ORG], and Apple[ENT13:ORG] does  not process payments, or have any\n",
      "other control over payments, chargebacks, returns, refunds,  rewards, value,\n",
      "discounts, orders, order fulﬁlment, or other commerce activity that may arise\n",
      "out of your  use of Apple[ENT14:ORG] Pay or Wallet.   Installment payments on\n",
      "Apple[ENT15:ORG] Pay are supported and managed by third[ENT16:ORDINAL] party\n",
      "partners. If you choose to pay in installments or to purchase and pay later with\n",
      "a third[ENT17:ORDINAL] party when using Apple[ENT18:ORG] Pay, you are\n",
      "contracting with the third[ENT19:ORDINAL] party and eligibility determinations\n",
      "and repayment of your purchase obligation  are governed by that\n",
      "third[ENT20:ORDINAL] party’s terms of service, which are presented to you during\n",
      "checkout. Apple[ENT21:ORG] is  not a party to any agreement between you and that\n",
      "third[ENT22:ORDINAL] party, and expressly disclaims all liability with  respect\n",
      "to such installment payment services and agreements. The terms of cardholder\n",
      "agreements you may have in place with your card issuer will continue to govern\n",
      "your use of your Supported Cards[ENT23:ORG] and their use in connection with\n",
      "Apple[ENT24:ORG] Pay.  Similarly, your purchase  of any goods or services using\n",
      "the Apple[ENT25:ORG] Pay feature will be subject to the merchant’s terms and\n",
      "conditions.   Nothing in the License[ENT26:ORG] or these Apple Pay & Wallet\n",
      "Terms modiﬁes the terms of any cardholder or  merchant agreement, or other terms\n",
      "and conditions applicable to the use of the features of Apple[ENT27:ORG] Pay,\n",
      "and such terms will govern your use of the applicable feature of\n",
      "Apple[ENT28:ORG] Pay and their virtual\n",
      "Entities: [('Supported Devices', 'ORG'), ('4', 'CARDINAL'), ('Apple', 'ORG'),\n",
      "('Section 3', 'LAW'), ('Apple', 'ORG'), ('Apple Inc.', 'ORG'), ('Apple Payments\n",
      "Services \\nLLC', 'ORG'), ('Apple', 'ORG'), ('Apple', 'ORG'), ('Apple', 'ORG'),\n",
      "('third', 'ORDINAL'), ('Apple', 'ORG'), ('Apple', 'ORG'), ('Apple', 'ORG'),\n",
      "('Apple', 'ORG'), ('Apple', 'ORG'), ('third', 'ORDINAL'), ('third', 'ORDINAL'),\n",
      "('Apple', 'ORG'), ('third', 'ORDINAL'), ('third', 'ORDINAL'), ('Apple', 'ORG'),\n",
      "('third', 'ORDINAL'), ('Supported Cards', 'ORG'), ('Apple', 'ORG'), ('Apple',\n",
      "'ORG'), ('License', 'ORG'), ('Apple', 'ORG'), ('Apple', 'ORG')]\n",
      "Relations:\n",
      "  - Apple [has_relationship_with] Apple\n",
      "  - Apple [includes] Apple Inc.\n",
      "  - Apple [includes] Apple Payments Services  LLC\n",
      "  - Apple [includes] Apple\n",
      "  - Apple [not_issued_by] Apple\n",
      "  - Apple [not_processed_by] Apple\n",
      "  - Apple [managed_by] third\n",
      "  - Apple [contracting_with] third\n",
      "  - Supported Cards [governed_by] Apple\n",
      "  - Apple [subject_to] Apple\n",
      "  - License [modifies_terms_of] Apple\n",
      "  - Apple [governed_by] Apple\n",
      "Text: merchant agreement, or other terms and conditions applicable to the use of\n",
      "the features of Apple[ENT0:ORG] Pay,  and such terms will govern your use of the\n",
      "applicable feature of Apple[ENT1:ORG] Pay and their virtual  representation on\n",
      "your supported Mac Computer[ENT2:ORG]. You agree that Apple[ENT3:ORG] is not a\n",
      "party to your cardholder or merchant agreements, nor is Apple[ENT4:ORG]\n",
      "responsible  for the (a) content, accuracy or availability of any Supported\n",
      "Cards[ENT5:ORG], commerce activities, transactions,  purchases, orders, order\n",
      "fulﬁlment, or receipts while using Apple[ENT6:ORG] Pay or Wallet; (b) issuance\n",
      "of credit or  assessing eligibility for credit; (c) activities of issuers,\n",
      "merchants, or other third[ENT7:ORDINAL] parties related to your use  of\n",
      "Apple[ENT8:ORG] Pay or Wallet; (d) decisions made by an issuer, merchant, or\n",
      "other third[ENT9:ORDINAL] party in connection with  a Supported Card; (e)\n",
      "accrual or redemption of rewards or stored value in connection with your\n",
      "Supported Cards; or (f) funding or reloading of prepaid Supported\n",
      "Cards[ENT10:ORG].  For all disputes or questions  about Supported\n",
      "Cards[ENT11:ORG] or associated commerce activity, please contact your issuer or\n",
      "the applicable  merchant. For questions regarding Apple[ENT12:ORG] Pay or\n",
      "Wallet, please contact (800[ENT13:CARDINAL]) APL-CARE\n",
      "(800-275-2273[ENT14:CARDINAL]). 5[ENT15:CARDINAL]. Privacy When using\n",
      "Apple[ENT16:ORG] Pay to initiate a payment transaction to be completed on a\n",
      "Supported Device[ENT17:ORG], Apple  Pay[ENT18:ORG] will transfer payment\n",
      "information in an encrypted format between your Mac Computer[ENT19:ORG] and your\n",
      "Supported Device to complete your transaction. When using Apple[ENT20:ORG] Pay\n",
      "to make a payment transaction  on a MacBook Pro[ENT21:ORG] with built-in Touch\n",
      "ID, your payment information will be provided in encrypted format  to the\n",
      "website as part of that transaction. When adding a card to Apple[ENT22:ORG] Pay\n",
      "on a MacBook Pro with  built-in Touch ID, information about your device, such as\n",
      "whether certain device settings are enabled  and device use patterns (e.g.\n",
      "percent time device is in motion, approximate number of calls per week),\n",
      "Entities: [('Apple', 'ORG'), ('Apple', 'ORG'), ('Mac Computer', 'ORG'),\n",
      "('Apple', 'ORG'), ('Apple', 'ORG'), ('Supported Cards', 'ORG'), ('Apple',\n",
      "'ORG'), ('third', 'ORDINAL'), ('Apple', 'ORG'), ('third', 'ORDINAL'),\n",
      "('Supported Cards', 'ORG'), ('Supported Cards', 'ORG'), ('Apple', 'ORG'),\n",
      "('800', 'CARDINAL'), ('800-275-2273', 'CARDINAL'), ('5', 'CARDINAL'), ('Apple',\n",
      "'ORG'), ('a Supported Device', 'ORG'), ('Apple \\nPay', 'ORG'), ('Mac Computer',\n",
      "'ORG'), ('Apple', 'ORG'), ('MacBook Pro', 'ORG'), ('Apple', 'ORG')]\n",
      "Relations:\n",
      "  - Apple [governs] Apple\n",
      "  - Apple [not a party to] Apple\n",
      "  - Apple [responsible for] Supported Cards\n",
      "  - Apple [responsible for] Apple\n",
      "  - Apple [responsible for] Apple\n",
      "  - Apple [responsible for] Supported Cards\n",
      "  - Apple [responsible for] Supported Cards\n",
      "  - Apple [transfers information to] Mac Computer\n",
      "  - Apple  Pay [uses] MacBook Pro\n",
      "  - Apple [adds card to] MacBook Pro\n",
      "Text: and device use patterns (e.g. percent time device is in motion,\n",
      "approximate number of calls per week),  will be sent to Apple[ENT0:ORG] to\n",
      "determine your eligibility and to prevent fraud. You can ﬁnd detailed\n",
      "information  on the personal information collected, used or shared as part of\n",
      "your use of Apple[ENT1:ORG] Pay by reading the  relevant service speciﬁc privacy\n",
      "notices, including About Apple[ENT2:ORG] Pay and Privacy, which can be accessed\n",
      "on your iOS device or Mac Computer[ENT3:ORG], or within the Watch app on a\n",
      "paired iOS device, or by visiting  https://www.apple.com/legal/privacy.  By\n",
      "using Apple[ENT4:ORG] Pay and Wallet, you agree and consent to Apple[ENT5:ORG]’s\n",
      "and its aﬃliates’ and agents’ transmission, collection, maintenance, processing,\n",
      "and use of all of the  foregoing information, to provide these Services.\n",
      "6[ENT6:CARDINAL]. Security Apple Pay and Wallet store virtual representations of\n",
      "your Supported Cards[ENT7:ORG] and should be protected as  you would protect\n",
      "your physical wallet, or credit, debit, prepaid and other cards. You are solely\n",
      "responsible for maintaining the security of your Mac Computer[ENT8:ORG],\n",
      "Supported Devices[ENT9:ORG], your Apple Account[ENT10:ORG],  your Touch ID\n",
      "information, the passcode(s) to your device(s), and any other authentication\n",
      "credentials  used in connection with the Services (collectively, your\n",
      "“Credentials”). If you authorize or allow anyone  else to use your Mac\n",
      "Computer[ENT11:ORG] or Supported Devices[ENT12:ORG] (e.g., by providing your\n",
      "device passcode to a third[ENT13:ORDINAL]  party or otherwise providing any of\n",
      "your Credentials to a third[ENT14:ORDINAL] party), the person may be able to\n",
      "make payments, use value or make other transactions with your Supported Cards in\n",
      "Wallet[ENT15:ORG]. In such event, you  will be responsible for all payments and\n",
      "transactions made by that person. If you make unauthorized modiﬁcations to your\n",
      "Mac Computer[ENT16:ORG] or Supported Devices[ENT17:ORG], such as by  disabling\n",
      "hardware or software controls (sometimes referred to as “jailbreaking”), your\n",
      "Mac Computer[ENT18:ORG]  and/or Supported Devices[ENT19:ORG] may no longer be\n",
      "eligible to access or use the Services. You acknowledge\n",
      "Entities: [('Apple', 'ORG'), ('Apple', 'ORG'), ('Apple', 'ORG'), ('Mac\n",
      "Computer', 'ORG'), ('Apple', 'ORG'), ('Apple', 'ORG'), ('6', 'CARDINAL'),\n",
      "('Supported Cards', 'ORG'), ('Mac Computer', 'ORG'), ('Supported Devices',\n",
      "'ORG'), ('Apple Account', 'ORG'), ('Mac Computer', 'ORG'), ('Supported Devices',\n",
      "'ORG'), ('third', 'ORDINAL'), ('third', 'ORDINAL'), ('Supported Cards in\n",
      "Wallet', 'ORG'), ('Mac Computer', 'ORG'), ('Supported Devices', 'ORG'), ('Mac\n",
      "Computer', 'ORG'), ('Supported Devices', 'ORG')]\n",
      "Relations:\n",
      "  - Apple [is a type of] Apple\n",
      "  - Apple [is a type of] Apple\n",
      "  - Apple [is a type of] Mac Computer\n",
      "  - Apple [is a type of] Apple\n",
      "  - Mac Computer [is a type of] Mac Computer\n",
      "  - Mac Computer [is a type of] Supported Devices\n",
      "  - Apple Account [is a type of] Mac Computer\n",
      "  - Supported Devices [is a type of] third\n",
      "  - third [is a type of] Supported Cards in Wallet\n",
      "  - Mac Computer [is a type of] Supported Devices\n",
      "  - Mac Computer [is a type of] Supported Devices\n",
      "Text: and/or Supported Devices[ENT0:ORG] may no longer be eligible to access or\n",
      "use the Services. You acknowledge  that the use of a modiﬁed device in\n",
      "connection with the Services is expressly prohibited, constitutes a  violation\n",
      "of these Apple Pay & Wallet Terms[ENT1:ORG], and is grounds for us to deny or\n",
      "limit your access to the  Services. If your device is lost or stolen and you\n",
      "have Find My enabled, you can use Find My or https://icloud.com  to attempt to\n",
      "suspend the ability to pay with the virtual Supported Cards[ENT2:ORG] on your\n",
      "Mac Computer[ENT3:ORG] by  putting it into Lost Mode. You can also erase your\n",
      "device, which will attempt to suspend the ability to  pay with the virtual\n",
      "Supported Cards[ENT4:ORG] on the device. If you have set up a recurring payment\n",
      "transaction  using Apple[ENT5:ORG] Pay, you may need to contact the relevant\n",
      "issuer or merchant to cancel the recurring  payment.  You should also contact\n",
      "the card issuer of your Supported Cards[ENT6:ORG] in order to prevent\n",
      "unauthorized access to your virtual Supported Cards[ENT7:ORG]. If you report or\n",
      "Apple[ENT8:ORG] or its aﬃliates suspect fraudulent or abusive activity, you\n",
      "agree to cooperate with  Apple[ENT9:ORG] and its aﬃliates in any investigation\n",
      "and to use any fraud prevention measures we prescribe. 7[ENT10:CARDINAL].\n",
      "Limitation of Liability IN ADDITION TO THE DISCLAIMERS OF WARRANTIES AND\n",
      "LIMITATION OF LIABILITY SET  FORTH IN THE LICENSE, APPLE[ENT11:ORG], APPLE\n",
      "PAYMENTS SERVICES[ENT12:ORG], AND THE RESPECTIVE APPLE  AFFILIATES DO NOT ASSUME\n",
      "ANY LIABILITY FOR PURCHASES, PAYMENTS, TRANSACTIONS,  ORDERS, ORDER FULFILMENT,\n",
      "RECEIPT INFORMATION, OR OTHER COMMERCE ACTIVITY  MADE USING APPLE PAY OR WALLET,\n",
      "AND YOU AGREE TO LOOK SOLELY TO AGREEMENTS  YOU MAY HAVE WITH YOUR CARD ISSUER,\n",
      "PAYMENT NETWORK, OR MERCHANT TO RESOLVE  ANY QUESTIONS OR DISPUTES RELATING TO\n",
      "YOUR SUPPORTED CARDS AND ASSOCIATED  COMMERCE ACTIVITIES. ———————————————\n",
      "NOTICES FROM APPLE[ENT13:ORG], APPLE PAYMENTS SERVICES[ENT14:ORG], AND THE\n",
      "RESPECTIVE APPLE  AFFILIATES  If Apple[ENT15:ORG], Apple Payments\n",
      "Services[ENT16:ORG], or an Apple[ENT17:ORG] aﬃliate needs to contact you about\n",
      "the Services, you\n",
      "Entities: [('Supported Devices', 'ORG'), ('these Apple Pay & Wallet Terms',\n",
      "'ORG'), ('Supported Cards', 'ORG'), ('Mac Computer', 'ORG'), ('Supported Cards',\n",
      "'ORG'), ('Apple', 'ORG'), ('Supported Cards', 'ORG'), ('Supported Cards',\n",
      "'ORG'), ('Apple', 'ORG'), ('Apple', 'ORG'), ('7', 'CARDINAL'), ('APPLE', 'ORG'),\n",
      "('APPLE PAYMENTS SERVICES', 'ORG'), ('APPLE', 'ORG'), ('APPLE PAYMENTS\n",
      "SERVICES', 'ORG'), ('Apple', 'ORG'), ('Apple Payments Services', 'ORG'),\n",
      "('Apple', 'ORG')]\n",
      "Relations:\n",
      "  - Supported Devices [uses] these Apple Pay & Wallet Terms\n",
      "  - Supported Cards [related_to] Mac Computer\n",
      "  - Supported Cards [uses] Apple\n",
      "  - Supported Cards [related_to] Supported Cards\n",
      "  - Apple [cooperates_with] Apple\n",
      "  - APPLE [provides] APPLE PAYMENTS SERVICES\n",
      "  - APPLE [provides] APPLE PAYMENTS SERVICES\n",
      "  - Apple [related_to] Apple Payments Services\n",
      "Text: ——————————————— NOTICES FROM APPLE[ENT0:ORG], APPLE PAYMENTS\n",
      "SERVICES[ENT1:ORG], AND THE RESPECTIVE APPLE  AFFILIATES  If Apple[ENT2:ORG],\n",
      "Apple Payments Services[ENT3:ORG], or an Apple[ENT4:ORG] aﬃliate needs to\n",
      "contact you about the Services, you  consent to receive the notices by email.\n",
      "You agree that any such notices that we send you electronically  will satisfy\n",
      "any legal communication requirements.\n",
      "Entities: [('APPLE', 'ORG'), ('APPLE PAYMENTS SERVICES', 'ORG'), ('Apple',\n",
      "'ORG'), ('Apple Payments Services', 'ORG'), ('Apple', 'ORG')]\n",
      "Relations:\n",
      "  - APPLE [affiliated_with] APPLE PAYMENTS SERVICES\n",
      "  - Apple [affiliated_with] Apple Payments Services\n",
      "  - Apple [affiliated_with] APPLE\n",
      "  - Apple Payments Services [affiliated_with] APPLE\n",
      "  - Apple [affiliated_with] Apple\n",
      "  - Apple [affiliated_with] Apple Payments Services\n",
      "Entity counts: Counter({'ORG': 682, 'GPE': 105, 'CARDINAL': 74, 'PERSON': 48,\n",
      "'ORDINAL': 44, 'LAW': 31, 'WORK_OF_ART': 23, 'DATE': 10, 'NORP': 4, 'EVENT': 4,\n",
      "'PRODUCT': 3, 'FAC': 3, 'LANGUAGE': 2, 'TIME': 1})\n",
      "Relation counts: Counter({'related_to': 31, 'is a type of': 27, 'is_a': 23,\n",
      "'is_related_to': 20, 'includes': 19, 'provides': 18, 'uses': 17, 'governs': 7,\n",
      "'is_part_of': 7, 'affiliated_with': 7, 'contains': 6, 'part_of': 6,\n",
      "'produced_by': 5, 'has access to': 5, 'provided_by': 5, 'governed_by': 5,\n",
      "'responsible for': 5, 'subject_to': 4, 'Brand': 4, 'requires': 3,\n",
      "'associated_with': 3, 'leases': 3, 'associated with': 3, 'reserves rights in':\n",
      "3, 'uses on': 3, 'is part of': 2, 'is subject to': 2, 'is provided by': 2,\n",
      "'limits': 2, 'is_subject_to': 2, 'developed_by': 2, 'is a quantity of': 2,\n",
      "'has_software': 2, 'is branded with': 2, 'enables access to': 2, 'licensed\n",
      "under': 2, 'is located in': 2, 'service': 2, 'country': 2, 'is_feature_of': 2,\n",
      "'provides_service': 2, 'refers to': 2, 'is branded for': 1, 'is collectively\n",
      "referred to as': 1, 'is licensed by': 1, 'is also known as': 1, 'retains\n",
      "ownership of': 1, 'may provide': 1, 'may not include': 1, 'does not grant rights\n",
      "to': 1, 'grants_license': 1, 'obtained_from': 1, 'agrees_to': 1, 'applies_to':\n",
      "1, 'obtained_under': 1, 'while_running': 1, 'generated_by': 1, 'sounds_like': 1,\n",
      "'permitted_by': 1, 'requires_authentication': 1, 'is_found_at': 1,\n",
      "'holds_rights_over': 1, 'has_rights': 1, 'uses_feature': 1, 'manages_content':\n",
      "1, 'uses_device': 1, 'implements': 1, 'controls_content': 1, 'is a parent of':\n",
      "1, 'is a sibling of': 1, 'is related to': 1, 'is governed by': 1, 'is a section\n",
      "of': 1, 'License': 1, 'Software': 1, 'Backup': 1, 'Migration': 1,\n",
      "'provides_access_to': 1, 'checks_for': 1, 'may_download': 1, 'restricts': 1,\n",
      "'installed_on': 1, 'is': 1, 'is_preinstalled_on': 1, 'defines': 1, 'is_for': 1,\n",
      "'provides_notice_to': 1, 'may_sublease': 1, 'complies_with': 1, 'subleases': 1,\n",
      "'relinquishes_control_of': 1, 'is_responsible_for': 1, 'assists_in_enforcing':\n",
      "1, 'breaches': 1, 'terminates_use_of': 1, 'notifies_of_breach': 1, 'accesses':\n",
      "1, 'acknowledges': 1, 'is responsible for': 1, 'obtains': 1, 'assigns': 1, 'is\n",
      "treated in accordance with': 1, 'has features': 1, 'provides information to': 1,\n",
      "'transmits': 1, 'owned_by': 1, 'permitted_use': 1, 'affects': 1,\n",
      "'is_referred_to_as': 1, 'relates_to': 1, 'issued_by': 1, 'signed_by': 1,\n",
      "'translation_of': 1, 'language_version': 1, 'utilizes': 1, 'request_to': 1,\n",
      "'licensed_under': 1, 'compliance with': 1, 'provides_information': 1,\n",
      "'is_used_in': 1, 'provides_data': 1, 'generates': 1, 'disclaims_warranties': 1,\n",
      "'is_not_responsible_for': 1, 'is_used_with': 1, 'provides support for': 1, 'is\n",
      "associated with': 1, 'is distributed with': 1, 'is a facility of': 1,\n",
      "'liability': 1, 'policy': 1, 'licensed': 1, 'accuracy': 1, 'data': 1, 'right':\n",
      "1, 'error-free': 1, 'obligation': 1, 'warranty': 1, 'restriction': 1,\n",
      "'supplements': 1, 'has_meaning_in': 1, 'prohibited by': 1, 'interferes with': 1,\n",
      "'initiates payments on': 1, 'signed in with': 1, 'provisioned to': 1, 'subject\n",
      "to': 1, 'accessed by': 1, 'has_relationship_with': 1, 'not_issued_by': 1,\n",
      "'not_processed_by': 1, 'managed_by': 1, 'contracting_with': 1,\n",
      "'modifies_terms_of': 1, 'not a party to': 1, 'transfers information to': 1,\n",
      "'adds card to': 1, 'cooperates_with': 1})\n"
>>>>>>> 58cdc82 (final knowledge graph tinkering)
<<<<<<< HEAD
<<<<<<< HEAD
<<<<<<< HEAD
=======
>>>>>>> 3e2f682 (descriptions added per node for summarization)
>>>>>>> b373de7 (final knowledge graph tinkering)
<<<<<<< HEAD
>>>>>>> f93dfe9 (final knowledge graph tinkering)
<<<<<<< HEAD
>>>>>>> 7bb8422 (final knowledge graph tinkering)
=======
=======
=======
=======
      "Entity counts: Counter({'ORG': 263, 'GPE': 81, 'CARDINAL': 20, 'PERSON': 20,\n",
      "'ORDINAL': 17, 'LAW': 13, 'WORK_OF_ART': 10, 'PRODUCT': 1, 'DATE': 1, 'EVENT':\n",
      "1, 'TIME': 1})\n",
<<<<<<< HEAD
<<<<<<< HEAD
=======
>>>>>>> 3e2f682 (descriptions added per node for summarization)
      "Relation counts: Counter({'located_in': 44, 'related_to': 23, 'uses': 23,\n",
      "'provides': 13, 'is_a': 6, 'includes': 6, 'supports': 6, 'refers_to': 6,\n",
      "'affiliated_with': 5, 'has access to': 5, 'is a type of': 4, 'licensed_by': 3,\n",
      "'runs': 3, 'is related to': 3, 'affects': 3, 'applies to': 3, 'included_with':\n",
      "3, 'associated_with': 3, 'governs': 2, 'runs_on': 2, 'produces': 2, 'is\n",
      "compatible with': 2, 'part_of': 2, 'does not endorse': 2, 'provides_service': 2,\n",
      "'owns': 1, 'accompanied by': 1, 'obtained_from': 1, 'subject to': 1, 'set forth\n",
      "in': 1, 'related to': 1, 'ownership': 1, 'produced_by': 1, 'supported_on': 1,\n",
      "'branded_by': 1, 'downloads': 1, 'delivers': 1, 'facilitates': 1, 'authorizes':\n",
      "1, 'stored_on': 1, 'governed_by': 1, 'has_rights_over': 1, 'license_for': 1,\n",
      "'branded_as': 1, 'software_for': 1, 'prohibits': 1, 'brand_association': 1,\n",
      "'time_related_to': 1, 'transfers software to': 1, 'offers': 1, 'modifies': 1,\n",
      "'modification of': 1, 'part of': 1, 'is part of': 1, 'checks_with': 1, 'is a\n",
      "subsidiary of': 1, 'is a product of': 1, 'leases': 1, 'installed_on': 1,\n",
      "'defines': 1, 'subleases': 1, 'complies_with': 1, 'agrees_to': 1, 'enforces': 1,\n",
      "'used_by': 1, 'notifies': 1, 'regulates': 1, 'provides access to': 1,\n",
      "'references': 1, 'is not responsible for': 1, 'license_to': 1, 'source_of': 1,\n",
      "'brand_of': 1, 'provides_update': 1, 'branded': 1, 'enables access to': 1,\n",
      "'owned_by': 1, 'involves': 1, 'cease_use': 1, 'disclaims': 1, 'authorized\n",
      "representative of': 1, 'authorized by': 1, 'obtained under': 1, 'licensed to':\n",
      "1, 'signed_by': 1, 'licensed_under': 1, 'licensed under': 1, 'licensed by': 1,\n",
      "'encoded by': 1, 'contains': 1, 'compliance with': 1, 'consent_required': 1,\n",
      "'not liable': 1, 'obligation': 1, 'distributed_with': 1, 'available_from': 1,\n",
      "'licensed_to': 1, 'is_feature_of': 1, 'is_type_of': 1, 'is provided by': 1,\n",
      "'authorized to bind': 1, 'requires': 1, 'applies_to': 1, 'contracts_with': 1,\n",
      "'disclaims liability': 1})\n"
>>>>>>> cca7142 (descriptions added per node for summarization)
<<<<<<< HEAD
<<<<<<< HEAD
>>>>>>> 80e8ab8 (descriptions added per node for summarization)
<<<<<<< HEAD
>>>>>>> 996ce76 (descriptions added per node for summarization)
<<<<<<< HEAD
>>>>>>> 51eb27b (descriptions added per node for summarization)
=======
=======
=======
=======
      "Relation counts: Counter({'is in': 43, 'related_to': 20, 'uses': 16, 'provides':\n",
      "14, 'is a type of': 9, 'supports': 6, 'includes': 6, 'runs_on': 5, 'is_a': 5,\n",
      "'associated_with': 5, 'refers_to': 5, 'has access to': 5, 'runs': 3,\n",
      "'affiliated_with': 3, 'contains': 3, 'included_with': 3, 'obtained_from': 2,\n",
      "'related to': 2, 'branded_by': 2, 'part_of': 2, 'governs': 2, 'involves': 2, 'is\n",
      "the same as': 2, 'licensed by': 2, 'compatible_with': 2, 'affects': 2,\n",
      "'provides_access_to': 2, 'requires': 2, 'does not endorse': 2, 'authorized by':\n",
      "2, 'owns': 1, 'governed by': 1, 'provided by': 1, 'accompanied by': 1, 'subject\n",
      "to': 1, 'set forth in': 1, 'ownership': 1, 'produced_by': 1, 'supported_on': 1,\n",
      "'downloads': 1, 'delivers': 1, 'delivered through': 1, 'has_license': 1,\n",
      "'stored_on': 1, 'has_rights_over': 1, 'use': 1, 'is used on': 1, 'is a part of':\n",
      "1, 'prohibits': 1, 'brand': 1, 'transfers software to': 1, 'offers': 1,\n",
      "'provides support for': 1, 'modification of': 1, 'is part of': 1, 'checks_with':\n",
      "1, 'owned_by': 1, 'agrees to': 1, 'installed on': 1, 'defines': 1, 'subleasing':\n",
      "1, 'complies_with': 1, 'agrees_to': 1, 'enforces_compliance': 1, 'used by': 1,\n",
      "'notifies': 1, 'regulates': 1, 'references': 1, 'responsibility': 1,\n",
      "'licensed_from': 1, 'provided_by': 1, 'provides_update': 1, 'branded': 1,\n",
      "'enables access to': 1, 'owned by': 1, 'cease_use': 1, 'disclaims': 1,\n",
      "'authorized representative of': 1, 'applies to': 1, 'perpetrates': 1, 'obtained\n",
      "under': 1, 'licensed to': 1, 'relates_to': 1, 'located_in': 1, 'licensed under':\n",
      "1, 'encoded by': 1, 'consent_required': 1, 'not liable': 1,\n",
      "'no_obligation_to_support': 1, 'distributed_with': 1, 'available_from': 1,\n",
      "'stored_in': 1, 'licensed_to': 1, 'is_feature_of': 1, 'is_type_of': 1,\n",
      "'is_part_of': 1, 'provides_service': 1, 'applies_to': 1, 'contracts_with': 1,\n",
      "'disclaims liability': 1, 'affiliation': 1})\n"
>>>>>>> 7ffbc9e (final summary)
<<<<<<< HEAD
>>>>>>> ff425e9 (final summary)
<<<<<<< HEAD
>>>>>>> 29a6de2 (final summary)
<<<<<<< HEAD
>>>>>>> 359fda0 (final summary)
=======
=======
=======
=======
      "Relation counts: Counter({'is located in': 43, 'uses': 24, 'related_to': 23,\n",
      "'provides': 18, 'is a type of': 9, 'is_a': 7, 'supports': 6, 'includes': 6,\n",
      "'refers_to': 6, 'has access to': 5, 'affiliated_with': 4, 'governs': 3, 'runs':\n",
      "3, 'included_with': 3, 'associated_with': 3, 'obtained_from': 2, 'branded_by':\n",
      "2, 'is a quantity of': 2, 'is related to': 2, 'licensed_by': 2, 'affects': 2,\n",
      "'provides access to': 2, 'does not endorse': 2, 'governed by': 2, 'owns': 1,\n",
      "'subject to': 1, 'set forth in': 1, 'related to': 1, 'produces': 1,\n",
      "'quantifies': 1, 'ownership': 1, 'supported_on': 1, 'downloads': 1, 'delivers':\n",
      "1, 'has_license_agreement': 1, 'uses_feature': 1, 'stores_content': 1,\n",
      "'granted_rights': 1, 'has_rights_over': 1, 'is used on': 1, 'grants': 1,\n",
      "'not_permit': 1, 'transfers software to': 1, 'compatible_with': 1, 'offers': 1,\n",
      "'modifies': 1, 'modification of': 1, 'part of': 1, 'warranty for': 1, 'is part\n",
      "of': 1, 'checks_with': 1, 'owned_by': 1, 'leases': 1, 'installed_on': 1,\n",
      "'defines': 1, 'subleasing': 1, 'complies_with': 1, 'agrees_to': 1,\n",
      "'enforces_compliance': 1, 'used by': 1, 'notifies': 1, 'regulates': 1,\n",
      "'references': 1, 'responsibility': 1, 'licensed_from': 1, 'provided_by': 1,\n",
      "'transferred_with': 1, 'provides_update': 1, 'brand': 1, 'enables access to': 1,\n",
      "'owned by': 1, 'cease_use_of': 1, 'disclaims': 1, 'authorized representative\n",
      "of': 1, 'applies to': 1, 'commits': 1, 'licensed to': 1, 'relates_to': 1,\n",
      "'located_in': 1, 'licensed under': 1, 'encoded by': 1, 'licensed by': 1,\n",
      "'contains': 1, 'consent_required': 1, 'not liable': 1,\n",
      "'no_obligation_to_support': 1, 'distributed_with': 1, 'available_from': 1,\n",
      "'licensed_to': 1, 'is_feature_of': 1, 'is_type_of': 1, 'is provided by': 1,\n",
      "'provides_service': 1, 'in_good_standing_with': 1, 'requires': 1, 'applies_to':\n",
      "1, 'contracts_with': 1, 'disclaims liability': 1, 'affiliation': 1})\n"
>>>>>>> 251d979 (bullet points first summary)
<<<<<<< HEAD
>>>>>>> b23acd2 (bullet points first summary)
<<<<<<< HEAD
>>>>>>> c23e0bf (bullet points first summary)
<<<<<<< HEAD
>>>>>>> 466df5a (bullet points first summary)
=======
=======
=======
=======
      "Relation counts: Counter({'is in': 43, 'is a country in': 27, 'related_to': 20,\n",
      "'uses': 17, 'provides': 12, 'includes': 10, 'runs_on': 8, 'is_a': 7,\n",
      "'refers_to': 6, 'affiliated_with': 5, 'has access to': 5, 'supports': 4, 'is a\n",
      "type of': 4, 'included_with': 4, 'governs': 3, 'involves': 3, 'associated_with':\n",
      "3, 'obtained_from': 2, 'branded_by': 2, 'licensed_by': 2, 'provides_access_to':\n",
      "2, 'requires': 2, 'does not endorse': 2, 'provides_service': 2, 'governed by':\n",
      "2, 'maintains': 2, 'owns': 1, 'subject to': 1, 'set forth in': 1, 'related to':\n",
      "1, 'produces': 1, 'owned_by': 1, 'supported_on': 1, 'is_part_of': 1,\n",
      "'downloads': 1, 'runs': 1, 'delivers': 1, 'is_related_to': 1, 'enables': 1,\n",
      "'has_license': 1, 'grants_rights': 1, 'has_rights_over': 1, 'interferes_with':\n",
      "1, 'branded_as': 1, 'is_same_as': 1, 'is_a_part_of': 1, 'prohibits': 1,\n",
      "'brand_association': 1, 'transfers software to': 1, 'is compatible with': 1,\n",
      "'affects usability of': 1, 'available_on': 1, 'part_of': 1, 'modifies': 1,\n",
      "'modification of': 1, 'part of': 1, 'is part of': 1, 'checks_with': 1, 'is a\n",
      "subsidiary of': 1, 'leases': 1, 'used by': 1, 'installed on': 1, 'defines': 1,\n",
      "'subleases': 1, 'complies_with': 1, 'agrees_to': 1, 'enforces_compliance': 1,\n",
      "'license_terms': 1, 'use_of': 1, 'notice_of_breach': 1, 'regulates': 1,\n",
      "'references': 1, 'responsibility': 1, 'licensed_from': 1, 'provided_by': 1,\n",
      "'transferred_with': 1, 'provides_update': 1, 'brand': 1, 'enables access to': 1,\n",
      "'owned by': 1, 'cease_use': 1, 'affects': 1, 'disclaims': 1, 'compatible_with':\n",
      "1, 'authorized representative of': 1, 'applies to': 1, 'is subject to': 1,\n",
      "'licensed to': 1, 'located_in': 1, 'licensed under': 1, 'licensed by': 1,\n",
      "'compliance with': 1, 'contains': 1, 'consent_required': 1, 'not liable': 1,\n",
      "'under_obligation': 1, 'distributed_with': 1, 'available_from': 1,\n",
      "'licensed_to': 1, 'is_feature_of': 1, 'is_type_of': 1, 'in_good_standing_with':\n",
      "1, 'applies_to': 1, 'disclaims liability': 1})\n"
>>>>>>> 8a6ce70 (clean data and code)
>>>>>>> 42f5a18 (clean data and code)
<<<<<<< HEAD
>>>>>>> b282914 (clean data and code)
<<<<<<< HEAD
>>>>>>> ce673d1 (clean data and code)
=======
=======
=======
>>>>>>> b373de7 (final knowledge graph tinkering)
>>>>>>> f4a4989 (final knowledge graph tinkering)
<<<<<<< HEAD
>>>>>>> 88a56bc (final knowledge graph tinkering)
<<<<<<< HEAD
>>>>>>> 99e7eef (final knowledge graph tinkering)
=======
=======
=======
>>>>>>> 80e8ab8 (descriptions added per node for summarization)
>>>>>>> 3e2f682 (descriptions added per node for summarization)
>>>>>>> 1eceed3 (descriptions added per node for summarization)
>>>>>>> 34fa0c5 (descriptions added per node for summarization)
     ]
    }
   ],
   "source": [
    "import os\n",
    "import json\n",
    "import spacy\n",
    "from collections import Counter\n",
    "from pathlib import Path\n",
    "from wasabi import msg\n",
    "from spacy_llm.util import assemble\n",
    "\n",
    "import spacy\n",
    "from sklearn.feature_extraction.text import TfidfVectorizer\n",
    "from sklearn.metrics.pairwise import cosine_similarity\n",
    "import numpy as np\n",
    "\n",
    "# traditional spacy NER\n",
    "# def split_document_sent(text):\n",
    "#     nlp = spacy.load(\"en_core_web_sm\")\n",
    "#     doc = nlp(text)\n",
    "#     return [sent.text.strip() for sent in doc.sents] # referencial\n",
    "\n",
    "def summarize_section(text):\n",
<<<<<<< HEAD
    "    nlp = spacy.load(\"en_core_web_sm\")\n",
    "    doc = nlp(text)\n",
    "\n",
    "    sentences = [sent.text.strip() for sent in doc.sents if sent.text.strip()]\n",
    "\n",
=======
    "    # Load SpaCy model\n",
    "    nlp = spacy.load(\"en_core_web_sm\")\n",
    "    doc = nlp(text)\n",
    "\n",
    "    # Extract sentences\n",
    "    sentences = [sent.text.strip() for sent in doc.sents if sent.text.strip()]\n",
    "\n",
    "    # Check if there are meaningful sentences\n",
>>>>>>> 8510426 (Running notebook with UI)
    "    if not sentences:\n",
    "        return \"No summary available\"\n",
    "\n",
    "    try:\n",
<<<<<<< HEAD
    "        # TF-IDF (sentence embedding)\n",
    "        vectorizer = TfidfVectorizer(stop_words='english')\n",
    "        sentence_vectors = vectorizer.fit_transform(sentences).toarray()\n",
    "\n",
    "        avg_vector = np.mean(sentence_vectors, axis=0).reshape(1, -1)\n",
    "        similarities = cosine_similarity(avg_vector, sentence_vectors)\n",
    "\n",
    "        # most relevant\n",
    "        most_relevant_index = np.argmax(similarities)\n",
    "        return sentences[most_relevant_index]\n",
    "\n",
    "    # in case there is empty input\n",
    "    except ValueError:\n",
=======
    "        # Compute sentence embeddings using TF-IDF\n",
    "        vectorizer = TfidfVectorizer(stop_words='english')\n",
    "        sentence_vectors = vectorizer.fit_transform(sentences).toarray()\n",
    "\n",
    "        # Calculate average vector and similarity\n",
    "        avg_vector = np.mean(sentence_vectors, axis=0).reshape(1, -1)\n",
    "        similarities = cosine_similarity(avg_vector, sentence_vectors)\n",
    "\n",
    "        # Select the most relevant sentence\n",
    "        most_relevant_index = np.argmax(similarities)\n",
    "        return sentences[most_relevant_index]\n",
    "\n",
    "    except ValueError:  # Handle cases with stop-words-only or empty input\n",
>>>>>>> 8510426 (Running notebook with UI)
    "        return \"No summary available\"\n",
    "\n",
    "# spacy-llm relationship extraction\n",
    "# def process_text(nlp, text, verbose=False):\n",
    "#     doc = nlp(text)\n",
    "#     if verbose:\n",
    "#         msg.text(f\"Text: {doc.text}\")\n",
    "#         msg.text(f\"Entities: {[(ent.text, ent.label_) for ent in doc.ents]}\")\n",
    "#         msg.text(\"Relations:\")\n",
    "#         for r in doc._.rel:\n",
    "#             msg.text(f\"  - {doc.ents[r.dep]} [{r.relation}] {doc.ents[r.dest]}\")\n",
    "#     return doc\n",
    "\n",
<<<<<<< HEAD
    "def run_pipeline(combined, config_path, examples_path=None, verbose=False):\n",
=======
<<<<<<< HEAD
    "def run_pipeline(combined, config_path, filename, examples_path=None, verbose=False):\n",
=======
    "def run_pipeline(combined, config_path, examples_path=None, verbose=False):\n",
>>>>>>> 8510426 (Running notebook with UI)
>>>>>>> de60678 (Running notebook with UI)
    "    if not os.getenv(\"OPENAI_API_KEY\"):\n",
    "        msg.fail(\"OPENAI_API_KEY env variable was not found. Set it and try again.\", exits=1)\n",
    "\n",
    "    sections = split_text(combined)\n",
    "    nlp = assemble(config_path, overrides={} if examples_path is None else {\"paths.examples\": str(examples_path)})\n",
    "\n",
    "    # Initialize counters and storage\n",
    "    processed_data = []\n",
    "    entity_counts = Counter()\n",
    "    relation_counts = Counter()\n",
    "\n",
<<<<<<< HEAD
<<<<<<< HEAD
<<<<<<< HEAD
<<<<<<< HEAD
=======
>>>>>>> f4a4989 (final knowledge graph tinkering)
=======
>>>>>>> 3e2f682 (descriptions added per node for summarization)
    "    for section in sections:\n",
    "        summary = summarize_section(section)\n",
    "        doc = nlp(summary)\n",
=======
    "    # Load your articles and news data here\n",
    "    # all_data = news_articles_data + documents\n",
    "\n",
    "    # sents = split_document_sent(combined)\n",
    "    # sents = split_docs[:4]\n",
    "    sents = split_docs\n",
    "    for sent in sents:\n",
    "        doc = process_text(nlp, sent, verbose)\n",
>>>>>>> 58cdc82 (final knowledge graph tinkering)
<<<<<<< HEAD
<<<<<<< HEAD
=======
>>>>>>> 3e2f682 (descriptions added per node for summarization)
=======
    "    for section in sections:\n",
    "        summary = summarize_section(section)\n",
    "        doc = nlp(summary)\n",
>>>>>>> cca7142 (descriptions added per node for summarization)
<<<<<<< HEAD
=======
>>>>>>> f4a4989 (final knowledge graph tinkering)
=======
>>>>>>> 3e2f682 (descriptions added per node for summarization)
    "        entities = [(ent.text, ent.label_) for ent in doc.ents]\n",
    "        relations = [(doc.ents[r.dep].text, r.relation, doc.ents[r.dest].text) for r in doc._.rel]\n",
    "\n",
<<<<<<< HEAD
    "        # processed data\n",
=======
    "        # Store processed data\n",
>>>>>>> 8510426 (Running notebook with UI)
    "        processed_data.append({\n",
    "            'original_text': section,\n",
    "            'summary': summary,\n",
    "            'entities': entities,\n",
    "            'relations': relations})\n",
    "\n",
    "        entity_counts.update([ent[1] for ent in entities])\n",
    "        relation_counts.update([rel[1] for rel in relations])\n",
    "\n",
<<<<<<< HEAD
    "    # Export to JSON\n",
    "    with open('processed_data.json', 'w') as f:\n",
=======
    "    with open(filename, 'w') as f:\n",
>>>>>>> 0e81b9d (final clean code)
    "        json.dump(processed_data, f)\n",
    "\n",
    "    msg.text(f\"Entity counts: {entity_counts}\")\n",
    "    msg.text(f\"Relation counts: {relation_counts}\")\n",
    "\n",
    "config_path = Path(\"config.cfg\")\n",
    "examples_path = None\n",
    "verbose = True\n",
    "\n",
<<<<<<< HEAD
<<<<<<< HEAD
<<<<<<< HEAD
<<<<<<< HEAD
<<<<<<< HEAD
    "# Run the pipeline\n",
    "file = run_pipeline(text_var, config_path, None, verbose)"
=======
    "file_apple = run_pipeline(combined_apple, config_path, 'apple_processed_data.json', None, verbose)"
>>>>>>> 0e81b9d (final clean code)
=======
=======
>>>>>>> 7bb8422 (final knowledge graph tinkering)
=======
>>>>>>> 466df5a (bullet points first summary)
=======
>>>>>>> 99e7eef (final knowledge graph tinkering)
    "file_apple = run_pipeline(combined_apple, config_path, 'apple_processed_data.json', None, verbose)"
=======
    "# Run the pipeline\n",
    "file = run_pipeline(text_var, config_path, None, verbose)"
>>>>>>> 8510426 (Running notebook with UI)
<<<<<<< HEAD
>>>>>>> de60678 (Running notebook with UI)
=======
=======
=======
>>>>>>> c23e0bf (bullet points first summary)
=======
>>>>>>> 88a56bc (final knowledge graph tinkering)
    "# Run the pipeline for Apple\n",
    "file_apple = run_pipeline(combined_apple, config_path, 'apple_processed_data.json', None, verbose)"
=======
=======
>>>>>>> b23acd2 (bullet points first summary)
    "# Run the pipeline\n",
<<<<<<< HEAD
<<<<<<< HEAD
    "file = run_pipeline(text_var, config_path, None, verbose)"
<<<<<<< HEAD
>>>>>>> b373de7 (final knowledge graph tinkering)
<<<<<<< HEAD
>>>>>>> f93dfe9 (final knowledge graph tinkering)
<<<<<<< HEAD
>>>>>>> 7bb8422 (final knowledge graph tinkering)
=======
=======
=======
=======
    "file = run_pipeline(combined, config_path, None, verbose)"
>>>>>>> cca7142 (descriptions added per node for summarization)
<<<<<<< HEAD
>>>>>>> 80e8ab8 (descriptions added per node for summarization)
<<<<<<< HEAD
>>>>>>> 996ce76 (descriptions added per node for summarization)
<<<<<<< HEAD
>>>>>>> 51eb27b (descriptions added per node for summarization)
=======
=======
=======
=======
=======
>>>>>>> f4a4989 (final knowledge graph tinkering)
    "# Run the pipeline for Apple\n",
    "file_apple = run_pipeline(combined_apple, config_path, 'apple_processed_data.json', None, verbose)"
=======
    "# Run the pipeline\n",
<<<<<<< HEAD
<<<<<<< HEAD
    "file = run_pipeline(text_var, config_path, None, verbose)"
<<<<<<< HEAD
>>>>>>> b373de7 (final knowledge graph tinkering)
=======
=======
    "file = run_pipeline(combined, config_path, None, verbose)"
>>>>>>> cca7142 (descriptions added per node for summarization)
>>>>>>> 80e8ab8 (descriptions added per node for summarization)
   ]
  },
  {
<<<<<<< HEAD
   "cell_type": "code",
   "execution_count": 66,
   "metadata": {},
   "outputs": [
    {
     "name": "stderr",
     "output_type": "stream",
     "text": [
      "/usr/local/lib/python3.9/site-packages/spacy_llm/pipeline/llm.py:143: UserWarning: Task supports sharding, but model does not provide context length. Data won't be sharded, prompt might exceed the model's context length. Set context length in your config. If you think spacy-llm should provide the context length for this model automatically, report this to https://github.com/explosion/spacy-llm/issues.\n",
      "  warnings.warn(\n"
     ]
    },
    {
     "name": "stdout",
     "output_type": "stream",
     "text": [
      "Entity counts: Counter({'ORG': 107, 'CARDINAL': 48, 'LAW': 13, 'DATE': 12,\n",
      "'ORDINAL': 11, 'PERSON': 8, 'WORK_OF_ART': 6, 'PRODUCT': 5, 'GPE': 5, 'FAC': 4,\n",
      "'EVENT': 3, 'PERCENT': 1, 'MONEY': 1})\n",
      "Relation counts: Counter({'uses': 6, 'related_to': 6, 'is a type of': 6,\n",
      "'delivers': 5, 'is_part_of': 4, 'defines': 3, 'provides': 3, 'governed_by': 3,\n",
      "'includes': 2, 'is a version of': 2, 'in accordance with': 2, 'limits': 2,\n",
      "'has_term': 2, 'contains': 2, 'involves': 2, 'liability_to': 2, 'has_product':\n",
      "1, 'is_located_in': 1, 'offers_support': 1, 'authorized by': 1, 'offers': 1,\n",
      "'evaluates': 1, 'is associated with': 1, 'alternative': 1, 'purpose': 1,\n",
      "'grants': 1, 'backing-up': 1, 'serves': 1, 'terminate': 1, 'assign license': 1,\n",
      "'refers to': 1, 'is provided by': 1, 'terms_of': 1, 'licenses': 1, 'transmits\n",
      "data to': 1, 'provides activation mechanism in': 1, 'is part of': 1, 'creates':\n",
      "1, 'incorporates': 1, 'provides support for': 1, 'payment_due_time': 1,\n",
      "'disclose': 1, 'protects': 1, 'owns': 1, 'is_a': 1, 'warrants': 1,\n",
      "'varies_from': 1, 'agrees to defend': 1, 'against': 1, 'alleging infringement\n",
      "by': 1, 'arising under': 1, 'modification': 1, 'obligated_to_indemnify': 1,\n",
      "'not_in_accordance_with': 1, 'claims arise out of': 1, 'not in compliance with':\n",
      "1, 'breach of obligations': 1, 'breach of restrictions': 1, 'is related to': 1,\n",
      "'commences_on': 1, 'participates_in': 1, 'extends': 1, 'follows': 1,\n",
      "'cease_use_of': 1, 'certify_within': 1, 'time_limit_after': 1, 'applies to': 1,\n",
      "'is defined in': 1, 'cites': 1, 'supplements': 1, 'is available on': 1})\n"
     ]
    }
   ],
   "source": [
    "# Run the pipeline for Apple\n",
    "file_rstudio = run_pipeline(combined_rstudio, config_path, 'rstudio_processed_data.json', None, verbose)"
>>>>>>> 251d979 (bullet points first summary)
>>>>>>> b23acd2 (bullet points first summary)
>>>>>>> c23e0bf (bullet points first summary)
>>>>>>> 466df5a (bullet points first summary)
   ]
  },
  {
=======
>>>>>>> 8a6ce70 (clean data and code)
   "cell_type": "markdown",
   "metadata": {},
   "source": [
    "### Addition of description per chunk of text as well as simplification "
   ]
  },
  {
   "cell_type": "markdown",
   "metadata": {},
   "source": [
    "#### Add description"
<<<<<<< HEAD
<<<<<<< HEAD
<<<<<<< HEAD
=======
>>>>>>> 3e2f682 (descriptions added per node for summarization)
=======
    "file = run_pipeline(config_path, None, verbose)"
>>>>>>> 58cdc82 (final knowledge graph tinkering)
=======
>>>>>>> cca7142 (descriptions added per node for summarization)
<<<<<<< HEAD
=======
=======
    "file = run_pipeline(config_path, None, verbose)"
>>>>>>> 58cdc82 (final knowledge graph tinkering)
>>>>>>> f4a4989 (final knowledge graph tinkering)
=======
>>>>>>> 3e2f682 (descriptions added per node for summarization)
   ]
  },
  {
   "cell_type": "code",
<<<<<<< HEAD
<<<<<<< HEAD
<<<<<<< HEAD
<<<<<<< HEAD
<<<<<<< HEAD
   "execution_count": 6,
=======
=======
>>>>>>> 29a6de2 (final summary)
=======
>>>>>>> c23e0bf (bullet points first summary)
=======
>>>>>>> b282914 (clean data and code)
<<<<<<< HEAD
=======
<<<<<<< HEAD
=======
>>>>>>> 3e2f682 (descriptions added per node for summarization)
>>>>>>> 1eceed3 (descriptions added per node for summarization)
   "execution_count": 7,
=======
<<<<<<< HEAD
   "execution_count": 6,
>>>>>>> 80e8ab8 (descriptions added per node for summarization)
<<<<<<< HEAD
<<<<<<< HEAD
>>>>>>> 996ce76 (descriptions added per node for summarization)
=======
=======
>>>>>>> 1eceed3 (descriptions added per node for summarization)
=======
=======
>>>>>>> b23acd2 (bullet points first summary)
=======
>>>>>>> 42f5a18 (clean data and code)
<<<<<<< HEAD
   "execution_count": 6,
=======
   "execution_count": 7,
>>>>>>> 7ffbc9e (final summary)
<<<<<<< HEAD
>>>>>>> ff425e9 (final summary)
<<<<<<< HEAD
>>>>>>> 29a6de2 (final summary)
=======
=======
=======
   "execution_count": 110,
>>>>>>> 251d979 (bullet points first summary)
<<<<<<< HEAD
>>>>>>> b23acd2 (bullet points first summary)
<<<<<<< HEAD
>>>>>>> c23e0bf (bullet points first summary)
=======
=======
=======
   "execution_count": 7,
>>>>>>> 8a6ce70 (clean data and code)
>>>>>>> 42f5a18 (clean data and code)
<<<<<<< HEAD
>>>>>>> b282914 (clean data and code)
=======
=======
>>>>>>> 3e2f682 (descriptions added per node for summarization)
>>>>>>> 1eceed3 (descriptions added per node for summarization)
   "metadata": {},
   "outputs": [
    {
     "name": "stdout",
     "output_type": "stream",
     "text": [
<<<<<<< HEAD
      "AT https://www.apple.com/legal/sales-support/. YOU MUST RETURN \n",
      "THE ENTIRE HARDWARE/SOFTWARE PACKAGE IN ORDER TO OBTAIN A REFUND.\n"
=======
      "To the extent that this software may be used to reproduce, modify, publish or \n",
      "distribute materials, it is licensed to you only for reproduction, modiﬁcation, publication and \n",
      "distribution of non-copyrighted materials, materials in which you own the copyright, or materials \n",
      "you are authorized or legally permitted to reproduce, modify, publish or distribute.\n"
>>>>>>> 8510426 (Running notebook with UI)
     ]
    },
    {
     "data": {
      "text/plain": [
<<<<<<< HEAD
       "'ACQUIRED THE APPLE SOFTWARE AS PART OF AN APPLE HARDWARE PURCHASE AND IF YOU \\nDO NOT AGREE TO THE TERMS OF THIS LICENSE, YOU MAY RETURN THE ENTIRE APPLE \\nHARDWARE/SOFTWARE PACKAGE WITHIN THE RETURN PERIOD TO THE APPLE STORE OR \\nAUTHORIZED DISTRIBUTOR WHERE YOU OBTAINED IT FOR A REFUND, SUBJECT TO APPLE’S \\nRETURN POLICY FOUND AT https://www.apple.com/legal/sales-support/. YOU MUST RETURN \\nTHE ENTIRE HARDWARE/SOFTWARE PACKAGE IN ORDER TO OBTAIN A REFUND.'"
=======
       "'IMPORTANT NOTE: To the extent that this software may be used to reproduce, modify, publish or \\ndistribute materials, it is licensed to you only for reproduction, modiﬁcation, publication and \\ndistribution of non-copyrighted materials, materials in which you own the copyright, or materials \\nyou are authorized or legally permitted to reproduce, modify, publish or distribute. If you are \\nuncertain about your right to copy, modify, publish or distribute any material, you should contact'"
>>>>>>> 8510426 (Running notebook with UI)
      ]
     },
<<<<<<< HEAD
<<<<<<< HEAD
<<<<<<< HEAD
     "execution_count": 6,
=======
=======
>>>>>>> c23e0bf (bullet points first summary)
=======
>>>>>>> b282914 (clean data and code)
<<<<<<< HEAD
     "execution_count": 7,
=======
=======
>>>>>>> b23acd2 (bullet points first summary)
=======
>>>>>>> 42f5a18 (clean data and code)
<<<<<<< HEAD
     "execution_count": 6,
=======
     "execution_count": 7,
>>>>>>> 7ffbc9e (final summary)
<<<<<<< HEAD
>>>>>>> ff425e9 (final summary)
<<<<<<< HEAD
>>>>>>> 29a6de2 (final summary)
=======
=======
=======
     "execution_count": 110,
>>>>>>> 251d979 (bullet points first summary)
<<<<<<< HEAD
>>>>>>> b23acd2 (bullet points first summary)
<<<<<<< HEAD
>>>>>>> c23e0bf (bullet points first summary)
=======
=======
=======
     "execution_count": 7,
>>>>>>> 8a6ce70 (clean data and code)
>>>>>>> 42f5a18 (clean data and code)
>>>>>>> b282914 (clean data and code)
     "metadata": {},
     "output_type": "execute_result"
    }
   ],
   "source": [
<<<<<<< HEAD
=======
    "import spacy\n",
    "from sklearn.feature_extraction.text import TfidfVectorizer\n",
    "from sklearn.metrics.pairwise import cosine_similarity\n",
    "import numpy as np\n",
    "\n",
>>>>>>> 8510426 (Running notebook with UI)
    "def summarize_section(text):\n",
    "    nlp = spacy.load(\"en_core_web_sm\")\n",
    "    doc = nlp(text)\n",
    "    sentences = [sent.text for sent in doc.sents]\n",
    "\n",
    "    vectorizer = TfidfVectorizer(stop_words='english')\n",
    "    # convert to array in order to perform cosine similarity\n",
    "    sentence_vectors = vectorizer.fit_transform(sentences).toarray()\n",
    "\n",
    "    avg_vector = np.mean(sentence_vectors, axis=0)\n",
    "    avg_vector = avg_vector.reshape(1, -1)\n",
    "    similarities = cosine_similarity(avg_vector, sentence_vectors)\n",
    "\n",
    "    # index with highest cosine similarity to the average vector\n",
    "    most_relevant_index = np.argmax(similarities)\n",
    "\n",
    "    return sentences[most_relevant_index]\n",
    "\n",
    "\n",
<<<<<<< HEAD
<<<<<<< HEAD
<<<<<<< HEAD
    "print(summarize_section(split_docs[2]))\n",
    "split_docs[2]"
=======
    "print(summarize_section(split_docs_apple[1]))\n",
    "split_docs_apple[1]"
>>>>>>> 0e81b9d (final clean code)
=======
=======
>>>>>>> 466df5a (bullet points first summary)
    "print(summarize_section(split_docs_apple[1]))\n",
    "split_docs_apple[1]"
=======
    "print(summarize_section(split_docs[2]))\n",
    "split_docs[2]"
>>>>>>> 8510426 (Running notebook with UI)
<<<<<<< HEAD
>>>>>>> de60678 (Running notebook with UI)
=======
=======
    "print(summarize_section(split_docs_apple[2]))\n",
    "split_docs_apple[2]"
<<<<<<< HEAD
=======
   ]
  },
  {
<<<<<<< HEAD
   "cell_type": "code",
   "execution_count": 62,
   "metadata": {},
   "outputs": [
    {
     "name": "stdout",
     "output_type": "stream",
     "text": [
      "By clicking on the “a ccept” button at t he e nd of this  document or by accessing, executing or otherwise using the \n",
      "Software, you acknowledge that you have read this Agreement, understand it and agree to be bound by its terms \n",
      "and conditions.\n"
     ]
    },
    {
     "data": {
      "text/plain": [
       "'By clicking on the “a ccept” button at t he e nd of this  document or by accessing, executing or otherwise using the \\nSoftware, you acknowledge that you have read this Agreement, understand it and agree to be bound by its terms \\nand conditions. If you are not willing to be bound by the terms of this Agreement, do not access or use the Software. \\n \\nIf you are using the Software in your capacity as employee or agent of a  company or organization, then any'"
      ]
     },
     "execution_count": 62,
     "metadata": {},
     "output_type": "execute_result"
    }
   ],
   "source": [
    "print(summarize_section(split_docs_rstudio[2]))\n",
    "split_docs_rstudio[2]"
>>>>>>> b23acd2 (bullet points first summary)
>>>>>>> c23e0bf (bullet points first summary)
>>>>>>> 466df5a (bullet points first summary)
   ]
  },
  {
=======
>>>>>>> 42f5a18 (clean data and code)
   "cell_type": "markdown",
   "metadata": {},
   "source": [
    "#### Simplification with Lexical Simplification with BERT"
   ]
  },
  {
   "cell_type": "code",
<<<<<<< HEAD
   "execution_count": 7,
=======
<<<<<<< HEAD
   "execution_count": 8,
=======
<<<<<<< HEAD
   "execution_count": 7,
>>>>>>> 8510426 (Running notebook with UI)
<<<<<<< HEAD
>>>>>>> de60678 (Running notebook with UI)
=======
=======
<<<<<<< HEAD
   "execution_count": 7,
>>>>>>> ff425e9 (final summary)
>>>>>>> 29a6de2 (final summary)
>>>>>>> 359fda0 (final summary)
   "metadata": {},
   "outputs": [
    {
     "name": "stderr",
     "output_type": "stream",
     "text": [
<<<<<<< HEAD
=======
<<<<<<< HEAD
      "[nltk_data] Downloading package punkt to /Users/meryjoy/nltk_data...\n",
      "[nltk_data]   Package punkt is already up-to-date!\n",
=======
>>>>>>> de60678 (Running notebook with UI)
      "[nltk_data] Downloading package punkt to /Users/amber/nltk_data...\n",
      "[nltk_data]   Package punkt is already up-to-date!\n"
     ]
    },
    {
     "data": {
      "application/vnd.jupyter.widget-view+json": {
       "model_id": "eefcee5b23434f70a248e7dd93c082c0",
       "version_major": 2,
       "version_minor": 0
      },
      "text/plain": [
       "tokenizer_config.json:   0%|          | 0.00/48.0 [00:00<?, ?B/s]"
      ]
     },
     "metadata": {},
     "output_type": "display_data"
    },
    {
     "data": {
      "application/vnd.jupyter.widget-view+json": {
       "model_id": "f2e9366db1ef41d0852bf086f71bd5a2",
       "version_major": 2,
       "version_minor": 0
      },
      "text/plain": [
       "config.json:   0%|          | 0.00/570 [00:00<?, ?B/s]"
      ]
     },
     "metadata": {},
     "output_type": "display_data"
    },
    {
     "data": {
      "application/vnd.jupyter.widget-view+json": {
       "model_id": "ca12cc874ac048c8a00ed7fa88ce892c",
       "version_major": 2,
       "version_minor": 0
      },
      "text/plain": [
       "vocab.txt:   0%|          | 0.00/232k [00:00<?, ?B/s]"
      ]
     },
     "metadata": {},
     "output_type": "display_data"
    },
    {
     "data": {
      "application/vnd.jupyter.widget-view+json": {
       "model_id": "73c2368ef96d4591adf3d8c389c6b32e",
       "version_major": 2,
       "version_minor": 0
      },
      "text/plain": [
       "tokenizer.json:   0%|          | 0.00/466k [00:00<?, ?B/s]"
      ]
     },
     "metadata": {},
     "output_type": "display_data"
    },
    {
     "data": {
      "application/vnd.jupyter.widget-view+json": {
       "model_id": "358e6e0dbd574c08a5f253ece47c5106",
       "version_major": 2,
       "version_minor": 0
      },
      "text/plain": [
       "model.safetensors:   0%|          | 0.00/440M [00:00<?, ?B/s]"
      ]
     },
     "metadata": {},
     "output_type": "display_data"
    },
    {
     "name": "stderr",
     "output_type": "stream",
     "text": [
<<<<<<< HEAD
=======
>>>>>>> 8510426 (Running notebook with UI)
>>>>>>> de60678 (Running notebook with UI)
      "BertForMaskedLM has generative capabilities, as `prepare_inputs_for_generation` is explicitly overwritten. However, it doesn't directly inherit from `GenerationMixin`. From 👉v4.50👈 onwards, `PreTrainedModel` will NOT inherit from `GenerationMixin`, and this model will lose the ability to call `generate` and other related functions.\n",
      "  - If you're using `trust_remote_code=True`, you can get rid of this warning by loading the model with an auto class. See https://huggingface.co/docs/transformers/en/model_doc/auto#auto-classes\n",
      "  - If you are the owner of the model architecture code, please modify your model class such that it inherits from `GenerationMixin` (after `PreTrainedModel`, otherwise you'll get an exception).\n",
      "  - If you are not the owner of the model architecture class, please contact the model code owner to update it.\n",
      "Some weights of the model checkpoint at bert-base-uncased were not used when initializing BertForMaskedLM: ['bert.pooler.dense.bias', 'bert.pooler.dense.weight', 'cls.seq_relationship.bias', 'cls.seq_relationship.weight']\n",
      "- This IS expected if you are initializing BertForMaskedLM from the checkpoint of a model trained on another task or with another architecture (e.g. initializing a BertForSequenceClassification model from a BertForPreTraining model).\n",
      "- This IS NOT expected if you are initializing BertForMaskedLM from the checkpoint of a model that you expect to be exactly identical (initializing a BertForSequenceClassification model from a BertForSequenceClassification model).\n"
     ]
    },
    {
<<<<<<< HEAD
=======
<<<<<<< HEAD
=======
>>>>>>> de60678 (Running notebook with UI)
     "data": {
      "application/vnd.jupyter.widget-view+json": {
       "model_id": "eabe1fb1fbb0426d80f84d6c61697b6f",
       "version_major": 2,
       "version_minor": 0
      },
      "text/plain": [
       "modules.json:   0%|          | 0.00/349 [00:00<?, ?B/s]"
      ]
     },
     "metadata": {},
     "output_type": "display_data"
    },
    {
     "data": {
      "application/vnd.jupyter.widget-view+json": {
       "model_id": "9440817927a44534a70136a353d965ec",
       "version_major": 2,
       "version_minor": 0
      },
      "text/plain": [
       "config_sentence_transformers.json:   0%|          | 0.00/116 [00:00<?, ?B/s]"
      ]
     },
     "metadata": {},
     "output_type": "display_data"
    },
    {
     "data": {
      "application/vnd.jupyter.widget-view+json": {
       "model_id": "03deb55e48af4904bc6695d9256fb963",
       "version_major": 2,
       "version_minor": 0
      },
      "text/plain": [
       "README.md:   0%|          | 0.00/10.7k [00:00<?, ?B/s]"
      ]
     },
     "metadata": {},
     "output_type": "display_data"
    },
    {
     "data": {
      "application/vnd.jupyter.widget-view+json": {
       "model_id": "57f7d1ddf6424d78ac07bfe3803f2c23",
       "version_major": 2,
       "version_minor": 0
      },
      "text/plain": [
       "sentence_bert_config.json:   0%|          | 0.00/53.0 [00:00<?, ?B/s]"
      ]
     },
     "metadata": {},
     "output_type": "display_data"
    },
    {
     "data": {
      "application/vnd.jupyter.widget-view+json": {
       "model_id": "7fc4d8f893504c95b2359e660169736c",
       "version_major": 2,
       "version_minor": 0
      },
      "text/plain": [
       "config.json:   0%|          | 0.00/612 [00:00<?, ?B/s]"
      ]
     },
     "metadata": {},
     "output_type": "display_data"
    },
    {
     "data": {
      "application/vnd.jupyter.widget-view+json": {
       "model_id": "d94a050284354a1da2cb13fb474b7138",
       "version_major": 2,
       "version_minor": 0
      },
      "text/plain": [
       "model.safetensors:   0%|          | 0.00/90.9M [00:00<?, ?B/s]"
      ]
     },
     "metadata": {},
     "output_type": "display_data"
    },
    {
     "data": {
      "application/vnd.jupyter.widget-view+json": {
       "model_id": "2ff80f67006d41e9976246dca716ab26",
       "version_major": 2,
       "version_minor": 0
      },
      "text/plain": [
       "tokenizer_config.json:   0%|          | 0.00/350 [00:00<?, ?B/s]"
      ]
     },
     "metadata": {},
     "output_type": "display_data"
    },
    {
     "data": {
      "application/vnd.jupyter.widget-view+json": {
       "model_id": "d1968d9d406c47b3b15dd2777ff49c83",
       "version_major": 2,
       "version_minor": 0
      },
      "text/plain": [
       "vocab.txt:   0%|          | 0.00/232k [00:00<?, ?B/s]"
      ]
     },
     "metadata": {},
     "output_type": "display_data"
    },
    {
     "data": {
      "application/vnd.jupyter.widget-view+json": {
       "model_id": "bbd7ffe1db8542f78002b56e717c54c0",
       "version_major": 2,
       "version_minor": 0
      },
      "text/plain": [
       "tokenizer.json:   0%|          | 0.00/466k [00:00<?, ?B/s]"
      ]
     },
     "metadata": {},
     "output_type": "display_data"
    },
    {
     "data": {
      "application/vnd.jupyter.widget-view+json": {
       "model_id": "10698023bc7b4386ba0f40c9bad5d14f",
       "version_major": 2,
       "version_minor": 0
      },
      "text/plain": [
       "special_tokens_map.json:   0%|          | 0.00/112 [00:00<?, ?B/s]"
      ]
     },
     "metadata": {},
     "output_type": "display_data"
    },
    {
     "data": {
      "application/vnd.jupyter.widget-view+json": {
       "model_id": "3a1c897358194258b6451dcbe59f7854",
       "version_major": 2,
       "version_minor": 0
      },
      "text/plain": [
       "1_Pooling/config.json:   0%|          | 0.00/190 [00:00<?, ?B/s]"
      ]
     },
     "metadata": {},
     "output_type": "display_data"
    },
    {
<<<<<<< HEAD
=======
>>>>>>> 8510426 (Running notebook with UI)
>>>>>>> de60678 (Running notebook with UI)
     "name": "stdout",
     "output_type": "stream",
     "text": [
      "Simplified Text: \n",
      "The user shall be deemed to have consent to the terms and conditions , referred to as the agreement. You agree to be bound by the contract under this contract.\n"
     ]
    }
   ],
   "source": [
    "from transformers import AutoModelForMaskedLM, AutoTokenizer\n",
    "from sentence_transformers import SentenceTransformer, util\n",
    "import nltk\n",
    "from nltk.tokenize import sent_tokenize, word_tokenize\n",
    "import numpy as np\n",
    "\n",
    "nltk.download('punkt')\n",
    "\n",
    "# Load models\n",
    "tokenizer = AutoTokenizer.from_pretrained(\"bert-base-uncased\", trust_remote_code=True)\n",
    "model = AutoModelForMaskedLM.from_pretrained(\"bert-base-uncased\", trust_remote_code=True)\n",
    "similarity_model = SentenceTransformer(\"all-MiniLM-L6-v2\")\n",
    "\n",
    "def mask_word(sentence, word):\n",
    "    \"\"\"Replace a word in the sentence with [MASK].\"\"\"\n",
    "    return sentence.replace(word, \"[MASK]\")\n",
    "\n",
    "def generate_candidates(masked_sentence, top_k=5):\n",
    "    \"\"\"Generate replacement candidates using MLM.\"\"\"\n",
    "    inputs = tokenizer(masked_sentence, return_tensors=\"pt\")\n",
    "    outputs = model(**inputs)\n",
    "    logits = outputs.logits\n",
    "\n",
    "    mask_token_index = (inputs.input_ids == tokenizer.mask_token_id).nonzero(as_tuple=True)[1]\n",
    "    mask_logits = logits[0, mask_token_index, :]\n",
    "    top_tokens = mask_logits.topk(top_k, dim=-1).indices[0].tolist()\n",
    "\n",
    "    candidates = [tokenizer.decode([token]).strip() for token in top_tokens]\n",
    "    return candidates\n",
    "\n",
    "def rank_candidates(sentence, word, candidates):\n",
    "    \"\"\"Rank candidates based on semantic similarity and simplicity.\"\"\"\n",
    "    original_embedding = similarity_model.encode(sentence)\n",
    "    rankings = []\n",
    "\n",
    "    for candidate in candidates:\n",
    "        replaced_sentence = sentence.replace(word, candidate)\n",
    "        candidate_embedding = similarity_model.encode(replaced_sentence)\n",
    "        similarity = util.cos_sim(original_embedding, candidate_embedding)[0][0].item()\n",
    "        rankings.append((candidate, similarity))\n",
    "\n",
    "    # Sort by similarity and word length (shorter words preferred for simplicity)\n",
    "    rankings.sort(key=lambda x: (-x[1], len(x[0])))\n",
    "    return [candidate for candidate, _ in rankings]\n",
    "\n",
    "def simplify_text(text, complexity_threshold=5):\n",
    "    \"\"\"Simplify text by replacing complex words.\"\"\"\n",
    "    simplified_sentences = []\n",
    "    sentences = sent_tokenize(text)\n",
    "\n",
    "    for sentence in sentences:\n",
    "        words = word_tokenize(sentence)\n",
    "        for word in words:\n",
<<<<<<< HEAD
    "            # Detect complex words by length\n",
    "            if len(word) > complexity_threshold:  \n",
=======
    "            if len(word) > complexity_threshold:  # Detect complex words by length\n",
>>>>>>> 8510426 (Running notebook with UI)
    "                masked_sentence = mask_word(sentence, word)\n",
    "                candidates = generate_candidates(masked_sentence)\n",
    "                ranked_candidates = rank_candidates(sentence, word, candidates)\n",
    "\n",
    "                if ranked_candidates:\n",
    "                    sentence = sentence.replace(word, ranked_candidates[0], 1)\n",
    "        simplified_sentences.append(sentence)\n",
    "\n",
    "    return \" \".join(simplified_sentences)\n",
    "\n",
<<<<<<< HEAD
    "\n",
    "text = \"\"\"\n",
<<<<<<< HEAD
    "The user shall be deemed to have consented to the terms and conditions herein referred to as the agreement.\n",
=======
    "The user shall be deemed to have consented to the terms and conditions herein referred to as the agreement. \n",
=======
    "# Example usage\n",
    "text = \"\"\"\n",
    "The user shall be deemed to have consented to the terms and conditions herein referred to as the agreement.\n",
>>>>>>> 8510426 (Running notebook with UI)
>>>>>>> de60678 (Running notebook with UI)
    "You agree to be bound by the obligations under this contract.\n",
    "\"\"\"\n",
    "\n",
    "simplified_text = simplify_text(text)\n",
    "print(\"Simplified Text:\", simplified_text)\n"
   ]
  },
  {
   "cell_type": "markdown",
   "metadata": {},
   "source": [
    "Still work ahead for this part of the project, might be for later, not enough time"
   ]
  },
  {
   "cell_type": "markdown",
   "metadata": {},
   "source": [
    "### Create Cypher Queries with eFLINT notation"
   ]
  },
  {
   "cell_type": "code",
<<<<<<< HEAD
<<<<<<< HEAD
=======
=======
>>>>>>> 51eb27b (descriptions added per node for summarization)
<<<<<<< HEAD
   "execution_count": 9,
   "metadata": {},
   "outputs": [],
   "source": [
    "def classify_and_generate_queries(json_data, file_path):\n",
=======
>>>>>>> de60678 (Running notebook with UI)
   "execution_count": 8,
   "metadata": {},
   "outputs": [],
   "source": [
    "def classify_and_generate_queries2(json_data, file_path):\n",
<<<<<<< HEAD
=======
>>>>>>> 8510426 (Running notebook with UI)
<<<<<<< HEAD
>>>>>>> de60678 (Running notebook with UI)
=======
=======
=======
   "execution_count": 8,
=======
   "execution_count": 36,
>>>>>>> cca7142 (descriptions added per node for summarization)
   "metadata": {},
   "outputs": [
    {
     "name": "stdout",
     "output_type": "stream",
     "text": [
      "To the extent that this software may be used to reproduce, modify, publish or \n",
      "distribute materials, it is licensed to you only for reproduction, modiﬁcation, publication and \n",
      "distribution of non-copyrighted materials, materials in which you own the copyright, or materials \n",
      "you are authorized or legally permitted to reproduce, modify, publish or distribute.\n"
     ]
    },
    {
     "data": {
      "text/plain": [
       "'IMPORTANT NOTE: To the extent that this software may be used to reproduce, modify, publish or \\ndistribute materials, it is licensed to you only for reproduction, modiﬁcation, publication and \\ndistribution of non-copyrighted materials, materials in which you own the copyright, or materials \\nyou are authorized or legally permitted to reproduce, modify, publish or distribute. If you are \\nuncertain about your right to copy, modify, publish or distribute any material, you should contact'"
      ]
     },
     "execution_count": 36,
     "metadata": {},
     "output_type": "execute_result"
    }
   ],
   "source": [
<<<<<<< HEAD
    "def classify_and_generate_queries2(json_data, file_path):\n",
>>>>>>> 996ce76 (descriptions added per node for summarization)
>>>>>>> 51eb27b (descriptions added per node for summarization)
    "    nodes = {}\n",
    "    relationships = []\n",
    "\n",
    "    # Enhanced mapping function for entity types based on eFLINT elements\n",
    "    def map_eflint_type(entity_type, entity_name):\n",
<<<<<<< HEAD
<<<<<<< HEAD
=======
<<<<<<< HEAD
<<<<<<< HEAD
=======
>>>>>>> de60678 (Running notebook with UI)
=======
=======
>>>>>>> 996ce76 (descriptions added per node for summarization)
>>>>>>> 51eb27b (descriptions added per node for summarization)
    "        # we are not really interested in numbers so we delete those\n",
    "        # in the case of links it is better that we classify them as FACT rather than ORG\n",
    "        if 'http://' in entity_type or 'https://' in entity_name:\n",
    "            return 'FACT'\n",
    "\n",
    "        if entity_type in ['CARDINAL', 'ORDINAL']:\n",
    "            return 'NUMBER'\n",
    "\n",
    "\n",
    "        if entity_type == 'ORG':\n",
    "            if 'terms' in entity_name.lower() or 'conditions' in entity_name.lower() or 'agreement' in entity_name.lower():\n",
    "                return 'DUTY'\n",
    "            else:\n",
    "                return 'ACTOR'\n",
    "\n",
    "        if 'section' in entity_name.lower() or 'section' in entity_type.lower():\n",
    "            return 'SECTION'\n",
    "\n",
    "        mapping = {\n",
    "            'PERSON': 'ACTOR',\n",
    "            'EVENT': 'EVENT',\n",
    "            'LAW': 'DUTY',\n",
    "            'WORK_OF_ART': 'ACT',\n",
    "            'CONDITION': 'CONDITION',\n",
    "            'DATE': 'DATE',\n",
    "            # they sadly do not appear in the NER we performed but we can nevertheless include them to keep the eFLINT semantics\n",
    "            'CLAIMANT': 'CLAIMANT',\n",
    "            'HOLDER': 'HOLDER'\n",
    "        }\n",
    "        return mapping.get(entity_type, 'FACT')\n",
    "\n",
    "    # entities and relationships\n",
    "    for item in json_data:\n",
    "        entities = item.get('entities', [])\n",
    "        relations = item.get('relations', [])\n",
    "        context_text = item.get('context', '')  # Text surrounding the entities\n",
    "\n",
    "        # Generate section summary for the context\n",
    "        section_summary = summarize_section(context_text) if context_text else \"No summary available\"\n",
    "\n",
    "        for entity in entities:\n",
    "            entity_name, entity_type = entity[:2]\n",
    "            mapped_type = map_eflint_type(entity_type, entity_name)\n",
    "            node_id = f\"{entity_name.replace(' ', '_')}_{mapped_type}\"\n",
    "            nodes[node_id] = {\n",
    "                'name': entity_name,\n",
    "                'type': mapped_type,\n",
    "                'description': section_summary  # Add the summary as a description\n",
    "            }\n",
    "\n",
    "        for relation in relations:\n",
    "            src_id = f\"{relation[0].replace(' ', '_')}_{map_eflint_type(entities[0][1], entities[0][0])}\"\n",
    "            tgt_id = f\"{relation[2].replace(' ', '_')}_{map_eflint_type(entities[0][1], entities[0][0])}\"\n",
    "            relationship_type = relation[1].replace(' ', '_').replace('-', '_')\n",
    "            relationships.append((src_id, relationship_type, tgt_id))\n",
    "\n",
    "    node_queries = [\n",
    "        f\"MERGE (n:{data['type']} {{name: '{data['name']}', description: '{data['description']}'}}) SET n.id = '{node_id}'\"\n",
    "        for node_id, data in nodes.items() if data['type'] != 'NUMBER'\n",
    "    ]\n",
    "\n",
    "    relationship_queries = [\n",
    "        f\"MATCH (a), (b) WHERE a.id = '{rel[0]}' AND b.id = '{rel[2]}' \"\n",
    "        f\"MERGE (a)-[:{rel[1]}]->(b)\"\n",
    "        for rel in relationships\n",
    "    ]\n",
    "\n",
    "    queries = node_queries + relationship_queries\n",
    "    # Save queries to a text file\n",
    "    with open(file_path, 'w') as file:\n",
    "        for query in queries:\n",
    "            file.write(query + '\\n')\n",
    "\n",
    "    return queries"
   ]
  },
  {
   "cell_type": "code",
<<<<<<< HEAD
=======
>>>>>>> 80e8ab8 (descriptions added per node for summarization)
>>>>>>> 996ce76 (descriptions added per node for summarization)
   "execution_count": 9,
   "metadata": {},
   "outputs": [],
   "source": [
    "def classify_and_generate_queries(json_data, file_path):\n",
    "    nodes = {}\n",
    "    relationships = []\n",
    "\n",
    "    # Enhanced mapping function for entity types based on eFLINT elements\n",
    "    def map_eflint_type(entity_type, entity_name):\n",
>>>>>>> 8510426 (Running notebook with UI)
    "        if 'http://' in entity_type or 'https://' in entity_name:\n",
    "            return 'FACT'\n",
    "        if entity_type in ['CARDINAL', 'ORDINAL']:\n",
    "            return 'NUMBER'\n",
    "        if entity_type == 'ORG':\n",
    "            if 'terms' in entity_name.lower() or 'conditions' in entity_name.lower() or 'agreement' in entity_name.lower():\n",
    "                return 'DUTY'\n",
    "            else:\n",
    "                return 'ACTOR'\n",
    "        if 'section' in entity_name.lower() or 'section' in entity_type.lower():\n",
    "            return 'SECTION'\n",
    "        mapping = {\n",
    "            'PERSON': 'ACTOR',\n",
    "            'EVENT': 'EVENT',\n",
    "            'LAW': 'DUTY',\n",
    "            'WORK_OF_ART': 'ACT',\n",
    "            'CONDITION': 'CONDITION',\n",
    "            'DATE': 'DATE',\n",
    "        }\n",
    "        return mapping.get(entity_type, 'FACT')\n",
    "\n",
    "    # Process summaries and associate them with entities\n",
    "    for item in json_data:\n",
    "        summary = item.get('summary', 'No summary available')\n",
    "        entities = item.get('entities', [])\n",
    "        relations = item.get('relations', [])\n",
    "\n",
    "        for entity in entities:\n",
    "            entity_name, entity_type = entity[:2]\n",
    "            mapped_type = map_eflint_type(entity_type, entity_name)\n",
    "            node_id = f\"{entity_name.replace(' ', '_')}_{mapped_type}\"\n",
    "            if node_id not in nodes:\n",
    "                nodes[node_id] = {\n",
    "                    'name': entity_name,\n",
    "                    'type': mapped_type,\n",
    "                    'descriptions': [summary],  # Start with the current summary\n",
    "                }\n",
    "            else:\n",
    "                nodes[node_id]['descriptions'].append(summary)  # Append additional summaries\n",
    "\n",
    "        # Add relationships if present\n",
    "        for relation in relations:\n",
    "            src_id = f\"{relation[0].replace(' ', '_')}_{map_eflint_type(entity_type, relation[0])}\"\n",
    "            tgt_id = f\"{relation[2].replace(' ', '_')}_{map_eflint_type(entity_type, relation[2])}\"\n",
    "            relationship_type = relation[1].replace(' ', '_').replace('-', '_')\n",
    "            relationships.append((src_id, relationship_type, tgt_id))\n",
    "\n",
    "    # Create Cypher queries for nodes\n",
    "    node_queries = [\n",
    "        f\"\"\"\n",
<<<<<<< HEAD
    "        MERGE (n:{data['type']} {{name: '{data['name']}'}})\n",
    "        SET n.id = '{node_id}', n.descriptions = {json.dumps(data['descriptions'])}\n",
=======
<<<<<<< HEAD
    "        MERGE (n:{data['type']} {{name: '{data['name'].replace(\"'\", \"\")}'}})\n",
    "        SET n.id = '{node_id.replace(\"'\", \"\")}', \n",
    "        n.descriptions = {json.dumps([desc.replace(\"'\", \"\") for desc in data['descriptions']])}\n",
=======
    "        MERGE (n:{data['type']} {{name: '{data['name']}'}})\n",
    "        SET n.id = '{node_id}', n.descriptions = {json.dumps(data['descriptions'])}\n",
>>>>>>> 8510426 (Running notebook with UI)
>>>>>>> de60678 (Running notebook with UI)
    "        \"\"\"\n",
    "        for node_id, data in nodes.items() if data['type'] != 'NUMBER'\n",
    "    ]\n",
    "\n",
    "    # Create Cypher queries for relationships\n",
    "    relationship_queries = [\n",
    "        f\"\"\"\n",
    "        MATCH (a), (b)\n",
<<<<<<< HEAD
    "        WHERE a.id = '{rel[0]}' AND b.id = '{rel[2]}'\n",
    "        MERGE (a)-[:{rel[1]}]->(b)\n",
=======
<<<<<<< HEAD
    "        WHERE a.id = '{rel[0].replace(\"'\", \"\")}' AND b.id = '{rel[2].replace(\"'\", \"\")}'\n",
    "        MERGE (a)-[:{rel[1].replace(\"'\", \"\")}]->(b)\n",
=======
    "        WHERE a.id = '{rel[0]}' AND b.id = '{rel[2]}'\n",
    "        MERGE (a)-[:{rel[1]}]->(b)\n",
>>>>>>> 8510426 (Running notebook with UI)
>>>>>>> de60678 (Running notebook with UI)
    "        \"\"\"\n",
    "        for rel in relationships\n",
    "    ]\n",
    "\n",
    "    queries = node_queries + relationship_queries\n",
    "\n",
    "    # Save queries to a text file\n",
    "    with open(file_path, 'w') as file:\n",
    "        for query in queries:\n",
<<<<<<< HEAD
    "            file.write(query + '\\n')\n",
=======
<<<<<<< HEAD
    "            file.write(query.strip() + '\\n')\n",
=======
    "            file.write(query + '\\n')\n",
>>>>>>> 8510426 (Running notebook with UI)
>>>>>>> de60678 (Running notebook with UI)
    "\n",
    "    return queries\n"
   ]
  },
  {
   "cell_type": "code",
   "execution_count": 10,
   "metadata": {},
   "outputs": [],
   "source": [
<<<<<<< HEAD
    "with open('processed_data.json', 'r') as file:\n",
    "    json_data = json.load(file)\n",
    "\n",
    "queries = classify_and_generate_queries(json_data, 'cypher_queries.txt')"
=======
<<<<<<< HEAD
    "with open('apple_processed_data.json', 'r') as file:\n",
    "    json_data = json.load(file)\n",
    "\n",
    "queries_apple = classify_and_generate_queries(json_data, 'apple_cypher_queries.txt')"
=======
    "with open('processed_data.json', 'r') as file:\n",
    "    json_data = json.load(file)\n",
    "\n",
    "queries = classify_and_generate_queries(json_data, 'cypher_queries.txt')"
>>>>>>> 8510426 (Running notebook with UI)
>>>>>>> de60678 (Running notebook with UI)
   ]
  },
  {
   "cell_type": "code",
<<<<<<< HEAD
   "execution_count": 14,
   "metadata": {},
=======
<<<<<<< HEAD
   "execution_count": 11,
   "metadata": {},
   "outputs": [],
=======
   "execution_count": 14,
   "metadata": {},
>>>>>>> de60678 (Running notebook with UI)
   "outputs": [
    {
     "ename": "AuthError",
     "evalue": "{code: Neo.ClientError.Security.Unauthorized} {message: The client is unauthorized due to authentication failure.}",
     "output_type": "error",
     "traceback": [
      "\u001b[0;31m---------------------------------------------------------------------------\u001b[0m",
      "\u001b[0;31mAuthError\u001b[0m                                 Traceback (most recent call last)",
      "Cell \u001b[0;32mIn[14], line 15\u001b[0m\n\u001b[1;32m     12\u001b[0m user \u001b[38;5;241m=\u001b[39m \u001b[38;5;124m\"\u001b[39m\u001b[38;5;124mneo4j\u001b[39m\u001b[38;5;124m\"\u001b[39m\n\u001b[1;32m     13\u001b[0m password \u001b[38;5;241m=\u001b[39m \u001b[38;5;124m\"\u001b[39m\u001b[38;5;124mmovies11\u001b[39m\u001b[38;5;124m\"\u001b[39m\n\u001b[0;32m---> 15\u001b[0m \u001b[43mexecute_queries\u001b[49m\u001b[43m(\u001b[49m\u001b[43mqueries\u001b[49m\u001b[43m,\u001b[49m\u001b[43m \u001b[49m\u001b[43muri\u001b[49m\u001b[43m,\u001b[49m\u001b[43m \u001b[49m\u001b[43muser\u001b[49m\u001b[43m,\u001b[49m\u001b[43m \u001b[49m\u001b[43mpassword\u001b[49m\u001b[43m)\u001b[49m\n",
      "Cell \u001b[0;32mIn[14], line 7\u001b[0m, in \u001b[0;36mexecute_queries\u001b[0;34m(queries, uri, user, password)\u001b[0m\n\u001b[1;32m      5\u001b[0m \u001b[38;5;28;01mwith\u001b[39;00m driver\u001b[38;5;241m.\u001b[39msession() \u001b[38;5;28;01mas\u001b[39;00m session:\n\u001b[1;32m      6\u001b[0m     \u001b[38;5;28;01mfor\u001b[39;00m query \u001b[38;5;129;01min\u001b[39;00m queries:\n\u001b[0;32m----> 7\u001b[0m         \u001b[43msession\u001b[49m\u001b[38;5;241;43m.\u001b[39;49m\u001b[43mrun\u001b[49m\u001b[43m(\u001b[49m\u001b[43mquery\u001b[49m\u001b[43m)\u001b[49m\n\u001b[1;32m      8\u001b[0m driver\u001b[38;5;241m.\u001b[39mclose()\n",
      "File \u001b[0;32m/usr/local/lib/python3.9/site-packages/neo4j/_sync/work/session.py:313\u001b[0m, in \u001b[0;36mSession.run\u001b[0;34m(self, query, parameters, **kwargs)\u001b[0m\n\u001b[1;32m    310\u001b[0m     \u001b[38;5;28mself\u001b[39m\u001b[38;5;241m.\u001b[39m_auto_result\u001b[38;5;241m.\u001b[39m_buffer_all()\n\u001b[1;32m    312\u001b[0m \u001b[38;5;28;01mif\u001b[39;00m \u001b[38;5;129;01mnot\u001b[39;00m \u001b[38;5;28mself\u001b[39m\u001b[38;5;241m.\u001b[39m_connection:\n\u001b[0;32m--> 313\u001b[0m     \u001b[38;5;28;43mself\u001b[39;49m\u001b[38;5;241;43m.\u001b[39;49m\u001b[43m_connect\u001b[49m\u001b[43m(\u001b[49m\u001b[38;5;28;43mself\u001b[39;49m\u001b[38;5;241;43m.\u001b[39;49m\u001b[43m_config\u001b[49m\u001b[38;5;241;43m.\u001b[39;49m\u001b[43mdefault_access_mode\u001b[49m\u001b[43m)\u001b[49m\n\u001b[1;32m    314\u001b[0m     \u001b[38;5;28;01massert\u001b[39;00m \u001b[38;5;28mself\u001b[39m\u001b[38;5;241m.\u001b[39m_connection \u001b[38;5;129;01mis\u001b[39;00m \u001b[38;5;129;01mnot\u001b[39;00m \u001b[38;5;28;01mNone\u001b[39;00m\n\u001b[1;32m    315\u001b[0m cx \u001b[38;5;241m=\u001b[39m \u001b[38;5;28mself\u001b[39m\u001b[38;5;241m.\u001b[39m_connection\n",
      "File \u001b[0;32m/usr/local/lib/python3.9/site-packages/neo4j/_sync/work/session.py:136\u001b[0m, in \u001b[0;36mSession._connect\u001b[0;34m(self, access_mode, **acquire_kwargs)\u001b[0m\n\u001b[1;32m    134\u001b[0m     access_mode \u001b[38;5;241m=\u001b[39m \u001b[38;5;28mself\u001b[39m\u001b[38;5;241m.\u001b[39m_config\u001b[38;5;241m.\u001b[39mdefault_access_mode\n\u001b[1;32m    135\u001b[0m \u001b[38;5;28;01mtry\u001b[39;00m:\n\u001b[0;32m--> 136\u001b[0m     \u001b[38;5;28;43msuper\u001b[39;49m\u001b[43m(\u001b[49m\u001b[43m)\u001b[49m\u001b[38;5;241;43m.\u001b[39;49m\u001b[43m_connect\u001b[49m\u001b[43m(\u001b[49m\n\u001b[1;32m    137\u001b[0m \u001b[43m        \u001b[49m\u001b[43maccess_mode\u001b[49m\u001b[43m,\u001b[49m\u001b[43m \u001b[49m\u001b[43mauth\u001b[49m\u001b[38;5;241;43m=\u001b[39;49m\u001b[38;5;28;43mself\u001b[39;49m\u001b[38;5;241;43m.\u001b[39;49m\u001b[43m_config\u001b[49m\u001b[38;5;241;43m.\u001b[39;49m\u001b[43mauth\u001b[49m\u001b[43m,\u001b[49m\u001b[43m \u001b[49m\u001b[38;5;241;43m*\u001b[39;49m\u001b[38;5;241;43m*\u001b[39;49m\u001b[43macquire_kwargs\u001b[49m\n\u001b[1;32m    138\u001b[0m \u001b[43m    \u001b[49m\u001b[43m)\u001b[49m\n\u001b[1;32m    139\u001b[0m \u001b[38;5;28;01mexcept\u001b[39;00m asyncio\u001b[38;5;241m.\u001b[39mCancelledError:\n\u001b[1;32m    140\u001b[0m     \u001b[38;5;28mself\u001b[39m\u001b[38;5;241m.\u001b[39m_handle_cancellation(message\u001b[38;5;241m=\u001b[39m\u001b[38;5;124m\"\u001b[39m\u001b[38;5;124m_connect\u001b[39m\u001b[38;5;124m\"\u001b[39m)\n",
      "File \u001b[0;32m/usr/local/lib/python3.9/site-packages/neo4j/_sync/work/workspace.py:167\u001b[0m, in \u001b[0;36mWorkspace._connect\u001b[0;34m(self, access_mode, auth, **acquire_kwargs)\u001b[0m\n\u001b[1;32m    159\u001b[0m     \u001b[38;5;28;01melse\u001b[39;00m:\n\u001b[1;32m    160\u001b[0m         \u001b[38;5;66;03m# This is the first time we open a connection to a server in a\u001b[39;00m\n\u001b[1;32m    161\u001b[0m         \u001b[38;5;66;03m# cluster environment for this session without explicitly\u001b[39;00m\n\u001b[0;32m   (...)\u001b[0m\n\u001b[1;32m    164\u001b[0m         \u001b[38;5;66;03m# we shall use this database explicitly for all subsequent\u001b[39;00m\n\u001b[1;32m    165\u001b[0m         \u001b[38;5;66;03m# actions within this session.\u001b[39;00m\n\u001b[1;32m    166\u001b[0m         log\u001b[38;5;241m.\u001b[39mdebug(\u001b[38;5;124m\"\u001b[39m\u001b[38;5;124m[#0000]  _: <WORKSPACE> resolve home database\u001b[39m\u001b[38;5;124m\"\u001b[39m)\n\u001b[0;32m--> 167\u001b[0m         \u001b[38;5;28;43mself\u001b[39;49m\u001b[38;5;241;43m.\u001b[39;49m\u001b[43m_pool\u001b[49m\u001b[38;5;241;43m.\u001b[39;49m\u001b[43mupdate_routing_table\u001b[49m\u001b[43m(\u001b[49m\n\u001b[1;32m    168\u001b[0m \u001b[43m            \u001b[49m\u001b[43mdatabase\u001b[49m\u001b[38;5;241;43m=\u001b[39;49m\u001b[38;5;28;43mself\u001b[39;49m\u001b[38;5;241;43m.\u001b[39;49m\u001b[43m_config\u001b[49m\u001b[38;5;241;43m.\u001b[39;49m\u001b[43mdatabase\u001b[49m\u001b[43m,\u001b[49m\n\u001b[1;32m    169\u001b[0m \u001b[43m            \u001b[49m\u001b[43mimp_user\u001b[49m\u001b[38;5;241;43m=\u001b[39;49m\u001b[38;5;28;43mself\u001b[39;49m\u001b[38;5;241;43m.\u001b[39;49m\u001b[43m_config\u001b[49m\u001b[38;5;241;43m.\u001b[39;49m\u001b[43mimpersonated_user\u001b[49m\u001b[43m,\u001b[49m\n\u001b[1;32m    170\u001b[0m \u001b[43m            \u001b[49m\u001b[43mbookmarks\u001b[49m\u001b[38;5;241;43m=\u001b[39;49m\u001b[38;5;28;43mself\u001b[39;49m\u001b[38;5;241;43m.\u001b[39;49m\u001b[43m_get_bookmarks\u001b[49m\u001b[43m(\u001b[49m\u001b[43m)\u001b[49m\u001b[43m,\u001b[49m\n\u001b[1;32m    171\u001b[0m \u001b[43m            \u001b[49m\u001b[43mauth\u001b[49m\u001b[38;5;241;43m=\u001b[39;49m\u001b[43mauth\u001b[49m\u001b[43m,\u001b[49m\n\u001b[1;32m    172\u001b[0m \u001b[43m            \u001b[49m\u001b[43macquisition_timeout\u001b[49m\u001b[38;5;241;43m=\u001b[39;49m\u001b[43macquisition_timeout\u001b[49m\u001b[43m,\u001b[49m\n\u001b[1;32m    173\u001b[0m \u001b[43m            \u001b[49m\u001b[43mdatabase_callback\u001b[49m\u001b[38;5;241;43m=\u001b[39;49m\u001b[38;5;28;43mself\u001b[39;49m\u001b[38;5;241;43m.\u001b[39;49m\u001b[43m_set_cached_database\u001b[49m\u001b[43m,\u001b[49m\n\u001b[1;32m    174\u001b[0m \u001b[43m        \u001b[49m\u001b[43m)\u001b[49m\n\u001b[1;32m    175\u001b[0m acquire_kwargs_ \u001b[38;5;241m=\u001b[39m {\n\u001b[1;32m    176\u001b[0m     \u001b[38;5;124m\"\u001b[39m\u001b[38;5;124maccess_mode\u001b[39m\u001b[38;5;124m\"\u001b[39m: access_mode,\n\u001b[1;32m    177\u001b[0m     \u001b[38;5;124m\"\u001b[39m\u001b[38;5;124mtimeout\u001b[39m\u001b[38;5;124m\"\u001b[39m: acquisition_timeout,\n\u001b[0;32m   (...)\u001b[0m\n\u001b[1;32m    181\u001b[0m     \u001b[38;5;124m\"\u001b[39m\u001b[38;5;124mliveness_check_timeout\u001b[39m\u001b[38;5;124m\"\u001b[39m: \u001b[38;5;28;01mNone\u001b[39;00m,\n\u001b[1;32m    182\u001b[0m }\n\u001b[1;32m    183\u001b[0m acquire_kwargs_\u001b[38;5;241m.\u001b[39mupdate(acquire_kwargs)\n",
      "File \u001b[0;32m/usr/local/lib/python3.9/site-packages/neo4j/_sync/io/_pool.py:900\u001b[0m, in \u001b[0;36mNeo4jPool.update_routing_table\u001b[0;34m(self, database, imp_user, bookmarks, auth, acquisition_timeout, database_callback)\u001b[0m\n\u001b[1;32m    890\u001b[0m existing_routers \u001b[38;5;241m=\u001b[39m \u001b[38;5;28mset\u001b[39m(routing_table\u001b[38;5;241m.\u001b[39mrouters)\n\u001b[1;32m    892\u001b[0m prefer_initial_routing_address \u001b[38;5;241m=\u001b[39m \u001b[38;5;28mself\u001b[39m\u001b[38;5;241m.\u001b[39mrouting_tables[\n\u001b[1;32m    893\u001b[0m     database\n\u001b[1;32m    894\u001b[0m ]\u001b[38;5;241m.\u001b[39minitialized_without_writers\n\u001b[1;32m    896\u001b[0m \u001b[38;5;28;01mif\u001b[39;00m (\n\u001b[1;32m    897\u001b[0m     prefer_initial_routing_address\n\u001b[1;32m    898\u001b[0m     \u001b[38;5;129;01mand\u001b[39;00m\n\u001b[1;32m    899\u001b[0m     \u001b[38;5;66;03m# TODO: Test this state\u001b[39;00m\n\u001b[0;32m--> 900\u001b[0m     \u001b[38;5;28;43mself\u001b[39;49m\u001b[38;5;241;43m.\u001b[39;49m\u001b[43m_update_routing_table_from\u001b[49m\u001b[43m(\u001b[49m\n\u001b[1;32m    901\u001b[0m \u001b[43m        \u001b[49m\u001b[38;5;28;43mself\u001b[39;49m\u001b[38;5;241;43m.\u001b[39;49m\u001b[43maddress\u001b[49m\u001b[43m,\u001b[49m\n\u001b[1;32m    902\u001b[0m \u001b[43m        \u001b[49m\u001b[43mdatabase\u001b[49m\u001b[38;5;241;43m=\u001b[39;49m\u001b[43mdatabase\u001b[49m\u001b[43m,\u001b[49m\n\u001b[1;32m    903\u001b[0m \u001b[43m        \u001b[49m\u001b[43mimp_user\u001b[49m\u001b[38;5;241;43m=\u001b[39;49m\u001b[43mimp_user\u001b[49m\u001b[43m,\u001b[49m\n\u001b[1;32m    904\u001b[0m \u001b[43m        \u001b[49m\u001b[43mbookmarks\u001b[49m\u001b[38;5;241;43m=\u001b[39;49m\u001b[43mbookmarks\u001b[49m\u001b[43m,\u001b[49m\n\u001b[1;32m    905\u001b[0m \u001b[43m        \u001b[49m\u001b[43mauth\u001b[49m\u001b[38;5;241;43m=\u001b[39;49m\u001b[43mauth\u001b[49m\u001b[43m,\u001b[49m\n\u001b[1;32m    906\u001b[0m \u001b[43m        \u001b[49m\u001b[43macquisition_timeout\u001b[49m\u001b[38;5;241;43m=\u001b[39;49m\u001b[43macquisition_timeout\u001b[49m\u001b[43m,\u001b[49m\n\u001b[1;32m    907\u001b[0m \u001b[43m        \u001b[49m\u001b[43mdatabase_callback\u001b[49m\u001b[38;5;241;43m=\u001b[39;49m\u001b[43mdatabase_callback\u001b[49m\u001b[43m,\u001b[49m\n\u001b[1;32m    908\u001b[0m \u001b[43m    \u001b[49m\u001b[43m)\u001b[49m\n\u001b[1;32m    909\u001b[0m ):\n\u001b[1;32m    910\u001b[0m     \u001b[38;5;66;03m# Why is only the first initial routing address used?\u001b[39;00m\n\u001b[1;32m    911\u001b[0m     \u001b[38;5;28;01mreturn\u001b[39;00m\n\u001b[1;32m    912\u001b[0m \u001b[38;5;28;01mif\u001b[39;00m \u001b[38;5;28mself\u001b[39m\u001b[38;5;241m.\u001b[39m_update_routing_table_from(\n\u001b[1;32m    913\u001b[0m     \u001b[38;5;241m*\u001b[39m(existing_routers \u001b[38;5;241m-\u001b[39m {\u001b[38;5;28mself\u001b[39m\u001b[38;5;241m.\u001b[39maddress}),\n\u001b[1;32m    914\u001b[0m     database\u001b[38;5;241m=\u001b[39mdatabase,\n\u001b[0;32m   (...)\u001b[0m\n\u001b[1;32m    919\u001b[0m     database_callback\u001b[38;5;241m=\u001b[39mdatabase_callback,\n\u001b[1;32m    920\u001b[0m ):\n",
      "File \u001b[0;32m/usr/local/lib/python3.9/site-packages/neo4j/_sync/io/_pool.py:833\u001b[0m, in \u001b[0;36mNeo4jPool._update_routing_table_from\u001b[0;34m(self, database, imp_user, bookmarks, auth, acquisition_timeout, database_callback, *routers)\u001b[0m\n\u001b[1;32m    829\u001b[0m \u001b[38;5;28;01mfor\u001b[39;00m router \u001b[38;5;129;01min\u001b[39;00m routers:\n\u001b[1;32m    830\u001b[0m     \u001b[38;5;28;01mfor\u001b[39;00m address \u001b[38;5;129;01min\u001b[39;00m NetworkUtil\u001b[38;5;241m.\u001b[39mresolve_address(\n\u001b[1;32m    831\u001b[0m         router, resolver\u001b[38;5;241m=\u001b[39m\u001b[38;5;28mself\u001b[39m\u001b[38;5;241m.\u001b[39mpool_config\u001b[38;5;241m.\u001b[39mresolver\n\u001b[1;32m    832\u001b[0m     ):\n\u001b[0;32m--> 833\u001b[0m         new_routing_table \u001b[38;5;241m=\u001b[39m \u001b[38;5;28;43mself\u001b[39;49m\u001b[38;5;241;43m.\u001b[39;49m\u001b[43mfetch_routing_table\u001b[49m\u001b[43m(\u001b[49m\n\u001b[1;32m    834\u001b[0m \u001b[43m            \u001b[49m\u001b[43maddress\u001b[49m\u001b[38;5;241;43m=\u001b[39;49m\u001b[43maddress\u001b[49m\u001b[43m,\u001b[49m\n\u001b[1;32m    835\u001b[0m \u001b[43m            \u001b[49m\u001b[43macquisition_timeout\u001b[49m\u001b[38;5;241;43m=\u001b[39;49m\u001b[43macquisition_timeout\u001b[49m\u001b[43m,\u001b[49m\n\u001b[1;32m    836\u001b[0m \u001b[43m            \u001b[49m\u001b[43mdatabase\u001b[49m\u001b[38;5;241;43m=\u001b[39;49m\u001b[43mdatabase\u001b[49m\u001b[43m,\u001b[49m\n\u001b[1;32m    837\u001b[0m \u001b[43m            \u001b[49m\u001b[43mimp_user\u001b[49m\u001b[38;5;241;43m=\u001b[39;49m\u001b[43mimp_user\u001b[49m\u001b[43m,\u001b[49m\n\u001b[1;32m    838\u001b[0m \u001b[43m            \u001b[49m\u001b[43mbookmarks\u001b[49m\u001b[38;5;241;43m=\u001b[39;49m\u001b[43mbookmarks\u001b[49m\u001b[43m,\u001b[49m\n\u001b[1;32m    839\u001b[0m \u001b[43m            \u001b[49m\u001b[43mauth\u001b[49m\u001b[38;5;241;43m=\u001b[39;49m\u001b[43mauth\u001b[49m\u001b[43m,\u001b[49m\n\u001b[1;32m    840\u001b[0m \u001b[43m        \u001b[49m\u001b[43m)\u001b[49m\n\u001b[1;32m    841\u001b[0m         \u001b[38;5;28;01mif\u001b[39;00m new_routing_table \u001b[38;5;129;01mis\u001b[39;00m \u001b[38;5;129;01mnot\u001b[39;00m \u001b[38;5;28;01mNone\u001b[39;00m:\n\u001b[1;32m    842\u001b[0m             new_database \u001b[38;5;241m=\u001b[39m new_routing_table\u001b[38;5;241m.\u001b[39mdatabase\n",
      "File \u001b[0;32m/usr/local/lib/python3.9/site-packages/neo4j/_sync/io/_pool.py:746\u001b[0m, in \u001b[0;36mNeo4jPool.fetch_routing_table\u001b[0;34m(self, address, acquisition_timeout, database, imp_user, bookmarks, auth)\u001b[0m\n\u001b[1;32m    744\u001b[0m new_routing_info \u001b[38;5;241m=\u001b[39m \u001b[38;5;28;01mNone\u001b[39;00m\n\u001b[1;32m    745\u001b[0m \u001b[38;5;28;01mtry\u001b[39;00m:\n\u001b[0;32m--> 746\u001b[0m     new_routing_info \u001b[38;5;241m=\u001b[39m \u001b[38;5;28;43mself\u001b[39;49m\u001b[38;5;241;43m.\u001b[39;49m\u001b[43mfetch_routing_info\u001b[49m\u001b[43m(\u001b[49m\n\u001b[1;32m    747\u001b[0m \u001b[43m        \u001b[49m\u001b[43maddress\u001b[49m\u001b[43m,\u001b[49m\n\u001b[1;32m    748\u001b[0m \u001b[43m        \u001b[49m\u001b[43mdatabase\u001b[49m\u001b[43m,\u001b[49m\n\u001b[1;32m    749\u001b[0m \u001b[43m        \u001b[49m\u001b[43mimp_user\u001b[49m\u001b[43m,\u001b[49m\n\u001b[1;32m    750\u001b[0m \u001b[43m        \u001b[49m\u001b[43mbookmarks\u001b[49m\u001b[43m,\u001b[49m\n\u001b[1;32m    751\u001b[0m \u001b[43m        \u001b[49m\u001b[43mauth\u001b[49m\u001b[43m,\u001b[49m\n\u001b[1;32m    752\u001b[0m \u001b[43m        \u001b[49m\u001b[43macquisition_timeout\u001b[49m\u001b[43m,\u001b[49m\n\u001b[1;32m    753\u001b[0m \u001b[43m    \u001b[49m\u001b[43m)\u001b[49m\n\u001b[1;32m    754\u001b[0m \u001b[38;5;28;01mexcept\u001b[39;00m Neo4jError \u001b[38;5;28;01mas\u001b[39;00m e:\n\u001b[1;32m    755\u001b[0m     \u001b[38;5;66;03m# checks if the code is an error that is caused by the client. In\u001b[39;00m\n\u001b[1;32m    756\u001b[0m     \u001b[38;5;66;03m# this case there is no sense in trying to fetch a RT from another\u001b[39;00m\n\u001b[1;32m    757\u001b[0m     \u001b[38;5;66;03m# router. Hence, the driver should fail fast during discovery.\u001b[39;00m\n\u001b[1;32m    758\u001b[0m     \u001b[38;5;28;01mif\u001b[39;00m e\u001b[38;5;241m.\u001b[39m_is_fatal_during_discovery():\n",
      "File \u001b[0;32m/usr/local/lib/python3.9/site-packages/neo4j/_sync/io/_pool.py:707\u001b[0m, in \u001b[0;36mNeo4jPool.fetch_routing_info\u001b[0;34m(self, address, database, imp_user, bookmarks, auth, acquisition_timeout)\u001b[0m\n\u001b[1;32m    705\u001b[0m     auth \u001b[38;5;241m=\u001b[39m copy(auth)\n\u001b[1;32m    706\u001b[0m     auth\u001b[38;5;241m.\u001b[39mforce_auth \u001b[38;5;241m=\u001b[39m \u001b[38;5;28;01mFalse\u001b[39;00m\n\u001b[0;32m--> 707\u001b[0m cx \u001b[38;5;241m=\u001b[39m \u001b[38;5;28;43mself\u001b[39;49m\u001b[38;5;241;43m.\u001b[39;49m\u001b[43m_acquire\u001b[49m\u001b[43m(\u001b[49m\u001b[43maddress\u001b[49m\u001b[43m,\u001b[49m\u001b[43m \u001b[49m\u001b[43mauth\u001b[49m\u001b[43m,\u001b[49m\u001b[43m \u001b[49m\u001b[43mdeadline\u001b[49m\u001b[43m,\u001b[49m\u001b[43m \u001b[49m\u001b[38;5;28;43;01mNone\u001b[39;49;00m\u001b[43m)\u001b[49m\n\u001b[1;32m    708\u001b[0m \u001b[38;5;28;01mtry\u001b[39;00m:\n\u001b[1;32m    709\u001b[0m     routing_table \u001b[38;5;241m=\u001b[39m cx\u001b[38;5;241m.\u001b[39mroute(\n\u001b[1;32m    710\u001b[0m         database\u001b[38;5;241m=\u001b[39mdatabase \u001b[38;5;129;01mor\u001b[39;00m \u001b[38;5;28mself\u001b[39m\u001b[38;5;241m.\u001b[39mworkspace_config\u001b[38;5;241m.\u001b[39mdatabase,\n\u001b[1;32m    711\u001b[0m         imp_user\u001b[38;5;241m=\u001b[39mimp_user \u001b[38;5;129;01mor\u001b[39;00m \u001b[38;5;28mself\u001b[39m\u001b[38;5;241m.\u001b[39mworkspace_config\u001b[38;5;241m.\u001b[39mimpersonated_user,\n\u001b[1;32m    712\u001b[0m         bookmarks\u001b[38;5;241m=\u001b[39mbookmarks,\n\u001b[1;32m    713\u001b[0m     )\n",
      "File \u001b[0;32m/usr/local/lib/python3.9/site-packages/neo4j/_sync/io/_pool.py:347\u001b[0m, in \u001b[0;36mIOPool._acquire\u001b[0;34m(self, address, auth, deadline, liveness_check_timeout)\u001b[0m\n\u001b[1;32m    342\u001b[0m             \u001b[38;5;28;01mraise\u001b[39;00m ClientError(\n\u001b[1;32m    343\u001b[0m                 \u001b[38;5;124m\"\u001b[39m\u001b[38;5;124mfailed to obtain a connection from the pool within \u001b[39m\u001b[38;5;124m\"\u001b[39m\n\u001b[1;32m    344\u001b[0m                 \u001b[38;5;124mf\u001b[39m\u001b[38;5;124m\"\u001b[39m\u001b[38;5;132;01m{\u001b[39;00mdeadline\u001b[38;5;241m.\u001b[39moriginal_timeout\u001b[38;5;132;01m!r}\u001b[39;00m\u001b[38;5;124ms (timeout)\u001b[39m\u001b[38;5;124m\"\u001b[39m\n\u001b[1;32m    345\u001b[0m             )\n\u001b[1;32m    346\u001b[0m log\u001b[38;5;241m.\u001b[39mdebug(\u001b[38;5;124m\"\u001b[39m\u001b[38;5;124m[#0000]  _: <POOL> trying to hand out new connection\u001b[39m\u001b[38;5;124m\"\u001b[39m)\n\u001b[0;32m--> 347\u001b[0m \u001b[38;5;28;01mreturn\u001b[39;00m \u001b[43mconnection_creator\u001b[49m\u001b[43m(\u001b[49m\u001b[43m)\u001b[49m\n",
      "File \u001b[0;32m/usr/local/lib/python3.9/site-packages/neo4j/_sync/io/_pool.py:169\u001b[0m, in \u001b[0;36mIOPool._acquire_new_later.<locals>.connection_creator\u001b[0;34m()\u001b[0m\n\u001b[1;32m    167\u001b[0m \u001b[38;5;28;01mtry\u001b[39;00m:\n\u001b[1;32m    168\u001b[0m     \u001b[38;5;28;01mtry\u001b[39;00m:\n\u001b[0;32m--> 169\u001b[0m         connection \u001b[38;5;241m=\u001b[39m \u001b[38;5;28;43mself\u001b[39;49m\u001b[38;5;241;43m.\u001b[39;49m\u001b[43mopener\u001b[49m\u001b[43m(\u001b[49m\n\u001b[1;32m    170\u001b[0m \u001b[43m            \u001b[49m\u001b[43maddress\u001b[49m\u001b[43m,\u001b[49m\u001b[43m \u001b[49m\u001b[43mauth\u001b[49m\u001b[43m \u001b[49m\u001b[38;5;129;43;01mor\u001b[39;49;00m\u001b[43m \u001b[49m\u001b[38;5;28;43mself\u001b[39;49m\u001b[38;5;241;43m.\u001b[39;49m\u001b[43mpool_config\u001b[49m\u001b[38;5;241;43m.\u001b[39;49m\u001b[43mauth\u001b[49m\u001b[43m,\u001b[49m\u001b[43m \u001b[49m\u001b[43mdeadline\u001b[49m\n\u001b[1;32m    171\u001b[0m \u001b[43m        \u001b[49m\u001b[43m)\u001b[49m\n\u001b[1;32m    172\u001b[0m     \u001b[38;5;28;01mexcept\u001b[39;00m ServiceUnavailable:\n\u001b[1;32m    173\u001b[0m         \u001b[38;5;28mself\u001b[39m\u001b[38;5;241m.\u001b[39mdeactivate(address)\n",
      "File \u001b[0;32m/usr/local/lib/python3.9/site-packages/neo4j/_sync/io/_pool.py:630\u001b[0m, in \u001b[0;36mNeo4jPool.open.<locals>.opener\u001b[0;34m(addr, auth_manager, deadline)\u001b[0m\n\u001b[1;32m    629\u001b[0m \u001b[38;5;28;01mdef\u001b[39;00m \u001b[38;5;21mopener\u001b[39m(addr, auth_manager, deadline):\n\u001b[0;32m--> 630\u001b[0m     \u001b[38;5;28;01mreturn\u001b[39;00m \u001b[43mBolt\u001b[49m\u001b[38;5;241;43m.\u001b[39;49m\u001b[43mopen\u001b[49m\u001b[43m(\u001b[49m\n\u001b[1;32m    631\u001b[0m \u001b[43m        \u001b[49m\u001b[43maddr\u001b[49m\u001b[43m,\u001b[49m\n\u001b[1;32m    632\u001b[0m \u001b[43m        \u001b[49m\u001b[43mauth_manager\u001b[49m\u001b[38;5;241;43m=\u001b[39;49m\u001b[43mauth_manager\u001b[49m\u001b[43m,\u001b[49m\n\u001b[1;32m    633\u001b[0m \u001b[43m        \u001b[49m\u001b[43mdeadline\u001b[49m\u001b[38;5;241;43m=\u001b[39;49m\u001b[43mdeadline\u001b[49m\u001b[43m,\u001b[49m\n\u001b[1;32m    634\u001b[0m \u001b[43m        \u001b[49m\u001b[43mrouting_context\u001b[49m\u001b[38;5;241;43m=\u001b[39;49m\u001b[43mrouting_context\u001b[49m\u001b[43m,\u001b[49m\n\u001b[1;32m    635\u001b[0m \u001b[43m        \u001b[49m\u001b[43mpool_config\u001b[49m\u001b[38;5;241;43m=\u001b[39;49m\u001b[43mpool_config\u001b[49m\u001b[43m,\u001b[49m\n\u001b[1;32m    636\u001b[0m \u001b[43m    \u001b[49m\u001b[43m)\u001b[49m\n",
      "File \u001b[0;32m/usr/local/lib/python3.9/site-packages/neo4j/_sync/io/_bolt.py:560\u001b[0m, in \u001b[0;36mBolt.open\u001b[0;34m(cls, address, auth_manager, deadline, routing_context, pool_config)\u001b[0m\n\u001b[1;32m    558\u001b[0m connection\u001b[38;5;241m.\u001b[39msocket\u001b[38;5;241m.\u001b[39mset_deadline(deadline)\n\u001b[1;32m    559\u001b[0m \u001b[38;5;28;01mtry\u001b[39;00m:\n\u001b[0;32m--> 560\u001b[0m     \u001b[43mconnection\u001b[49m\u001b[38;5;241;43m.\u001b[39;49m\u001b[43mhello\u001b[49m\u001b[43m(\u001b[49m\u001b[43m)\u001b[49m\n\u001b[1;32m    561\u001b[0m \u001b[38;5;28;01mfinally\u001b[39;00m:\n\u001b[1;32m    562\u001b[0m     connection\u001b[38;5;241m.\u001b[39msocket\u001b[38;5;241m.\u001b[39mset_deadline(\u001b[38;5;28;01mNone\u001b[39;00m)\n",
      "File \u001b[0;32m/usr/local/lib/python3.9/site-packages/neo4j/_sync/io/_bolt5.py:736\u001b[0m, in \u001b[0;36mBolt5x2.hello\u001b[0;34m(self, dehydration_hooks, hydration_hooks)\u001b[0m\n\u001b[1;32m    734\u001b[0m \u001b[38;5;28mself\u001b[39m\u001b[38;5;241m.\u001b[39mlogon(dehydration_hooks, hydration_hooks)\n\u001b[1;32m    735\u001b[0m \u001b[38;5;28mself\u001b[39m\u001b[38;5;241m.\u001b[39msend_all()\n\u001b[0;32m--> 736\u001b[0m \u001b[38;5;28;43mself\u001b[39;49m\u001b[38;5;241;43m.\u001b[39;49m\u001b[43mfetch_all\u001b[49m\u001b[43m(\u001b[49m\u001b[43m)\u001b[49m\n\u001b[1;32m    737\u001b[0m check_supported_server_product(\u001b[38;5;28mself\u001b[39m\u001b[38;5;241m.\u001b[39mserver_info\u001b[38;5;241m.\u001b[39magent)\n",
      "File \u001b[0;32m/usr/local/lib/python3.9/site-packages/neo4j/_sync/io/_bolt.py:1009\u001b[0m, in \u001b[0;36mBolt.fetch_all\u001b[0;34m(self)\u001b[0m\n\u001b[1;32m   1007\u001b[0m response \u001b[38;5;241m=\u001b[39m \u001b[38;5;28mself\u001b[39m\u001b[38;5;241m.\u001b[39mresponses[\u001b[38;5;241m0\u001b[39m]\n\u001b[1;32m   1008\u001b[0m \u001b[38;5;28;01mwhile\u001b[39;00m \u001b[38;5;129;01mnot\u001b[39;00m response\u001b[38;5;241m.\u001b[39mcomplete:\n\u001b[0;32m-> 1009\u001b[0m     detail_delta, summary_delta \u001b[38;5;241m=\u001b[39m \u001b[38;5;28;43mself\u001b[39;49m\u001b[38;5;241;43m.\u001b[39;49m\u001b[43mfetch_message\u001b[49m\u001b[43m(\u001b[49m\u001b[43m)\u001b[49m\n\u001b[1;32m   1010\u001b[0m     detail_count \u001b[38;5;241m+\u001b[39m\u001b[38;5;241m=\u001b[39m detail_delta\n\u001b[1;32m   1011\u001b[0m     summary_count \u001b[38;5;241m+\u001b[39m\u001b[38;5;241m=\u001b[39m summary_delta\n",
      "File \u001b[0;32m/usr/local/lib/python3.9/site-packages/neo4j/_sync/io/_bolt.py:994\u001b[0m, in \u001b[0;36mBolt.fetch_message\u001b[0;34m(self)\u001b[0m\n\u001b[1;32m    990\u001b[0m \u001b[38;5;66;03m# Receive exactly one message\u001b[39;00m\n\u001b[1;32m    991\u001b[0m tag, fields \u001b[38;5;241m=\u001b[39m \u001b[38;5;28mself\u001b[39m\u001b[38;5;241m.\u001b[39minbox\u001b[38;5;241m.\u001b[39mpop(\n\u001b[1;32m    992\u001b[0m     hydration_hooks\u001b[38;5;241m=\u001b[39m\u001b[38;5;28mself\u001b[39m\u001b[38;5;241m.\u001b[39mresponses[\u001b[38;5;241m0\u001b[39m]\u001b[38;5;241m.\u001b[39mhydration_hooks\n\u001b[1;32m    993\u001b[0m )\n\u001b[0;32m--> 994\u001b[0m res \u001b[38;5;241m=\u001b[39m \u001b[38;5;28;43mself\u001b[39;49m\u001b[38;5;241;43m.\u001b[39;49m\u001b[43m_process_message\u001b[49m\u001b[43m(\u001b[49m\u001b[43mtag\u001b[49m\u001b[43m,\u001b[49m\u001b[43m \u001b[49m\u001b[43mfields\u001b[49m\u001b[43m)\u001b[49m\n\u001b[1;32m    995\u001b[0m \u001b[38;5;28mself\u001b[39m\u001b[38;5;241m.\u001b[39midle_since \u001b[38;5;241m=\u001b[39m monotonic()\n\u001b[1;32m    996\u001b[0m \u001b[38;5;28;01mreturn\u001b[39;00m res\n",
      "File \u001b[0;32m/usr/local/lib/python3.9/site-packages/neo4j/_sync/io/_bolt5.py:496\u001b[0m, in \u001b[0;36mBolt5x0._process_message\u001b[0;34m(self, tag, fields)\u001b[0m\n\u001b[1;32m    494\u001b[0m \u001b[38;5;28mself\u001b[39m\u001b[38;5;241m.\u001b[39m_server_state_manager\u001b[38;5;241m.\u001b[39mstate \u001b[38;5;241m=\u001b[39m \u001b[38;5;28mself\u001b[39m\u001b[38;5;241m.\u001b[39mbolt_states\u001b[38;5;241m.\u001b[39mFAILED\n\u001b[1;32m    495\u001b[0m \u001b[38;5;28;01mtry\u001b[39;00m:\n\u001b[0;32m--> 496\u001b[0m     \u001b[43mresponse\u001b[49m\u001b[38;5;241;43m.\u001b[39;49m\u001b[43mon_failure\u001b[49m\u001b[43m(\u001b[49m\u001b[43msummary_metadata\u001b[49m\u001b[43m \u001b[49m\u001b[38;5;129;43;01mor\u001b[39;49;00m\u001b[43m \u001b[49m\u001b[43m{\u001b[49m\u001b[43m}\u001b[49m\u001b[43m)\u001b[49m\n\u001b[1;32m    497\u001b[0m \u001b[38;5;28;01mexcept\u001b[39;00m (ServiceUnavailable, DatabaseUnavailable):\n\u001b[1;32m    498\u001b[0m     \u001b[38;5;28;01mif\u001b[39;00m \u001b[38;5;28mself\u001b[39m\u001b[38;5;241m.\u001b[39mpool:\n",
      "File \u001b[0;32m/usr/local/lib/python3.9/site-packages/neo4j/_sync/io/_common.py:295\u001b[0m, in \u001b[0;36mLogonResponse.on_failure\u001b[0;34m(self, metadata)\u001b[0m\n\u001b[1;32m    293\u001b[0m handler \u001b[38;5;241m=\u001b[39m \u001b[38;5;28mself\u001b[39m\u001b[38;5;241m.\u001b[39mhandlers\u001b[38;5;241m.\u001b[39mget(\u001b[38;5;124m\"\u001b[39m\u001b[38;5;124mon_summary\u001b[39m\u001b[38;5;124m\"\u001b[39m)\n\u001b[1;32m    294\u001b[0m Util\u001b[38;5;241m.\u001b[39mcallback(handler)\n\u001b[0;32m--> 295\u001b[0m \u001b[38;5;28;01mraise\u001b[39;00m \u001b[38;5;28mself\u001b[39m\u001b[38;5;241m.\u001b[39m_hydrate_error(metadata)\n",
      "\u001b[0;31mAuthError\u001b[0m: {code: Neo.ClientError.Security.Unauthorized} {message: The client is unauthorized due to authentication failure.}"
     ]
    }
   ],
<<<<<<< HEAD
=======
>>>>>>> 8510426 (Running notebook with UI)
>>>>>>> de60678 (Running notebook with UI)
   "source": [
    "from neo4j import GraphDatabase\n",
    "\n",
    "def execute_queries(queries, uri, user, password):\n",
    "    driver = GraphDatabase.driver(uri, auth=(user, password))\n",
    "    with driver.session() as session:\n",
    "        for query in queries:\n",
    "            session.run(query)\n",
    "    driver.close()\n",
    "\n",
<<<<<<< HEAD
=======
    "# Example usage\n",
>>>>>>> 8510426 (Running notebook with UI)
    "uri = \"neo4j://localhost:7687\"\n",
    "user = \"neo4j\"\n",
    "password = \"movies11\"\n",
    "\n",
<<<<<<< HEAD
<<<<<<< HEAD
<<<<<<< HEAD
    "execute_queries(queries, uri, user, password)\n"
=======
    "execute_queries(queries_apple, uri, user, password)"
>>>>>>> 0e81b9d (final clean code)
=======
=======
>>>>>>> 51eb27b (descriptions added per node for summarization)
    "execute_queries(queries_apple, uri, user, password)"
=======
    "execute_queries(queries, uri, user, password)\n"
>>>>>>> 8510426 (Running notebook with UI)
<<<<<<< HEAD
>>>>>>> de60678 (Running notebook with UI)
=======
=======
    "#execute_queries(queries_apple, uri, user, password)\n",
    "execute_queries(queries_apple, uri, user, password)\n",
    "\n"
=======
    "execute_queries(queries, uri, user, password)\n"
=======
    "import spacy\n",
    "from sklearn.feature_extraction.text import TfidfVectorizer\n",
    "from sklearn.metrics.pairwise import cosine_similarity\n",
    "import numpy as np\n",
    "\n",
    "def summarize_section(text):\n",
    "    nlp = spacy.load(\"en_core_web_sm\")\n",
    "    doc = nlp(text)\n",
    "    sentences = [sent.text for sent in doc.sents]\n",
    "\n",
    "    vectorizer = TfidfVectorizer(stop_words='english')\n",
    "    # convert to array in order to perform cosine similarity\n",
    "    sentence_vectors = vectorizer.fit_transform(sentences).toarray()\n",
    "\n",
    "    avg_vector = np.mean(sentence_vectors, axis=0)\n",
    "    avg_vector = avg_vector.reshape(1, -1)\n",
    "    similarities = cosine_similarity(avg_vector, sentence_vectors)\n",
    "\n",
    "    # index with highest cosine similarity to the average vector\n",
    "    most_relevant_index = np.argmax(similarities)\n",
    "\n",
    "    return sentences[most_relevant_index]\n",
    "\n",
    "\n",
    "print(summarize_section(split_docs[2]))\n",
    "split_docs[2]"
>>>>>>> cca7142 (descriptions added per node for summarization)
>>>>>>> 80e8ab8 (descriptions added per node for summarization)
>>>>>>> 996ce76 (descriptions added per node for summarization)
>>>>>>> 51eb27b (descriptions added per node for summarization)
   ]
  },
  {
   "cell_type": "markdown",
   "metadata": {},
   "source": [
<<<<<<< HEAD
    "## Other option: \n",
    "### Using Langchain for Queries"
   ]
  },
  {
   "cell_type": "code",
   "execution_count": 13,
   "metadata": {},
   "outputs": [],
   "source": [
    "# %pip install langchain_openai\n",
    "# %pip install langchain_experimental\n",
    "# %pip install neo4j langchain-neo4j\n",
    "# %pip install yfiles_jupyter_graphs"
   ]
  },
  {
   "cell_type": "code",
   "execution_count": 14,
   "metadata": {},
   "outputs": [],
   "source": [
    "if not os.getenv(\"NEO4J_URI\"):\n",
    "    print(\"nope\")\n",
    "if not os.getenv(\"NEO4J_USERNAME\"):\n",
    "    print(\"nope\")\n",
    "if not os.getenv(\"NEO4J_PASSWORD\"):\n",
    "    print(\"nope\")"
   ]
  },
  {
   "cell_type": "code",
   "execution_count": 15,
   "metadata": {},
   "outputs": [],
   "source": [
    "from langchain.text_splitter import TokenTextSplitter\n",
    "text_splitter = TokenTextSplitter(chunk_size=512, chunk_overlap=24)\n",
    "tc_document = text_splitter.split_documents(tc_data)"
   ]
  },
  {
   "cell_type": "code",
   "execution_count": 16,
   "metadata": {},
   "outputs": [],
   "source": [
    "from langchain_openai import ChatOpenAI\n",
    "from langchain_experimental.graph_transformers import LLMGraphTransformer\n",
    "\n",
<<<<<<< HEAD
    "# llm=ChatOpenAI(temperature=0, model_name=\"gpt-4o-mini\")\n",
    "llm=ChatOpenAI(temperature=0, model_name=\"text-embedding-ada-002\")\n",
    "\n",
=======
<<<<<<< HEAD
    "llm=ChatOpenAI(temperature=0, model_name=\"gpt-4o-mini\")\n",
    "     \n",
=======
    "# llm=ChatOpenAI(temperature=0, model_name=\"gpt-4o-mini\")\n",
    "llm=ChatOpenAI(temperature=0, model_name=\"text-embedding-ada-002\")\n",
    "\n",
>>>>>>> 8510426 (Running notebook with UI)
>>>>>>> de60678 (Running notebook with UI)
    "llm_transformer = LLMGraphTransformer(llm=llm)\n",
    "\n",
    "graph_documents = llm_transformer.convert_to_graph_documents(tc_document)"
   ]
  },
  {
   "cell_type": "code",
   "execution_count": 17,
   "metadata": {},
   "outputs": [],
   "source": [
    "from langchain_neo4j import Neo4jGraph\n",
    "\n",
    "graph = Neo4jGraph()\n",
    "graph.add_graph_documents(\n",
    "    graph_documents,\n",
    "    baseEntityLabel=True,\n",
    "    include_source=True\n",
    ")"
   ]
  },
  {
   "cell_type": "code",
   "execution_count": 18,
   "metadata": {},
   "outputs": [],
   "source": [
    "from yfiles_jupyter_graphs import GraphWidget\n",
    "from neo4j import GraphDatabase\n",
    "\n",
    "default_cypher = \"MATCH (s)-[r:!MENTIONS]->(t) RETURN s,r,t LIMIT 80\"\n",
    "\n",
    "def showGraph(cypher: str = default_cypher):\n",
    "    # create a neo4j session to run queries\n",
    "    driver = GraphDatabase.driver(\n",
    "        uri = os.environ[\"NEO4J_URI\"],\n",
    "        auth = (os.environ[\"NEO4J_USERNAME\"],\n",
    "                os.environ[\"NEO4J_PASSWORD\"]))\n",
    "    session = driver.session()\n",
    "    widget = GraphWidget(graph = session.run(cypher).graph())\n",
    "    widget.node_label_mapping = 'id'\n",
    "    display(widget)\n",
    "    return widget"
   ]
  },
  {
   "cell_type": "code",
   "execution_count": 19,
   "metadata": {},
   "outputs": [],
   "source": [
    "# showGraph()"
   ]
  },
  {
   "cell_type": "markdown",
   "metadata": {},
   "source": [
    "## Summarization based RAG"
   ]
  },
  {
   "cell_type": "code",
<<<<<<< HEAD
   "execution_count": 20,
=======
<<<<<<< HEAD
   "execution_count": 12,
=======
   "execution_count": 20,
>>>>>>> 8510426 (Running notebook with UI)
>>>>>>> de60678 (Running notebook with UI)
   "metadata": {},
   "outputs": [],
   "source": [
    "from langchain.text_splitter import RecursiveCharacterTextSplitter\n",
    "from langchain.docstore.document import Document\n",
    "from langchain.prompts import PromptTemplate\n",
    "from langchain.chains.llm import LLMChain\n",
    "from langchain.chat_models import ChatOpenAI\n",
    "\n",
    "# Neo4j Connection\n",
    "class KnowledgeGraph:\n",
    "    def __init__(self, uri, user, password):\n",
    "        from neo4j import GraphDatabase\n",
    "        self.driver = GraphDatabase.driver(uri, auth=(user, password))\n",
<<<<<<< HEAD
    "\n",
    "    def close(self):\n",
    "        self.driver.close()\n",
    "\n",
=======
<<<<<<< HEAD
    "    \n",
    "    def close(self):\n",
    "        self.driver.close()\n",
    "    \n",
=======
    "\n",
    "    def close(self):\n",
    "        self.driver.close()\n",
    "\n",
>>>>>>> 8510426 (Running notebook with UI)
>>>>>>> de60678 (Running notebook with UI)
    "    def get_all_summaries(self):\n",
    "        with self.driver.session() as session:\n",
    "            query = \"\"\"\n",
    "            MATCH (n)\n",
    "            RETURN DISTINCT n.descriptions AS descriptions\n",
    "            \"\"\"\n",
    "            results = session.run(query)\n",
    "            summaries = []\n",
    "            for record in results:\n",
    "                descriptions = record[\"descriptions\"]\n",
    "                if descriptions:\n",
    "                    summaries.extend(descriptions)\n",
    "            return list(set(summaries))"
   ]
  },
  {
<<<<<<< HEAD
   "cell_type": "code",
   "execution_count": 21,
=======
<<<<<<< HEAD
   "cell_type": "markdown",
   "metadata": {},
   "source": [
    "#### Summary in Paragraph"
   ]
  },
  {
   "cell_type": "code",
   "execution_count": 13,
=======
   "cell_type": "code",
   "execution_count": 21,
>>>>>>> 8510426 (Running notebook with UI)
>>>>>>> de60678 (Running notebook with UI)
   "metadata": {},
   "outputs": [],
   "source": [
    "# Simplified Summarization Workflow\n",
    "def summarize_in_chunks(summaries, llm):\n",
    "    # summaries to single text\n",
    "    combined_text = \" \".join(summaries)\n",
    "\n",
    "    text_splitter = RecursiveCharacterTextSplitter(chunk_size=1000, chunk_overlap=150)\n",
    "    split_texts = text_splitter.split_text(combined_text)\n",
    "\n",
    "    # summarize each split / chunk\n",
    "    chunk_prompt = PromptTemplate.from_template(\n",
    "        \"\"\"Summarize the following text while preserving key relationships, events, and timelines:\n",
    "        {text}\n",
    "        Helpful Answer:\"\"\"\n",
    "    )\n",
    "    llm_chain = LLMChain(llm=llm, prompt=chunk_prompt)\n",
    "\n",
    "    chunk_summaries = []\n",
    "    for chunk in split_texts:\n",
    "        summary = llm_chain.run({\"text\": chunk})\n",
    "        chunk_summaries.append(summary)\n",
    "\n",
    "    # combination into final summary\n",
    "    final_prompt = PromptTemplate.from_template(\n",
    "        \"\"\"Combine the following summaries into a cohesive final summary:\n",
    "        {text}\n",
    "        Helpful Answer:\"\"\"\n",
    "    )\n",
    "    final_chain = LLMChain(llm=llm, prompt=final_prompt)\n",
    "    final_summary = final_chain.run({\"text\": \" \".join(chunk_summaries)})\n",
    "\n",
    "    return final_summary"
   ]
  },
  {
   "cell_type": "code",
<<<<<<< HEAD
<<<<<<< HEAD
   "execution_count": 22,
=======
=======
>>>>>>> de60678 (Running notebook with UI)
   "execution_count": 105,
   "metadata": {},
   "outputs": [],
   "source": [
    "# def clear_graph(uri, user, password):\n",
    "#     driver = GraphDatabase.driver(uri, auth=(user, password))\n",
    "#     with driver.session() as session:\n",
    "#         session.run(\"MATCH (n) DETACH DELETE n\")\n",
    "#     driver.close()\n",
    "\n",
    "# # Usage\n",
    "# clear_graph(\"neo4j://localhost:7687\", \"neo4j\", \"movies11\")\n"
   ]
  },
  {
   "cell_type": "markdown",
   "metadata": {},
   "source": [
    "#### Summary in bullet points"
   ]
  },
  {
   "cell_type": "code",
   "execution_count": 14,
   "metadata": {},
   "outputs": [],
   "source": [
    "# Simplified Summarization Workflow\n",
    "def summarize_in_points(summaries, llm):\n",
    "    # summaries to single text\n",
    "    combined_text = \" \".join(summaries)\n",
    "\n",
    "    text_splitter = RecursiveCharacterTextSplitter(chunk_size=500, chunk_overlap=70)\n",
    "    split_texts = text_splitter.split_text(combined_text)\n",
    "\n",
    "    # summarize each split / chunk\n",
    "    chunk_prompt = PromptTemplate.from_template(\n",
    "        \"\"\"Summarize the following text into a structured format with bullet points and headings, ensuring that key relationships and events are preserved: \n",
    "        {text} \n",
    "        Helpful Answer:\"\"\"\n",
    "    )\n",
    "    llm_chain = LLMChain(llm=llm, prompt=chunk_prompt)\n",
    "\n",
    "    chunk_summaries = []\n",
    "    for chunk in split_texts:\n",
    "        summary = llm_chain.run({\"text\": chunk})\n",
    "        chunk_summaries.append(summary)\n",
    "\n",
    "    # combination into final summary\n",
    "    final_prompt = PromptTemplate.from_template(\n",
    "        \"\"\"Combine the following summaries into a structured format with bullet points and headings, while keeping the same structure, into a cohesive final summary: \n",
    "        {text} \n",
    "        Helpful Answer:\"\"\"\n",
    "    )\n",
    "    final_chain = LLMChain(llm=llm, prompt=final_prompt)\n",
    "    final_summary = final_chain.run({\"text\": \" \".join(chunk_summaries)})\n",
    "\n",
    "    return final_summary"
   ]
  },
  {
   "cell_type": "markdown",
   "metadata": {},
   "source": [
    "## RAG flow with paragraphs"
   ]
  },
  {
   "cell_type": "code",
   "execution_count": 42,
>>>>>>> 0e81b9d (final clean code)
   "metadata": {},
   "outputs": [
    {
<<<<<<< HEAD
=======
=======
   "execution_count": 22,
   "metadata": {},
   "outputs": [
    {
>>>>>>> de60678 (Running notebook with UI)
     "name": "stderr",
     "output_type": "stream",
     "text": [
      "/var/folders/6f/_m3vtyy92m94t_l4qyl157240000gn/T/ipykernel_37034/3427683880.py:17: LangChainDeprecationWarning: The class `ChatOpenAI` was deprecated in LangChain 0.0.10 and will be removed in 1.0. An updated version of the class exists in the :class:`~langchain-openai package and should be used instead. To use it run `pip install -U :class:`~langchain-openai` and import as `from :class:`~langchain_openai import ChatOpenAI``.\n",
      "  llm = ChatOpenAI(temperature=0, model_name=\"gpt-4\")\n",
      "/var/folders/6f/_m3vtyy92m94t_l4qyl157240000gn/T/ipykernel_37034/3619148993.py:15: LangChainDeprecationWarning: The class `LLMChain` was deprecated in LangChain 0.1.17 and will be removed in 1.0. Use :meth:`~RunnableSequence, e.g., `prompt | llm`` instead.\n",
      "  llm_chain = LLMChain(llm=llm, prompt=chunk_prompt)\n",
      "/var/folders/6f/_m3vtyy92m94t_l4qyl157240000gn/T/ipykernel_37034/3619148993.py:19: LangChainDeprecationWarning: The method `Chain.run` was deprecated in langchain 0.1.0 and will be removed in 1.0. Use :meth:`~invoke` instead.\n",
      "  summary = llm_chain.run({\"text\": chunk})\n"
     ]
    },
    {
<<<<<<< HEAD
=======
>>>>>>> 8510426 (Running notebook with UI)
>>>>>>> de60678 (Running notebook with UI)
     "name": "stdout",
     "output_type": "stream",
     "text": [
      "\n",
      "Final Summary:\n",
<<<<<<< HEAD
      "The text outlines the terms and conditions for using Apple Software on a supported Mac Computer, including automatic downloads and installations of software changes. The number of copies that can be downloaded depends on the user's license with Apple. The software is licensed under the MPEG-4 Visual Patent Portfolio License for personal and non-commercial use. It also discusses the use of Gracenote software, licensed by MPEG LA, for personal and non-commercial activities, and the use of Setup/Migration Assistant for transferring software between Apple-branded computers. The text warns about potential risks such as loss of profits, corruption or loss of data, and failure to transmit or receive any data. It also mentions the Wallet feature, which allows the storage of virtual representations of credit, debit, and prepaid cards. The text also outlines the terms of use for Apple Pay & Wallet, stating that the user must have employer authorization to bind their employer to these terms. The text also discusses the terms of use for Apple's software, including AMR encoding and decoding functionality, which is not licensed for use in cellular communications infrastructure. Users are prohibited from altering any proprietary notices on the software. The terms also cover the use of Apple Pay and Apple Wallet, which are considered a \"Service\" under the license. The text discusses licensing terms for the use of Apple Software, particularly those that contain AVC encoding and/or decoding functionality. Commercial use of H.264/AVC requires additional licensing, which can be obtained from MPEG LA, LLC. The text outlines the terms of a license for Apple Software obtained from the Mac App Store or through a software update. The license allows for a one-time permanent transfer of all rights to the software to another party, under certain conditions: the software must be transferred with Apple-branded hardware, and the transfer must include all of the software. The software will periodically check with Apple for updates. For UK-based consumers, the license is governed by local laws. The license also prohibits reverse engineering, disassembling, decrypting, modifying, or creating derivative works of the software, unless such restrictions are prohibited by law. The text discusses the terms of Apple's software license. It mentions that fonts can be embedded in content if allowed by the font's embedding restrictions. It clarifies that updates to Apple software are included in the license. The text also states that Apple is not a financial institution and that location data provided by Apple software is for basic navigation and planning only. The software cannot be exported or re-exported unless authorized by U.S. law and the laws of the jurisdiction where the software was obtained. Apple may provide access to third-party software or services as part of the software package or as an upgrade, update, or supplement. Users are not allowed to exploit these services. The text outlines the terms of use for Gracenote data, software, and servers, stating that they should not be exploited except as expressly permitted. It warns that sharing credentials with a third party could lead to unauthorized transactions. The text also states that users should not use Apple Software and Services to spam, defraud, harass, abuse, stalk, threaten, defame or infringe on the rights of others. Apple is not responsible for any misuse by the user or any offensive or illegal messages received as a result of using their software and services. The terms of use can be found on Apple's legal sales support page. The text outlines terms and conditions for Apple's services and software. It states that to obtain a refund, the entire hardware/software package must be returned. Redistribution of Flight Data requires prior written consent from the FAA. It also mentions that Apple does not guarantee uninterrupted or error-free services, continued availability of services, correction of defects, or compatibility with third-party software or services. Some software libraries and third-party software included with Apple Software are free and licensed under the GNU General Public License (GPL) or the GNU Library. The text discusses software licensed under the GNU General Public License (GPL) or the GNU Library/Lesser General Public License (LGPL). It specifies that the software documentation is licensed to U.S. Government end users only as commercial products and with the same rights as other end users. The text also states that Apple, Apple Payment Services, and their affiliates do not assume liability for any commerce activity made using Apple Pay or Wallet. Instead, users are advised to refer to their agreements with their card issuer, payment network, or merchant for any questions or disputes related to their supported cards and associated commerce activities. The text discusses any questions or disputes related to supported cards and associated commerce activities. It specifies that customers who are consumers (those using the Apple Software outside of their trade, business, or profession) may have legal rights in their country of residence that could prevent certain limitations from applying to them. If a lessee subleases the Apple Software, they must fully relinquish exclusive use for use only in specified countries and regions, including Argentina, Aruba, Australia, Austria, Barbados, Belgium, Bermuda, Brazil, Bulgaria, Canada, Cayman Islands, Chile, China mainland, Hong Kong, Taiwan, Colombia, Cyprus, Czech Republic, Denmark, Dominican Republic, Ecuador, El Salvador, Finland, France, Germany, Greece, Grenada, Guatemala, Hungary, Iceland, India, Indonesia, and Ireland. The text discusses the terms of use for Apple-branded software. It states that the software provided with a specific Apple-branded hardware product may not be compatible with other Apple-branded hardware models. The software can be used in virtual operating system environments, but only a single instance or copy can be virtualized. The Lessor, or provider, is responsible for ensuring that the Lessee, or user, complies with all license terms and assists Apple in enforcing compliance. The text also prohibits interference with Apple's verification, storage, or authentication mechanisms. The countries listed at the beginning of the text do not seem to be directly related to the rest of the information. The text discusses the security mechanisms implemented by Apple in its software, services, and content. It mentions digital rights management and signing among these mechanisms. The text also refers to Apple's Wallet service, which is provided with certain implied or statutory warranties and conditions, including merchantability, satisfactory quality, fitness for a particular purpose, accuracy, quiet enjoyment, and non-infringement of third-party rights. Information will be sent to Apple to determine eligibility and prevent fraud. The Wallet service is subject to terms and conditions, which can be accessed through the settings of supported devices.\n"
=======
<<<<<<< HEAD
      "The text outlines the terms and conditions for using Apple Software on a supported Mac Computer, including automatic downloads and installations of software changes. The number of copies that can be downloaded depends on the user's license with Apple. The software is licensed under the MPEG-4 Visual Patent Portfolio License for personal and non-commercial use. It also discusses the use of Gracenote software, licensed by MPEG LA, for personal and non-commercial activities, which enables applications to identify discs and files and obtain music-related information. The text also mentions the use of Setup/Migration Assistant for transferring software between Apple-branded computers. Users are advised to suspend the ability to pay with virtual Supported Cards on their Mac Computer by putting it into Lost Mode. If the license for the Gracenote software terminates, users must cease all use of the Gracenote Data, Software, and Servers. The text also mentions potential risks such as loss of profits, corruption or loss of data, and failure to transmit or receive any data. The text also mentions the Wallet feature, which allows users to store virtual representations of credit, debit, and prepaid cards. The countries mentioned could possibly be the locations where these conditions apply. The text outlines the terms of use for Apple Software, including the immediate termination of a Lessee's use upon discovery or notification of a breach. It states that there is no guarantee that the Gracenote Software or Servers will be error-free or uninterrupted. The software allows for real-time, on-device caption generation (\"Live Captions\") and the creation of a personal voice feature for non-commercial use. The leased Apple Software should be used solely for providing Permitted Developer Services, with each Lessee agreeing to the license terms. Each lease period must last for a minimum of 24 consecutive hours. The license agreement stipulates that each lease period must be at least 24 consecutive hours. During this time, the End User Lessee should have sole and exclusive use and control of the Apple Software and the Apple-branded hardware it is installed on. By using Apple Pay and Wallet, users consent to Apple's transmission, collection, maintenance, processing, and use of all related information to provide these services. The Apple Software is only supported on Apple-branded hardware that meets specific system requirements set by Apple. Users also agree to use Apple Pay in accordance with these terms. The text discusses the terms of a software license agreement for macOS, which also governs the use of Apple Pay and Apple Wallet. The user agrees not to alter any proprietary notices within the Apple Software. The AMR encoding and decoding functionality in the product is not licensed for use in cellular communications infrastructure. The agreement also mentions that if the Consumer Contract Act of Japan applies, terms limiting Apple's liability for damages from breach will be in effect. Japan has imposed terms on Apple that prevent the company from limiting its liability for damages resulting from contract breaches or torts, unless the damage is due to Apple's intentional misconduct or gross negligence. Apple does not guarantee the appropriateness or availability of its software, services, and third-party materials for use in any specific location. The use of a modified device with the services is prohibited and can result in restricted access to the services. Some Apple software and services may display or include third-party content or links to third-party websites. Apple requires advance notice from each lessor before the use of iCloud. Users must agree to use iCloud and its features according to the latest terms and conditions, which can be reviewed on Apple's website. Users must also use the Apple Software and Services in compliance with all applicable laws, including local laws of the country or region they reside in or where they download or use the software and services. Apple, Apple Payments Services, and their affiliates are all parties to the Apple Pay Terms with respect to the services they provide. Users are reminded that no oral or written information or advice given by Apple or an Apple authorized representative creates a warranty. The text states that Apple does not provide a warranty for its software and services, and does not guarantee the accuracy or availability of any data displayed by its software and services. It also states that Apple is not responsible for any third-party services or materials, and is not a party to any agreement between the user and a third party. The Gracenote service, used by Apple, tracks queries for statistical purposes. Upon termination of the license, the user must stop using the Apple software and services. The text states that Apple is not responsible for any agreements between the user and a third party, particularly regarding installment payment services. The user acknowledges that Apple Software and Services contain proprietary content owned by Apple or its licensors, protected by intellectual property laws, including copyright. The GPL and LGPL are included with the Apple Software. Neither the FAA nor Apple are liable for any loss, damage, claim, liability, expense, or penalty. When using Apple Pay, only one device can remotely connect at a time to control the Apple Software's graphical desktop session displayed on the Home Mac. The text describes the ability to control the graphical desktop session of Apple Software running on a Home Mac. It also allows a reasonable number of devices to remotely connect simultaneously to observe the same session, provided they do not control the software. Apple is not responsible for updates, maintenance, warranty, technical support, or services for the modified software. Users may need to authenticate with Apple to receive Apple Eligible Content. The delivery of this content through a Caching Enabled Mac does not change the terms of receiving it. The license does not permit unauthorized actions with the software. The text outlines the terms and conditions for using Apple Software. It states that the software cannot be installed, used, or run on non-Apple-branded computers. The software and its documentation are defined as \"Commercial Products\" and \"Commercial Computer Software\". Users are granted a limited, non-transferable, non-exclusive license to download, install, use, and run one copy of the software for personal, non-commercial use, subject to the Services and Content Usage Rules set forth in the Apple Media Services Terms and Conditions. If the software is governed by a separate license, the terms of that license will apply. The intellectual property rights of any content accessed through Apple Software belong to the respective content owner. Certain features of the Apple Software may automatically download and cache eligible content on an Apple-branded computer running the software. To use these features, users need the latest version of the operating software, an Apple Account associated with an iCloud account in good standing, and internet or cellular data access. Ownership of the Apple Software remains with Apple or its licensors, who reserve all rights not explicitly granted. The text outlines the terms of a license for Apple Software obtained from the Mac App Store or through a software update. The license allows for a one-time permanent transfer of all rights to the software to another party, under certain conditions: the software must be transferred with Apple-branded hardware, and the transfer must include all of the software. The software will periodically check with Apple for updates. For UK-based consumers, the license is governed by local laws. The license also prohibits actions such as reverse engineering, disassembling, decrypting, modifying, or creating derivative works of the software, unless such restrictions are prohibited by law. The text discusses licensing terms for Apple Software, particularly those that include Open-Sourced Components and AVC encoding/decoding functionality. Commercial use of H.264/AVC requires additional licensing from MPEG LA, LLC. Users can remove cached Apple Eligible Content and disable Content Caching Features. Some services may require an Apple Account and acceptance of additional terms. Users must also confirm they are not located in certain restricted countries. This license agreement between the user and Apple pertains to the Apple Software and supersedes all previous understandings. It details how user information is sent to Apple and its potential uses. The Apple Software allows access to various Apple and third-party services, including the iTunes Store, Mac App Store, Apple Books, Game Center, iCloud, Maps, News, and others. The license also covers the terms and conditions for remotely connecting from a device to an Apple-branded computer running the Apple Software, referred to as the \"Home Mac\". The text refers to a license agreement for Apple Software. The license allows users to install and run the software on each Apple-branded computer they own or control, running specific versions of macOS. Commercial enterprises or educational institutions are permitted to use one copy of the software. The license also allows users to use virtualized copies of the software in connection with certain services. However, the use of System Characters is restricted. The Gracenote Software and Gracenote Data are licensed \"AS IS\". Any changes to the agreement must be in writing and signed by Apple. Users are also required to use the Content Caching Features for personal use only. The text outlines the terms of a license agreement for non-commercial or internal use of Apple software. The user acknowledges that Apple is not responsible for the software's configuration. The license also covers any changes to the software provided by Apple. The software can be used by a consumer for personal and non-commercial activities, such as encoding and decoding AVC video. The user is allowed to make one copy of the software, excluding certain embedded firmware. The agreement does not limit any rights of Apple or other copyright owners. Apple allows users to backup their firmware embedded in Apple-branded hardware in machine-readable form, but the backup must include all copyright. Apple and its licensors can change, suspend, remove, or disable access to any Apple Software and Services without notice. Third-party software and services may not be compatible with Apple Software and its installation may affect their availability and usability. Users are responsible for maintaining the security of their Mac Computer, Supported Devices, Apple Account, Touch ID information, device passcodes, and other authentication credentials. The text discusses the use of personal authentication credentials in connection with services. It mentions the use of Adobe Color Profile software included with Apple software, but Adobe has no obligation to provide support. If a user chooses to pay in installments or purchase and pay later with a third party using Apple Pay, they are contracting with the third party. The user can use the fonts included with the Apple software to display and print content, but can only embed fonts in content if permitted by the embedding restrictions. The text discusses the terms of Apple's software license. It mentions that fonts can be embedded in content if allowed by the restrictions. Apple provides updates to its software, but is not a financial institution. The license also covers leasing for permitted developer services. Location data provided by Apple software is intended for basic navigation and planning purposes only. The Apple software cannot be exported or re-exported unless authorized by U.S. law and the laws of the jurisdiction where the software was obtained. Apple may provide access to third-party software or services as part of its software package, upgrades, updates, or supplements. Users are not allowed to exploit these services. The text is a part of a legal agreement, likely from Apple, stating that users are not allowed to exploit Gracenote data, software, or servers unless expressly permitted. It warns that sharing credentials with a third party could lead to unauthorized transactions. Users are also prohibited from using Apple software and services to spam, defraud, harass, or violate the rights of others. Apple is not responsible for any misuse by the user or any offensive messages received as a result of using their software and services. The text also mentions a link to Apple's legal sales support and implies a return policy. The text outlines terms and conditions for Apple's services and software. It states that to obtain a refund, the entire hardware/software package must be returned. Redistribution of Flight Data requires prior written consent from the FAA. It also clarifies that Apple does not guarantee uninterrupted or error-free service, continued availability, correction of defects, or compatibility with third-party software or services. Some software libraries and third-party software included with Apple Software are free and licensed under the GNU General Public License (GPL) or the GNU Library. The text discusses software licensed under the GNU General Public License (GPL) or the GNU Library/Lesser General Public License (LGPL). It specifies that the software documentation is licensed to U.S. Government end users only as commercial products and with the same rights as other end users. The text also states that Apple, Apple Payment Services, and their affiliates do not assume liability for any commerce activity made using Apple Pay or Wallet. Instead, users are advised to refer to their agreements with their card issuer, payment network, or merchant for any questions or disputes related to their supported cards and associated commerce activities. The text discusses any questions or disputes related to supported cards and associated commerce activities. It specifies that customers who are consumers (those using the Apple Software outside of their trade, business, or profession) may have legal rights in their country of residence that could prevent certain limitations from applying to them. A lessee subleasing the Apple Software, who is also considered a lessor under Section 3, must fully relinquish exclusive use for use only in a list of specified countries and regions. The text discusses the terms of use for Apple-branded software. It states that the software provided with a specific Apple-branded hardware product may not be compatible with other Apple-branded hardware models. The software can be used in virtual operating system environments, but only a single instance or copy can be virtualized. The Lessor, or provider, is responsible for ensuring that the Lessee, or user, complies with all license terms and assists Apple in enforcing compliance. The text also prohibits interference with Apple's verification, storage, or authentication mechanisms. The countries listed at the beginning of the text are not connected to the rest of the information. The text discusses the security mechanisms implemented by Apple in its software, services, and content. It mentions digital rights management and signing among these mechanisms. The text also refers to Apple's Wallet service, which is provided with certain implied or statutory warranties and conditions, including merchantability, satisfactory quality, fitness for a particular purpose, accuracy, quiet enjoyment, and non-infringement of third-party rights. Information will be sent to Apple to determine eligibility and prevent fraud. The Wallet service is subject to terms and conditions, which can be accessed through the device's settings.\n"
=======
      "The text outlines the terms and conditions for using Apple Software on a supported Mac Computer, including automatic downloads and installations of software changes. The number of copies that can be downloaded depends on the user's license with Apple. The software is licensed under the MPEG-4 Visual Patent Portfolio License for personal and non-commercial use. It also discusses the use of Gracenote software, licensed by MPEG LA, for personal and non-commercial activities, and the use of Setup/Migration Assistant for transferring software between Apple-branded computers. The text warns about potential risks such as loss of profits, corruption or loss of data, and failure to transmit or receive any data. It also mentions the Wallet feature, which allows the storage of virtual representations of credit, debit, and prepaid cards. The text also outlines the terms of use for Apple Pay & Wallet, stating that the user must have employer authorization to bind their employer to these terms. The text also discusses the terms of use for Apple's software, including AMR encoding and decoding functionality, which is not licensed for use in cellular communications infrastructure. Users are prohibited from altering any proprietary notices on the software. The terms also cover the use of Apple Pay and Apple Wallet, which are considered a \"Service\" under the license. The text discusses licensing terms for the use of Apple Software, particularly those that contain AVC encoding and/or decoding functionality. Commercial use of H.264/AVC requires additional licensing, which can be obtained from MPEG LA, LLC. The text outlines the terms of a license for Apple Software obtained from the Mac App Store or through a software update. The license allows for a one-time permanent transfer of all rights to the software to another party, under certain conditions: the software must be transferred with Apple-branded hardware, and the transfer must include all of the software. The software will periodically check with Apple for updates. For UK-based consumers, the license is governed by local laws. The license also prohibits reverse engineering, disassembling, decrypting, modifying, or creating derivative works of the software, unless such restrictions are prohibited by law. The text discusses the terms of Apple's software license. It mentions that fonts can be embedded in content if allowed by the font's embedding restrictions. It clarifies that updates to Apple software are included in the license. The text also states that Apple is not a financial institution and that location data provided by Apple software is for basic navigation and planning only. The software cannot be exported or re-exported unless authorized by U.S. law and the laws of the jurisdiction where the software was obtained. Apple may provide access to third-party software or services as part of the software package or as an upgrade, update, or supplement. Users are not allowed to exploit these services. The text outlines the terms of use for Gracenote data, software, and servers, stating that they should not be exploited except as expressly permitted. It warns that sharing credentials with a third party could lead to unauthorized transactions. The text also states that users should not use Apple Software and Services to spam, defraud, harass, abuse, stalk, threaten, defame or infringe on the rights of others. Apple is not responsible for any misuse by the user or any offensive or illegal messages received as a result of using their software and services. The terms of use can be found on Apple's legal sales support page. The text outlines terms and conditions for Apple's services and software. It states that to obtain a refund, the entire hardware/software package must be returned. Redistribution of Flight Data requires prior written consent from the FAA. It also mentions that Apple does not guarantee uninterrupted or error-free services, continued availability of services, correction of defects, or compatibility with third-party software or services. Some software libraries and third-party software included with Apple Software are free and licensed under the GNU General Public License (GPL) or the GNU Library. The text discusses software licensed under the GNU General Public License (GPL) or the GNU Library/Lesser General Public License (LGPL). It specifies that the software documentation is licensed to U.S. Government end users only as commercial products and with the same rights as other end users. The text also states that Apple, Apple Payment Services, and their affiliates do not assume liability for any commerce activity made using Apple Pay or Wallet. Instead, users are advised to refer to their agreements with their card issuer, payment network, or merchant for any questions or disputes related to their supported cards and associated commerce activities. The text discusses any questions or disputes related to supported cards and associated commerce activities. It specifies that customers who are consumers (those using the Apple Software outside of their trade, business, or profession) may have legal rights in their country of residence that could prevent certain limitations from applying to them. If a lessee subleases the Apple Software, they must fully relinquish exclusive use for use only in specified countries and regions, including Argentina, Aruba, Australia, Austria, Barbados, Belgium, Bermuda, Brazil, Bulgaria, Canada, Cayman Islands, Chile, China mainland, Hong Kong, Taiwan, Colombia, Cyprus, Czech Republic, Denmark, Dominican Republic, Ecuador, El Salvador, Finland, France, Germany, Greece, Grenada, Guatemala, Hungary, Iceland, India, Indonesia, and Ireland. The text discusses the terms of use for Apple-branded software. It states that the software provided with a specific Apple-branded hardware product may not be compatible with other Apple-branded hardware models. The software can be used in virtual operating system environments, but only a single instance or copy can be virtualized. The Lessor, or provider, is responsible for ensuring that the Lessee, or user, complies with all license terms and assists Apple in enforcing compliance. The text also prohibits interference with Apple's verification, storage, or authentication mechanisms. The countries listed at the beginning of the text do not seem to be directly related to the rest of the information. The text discusses the security mechanisms implemented by Apple in its software, services, and content. It mentions digital rights management and signing among these mechanisms. The text also refers to Apple's Wallet service, which is provided with certain implied or statutory warranties and conditions, including merchantability, satisfactory quality, fitness for a particular purpose, accuracy, quiet enjoyment, and non-infringement of third-party rights. Information will be sent to Apple to determine eligibility and prevent fraud. The Wallet service is subject to terms and conditions, which can be accessed through the settings of supported devices.\n"
>>>>>>> 8510426 (Running notebook with UI)
>>>>>>> de60678 (Running notebook with UI)
     ]
    }
   ],
   "source": [
    "# RAG Workflow\n",
    "def rag_summarization_with_chunks(uri, user, password):\n",
    "    # retrieve descriptions\n",
    "    kg = KnowledgeGraph(uri, user, password)\n",
    "    summaries = kg.get_all_summaries()\n",
    "    kg.close()\n",
    "\n",
    "    if not summaries:\n",
    "        print(\"No summaries found in the knowledge graph.\")\n",
    "        return \"No summaries found in the knowledge graph.\"\n",
    "\n",
    "    unique_summaries = list(set(summaries))\n",
    "    # print(\"Unique Descriptions Retrieved:\")\n",
    "    # for idx, summary in enumerate(unique_summaries, start=1):\n",
    "    #     print(f\"{idx}: {summary}\")\n",
    "\n",
    "    llm = ChatOpenAI(temperature=0, model_name=\"gpt-4\")\n",
    "    final_summary = summarize_in_chunks(unique_summaries, llm)\n",
    "    return final_summary\n",
    "\n",
    "# Perform RAG summarization with chunking\n",
<<<<<<< HEAD
<<<<<<< HEAD
    "final_summary = rag_summarization_with_chunks(uri, user, password)\n",
    "# print(\"\\nFinal Summary:\")\n",
    "print(final_summary)"
=======
=======
>>>>>>> de60678 (Running notebook with UI)
    "apple_par_summary = rag_summarization_with_chunks(uri, user, password)\n",
    "print(\"\\nFinal Summary:\")\n",
    "print(apple_par_summary)"
   ]
  },
  {
   "cell_type": "markdown",
   "metadata": {},
   "source": [
    "## RAG flow with bullet points"
   ]
  },
  {
   "cell_type": "code",
   "execution_count": 21,
   "metadata": {},
   "outputs": [
    {
     "name": "stdout",
     "output_type": "stream",
     "text": [
      "\n",
      "Final Summary:\n",
      "- **Interference with Apple's Security Mechanisms**\n",
      "  - Prohibits circumventing or interfering with Apple's verification, storage, or authentication mechanisms.\n",
      "  - Includes digital signing, digital rights management, and other security mechanisms implemented in or by Apple software, services, or technology.\n",
      "  - Prohibits enabling others to interfere with these mechanisms.\n",
      "\n",
      "- **Apple Software Components and Open Source Programs**\n",
      "  - Certain components of the Apple Software and third-party open source programs included with the Apple Software may be made available by Apple on its Open Source website.\n",
      "\n",
      "- **Key Information**\n",
      "  - The AMR encoding and decoding functionality in the product is not licensed for use in cellular communications infrastructure, including base stations.\n",
      "  - For Australian consumers, the license does not affect or intend to affect statutory rights under the Australian Consumer Law.\n",
      "\n",
      "- **Apple Products and Services**\n",
      "  - Requires operating software that supports the services, with the latest version recommended and sometimes required.\n",
      "  - Requires an Apple Account associated with an iCloud account in good standing with Apple.\n",
      "  - Requires internet access or cellular data access, with potential fees.\n",
      "\n",
      "- **Gracenote Data, Software, and Servers**\n",
      "  - Users agree not to use or exploit these resources.\n",
      "  - Applicable to Supported Devices and can be accessed via: Settings > General > Apple.\n",
      "\n",
      "- **Liability and Endorsement**\n",
      "  - Apple, its officers, affiliates, and subsidiaries do not warrant or endorse and will not assume any liability or responsibility.\n",
      "\n",
      "- **Apple Software Changes**\n",
      "  - Provided by Apple with exceptions if changes are accompanied.\n",
      "\n",
      "- **Apple Software Support**\n",
      "  - Supported only on Apple-branded hardware that meets specified system requirements.\n",
      "\n",
      "- **Permitted Exceptions**\n",
      "  - As expressly permitted in Section 3, D. Maps of Apple Pay or Wallet.\n",
      "\n",
      "- **Third Party Decisions**\n",
      "  - Decisions made by an issuer, merchant, or other third party in connection with a Supported Card.\n",
      "\n",
      "- **Rewards and Stored Value**\n",
      "  - Accrual or redemption of rewards or stored value in connection with your account.\n",
      "\n",
      "- **Definition of Terms**\n",
      "  - End User Lessee: Refers to a Lessee who is the ultimate end user.\n",
      "\n",
      "- **License Terms and Conditions**\n",
      "  - Apply when remotely connecting from a device to an Apple-branded computer running the Apple Software.\n",
      "\n",
      "- **Device Definition**\n",
      "  - A device is any computer or electronic device used to remotely connect to an Apple-branded computer running the Apple Software.\n",
      "\n",
      "- **Apple Eligible Content and iCloud Service**\n",
      "  - Apple Eligible Content can be cached on a Mac Computer through the Screen Sharing feature or any other means.\n",
      "  - To complete a purchase on a Mac Computer, a Supported Card associated with an active iCloud account is required.\n",
      "  - The use of iCloud and its features is subject to the latest terms and conditions of the iCloud service.\n",
      "\n",
      "- **Access and Review**\n",
      "  - The legal terms for Apple's internet services, including iCloud, can be reviewed at: https://www.apple.com/legal/internet-services/icloud/.\n",
      "\n",
      "- **News App Content**\n",
      "  - The Adobe Color Profile software, which is distributed with Apple Software, can also be downloaded from Adobe's website at: https://www.adobe.com.\n",
      "\n",
      "- **Device Connection Limitations**\n",
      "  - Only one device can remotely connect at any given time to control the graphical desktop session of the Apple Software running and being displayed on the Home Mac.\n",
      "\n",
      "- **Home Mac Usage**\n",
      "  - A reasonable number of devices can remotely connect to the Home Mac simultaneously to observe the same graphical desktop session of the Apple Software running on the Home Mac.\n",
      "\n",
      "- **Apple Software Package**\n",
      "  - Apple provides access to certain third-party software as part of the Apple Software package.\n",
      "\n",
      "- **Potential Losses and Damages**\n",
      "  - Includes loss of profits, corruption or loss of data, failure to transmit or receive any data or information, and business interruption.\n",
      "\n",
      "- **Causes of Potential Losses and Damages**\n",
      "  - Use or inability to use the Apple software or services, and use or inability to use any third party software, applications, or services.\n",
      "\n",
      "- **Apple's Obligations**\n",
      "  - Apple is not obligated to provide updates, maintenance, warranty, technical or other support, or services for modified Apple Software.\n",
      "\n",
      "- **Restrictions on Apple Software**\n",
      "  - No portion of the Apple Software can be modified.\n",
      "\n",
      "- **Reproduction of Services**\n",
      "  - Services can be reproduced in any form or by any means.\n",
      "\n",
      "- **Content Removal and Disabling**\n",
      "  - Users have the right to remove cached Apple Eligible Content and can disable the Content Caching Features at any time.\n",
      "\n",
      "- **Proprietary Notices**\n",
      "  - Users agree not to remove, obscure, or alter any proprietary notices, including trademark and copyright notices.\n",
      "\n",
      "- **Automatic Download**\n",
      "  - If services are accessed through an automatic download, it is subject to the terms and conditions of the License.\n",
      "\n",
      "- **Apple Media Services Terms and Conditions**\n",
      "  - Services and Content Usage Rules are set forth in the Apple Media Services Terms and Conditions.\n",
      "\n",
      "- **License Granted**\n",
      "  - Users are granted a limited, non-transferable, non-exclusive license to download, install, use and run for personal, non-commercial use, one (1) copy of the Apple Software.\n",
      "\n",
      "\n"
     ]
    }
   ],
   "source": [
    "# RAG Workflow\n",
    "def rag_summarization_with_points(uri, user, password):\n",
    "    # retrieve descriptions\n",
    "    kg = KnowledgeGraph(uri, user, password)\n",
    "    summaries = kg.get_all_summaries()\n",
    "    kg.close()\n",
    "\n",
    "    if not summaries:\n",
    "        print(\"No summaries found in the knowledge graph.\")\n",
    "        return \"No summaries found in the knowledge graph.\"\n",
    "\n",
    "    unique_summaries = list(set(summaries))\n",
    "    # print(\"Unique Descriptions Retrieved:\")\n",
    "    # for idx, summary in enumerate(unique_summaries, start=1):\n",
    "    #     print(f\"{idx}: {summary}\")\n",
    "\n",
    "    llm = ChatOpenAI(temperature=0, model_name=\"gpt-4\")\n",
    "    final_summary = summarize_in_points(unique_summaries, llm)\n",
    "    return final_summary\n",
    "\n",
    "# Perform RAG summarization with chunking\n",
    "apple_points_summary = rag_summarization_with_points(uri, user, password)\n",
    "print(\"\\nFinal Summary:\")\n",
    "print(apple_points_summary)"
   ]
  },
  {
   "cell_type": "code",
   "execution_count": 16,
   "metadata": {},
   "outputs": [],
   "source": [
    "with open('apple_bullet_points.txt', \"w\") as file:\n",
    "        file.write(apple_points_summary)"
   ]
  },
  {
   "cell_type": "code",
   "execution_count": 20,
   "metadata": {},
   "outputs": [
    {
     "name": "stdout",
     "output_type": "stream",
     "text": [
      "\n",
      "Final Summary:\n",
      "- **Interference with Apple's Security Mechanisms**\n",
      "  - Prohibits circumventing or interfering with Apple's verification, storage, or authentication mechanisms.\n",
      "  - Includes digital signing, digital rights management, and other security mechanisms implemented in or by Apple software, services, or other Apple technology.\n",
      "  - Prohibits enabling others to interfere with these mechanisms.\n",
      "\n",
      "- **Apple Software Components and Open Source Programs**\n",
      "  - Certain components of the Apple software, and third-party open source programs included with the Apple software, have been or may be made available by Apple on its Open Source.\n",
      "  - Website: https://www.opensource.apple.com/ (referred to as \"Open-Sourced Components\")\n",
      "\n",
      "- **Key Information**\n",
      "  - The AMR encoding and decoding functionality in the product is not licensed for use in cellular communications infrastructure. This includes base stations.\n",
      "  - For Australian consumers: The license does not affect or intend to affect statutory rights under the law. - Australian Consumer Law\n",
      "  - Includes consumer guarantees\n",
      "\n",
      "- **Apple Products and Services**\n",
      "  - Requires operating software that supports the services\n",
      "    - Latest version recommended and sometimes required\n",
      "  - Requires an Apple Account associated with an iCloud account\n",
      "    - Account must be in good standing with Apple\n",
      "  - Requires internet access or cellular data access\n",
      "    - Fees may apply\n",
      "\n",
      "- **Gracenote Data, Software, and Servers**\n",
      "  - Users agree not to use or exploit these resources.\n",
      "  - Applicable to Supported Devices\n",
      "  - Terms are incorporated by reference\n",
      "  - Can be accessed via: Settings > General\n",
      "\n",
      "- **Liability and Endorsement**\n",
      "  - Apple, its officers, affiliates, and subsidiaries:\n",
      "    - Do not warrant or endorse\n",
      "    - Will not assume any liability or responsibility to the user or any other person.\n",
      "\n",
      "- **Apple Software Changes**\n",
      "  - Provided by Apple\n",
      "  - Only supported on Apple-branded hardware that meets specified system requirements\n",
      "\n",
      "- **Restrictions**\n",
      "  - Except as permitted in Section 3, D. Maps of Apple Pay or Wallet\n",
      "\n",
      "- **Third Party Decisions**\n",
      "  - Decisions made by an issuer, merchant, or other third party in connection with a Supported Card\n",
      "\n",
      "- **Rewards and Stored Value**\n",
      "  - Accrual or redemption of rewards or stored value in connection with your account - Supported Cards\n",
      "  - The text mentions the funding or reloading of prepaid Supported Cards.\n",
      "\n",
      "- **Definition of Terms**\n",
      "  - End User Lessee: A lessee who is the ultimate end user.\n",
      "\n",
      "- **License Terms and Conditions**\n",
      "  - The license allows for remote connection from another computer or electronic device (referred to as a \"Device\") to an Apple-branded computer running the Apple Software.\n",
      "\n",
      "- **Apple Eligible Content and iCloud Service**\n",
      "  - Apple Eligible Content can be cached on a Mac Computer (also known as the \"Home Mac\").\n",
      "  - This can be done through the Screen Sharing feature or any other means.\n",
      "  - The caching process is governed by specific license terms related to the type of Apple Eligible Content.\n",
      "  - To complete a purchase on a Mac Computer, a Supported Card associated with an active iCloud account is required.\n",
      "  - The use of iCloud and its features is subject to the latest terms and conditions of the iCloud service.\n",
      "\n",
      "- **Access and Review**\n",
      "  - The legal terms for Apple's internet services, including iCloud, can be reviewed at: https://www.apple.com/legal/internet-services/icloud/.\n",
      "\n",
      "- **News App Content**\n",
      "  - The Adobe Color Profile software that comes with Apple Software can also be downloaded from Adobe's website: https://www.adobe.com.\n",
      "\n",
      "- **Device Connection Limitations**\n",
      "  - Only one device can remotely connect at any given time to control the graphical desktop session of the Apple Software displayed on the Home Mac. This connection can be either direct or indirect.\n",
      "\n",
      "- **Home Mac Usage**\n",
      "  - A reasonable number of devices can remotely connect simultaneously\n",
      "  - The purpose is to observe the same graphical desktop session of the Apple Software running on the Home Mac\n",
      "  - The connected devices should not control the Apple Software\n",
      "\n",
      "- **Apple Software Package**\n",
      "  - Apple provides access to certain third-party software as part of the Apple Software package\n",
      "  - This access may also be provided as an upgrade, update, or supplement to the Apple Software\n",
      "\n",
      "- **Potential Risks and Losses**\n",
      "  - Loss of profits\n",
      "  - Corruption or loss of data\n",
      "  - Failure to transmit or receive any data or information\n",
      "    - This includes course instructions, assignments, and materials\n",
      "  - Business interruption\n",
      "  - Other commercial damages or losses\n",
      "\n",
      "- **Causes of Potential Risks and Losses**\n",
      "  - Use or inability to use the Apple software or services\n",
      "  - Use or inability to use any third party software, applications or services\n",
      "\n",
      "- **Apple Software and Services**\n",
      "  - Apple is not obligated to provide updates for modified Apple Software\n",
      "  - Apple is not required to provide maintenance for modified Apple Software\n",
      "  - No warranty is provided for modified Apple Software\n",
      "  - Apple does not offer technical or other support for modified Apple Software\n",
      "  - No services are provided for the resultant modified Apple Software\n",
      "\n"
     ]
    }
   ],
   "source": [
    "apple_points_summary2 = rag_summarization_with_points(uri, user, password)\n",
    "print(\"\\nFinal Summary:\")\n",
    "print(apple_points_summary2)\n"
   ]
  },
  {
   "cell_type": "code",
   "execution_count": 19,
   "metadata": {},
   "outputs": [
    {
     "name": "stdout",
     "output_type": "stream",
     "text": [
      "\n",
      "Final Summary:\n",
      "- **Interference with Apple's Security Mechanisms**\n",
      "  - Prohibits circumventing or interfering with Apple's verification, storage, or authentication mechanisms.\n",
      "  - Includes digital signing, digital rights management, and other security mechanisms implemented in or by Apple software, services, or technology.\n",
      "  - Prohibition extends to enabling others to interfere with these mechanisms.\n",
      "\n",
      "- **Components of Apple Software**\n",
      "  - Certain components of the Apple Software, and third-party open source programs included with the Apple Software, may be made available by Apple on its Open Source website.\n",
      "  - The product's AMR encoding and decoding functionality is not licensed for use in cellular communications infrastructure, including base stations.\n",
      "\n",
      "- **For Australian consumers**\n",
      "  - The license does not affect or intend to affect statutory rights under Australian Consumer Law.\n",
      "  - Includes consumer guarantees.\n",
      "\n",
      "- **Apple Products and Services**\n",
      "  - Requires operating software that supports the services, latest version recommended and sometimes required.\n",
      "  - Requires an Apple Account associated with an iCloud account, account must be in good standing with Apple.\n",
      "  - Requires internet access or cellular data access, fees may apply.\n",
      "\n",
      "- **Gracenote Data, Software, and Servers**\n",
      "  - Users agree not to use or exploit these resources.\n",
      "  - Applicable to Supported Devices.\n",
      "  - Terms are incorporated by reference.\n",
      "  - Can be accessed via: Settings > General > Apple.\n",
      "\n",
      "- **Liability and Endorsement**\n",
      "  - Apple, its officers, affiliates, and subsidiaries do not warrant or endorse and will not assume any liability or responsibility to you or any other person.\n",
      "\n",
      "- **Apple Software Changes**\n",
      "  - Provided by Apple, exceptions exist if changes are accompanied.\n",
      "\n",
      "- **Apple Software Support**\n",
      "  - Supported only on Apple-branded hardware, hardware must meet specified system requirements as indicated by Apple.\n",
      "\n",
      "- **Permitted Exceptions**\n",
      "  - Expressly permitted in Section 3, D. Maps of Apple Pay or Wallet.\n",
      "\n",
      "- **Third Party Decisions**\n",
      "  - Decisions made by an issuer, merchant, or other third party in connection with a Supported Card.\n",
      "\n",
      "- **Rewards and Stored Value**\n",
      "  - Accrual or redemption of rewards or stored value in connection with your account - Supported Cards.\n",
      "  - The text mentions the funding or reloading of prepaid Supported Cards.\n",
      "\n",
      "- **Definition of Terms**\n",
      "  - End User Lessee: A lessee who is the ultimate end user.\n",
      "\n",
      "- **License Terms and Conditions**\n",
      "  - The license allows for remote connection from another computer or electronic device (referred to as a \"Device\") to an Apple-branded computer running the Apple Software.\n",
      "\n",
      "- **Apple Eligible Content and iCloud Service**\n",
      "  - Apple Eligible Content can be cached on a Mac Computer (referred to as the \"Home Mac\").\n",
      "  - This can be done through the Screen Sharing feature or any other means.\n",
      "  - The caching process is governed by specific license terms.\n",
      "  - To complete a purchase on a Mac Computer, a Supported Card associated with an active iCloud account is required.\n",
      "  - Users must acknowledge and agree to the terms and conditions of the iCloud service.\n",
      "  - The use of iCloud and its features is subject to the latest terms and conditions.\n",
      "  - The legal aspects of Apple's internet services, including iCloud, can be reviewed at https://www.apple.com/legal/internet-services/icloud/.\n",
      "\n",
      "- **News App Content**\n",
      "  - The Adobe Color Profile software, which is distributed with Apple Software, can also be downloaded from Adobe's website at https://www.adobe.com.\n",
      "\n",
      "- **Device Connection Limitations**\n",
      "  - Only one device can remotely connect at any given time to control the graphical desktop session of the Apple Software.\n",
      "  - This connection can be either direct or indirect.\n",
      "  - The Apple Software must be running and displayed on the Home Mac.\n",
      "\n",
      "- **Home Mac Usage**\n",
      "  - A reasonable number of devices can remotely connect to the Home Mac simultaneously.\n",
      "  - The purpose of this connection is to observe the same graphical desktop session of the Apple Software running on the Home Mac.\n",
      "  - These devices should not control the Apple Software.\n",
      "\n",
      "- **Apple Software Package**\n",
      "  - Apple provides access to certain third-party software as part of the Apple Software package.\n",
      "  - This access may also be provided as an upgrade, update, or supplement to the Apple Software.\n",
      "\n",
      "- **Potential Losses and Damages**\n",
      "  - Loss of profits, corruption or loss of data, failure to transmit or receive any data or information, business interruption, other commercial damages or losses.\n",
      "\n",
      "- **Causes of Potential Losses and Damages**\n",
      "  - Use or inability to use the Apple software or services, use or inability to use any third party software, applications, or services.\n",
      "\n",
      "- **Apple's Obligations**\n",
      "  - Apple is not obligated to provide updates for the modified Apple Software.\n",
      "  - Apple is not required to provide maintenance for the modified Apple Software.\n",
      "  - Apple does not offer warranty for the modified Apple Software.\n",
      "  - Apple does not provide technical or other support for the modified Apple Software.\n",
      "  - Apple does not offer services for the modified Apple Software.\n",
      "\n",
      "- **Restrictions on Apple Software**\n",
      "  - No portion of the Apple Software can be modified.\n",
      "\n",
      "- **Reproduction of Services**\n",
      "  - Services can be reproduced in any form or by any means.\n",
      "\n",
      "- **Content Removal and Disabling**\n",
      "  - Users have the right to remove cached Apple Eligible Content.\n",
      "  - Users can disable the Content Caching Features at any time.\n",
      "\n",
      "- **Proprietary Notices**\n",
      "  - Users agree not to remove, obscure, or alter any proprietary notices.\n",
      "  - This includes trademark and copyright notices affixed to or contained within the Apple Software.\n",
      "\n",
      "- **Automatic Download\n"
     ]
    }
   ],
   "source": [
    "apple_points_summary3 = rag_summarization_with_points(uri, user, password)\n",
    "print(\"\\nFinal Summary:\")\n",
    "print(apple_points_summary3)"
   ]
  },
  {
   "cell_type": "code",
   "execution_count": 22,
   "metadata": {},
   "outputs": [],
   "source": [
    "with open('apple_bullet_points2.txt', \"w\") as file:\n",
    "        file.write(apple_points_summary3)"
<<<<<<< HEAD
>>>>>>> 0e81b9d (final clean code)
=======
=======
    "final_summary = rag_summarization_with_chunks(uri, user, password)\n",
    "# print(\"\\nFinal Summary:\")\n",
    "print(final_summary)"
<<<<<<< HEAD
>>>>>>> 8510426 (Running notebook with UI)
<<<<<<< HEAD
>>>>>>> de60678 (Running notebook with UI)
=======
=======
=======
    "#### Simplification with Lexical Simplification with BERT"
>>>>>>> cca7142 (descriptions added per node for summarization)
>>>>>>> 80e8ab8 (descriptions added per node for summarization)
>>>>>>> 996ce76 (descriptions added per node for summarization)
>>>>>>> 51eb27b (descriptions added per node for summarization)
   ]
  },
  {
   "cell_type": "code",
   "execution_count": 27,
=======
   "execution_count": 8,
>>>>>>> 7ffbc9e (final summary)
   "metadata": {},
   "outputs": [
    {
     "name": "stderr",
     "output_type": "stream",
     "text": [
      "[nltk_data] Downloading package punkt to /Users/meryjoy/nltk_data...\n",
      "[nltk_data]   Package punkt is already up-to-date!\n",
      "BertForMaskedLM has generative capabilities, as `prepare_inputs_for_generation` is explicitly overwritten. However, it doesn't directly inherit from `GenerationMixin`. From 👉v4.50👈 onwards, `PreTrainedModel` will NOT inherit from `GenerationMixin`, and this model will lose the ability to call `generate` and other related functions.\n",
      "  - If you're using `trust_remote_code=True`, you can get rid of this warning by loading the model with an auto class. See https://huggingface.co/docs/transformers/en/model_doc/auto#auto-classes\n",
      "  - If you are the owner of the model architecture code, please modify your model class such that it inherits from `GenerationMixin` (after `PreTrainedModel`, otherwise you'll get an exception).\n",
      "  - If you are not the owner of the model architecture class, please contact the model code owner to update it.\n",
      "Some weights of the model checkpoint at bert-base-uncased were not used when initializing BertForMaskedLM: ['bert.pooler.dense.bias', 'bert.pooler.dense.weight', 'cls.seq_relationship.bias', 'cls.seq_relationship.weight']\n",
      "- This IS expected if you are initializing BertForMaskedLM from the checkpoint of a model trained on another task or with another architecture (e.g. initializing a BertForSequenceClassification model from a BertForPreTraining model).\n",
      "- This IS NOT expected if you are initializing BertForMaskedLM from the checkpoint of a model that you expect to be exactly identical (initializing a BertForSequenceClassification model from a BertForSequenceClassification model).\n"
     ]
    },
    {
     "name": "stdout",
     "output_type": "stream",
     "text": [
      "Simplified Text: \n",
      "The user shall be deemed to have consent to the terms and conditions , referred to as the agreement. You agree to be bound by the contract under this contract.\n"
     ]
    }
   ],
   "source": [
    "from transformers import AutoModelForMaskedLM, AutoTokenizer\n",
    "from sentence_transformers import SentenceTransformer, util\n",
    "import nltk\n",
    "from nltk.tokenize import sent_tokenize, word_tokenize\n",
    "import numpy as np\n",
    "\n",
    "nltk.download('punkt')\n",
    "\n",
    "# Load models\n",
    "tokenizer = AutoTokenizer.from_pretrained(\"bert-base-uncased\", trust_remote_code=True)\n",
    "model = AutoModelForMaskedLM.from_pretrained(\"bert-base-uncased\", trust_remote_code=True)\n",
    "similarity_model = SentenceTransformer(\"all-MiniLM-L6-v2\")\n",
    "\n",
    "def mask_word(sentence, word):\n",
    "    \"\"\"Replace a word in the sentence with [MASK].\"\"\"\n",
    "    return sentence.replace(word, \"[MASK]\")\n",
    "\n",
    "def generate_candidates(masked_sentence, top_k=5):\n",
    "    \"\"\"Generate replacement candidates using MLM.\"\"\"\n",
    "    inputs = tokenizer(masked_sentence, return_tensors=\"pt\")\n",
    "    outputs = model(**inputs)\n",
    "    logits = outputs.logits\n",
    "\n",
    "    mask_token_index = (inputs.input_ids == tokenizer.mask_token_id).nonzero(as_tuple=True)[1]\n",
    "    mask_logits = logits[0, mask_token_index, :]\n",
    "    top_tokens = mask_logits.topk(top_k, dim=-1).indices[0].tolist()\n",
    "\n",
    "    candidates = [tokenizer.decode([token]).strip() for token in top_tokens]\n",
    "    return candidates\n",
    "\n",
    "def rank_candidates(sentence, word, candidates):\n",
    "    \"\"\"Rank candidates based on semantic similarity and simplicity.\"\"\"\n",
    "    original_embedding = similarity_model.encode(sentence)\n",
    "    rankings = []\n",
    "\n",
    "    for candidate in candidates:\n",
    "        replaced_sentence = sentence.replace(word, candidate)\n",
    "        candidate_embedding = similarity_model.encode(replaced_sentence)\n",
    "        similarity = util.cos_sim(original_embedding, candidate_embedding)[0][0].item()\n",
    "        rankings.append((candidate, similarity))\n",
    "\n",
    "    # Sort by similarity and word length (shorter words preferred for simplicity)\n",
    "    rankings.sort(key=lambda x: (-x[1], len(x[0])))\n",
    "    return [candidate for candidate, _ in rankings]\n",
    "\n",
    "def simplify_text(text, complexity_threshold=5):\n",
    "    \"\"\"Simplify text by replacing complex words.\"\"\"\n",
    "    simplified_sentences = []\n",
    "    sentences = sent_tokenize(text)\n",
    "\n",
    "    for sentence in sentences:\n",
    "        words = word_tokenize(sentence)\n",
    "        for word in words:\n",
    "            if len(word) > complexity_threshold:  # Detect complex words by length\n",
    "                masked_sentence = mask_word(sentence, word)\n",
    "                candidates = generate_candidates(masked_sentence)\n",
    "                ranked_candidates = rank_candidates(sentence, word, candidates)\n",
    "\n",
    "                if ranked_candidates:\n",
    "                    sentence = sentence.replace(word, ranked_candidates[0], 1)\n",
    "        simplified_sentences.append(sentence)\n",
    "\n",
    "    return \" \".join(simplified_sentences)\n",
    "\n",
    "# Example usage\n",
    "text = \"\"\"\n",
    "The user shall be deemed to have consented to the terms and conditions herein referred to as the agreement. \n",
    "You agree to be bound by the obligations under this contract.\n",
    "\"\"\"\n",
    "\n",
    "simplified_text = simplify_text(text)\n",
    "print(\"Simplified Text:\", simplified_text)\n"
   ]
  },
  {
   "cell_type": "markdown",
   "metadata": {},
   "source": [
    "Still work ahead for this part of the project, might be for later, not enough time"
   ]
  },
  {
   "cell_type": "markdown",
   "metadata": {},
   "source": [
    "### Create Cypher Queries with eFLINT notation"
   ]
  },
  {
   "cell_type": "code",
<<<<<<< HEAD
=======
   "execution_count": 8,
=======
   "execution_count": 36,
>>>>>>> cca7142 (descriptions added per node for summarization)
   "metadata": {},
   "outputs": [
    {
     "name": "stdout",
     "output_type": "stream",
     "text": [
      "To the extent that this software may be used to reproduce, modify, publish or \n",
      "distribute materials, it is licensed to you only for reproduction, modiﬁcation, publication and \n",
      "distribution of non-copyrighted materials, materials in which you own the copyright, or materials \n",
      "you are authorized or legally permitted to reproduce, modify, publish or distribute.\n"
     ]
    },
    {
     "data": {
      "text/plain": [
       "'IMPORTANT NOTE: To the extent that this software may be used to reproduce, modify, publish or \\ndistribute materials, it is licensed to you only for reproduction, modiﬁcation, publication and \\ndistribution of non-copyrighted materials, materials in which you own the copyright, or materials \\nyou are authorized or legally permitted to reproduce, modify, publish or distribute. If you are \\nuncertain about your right to copy, modify, publish or distribute any material, you should contact'"
      ]
     },
     "execution_count": 36,
     "metadata": {},
     "output_type": "execute_result"
    }
   ],
   "source": [
<<<<<<< HEAD
    "def classify_and_generate_queries2(json_data, file_path):\n",
    "    nodes = {}\n",
    "    relationships = []\n",
    "\n",
    "    # Enhanced mapping function for entity types based on eFLINT elements\n",
    "    def map_eflint_type(entity_type, entity_name):\n",
    "        # we are not really interested in numbers so we delete those\n",
    "        # in the case of links it is better that we classify them as FACT rather than ORG\n",
    "        if 'http://' in entity_type or 'https://' in entity_name:\n",
    "            return 'FACT'\n",
    "\n",
    "        if entity_type in ['CARDINAL', 'ORDINAL']:\n",
    "            return 'NUMBER'\n",
    "\n",
    "\n",
    "        if entity_type == 'ORG':\n",
    "            if 'terms' in entity_name.lower() or 'conditions' in entity_name.lower() or 'agreement' in entity_name.lower():\n",
    "                return 'DUTY'\n",
    "            else:\n",
    "                return 'ACTOR'\n",
    "\n",
    "        if 'section' in entity_name.lower() or 'section' in entity_type.lower():\n",
    "            return 'SECTION'\n",
    "\n",
    "        mapping = {\n",
    "            'PERSON': 'ACTOR',\n",
    "            'EVENT': 'EVENT',\n",
    "            'LAW': 'DUTY',\n",
    "            'WORK_OF_ART': 'ACT',\n",
    "            'CONDITION': 'CONDITION',\n",
    "            'DATE': 'DATE',\n",
    "            # they sadly do not appear in the NER we performed but we can nevertheless include them to keep the eFLINT semantics\n",
    "            'CLAIMANT': 'CLAIMANT',\n",
    "            'HOLDER': 'HOLDER'\n",
    "        }\n",
    "        return mapping.get(entity_type, 'FACT')\n",
    "\n",
    "    # entities and relationships\n",
    "    for item in json_data:\n",
    "        entities = item.get('entities', [])\n",
    "        relations = item.get('relations', [])\n",
    "        context_text = item.get('context', '')  # Text surrounding the entities\n",
    "\n",
    "        # Generate section summary for the context\n",
    "        section_summary = summarize_section(context_text) if context_text else \"No summary available\"\n",
    "\n",
    "        for entity in entities:\n",
    "            entity_name, entity_type = entity[:2]\n",
    "            mapped_type = map_eflint_type(entity_type, entity_name)\n",
    "            node_id = f\"{entity_name.replace(' ', '_')}_{mapped_type}\"\n",
    "            nodes[node_id] = {\n",
    "                'name': entity_name,\n",
    "                'type': mapped_type,\n",
    "                'description': section_summary  # Add the summary as a description\n",
    "            }\n",
    "\n",
    "        for relation in relations:\n",
    "            src_id = f\"{relation[0].replace(' ', '_')}_{map_eflint_type(entities[0][1], entities[0][0])}\"\n",
    "            tgt_id = f\"{relation[2].replace(' ', '_')}_{map_eflint_type(entities[0][1], entities[0][0])}\"\n",
    "            relationship_type = relation[1].replace(' ', '_').replace('-', '_')\n",
    "            relationships.append((src_id, relationship_type, tgt_id))\n",
    "\n",
    "    node_queries = [\n",
    "        f\"MERGE (n:{data['type']} {{name: '{data['name']}', description: '{data['description']}'}}) SET n.id = '{node_id}'\"\n",
    "        for node_id, data in nodes.items() if data['type'] != 'NUMBER'\n",
    "    ]\n",
    "\n",
    "    relationship_queries = [\n",
    "        f\"MATCH (a), (b) WHERE a.id = '{rel[0]}' AND b.id = '{rel[2]}' \"\n",
    "        f\"MERGE (a)-[:{rel[1]}]->(b)\"\n",
    "        for rel in relationships\n",
    "    ]\n",
    "\n",
    "    queries = node_queries + relationship_queries\n",
    "    # Save queries to a text file\n",
    "    with open(file_path, 'w') as file:\n",
    "        for query in queries:\n",
    "            file.write(query + '\\n')\n",
    "\n",
    "    return queries"
   ]
  },
  {
   "cell_type": "code",
>>>>>>> 80e8ab8 (descriptions added per node for summarization)
   "execution_count": 9,
   "metadata": {},
   "outputs": [],
   "source": [
    "def classify_and_generate_queries(json_data, file_path):\n",
    "    nodes = {}\n",
    "    relationships = []\n",
    "\n",
    "    # Enhanced mapping function for entity types based on eFLINT elements\n",
    "    def map_eflint_type(entity_type, entity_name):\n",
    "        if 'http://' in entity_type or 'https://' in entity_name:\n",
    "            return 'FACT'\n",
    "        if entity_type in ['CARDINAL', 'ORDINAL']:\n",
    "            return 'NUMBER'\n",
    "        if entity_type == 'ORG':\n",
    "            if 'terms' in entity_name.lower() or 'conditions' in entity_name.lower() or 'agreement' in entity_name.lower():\n",
    "                return 'DUTY'\n",
    "            else:\n",
    "                return 'ACTOR'\n",
    "        if 'section' in entity_name.lower() or 'section' in entity_type.lower():\n",
    "            return 'SECTION'\n",
    "        mapping = {\n",
    "            'PERSON': 'ACTOR',\n",
    "            'EVENT': 'EVENT',\n",
    "            'LAW': 'DUTY',\n",
    "            'WORK_OF_ART': 'ACT',\n",
    "            'CONDITION': 'CONDITION',\n",
    "            'DATE': 'DATE',\n",
    "        }\n",
    "        return mapping.get(entity_type, 'FACT')\n",
    "\n",
    "    # Process summaries and associate them with entities\n",
    "    for item in json_data:\n",
    "        summary = item.get('summary', 'No summary available')\n",
    "        entities = item.get('entities', [])\n",
    "        relations = item.get('relations', [])\n",
    "\n",
    "        for entity in entities:\n",
    "            entity_name, entity_type = entity[:2]\n",
    "            mapped_type = map_eflint_type(entity_type, entity_name)\n",
    "            node_id = f\"{entity_name.replace(' ', '_')}_{mapped_type}\"\n",
    "            if node_id not in nodes:\n",
    "                nodes[node_id] = {\n",
    "                    'name': entity_name,\n",
    "                    'type': mapped_type,\n",
    "                    'descriptions': [summary],  # Start with the current summary\n",
    "                }\n",
    "            else:\n",
    "                nodes[node_id]['descriptions'].append(summary)  # Append additional summaries\n",
    "\n",
    "        # Add relationships if present\n",
    "        for relation in relations:\n",
    "            src_id = f\"{relation[0].replace(' ', '_')}_{map_eflint_type(entity_type, relation[0])}\"\n",
    "            tgt_id = f\"{relation[2].replace(' ', '_')}_{map_eflint_type(entity_type, relation[2])}\"\n",
    "            relationship_type = relation[1].replace(' ', '_').replace('-', '_')\n",
    "            relationships.append((src_id, relationship_type, tgt_id))\n",
    "\n",
    "    # Create Cypher queries for nodes\n",
    "    # node_queries = [\n",
    "    #     f\"\"\"\n",
    "    #     MERGE (n:{data['type']} {{name: '{data['name']}'}})\n",
    "    #     SET n.id = '{node_id}', n.descriptions = {json.dumps(data['descriptions'])}\n",
    "    #     \"\"\"\n",
    "    #     for node_id, data in nodes.items() if data['type'] != 'NUMBER'\n",
    "    # ]\n",
    "\n",
    "    # Create Cypher queries for nodes\n",
    "    node_queries = [\n",
    "        f\"\"\"\n",
    "        MERGE (n:{data['type']} {{name: '{data['name'].replace(\"'\", \"\")}'}})\n",
    "        SET n.id = '{node_id.replace(\"'\", \"\")}', \n",
    "        n.descriptions = {json.dumps([desc.replace(\"'\", \"\") for desc in data['descriptions']])}\n",
    "        \"\"\"\n",
    "        for node_id, data in nodes.items() if data['type'] != 'NUMBER'\n",
    "    ]\n",
    "  \n",
    "\n",
    "    # Create Cypher queries for relationships\n",
    "    # relationship_queries = [\n",
    "    #     f\"\"\"\n",
    "    #     MATCH (a), (b)\n",
    "    #     WHERE a.id = '{rel[0]}' AND b.id = '{rel[2]}'\n",
    "    #     MERGE (a)-[:{rel[1]}]->(b)\n",
    "    #     \"\"\"\n",
    "    #     for rel in relationships\n",
    "    # ]\n",
    "\n",
    "    relationship_queries = [\n",
    "        f\"\"\"\n",
    "        MATCH (a), (b)\n",
    "        WHERE a.id = '{rel[0].replace(\"'\", \"\")}' AND b.id = '{rel[2].replace(\"'\", \"\")}'\n",
    "        MERGE (a)-[:{rel[1].replace(\"'\", \"\")}]->(b)\n",
    "        \"\"\"\n",
    "        for rel in relationships\n",
    "    ]\n",
    "\n",
    "    queries = node_queries + relationship_queries\n",
    "\n",
    "    # Save queries to a text file\n",
    "    with open(file_path, 'w') as file:\n",
    "        for query in queries:\n",
    "            file.write(query.strip() + '\\n')\n",
    "\n",
    "    return queries\n"
   ]
  },
  {
   "cell_type": "code",
   "execution_count": 10,
   "metadata": {},
   "outputs": [],
   "source": [
    "with open('apple_processed_data.json', 'r') as file:\n",
    "    json_data = json.load(file)\n",
    "\n",
    "queries_apple = classify_and_generate_queries(json_data, 'apple_cypher_queries.txt')"
   ]
  },
  {
   "cell_type": "code",
   "execution_count": 11,
   "metadata": {},
   "outputs": [],
   "source": [
    "from neo4j import GraphDatabase\n",
    "\n",
    "def execute_queries(queries, uri, user, password):\n",
    "    driver = GraphDatabase.driver(uri, auth=(user, password))\n",
    "    with driver.session() as session:\n",
    "        for query in queries:\n",
    "            session.run(query)\n",
    "    driver.close()\n",
    "\n",
    "# Example usage\n",
    "uri = \"neo4j://localhost:7687\"\n",
    "user = \"neo4j\"\n",
    "password = \"movies11\"\n",
    "\n",
<<<<<<< HEAD
    "#execute_queries(queries_apple, uri, user, password)\n",
    "execute_queries(queries_apple, uri, user, password)\n",
    "\n"
=======
    "execute_queries(queries, uri, user, password)\n"
=======
    "import spacy\n",
    "from sklearn.feature_extraction.text import TfidfVectorizer\n",
    "from sklearn.metrics.pairwise import cosine_similarity\n",
    "import numpy as np\n",
    "\n",
    "def summarize_section(text):\n",
    "    nlp = spacy.load(\"en_core_web_sm\")\n",
    "    doc = nlp(text)\n",
    "    sentences = [sent.text for sent in doc.sents]\n",
    "\n",
    "    vectorizer = TfidfVectorizer(stop_words='english')\n",
    "    # convert to array in order to perform cosine similarity\n",
    "    sentence_vectors = vectorizer.fit_transform(sentences).toarray()\n",
    "\n",
    "    avg_vector = np.mean(sentence_vectors, axis=0)\n",
    "    avg_vector = avg_vector.reshape(1, -1)\n",
    "    similarities = cosine_similarity(avg_vector, sentence_vectors)\n",
    "\n",
    "    # index with highest cosine similarity to the average vector\n",
    "    most_relevant_index = np.argmax(similarities)\n",
    "\n",
    "    return sentences[most_relevant_index]\n",
    "\n",
    "\n",
    "print(summarize_section(split_docs[2]))\n",
    "split_docs[2]"
>>>>>>> cca7142 (descriptions added per node for summarization)
>>>>>>> 80e8ab8 (descriptions added per node for summarization)
   ]
  },
  {
   "cell_type": "markdown",
   "metadata": {},
   "source": [
<<<<<<< HEAD
    "## Other option: \n",
    "### Using Langchain for Queries"
   ]
  },
  {
   "cell_type": "code",
   "execution_count": 13,
   "metadata": {},
   "outputs": [],
   "source": [
    "# %pip install langchain_openai\n",
    "# %pip install langchain_experimental\n",
    "# %pip install neo4j langchain-neo4j\n",
    "# %pip install yfiles_jupyter_graphs"
   ]
  },
  {
   "cell_type": "code",
   "execution_count": 14,
   "metadata": {},
   "outputs": [],
   "source": [
    "if not os.getenv(\"NEO4J_URI\"):\n",
    "    print(\"nope\")\n",
    "if not os.getenv(\"NEO4J_USERNAME\"):\n",
    "    print(\"nope\")\n",
    "if not os.getenv(\"NEO4J_PASSWORD\"):\n",
    "    print(\"nope\")"
   ]
  },
  {
   "cell_type": "code",
   "execution_count": 15,
   "metadata": {},
   "outputs": [],
   "source": [
    "from langchain.text_splitter import TokenTextSplitter\n",
    "text_splitter = TokenTextSplitter(chunk_size=512, chunk_overlap=24)\n",
    "tc_document = text_splitter.split_documents(tc_data)"
   ]
  },
  {
   "cell_type": "code",
   "execution_count": 16,
   "metadata": {},
   "outputs": [],
   "source": [
    "from langchain_openai import ChatOpenAI\n",
    "from langchain_experimental.graph_transformers import LLMGraphTransformer\n",
    "\n",
    "llm=ChatOpenAI(temperature=0, model_name=\"gpt-4o-mini\")\n",
    "     \n",
    "llm_transformer = LLMGraphTransformer(llm=llm)\n",
    "\n",
    "graph_documents = llm_transformer.convert_to_graph_documents(tc_document)"
   ]
  },
  {
   "cell_type": "code",
   "execution_count": 17,
   "metadata": {},
   "outputs": [],
   "source": [
    "from langchain_neo4j import Neo4jGraph\n",
    "\n",
    "graph = Neo4jGraph()\n",
    "graph.add_graph_documents(\n",
    "    graph_documents,\n",
    "    baseEntityLabel=True,\n",
    "    include_source=True\n",
    ")"
   ]
  },
  {
   "cell_type": "code",
   "execution_count": 18,
   "metadata": {},
   "outputs": [],
   "source": [
    "from yfiles_jupyter_graphs import GraphWidget\n",
    "from neo4j import GraphDatabase\n",
    "\n",
    "default_cypher = \"MATCH (s)-[r:!MENTIONS]->(t) RETURN s,r,t LIMIT 80\"\n",
    "\n",
    "def showGraph(cypher: str = default_cypher):\n",
    "    # create a neo4j session to run queries\n",
    "    driver = GraphDatabase.driver(\n",
    "        uri = os.environ[\"NEO4J_URI\"],\n",
    "        auth = (os.environ[\"NEO4J_USERNAME\"],\n",
    "                os.environ[\"NEO4J_PASSWORD\"]))\n",
    "    session = driver.session()\n",
    "    widget = GraphWidget(graph = session.run(cypher).graph())\n",
    "    widget.node_label_mapping = 'id'\n",
    "    display(widget)\n",
    "    return widget"
   ]
  },
  {
   "cell_type": "code",
   "execution_count": 19,
   "metadata": {},
   "outputs": [],
   "source": [
    "# showGraph()"
   ]
  },
  {
   "cell_type": "markdown",
   "metadata": {},
   "source": [
    "## Summarization based RAG"
   ]
  },
  {
   "cell_type": "code",
   "execution_count": 12,
   "metadata": {},
   "outputs": [],
   "source": [
    "from langchain.text_splitter import RecursiveCharacterTextSplitter\n",
    "from langchain.docstore.document import Document\n",
    "from langchain.prompts import PromptTemplate\n",
    "from langchain.chains.llm import LLMChain\n",
    "from langchain.chat_models import ChatOpenAI\n",
    "\n",
    "# Neo4j Connection\n",
    "class KnowledgeGraph:\n",
    "    def __init__(self, uri, user, password):\n",
    "        from neo4j import GraphDatabase\n",
    "        self.driver = GraphDatabase.driver(uri, auth=(user, password))\n",
    "    \n",
    "    def close(self):\n",
    "        self.driver.close()\n",
    "    \n",
    "    def get_all_summaries(self):\n",
    "        with self.driver.session() as session:\n",
    "            query = \"\"\"\n",
    "            MATCH (n)\n",
    "            RETURN DISTINCT n.descriptions AS descriptions\n",
    "            \"\"\"\n",
    "            results = session.run(query)\n",
    "            summaries = []\n",
    "            for record in results:\n",
    "                descriptions = record[\"descriptions\"]\n",
    "                if descriptions:\n",
    "                    summaries.extend(descriptions)\n",
    "            return list(set(summaries))"
   ]
  },
  {
   "cell_type": "markdown",
   "metadata": {},
   "source": [
    "#### Summary in Paragraph"
   ]
  },
  {
   "cell_type": "code",
   "execution_count": 13,
   "metadata": {},
   "outputs": [],
   "source": [
    "# Simplified Summarization Workflow\n",
    "def summarize_in_chunks(summaries, llm):\n",
    "    # summaries to single text\n",
    "    combined_text = \" \".join(summaries)\n",
    "\n",
    "    text_splitter = RecursiveCharacterTextSplitter(chunk_size=1000, chunk_overlap=150)\n",
    "    split_texts = text_splitter.split_text(combined_text)\n",
    "\n",
    "    # summarize each split / chunk\n",
    "    chunk_prompt = PromptTemplate.from_template(\n",
    "        \"\"\"Summarize the following text while preserving key relationships, events, and timelines:\n",
    "        {text}\n",
    "        Helpful Answer:\"\"\"\n",
    "    )\n",
    "    llm_chain = LLMChain(llm=llm, prompt=chunk_prompt)\n",
    "\n",
    "    chunk_summaries = []\n",
    "    for chunk in split_texts:\n",
    "        summary = llm_chain.run({\"text\": chunk})\n",
    "        chunk_summaries.append(summary)\n",
    "\n",
    "    # combination into final summary\n",
    "    final_prompt = PromptTemplate.from_template(\n",
    "        \"\"\"Combine the following summaries into a cohesive final summary:\n",
    "        {text}\n",
    "        Helpful Answer:\"\"\"\n",
    "    )\n",
    "    final_chain = LLMChain(llm=llm, prompt=final_prompt)\n",
    "    final_summary = final_chain.run({\"text\": \" \".join(chunk_summaries)})\n",
    "\n",
    "    return final_summary"
   ]
  },
  {
   "cell_type": "code",
   "execution_count": 105,
   "metadata": {},
   "outputs": [],
   "source": [
    "# def clear_graph(uri, user, password):\n",
    "#     driver = GraphDatabase.driver(uri, auth=(user, password))\n",
    "#     with driver.session() as session:\n",
    "#         session.run(\"MATCH (n) DETACH DELETE n\")\n",
    "#     driver.close()\n",
    "\n",
    "# # Usage\n",
    "# clear_graph(\"neo4j://localhost:7687\", \"neo4j\", \"movies11\")\n"
   ]
  },
  {
   "cell_type": "markdown",
   "metadata": {},
   "source": [
    "#### Summary in bullet points"
   ]
  },
  {
   "cell_type": "code",
   "execution_count": 14,
   "metadata": {},
   "outputs": [],
   "source": [
    "# Simplified Summarization Workflow\n",
    "def summarize_in_points(summaries, llm):\n",
    "    # summaries to single text\n",
    "    combined_text = \" \".join(summaries)\n",
    "\n",
    "    text_splitter = RecursiveCharacterTextSplitter(chunk_size=500, chunk_overlap=70)\n",
    "    split_texts = text_splitter.split_text(combined_text)\n",
    "\n",
    "    # summarize each split / chunk\n",
    "    chunk_prompt = PromptTemplate.from_template(\n",
    "        \"\"\"Summarize the following text into a structured format with bullet points and headings, ensuring that key relationships and events are preserved: \n",
    "        {text} \n",
    "        Helpful Answer:\"\"\"\n",
    "    )\n",
    "    llm_chain = LLMChain(llm=llm, prompt=chunk_prompt)\n",
    "\n",
    "    chunk_summaries = []\n",
    "    for chunk in split_texts:\n",
    "        summary = llm_chain.run({\"text\": chunk})\n",
    "        chunk_summaries.append(summary)\n",
    "\n",
    "    # combination into final summary\n",
    "    final_prompt = PromptTemplate.from_template(\n",
    "        \"\"\"Combine the following summaries into a structured format with bullet points and headings, while keeping the same structure, into a cohesive final summary: \n",
    "        {text} \n",
    "        Helpful Answer:\"\"\"\n",
    "    )\n",
    "    final_chain = LLMChain(llm=llm, prompt=final_prompt)\n",
    "    final_summary = final_chain.run({\"text\": \" \".join(chunk_summaries)})\n",
    "\n",
    "    return final_summary"
   ]
  },
  {
   "cell_type": "code",
   "execution_count": 42,
   "metadata": {},
   "outputs": [
    {
     "name": "stdout",
     "output_type": "stream",
     "text": [
      "\n",
      "Final Summary:\n",
      "The text outlines the terms and conditions for using Apple Software on a supported Mac Computer, including automatic downloads and installations of software changes. The number of copies that can be downloaded depends on the user's license with Apple. The software is licensed under the MPEG-4 Visual Patent Portfolio License for personal and non-commercial use. It also discusses the use of Gracenote software, licensed by MPEG LA, for personal and non-commercial activities, which enables applications to identify discs and files and obtain music-related information. The text also mentions the use of Setup/Migration Assistant for transferring software between Apple-branded computers. Users are advised to suspend the ability to pay with virtual Supported Cards on their Mac Computer by putting it into Lost Mode. If the license for the Gracenote software terminates, users must cease all use of the Gracenote Data, Software, and Servers. The text also mentions potential risks such as loss of profits, corruption or loss of data, and failure to transmit or receive any data. The text also mentions the Wallet feature, which allows users to store virtual representations of credit, debit, and prepaid cards. The countries mentioned could possibly be the locations where these conditions apply. The text outlines the terms of use for Apple Software, including the immediate termination of a Lessee's use upon discovery or notification of a breach. It states that there is no guarantee that the Gracenote Software or Servers will be error-free or uninterrupted. The software allows for real-time, on-device caption generation (\"Live Captions\") and the creation of a personal voice feature for non-commercial use. The leased Apple Software should be used solely for providing Permitted Developer Services, with each Lessee agreeing to the license terms. Each lease period must last for a minimum of 24 consecutive hours. The license agreement stipulates that each lease period must be at least 24 consecutive hours. During this time, the End User Lessee should have sole and exclusive use and control of the Apple Software and the Apple-branded hardware it is installed on. By using Apple Pay and Wallet, users consent to Apple's transmission, collection, maintenance, processing, and use of all related information to provide these services. The Apple Software is only supported on Apple-branded hardware that meets specific system requirements set by Apple. Users also agree to use Apple Pay in accordance with these terms. The text discusses the terms of a software license agreement for macOS, which also governs the use of Apple Pay and Apple Wallet. The user agrees not to alter any proprietary notices within the Apple Software. The AMR encoding and decoding functionality in the product is not licensed for use in cellular communications infrastructure. The agreement also mentions that if the Consumer Contract Act of Japan applies, terms limiting Apple's liability for damages from breach will be in effect. Japan has imposed terms on Apple that prevent the company from limiting its liability for damages resulting from contract breaches or torts, unless the damage is due to Apple's intentional misconduct or gross negligence. Apple does not guarantee the appropriateness or availability of its software, services, and third-party materials for use in any specific location. The use of a modified device with the services is prohibited and can result in restricted access to the services. Some Apple software and services may display or include third-party content or links to third-party websites. Apple requires advance notice from each lessor before the use of iCloud. Users must agree to use iCloud and its features according to the latest terms and conditions, which can be reviewed on Apple's website. Users must also use the Apple Software and Services in compliance with all applicable laws, including local laws of the country or region they reside in or where they download or use the software and services. Apple, Apple Payments Services, and their affiliates are all parties to the Apple Pay Terms with respect to the services they provide. Users are reminded that no oral or written information or advice given by Apple or an Apple authorized representative creates a warranty. The text states that Apple does not provide a warranty for its software and services, and does not guarantee the accuracy or availability of any data displayed by its software and services. It also states that Apple is not responsible for any third-party services or materials, and is not a party to any agreement between the user and a third party. The Gracenote service, used by Apple, tracks queries for statistical purposes. Upon termination of the license, the user must stop using the Apple software and services. The text states that Apple is not responsible for any agreements between the user and a third party, particularly regarding installment payment services. The user acknowledges that Apple Software and Services contain proprietary content owned by Apple or its licensors, protected by intellectual property laws, including copyright. The GPL and LGPL are included with the Apple Software. Neither the FAA nor Apple are liable for any loss, damage, claim, liability, expense, or penalty. When using Apple Pay, only one device can remotely connect at a time to control the Apple Software's graphical desktop session displayed on the Home Mac. The text describes the ability to control the graphical desktop session of Apple Software running on a Home Mac. It also allows a reasonable number of devices to remotely connect simultaneously to observe the same session, provided they do not control the software. Apple is not responsible for updates, maintenance, warranty, technical support, or services for the modified software. Users may need to authenticate with Apple to receive Apple Eligible Content. The delivery of this content through a Caching Enabled Mac does not change the terms of receiving it. The license does not permit unauthorized actions with the software. The text outlines the terms and conditions for using Apple Software. It states that the software cannot be installed, used, or run on non-Apple-branded computers. The software and its documentation are defined as \"Commercial Products\" and \"Commercial Computer Software\". Users are granted a limited, non-transferable, non-exclusive license to download, install, use, and run one copy of the software for personal, non-commercial use, subject to the Services and Content Usage Rules set forth in the Apple Media Services Terms and Conditions. If the software is governed by a separate license, the terms of that license will apply. The intellectual property rights of any content accessed through Apple Software belong to the respective content owner. Certain features of the Apple Software may automatically download and cache eligible content on an Apple-branded computer running the software. To use these features, users need the latest version of the operating software, an Apple Account associated with an iCloud account in good standing, and internet or cellular data access. Ownership of the Apple Software remains with Apple or its licensors, who reserve all rights not explicitly granted. The text outlines the terms of a license for Apple Software obtained from the Mac App Store or through a software update. The license allows for a one-time permanent transfer of all rights to the software to another party, under certain conditions: the software must be transferred with Apple-branded hardware, and the transfer must include all of the software. The software will periodically check with Apple for updates. For UK-based consumers, the license is governed by local laws. The license also prohibits actions such as reverse engineering, disassembling, decrypting, modifying, or creating derivative works of the software, unless such restrictions are prohibited by law. The text discusses licensing terms for Apple Software, particularly those that include Open-Sourced Components and AVC encoding/decoding functionality. Commercial use of H.264/AVC requires additional licensing from MPEG LA, LLC. Users can remove cached Apple Eligible Content and disable Content Caching Features. Some services may require an Apple Account and acceptance of additional terms. Users must also confirm they are not located in certain restricted countries. This license agreement between the user and Apple pertains to the Apple Software and supersedes all previous understandings. It details how user information is sent to Apple and its potential uses. The Apple Software allows access to various Apple and third-party services, including the iTunes Store, Mac App Store, Apple Books, Game Center, iCloud, Maps, News, and others. The license also covers the terms and conditions for remotely connecting from a device to an Apple-branded computer running the Apple Software, referred to as the \"Home Mac\". The text refers to a license agreement for Apple Software. The license allows users to install and run the software on each Apple-branded computer they own or control, running specific versions of macOS. Commercial enterprises or educational institutions are permitted to use one copy of the software. The license also allows users to use virtualized copies of the software in connection with certain services. However, the use of System Characters is restricted. The Gracenote Software and Gracenote Data are licensed \"AS IS\". Any changes to the agreement must be in writing and signed by Apple. Users are also required to use the Content Caching Features for personal use only. The text outlines the terms of a license agreement for non-commercial or internal use of Apple software. The user acknowledges that Apple is not responsible for the software's configuration. The license also covers any changes to the software provided by Apple. The software can be used by a consumer for personal and non-commercial activities, such as encoding and decoding AVC video. The user is allowed to make one copy of the software, excluding certain embedded firmware. The agreement does not limit any rights of Apple or other copyright owners. Apple allows users to backup their firmware embedded in Apple-branded hardware in machine-readable form, but the backup must include all copyright. Apple and its licensors can change, suspend, remove, or disable access to any Apple Software and Services without notice. Third-party software and services may not be compatible with Apple Software and its installation may affect their availability and usability. Users are responsible for maintaining the security of their Mac Computer, Supported Devices, Apple Account, Touch ID information, device passcodes, and other authentication credentials. The text discusses the use of personal authentication credentials in connection with services. It mentions the use of Adobe Color Profile software included with Apple software, but Adobe has no obligation to provide support. If a user chooses to pay in installments or purchase and pay later with a third party using Apple Pay, they are contracting with the third party. The user can use the fonts included with the Apple software to display and print content, but can only embed fonts in content if permitted by the embedding restrictions. The text discusses the terms of Apple's software license. It mentions that fonts can be embedded in content if allowed by the restrictions. Apple provides updates to its software, but is not a financial institution. The license also covers leasing for permitted developer services. Location data provided by Apple software is intended for basic navigation and planning purposes only. The Apple software cannot be exported or re-exported unless authorized by U.S. law and the laws of the jurisdiction where the software was obtained. Apple may provide access to third-party software or services as part of its software package, upgrades, updates, or supplements. Users are not allowed to exploit these services. The text is a part of a legal agreement, likely from Apple, stating that users are not allowed to exploit Gracenote data, software, or servers unless expressly permitted. It warns that sharing credentials with a third party could lead to unauthorized transactions. Users are also prohibited from using Apple software and services to spam, defraud, harass, or violate the rights of others. Apple is not responsible for any misuse by the user or any offensive messages received as a result of using their software and services. The text also mentions a link to Apple's legal sales support and implies a return policy. The text outlines terms and conditions for Apple's services and software. It states that to obtain a refund, the entire hardware/software package must be returned. Redistribution of Flight Data requires prior written consent from the FAA. It also clarifies that Apple does not guarantee uninterrupted or error-free service, continued availability, correction of defects, or compatibility with third-party software or services. Some software libraries and third-party software included with Apple Software are free and licensed under the GNU General Public License (GPL) or the GNU Library. The text discusses software licensed under the GNU General Public License (GPL) or the GNU Library/Lesser General Public License (LGPL). It specifies that the software documentation is licensed to U.S. Government end users only as commercial products and with the same rights as other end users. The text also states that Apple, Apple Payment Services, and their affiliates do not assume liability for any commerce activity made using Apple Pay or Wallet. Instead, users are advised to refer to their agreements with their card issuer, payment network, or merchant for any questions or disputes related to their supported cards and associated commerce activities. The text discusses any questions or disputes related to supported cards and associated commerce activities. It specifies that customers who are consumers (those using the Apple Software outside of their trade, business, or profession) may have legal rights in their country of residence that could prevent certain limitations from applying to them. A lessee subleasing the Apple Software, who is also considered a lessor under Section 3, must fully relinquish exclusive use for use only in a list of specified countries and regions. The text discusses the terms of use for Apple-branded software. It states that the software provided with a specific Apple-branded hardware product may not be compatible with other Apple-branded hardware models. The software can be used in virtual operating system environments, but only a single instance or copy can be virtualized. The Lessor, or provider, is responsible for ensuring that the Lessee, or user, complies with all license terms and assists Apple in enforcing compliance. The text also prohibits interference with Apple's verification, storage, or authentication mechanisms. The countries listed at the beginning of the text are not connected to the rest of the information. The text discusses the security mechanisms implemented by Apple in its software, services, and content. It mentions digital rights management and signing among these mechanisms. The text also refers to Apple's Wallet service, which is provided with certain implied or statutory warranties and conditions, including merchantability, satisfactory quality, fitness for a particular purpose, accuracy, quiet enjoyment, and non-infringement of third-party rights. Information will be sent to Apple to determine eligibility and prevent fraud. The Wallet service is subject to terms and conditions, which can be accessed through the device's settings.\n"
     ]
    }
   ],
   "source": [
    "# RAG Workflow\n",
    "def rag_summarization_with_chunks(uri, user, password):\n",
    "    # retrieve descriptions\n",
    "    kg = KnowledgeGraph(uri, user, password)\n",
    "    summaries = kg.get_all_summaries()\n",
    "    kg.close()\n",
    "\n",
    "    if not summaries:\n",
    "        print(\"No summaries found in the knowledge graph.\")\n",
    "        return \"No summaries found in the knowledge graph.\"\n",
    "\n",
    "    unique_summaries = list(set(summaries))\n",
    "    # print(\"Unique Descriptions Retrieved:\")\n",
    "    # for idx, summary in enumerate(unique_summaries, start=1):\n",
    "    #     print(f\"{idx}: {summary}\")\n",
    "\n",
    "    llm = ChatOpenAI(temperature=0, model_name=\"gpt-4\")\n",
    "    final_summary = summarize_in_chunks(unique_summaries, llm)\n",
    "    return final_summary\n",
    "\n",
    "# Perform RAG summarization with chunking\n",
<<<<<<< HEAD
    "apple_par_summary = rag_summarization_with_chunks(uri, user, password)\n",
    "print(\"\\nFinal Summary:\")\n",
    "print(apple_par_summary)"
   ]
  },
  {
   "cell_type": "code",
   "execution_count": 21,
   "metadata": {},
   "outputs": [
    {
     "name": "stdout",
     "output_type": "stream",
     "text": [
      "\n",
      "Final Summary:\n",
      "- **Interference with Apple's Security Mechanisms**\n",
      "  - Prohibits circumventing or interfering with Apple's verification, storage, or authentication mechanisms.\n",
      "  - Includes digital signing, digital rights management, and other security mechanisms implemented in or by Apple software, services, or technology.\n",
      "  - Prohibits enabling others to interfere with these mechanisms.\n",
      "\n",
      "- **Apple Software Components and Open Source Programs**\n",
      "  - Certain components of the Apple Software and third-party open source programs included with the Apple Software may be made available by Apple on its Open Source website.\n",
      "\n",
      "- **Key Information**\n",
      "  - The AMR encoding and decoding functionality in the product is not licensed for use in cellular communications infrastructure, including base stations.\n",
      "  - For Australian consumers, the license does not affect or intend to affect statutory rights under the Australian Consumer Law.\n",
      "\n",
      "- **Apple Products and Services**\n",
      "  - Requires operating software that supports the services, with the latest version recommended and sometimes required.\n",
      "  - Requires an Apple Account associated with an iCloud account in good standing with Apple.\n",
      "  - Requires internet access or cellular data access, with potential fees.\n",
      "\n",
      "- **Gracenote Data, Software, and Servers**\n",
      "  - Users agree not to use or exploit these resources.\n",
      "  - Applicable to Supported Devices and can be accessed via: Settings > General > Apple.\n",
      "\n",
      "- **Liability and Endorsement**\n",
      "  - Apple, its officers, affiliates, and subsidiaries do not warrant or endorse and will not assume any liability or responsibility.\n",
      "\n",
      "- **Apple Software Changes**\n",
      "  - Provided by Apple with exceptions if changes are accompanied.\n",
      "\n",
      "- **Apple Software Support**\n",
      "  - Supported only on Apple-branded hardware that meets specified system requirements.\n",
      "\n",
      "- **Permitted Exceptions**\n",
      "  - As expressly permitted in Section 3, D. Maps of Apple Pay or Wallet.\n",
      "\n",
      "- **Third Party Decisions**\n",
      "  - Decisions made by an issuer, merchant, or other third party in connection with a Supported Card.\n",
      "\n",
      "- **Rewards and Stored Value**\n",
      "  - Accrual or redemption of rewards or stored value in connection with your account.\n",
      "\n",
      "- **Definition of Terms**\n",
      "  - End User Lessee: Refers to a Lessee who is the ultimate end user.\n",
      "\n",
      "- **License Terms and Conditions**\n",
      "  - Apply when remotely connecting from a device to an Apple-branded computer running the Apple Software.\n",
      "\n",
      "- **Device Definition**\n",
      "  - A device is any computer or electronic device used to remotely connect to an Apple-branded computer running the Apple Software.\n",
      "\n",
      "- **Apple Eligible Content and iCloud Service**\n",
      "  - Apple Eligible Content can be cached on a Mac Computer through the Screen Sharing feature or any other means.\n",
      "  - To complete a purchase on a Mac Computer, a Supported Card associated with an active iCloud account is required.\n",
      "  - The use of iCloud and its features is subject to the latest terms and conditions of the iCloud service.\n",
      "\n",
      "- **Access and Review**\n",
      "  - The legal terms for Apple's internet services, including iCloud, can be reviewed at: https://www.apple.com/legal/internet-services/icloud/.\n",
      "\n",
      "- **News App Content**\n",
      "  - The Adobe Color Profile software, which is distributed with Apple Software, can also be downloaded from Adobe's website at: https://www.adobe.com.\n",
      "\n",
      "- **Device Connection Limitations**\n",
      "  - Only one device can remotely connect at any given time to control the graphical desktop session of the Apple Software running and being displayed on the Home Mac.\n",
      "\n",
      "- **Home Mac Usage**\n",
      "  - A reasonable number of devices can remotely connect to the Home Mac simultaneously to observe the same graphical desktop session of the Apple Software running on the Home Mac.\n",
      "\n",
      "- **Apple Software Package**\n",
      "  - Apple provides access to certain third-party software as part of the Apple Software package.\n",
      "\n",
      "- **Potential Losses and Damages**\n",
      "  - Includes loss of profits, corruption or loss of data, failure to transmit or receive any data or information, and business interruption.\n",
      "\n",
      "- **Causes of Potential Losses and Damages**\n",
      "  - Use or inability to use the Apple software or services, and use or inability to use any third party software, applications, or services.\n",
      "\n",
      "- **Apple's Obligations**\n",
      "  - Apple is not obligated to provide updates, maintenance, warranty, technical or other support, or services for modified Apple Software.\n",
      "\n",
      "- **Restrictions on Apple Software**\n",
      "  - No portion of the Apple Software can be modified.\n",
      "\n",
      "- **Reproduction of Services**\n",
      "  - Services can be reproduced in any form or by any means.\n",
      "\n",
      "- **Content Removal and Disabling**\n",
      "  - Users have the right to remove cached Apple Eligible Content and can disable the Content Caching Features at any time.\n",
      "\n",
      "- **Proprietary Notices**\n",
      "  - Users agree not to remove, obscure, or alter any proprietary notices, including trademark and copyright notices.\n",
      "\n",
      "- **Automatic Download**\n",
      "  - If services are accessed through an automatic download, it is subject to the terms and conditions of the License.\n",
      "\n",
      "- **Apple Media Services Terms and Conditions**\n",
      "  - Services and Content Usage Rules are set forth in the Apple Media Services Terms and Conditions.\n",
      "\n",
      "- **License Granted**\n",
      "  - Users are granted a limited, non-transferable, non-exclusive license to download, install, use and run for personal, non-commercial use, one (1) copy of the Apple Software.\n",
      "\n",
      "\n"
     ]
    }
   ],
   "source": [
    "# RAG Workflow\n",
    "def rag_summarization_with_points(uri, user, password):\n",
    "    # retrieve descriptions\n",
    "    kg = KnowledgeGraph(uri, user, password)\n",
    "    summaries = kg.get_all_summaries()\n",
    "    kg.close()\n",
    "\n",
    "    if not summaries:\n",
    "        print(\"No summaries found in the knowledge graph.\")\n",
    "        return \"No summaries found in the knowledge graph.\"\n",
    "\n",
    "    unique_summaries = list(set(summaries))\n",
    "    # print(\"Unique Descriptions Retrieved:\")\n",
    "    # for idx, summary in enumerate(unique_summaries, start=1):\n",
    "    #     print(f\"{idx}: {summary}\")\n",
    "\n",
    "    llm = ChatOpenAI(temperature=0, model_name=\"gpt-4\")\n",
    "    final_summary = summarize_in_points(unique_summaries, llm)\n",
    "    return final_summary\n",
    "\n",
    "# Perform RAG summarization with chunking\n",
    "apple_points_summary = rag_summarization_with_points(uri, user, password)\n",
    "print(\"\\nFinal Summary:\")\n",
    "print(apple_points_summary)"
   ]
  },
  {
   "cell_type": "code",
   "execution_count": 16,
   "metadata": {},
   "outputs": [],
   "source": [
    "with open('apple_bullet_points.txt', \"w\") as file:\n",
    "        file.write(apple_points_summary)"
   ]
  },
  {
   "cell_type": "code",
   "execution_count": 20,
   "metadata": {},
   "outputs": [
    {
     "name": "stdout",
     "output_type": "stream",
     "text": [
      "\n",
      "Final Summary:\n",
      "- **Interference with Apple's Security Mechanisms**\n",
      "  - Prohibits circumventing or interfering with Apple's verification, storage, or authentication mechanisms.\n",
      "  - Includes digital signing, digital rights management, and other security mechanisms implemented in or by Apple software, services, or other Apple technology.\n",
      "  - Prohibits enabling others to interfere with these mechanisms.\n",
      "\n",
      "- **Apple Software Components and Open Source Programs**\n",
      "  - Certain components of the Apple software, and third-party open source programs included with the Apple software, have been or may be made available by Apple on its Open Source.\n",
      "  - Website: https://www.opensource.apple.com/ (referred to as \"Open-Sourced Components\")\n",
      "\n",
      "- **Key Information**\n",
      "  - The AMR encoding and decoding functionality in the product is not licensed for use in cellular communications infrastructure. This includes base stations.\n",
      "  - For Australian consumers: The license does not affect or intend to affect statutory rights under the law. - Australian Consumer Law\n",
      "  - Includes consumer guarantees\n",
      "\n",
      "- **Apple Products and Services**\n",
      "  - Requires operating software that supports the services\n",
      "    - Latest version recommended and sometimes required\n",
      "  - Requires an Apple Account associated with an iCloud account\n",
      "    - Account must be in good standing with Apple\n",
      "  - Requires internet access or cellular data access\n",
      "    - Fees may apply\n",
      "\n",
      "- **Gracenote Data, Software, and Servers**\n",
      "  - Users agree not to use or exploit these resources.\n",
      "  - Applicable to Supported Devices\n",
      "  - Terms are incorporated by reference\n",
      "  - Can be accessed via: Settings > General\n",
      "\n",
      "- **Liability and Endorsement**\n",
      "  - Apple, its officers, affiliates, and subsidiaries:\n",
      "    - Do not warrant or endorse\n",
      "    - Will not assume any liability or responsibility to the user or any other person.\n",
      "\n",
      "- **Apple Software Changes**\n",
      "  - Provided by Apple\n",
      "  - Only supported on Apple-branded hardware that meets specified system requirements\n",
      "\n",
      "- **Restrictions**\n",
      "  - Except as permitted in Section 3, D. Maps of Apple Pay or Wallet\n",
      "\n",
      "- **Third Party Decisions**\n",
      "  - Decisions made by an issuer, merchant, or other third party in connection with a Supported Card\n",
      "\n",
      "- **Rewards and Stored Value**\n",
      "  - Accrual or redemption of rewards or stored value in connection with your account - Supported Cards\n",
      "  - The text mentions the funding or reloading of prepaid Supported Cards.\n",
      "\n",
      "- **Definition of Terms**\n",
      "  - End User Lessee: A lessee who is the ultimate end user.\n",
      "\n",
      "- **License Terms and Conditions**\n",
      "  - The license allows for remote connection from another computer or electronic device (referred to as a \"Device\") to an Apple-branded computer running the Apple Software.\n",
      "\n",
      "- **Apple Eligible Content and iCloud Service**\n",
      "  - Apple Eligible Content can be cached on a Mac Computer (also known as the \"Home Mac\").\n",
      "  - This can be done through the Screen Sharing feature or any other means.\n",
      "  - The caching process is governed by specific license terms related to the type of Apple Eligible Content.\n",
      "  - To complete a purchase on a Mac Computer, a Supported Card associated with an active iCloud account is required.\n",
      "  - The use of iCloud and its features is subject to the latest terms and conditions of the iCloud service.\n",
      "\n",
      "- **Access and Review**\n",
      "  - The legal terms for Apple's internet services, including iCloud, can be reviewed at: https://www.apple.com/legal/internet-services/icloud/.\n",
      "\n",
      "- **News App Content**\n",
      "  - The Adobe Color Profile software that comes with Apple Software can also be downloaded from Adobe's website: https://www.adobe.com.\n",
      "\n",
      "- **Device Connection Limitations**\n",
      "  - Only one device can remotely connect at any given time to control the graphical desktop session of the Apple Software displayed on the Home Mac. This connection can be either direct or indirect.\n",
      "\n",
      "- **Home Mac Usage**\n",
      "  - A reasonable number of devices can remotely connect simultaneously\n",
      "  - The purpose is to observe the same graphical desktop session of the Apple Software running on the Home Mac\n",
      "  - The connected devices should not control the Apple Software\n",
      "\n",
      "- **Apple Software Package**\n",
      "  - Apple provides access to certain third-party software as part of the Apple Software package\n",
      "  - This access may also be provided as an upgrade, update, or supplement to the Apple Software\n",
      "\n",
      "- **Potential Risks and Losses**\n",
      "  - Loss of profits\n",
      "  - Corruption or loss of data\n",
      "  - Failure to transmit or receive any data or information\n",
      "    - This includes course instructions, assignments, and materials\n",
      "  - Business interruption\n",
      "  - Other commercial damages or losses\n",
      "\n",
      "- **Causes of Potential Risks and Losses**\n",
      "  - Use or inability to use the Apple software or services\n",
      "  - Use or inability to use any third party software, applications or services\n",
      "\n",
      "- **Apple Software and Services**\n",
      "  - Apple is not obligated to provide updates for modified Apple Software\n",
      "  - Apple is not required to provide maintenance for modified Apple Software\n",
      "  - No warranty is provided for modified Apple Software\n",
      "  - Apple does not offer technical or other support for modified Apple Software\n",
      "  - No services are provided for the resultant modified Apple Software\n",
      "\n"
     ]
    }
   ],
   "source": [
    "apple_points_summary2 = rag_summarization_with_points(uri, user, password)\n",
    "print(\"\\nFinal Summary:\")\n",
    "print(apple_points_summary2)\n"
   ]
  },
  {
   "cell_type": "code",
   "execution_count": 19,
   "metadata": {},
   "outputs": [
    {
     "name": "stdout",
     "output_type": "stream",
     "text": [
      "\n",
      "Final Summary:\n",
      "- **Interference with Apple's Security Mechanisms**\n",
      "  - Prohibits circumventing or interfering with Apple's verification, storage, or authentication mechanisms.\n",
      "  - Includes digital signing, digital rights management, and other security mechanisms implemented in or by Apple software, services, or technology.\n",
      "  - Prohibition extends to enabling others to interfere with these mechanisms.\n",
      "\n",
      "- **Components of Apple Software**\n",
      "  - Certain components of the Apple Software, and third-party open source programs included with the Apple Software, may be made available by Apple on its Open Source website.\n",
      "  - The product's AMR encoding and decoding functionality is not licensed for use in cellular communications infrastructure, including base stations.\n",
      "\n",
      "- **For Australian consumers**\n",
      "  - The license does not affect or intend to affect statutory rights under Australian Consumer Law.\n",
      "  - Includes consumer guarantees.\n",
      "\n",
      "- **Apple Products and Services**\n",
      "  - Requires operating software that supports the services, latest version recommended and sometimes required.\n",
      "  - Requires an Apple Account associated with an iCloud account, account must be in good standing with Apple.\n",
      "  - Requires internet access or cellular data access, fees may apply.\n",
      "\n",
      "- **Gracenote Data, Software, and Servers**\n",
      "  - Users agree not to use or exploit these resources.\n",
      "  - Applicable to Supported Devices.\n",
      "  - Terms are incorporated by reference.\n",
      "  - Can be accessed via: Settings > General > Apple.\n",
      "\n",
      "- **Liability and Endorsement**\n",
      "  - Apple, its officers, affiliates, and subsidiaries do not warrant or endorse and will not assume any liability or responsibility to you or any other person.\n",
      "\n",
      "- **Apple Software Changes**\n",
      "  - Provided by Apple, exceptions exist if changes are accompanied.\n",
      "\n",
      "- **Apple Software Support**\n",
      "  - Supported only on Apple-branded hardware, hardware must meet specified system requirements as indicated by Apple.\n",
      "\n",
      "- **Permitted Exceptions**\n",
      "  - Expressly permitted in Section 3, D. Maps of Apple Pay or Wallet.\n",
      "\n",
      "- **Third Party Decisions**\n",
      "  - Decisions made by an issuer, merchant, or other third party in connection with a Supported Card.\n",
      "\n",
      "- **Rewards and Stored Value**\n",
      "  - Accrual or redemption of rewards or stored value in connection with your account - Supported Cards.\n",
      "  - The text mentions the funding or reloading of prepaid Supported Cards.\n",
      "\n",
      "- **Definition of Terms**\n",
      "  - End User Lessee: A lessee who is the ultimate end user.\n",
      "\n",
      "- **License Terms and Conditions**\n",
      "  - The license allows for remote connection from another computer or electronic device (referred to as a \"Device\") to an Apple-branded computer running the Apple Software.\n",
      "\n",
      "- **Apple Eligible Content and iCloud Service**\n",
      "  - Apple Eligible Content can be cached on a Mac Computer (referred to as the \"Home Mac\").\n",
      "  - This can be done through the Screen Sharing feature or any other means.\n",
      "  - The caching process is governed by specific license terms.\n",
      "  - To complete a purchase on a Mac Computer, a Supported Card associated with an active iCloud account is required.\n",
      "  - Users must acknowledge and agree to the terms and conditions of the iCloud service.\n",
      "  - The use of iCloud and its features is subject to the latest terms and conditions.\n",
      "  - The legal aspects of Apple's internet services, including iCloud, can be reviewed at https://www.apple.com/legal/internet-services/icloud/.\n",
      "\n",
      "- **News App Content**\n",
      "  - The Adobe Color Profile software, which is distributed with Apple Software, can also be downloaded from Adobe's website at https://www.adobe.com.\n",
      "\n",
      "- **Device Connection Limitations**\n",
      "  - Only one device can remotely connect at any given time to control the graphical desktop session of the Apple Software.\n",
      "  - This connection can be either direct or indirect.\n",
      "  - The Apple Software must be running and displayed on the Home Mac.\n",
      "\n",
      "- **Home Mac Usage**\n",
      "  - A reasonable number of devices can remotely connect to the Home Mac simultaneously.\n",
      "  - The purpose of this connection is to observe the same graphical desktop session of the Apple Software running on the Home Mac.\n",
      "  - These devices should not control the Apple Software.\n",
      "\n",
      "- **Apple Software Package**\n",
      "  - Apple provides access to certain third-party software as part of the Apple Software package.\n",
      "  - This access may also be provided as an upgrade, update, or supplement to the Apple Software.\n",
      "\n",
      "- **Potential Losses and Damages**\n",
      "  - Loss of profits, corruption or loss of data, failure to transmit or receive any data or information, business interruption, other commercial damages or losses.\n",
      "\n",
      "- **Causes of Potential Losses and Damages**\n",
      "  - Use or inability to use the Apple software or services, use or inability to use any third party software, applications, or services.\n",
      "\n",
      "- **Apple's Obligations**\n",
      "  - Apple is not obligated to provide updates for the modified Apple Software.\n",
      "  - Apple is not required to provide maintenance for the modified Apple Software.\n",
      "  - Apple does not offer warranty for the modified Apple Software.\n",
      "  - Apple does not provide technical or other support for the modified Apple Software.\n",
      "  - Apple does not offer services for the modified Apple Software.\n",
      "\n",
      "- **Restrictions on Apple Software**\n",
      "  - No portion of the Apple Software can be modified.\n",
      "\n",
      "- **Reproduction of Services**\n",
      "  - Services can be reproduced in any form or by any means.\n",
      "\n",
      "- **Content Removal and Disabling**\n",
      "  - Users have the right to remove cached Apple Eligible Content.\n",
      "  - Users can disable the Content Caching Features at any time.\n",
      "\n",
      "- **Proprietary Notices**\n",
      "  - Users agree not to remove, obscure, or alter any proprietary notices.\n",
      "  - This includes trademark and copyright notices affixed to or contained within the Apple Software.\n",
      "\n",
      "- **Automatic Download\n"
     ]
    }
   ],
   "source": [
    "apple_points_summary3 = rag_summarization_with_points(uri, user, password)\n",
    "print(\"\\nFinal Summary:\")\n",
    "print(apple_points_summary3)"
   ]
  },
  {
   "cell_type": "code",
   "execution_count": 22,
   "metadata": {},
   "outputs": [],
   "source": [
    "with open('apple_bullet_points2.txt', \"w\") as file:\n",
    "        file.write(apple_points_summary3)"
=======
    "final_summary = rag_summarization_with_chunks(uri, user, password)\n",
    "# print(\"\\nFinal Summary:\")\n",
    "print(final_summary)"
=======
    "#### Simplification with Lexical Simplification with BERT"
>>>>>>> cca7142 (descriptions added per node for summarization)
>>>>>>> 80e8ab8 (descriptions added per node for summarization)
   ]
  },
  {
   "cell_type": "code",
   "execution_count": 27,
   "metadata": {},
   "outputs": [
    {
     "name": "stderr",
     "output_type": "stream",
     "text": [
      "[nltk_data] Downloading package punkt to /Users/meryjoy/nltk_data...\n",
      "[nltk_data]   Package punkt is already up-to-date!\n",
      "Some weights of the model checkpoint at bert-base-uncased were not used when initializing BertForMaskedLM: ['bert.pooler.dense.bias', 'bert.pooler.dense.weight', 'cls.seq_relationship.bias', 'cls.seq_relationship.weight']\n",
      "- This IS expected if you are initializing BertForMaskedLM from the checkpoint of a model trained on another task or with another architecture (e.g. initializing a BertForSequenceClassification model from a BertForPreTraining model).\n",
      "- This IS NOT expected if you are initializing BertForMaskedLM from the checkpoint of a model that you expect to be exactly identical (initializing a BertForSequenceClassification model from a BertForSequenceClassification model).\n"
     ]
    },
    {
     "name": "stdout",
     "output_type": "stream",
     "text": [
      "Simplified Text: \n",
      "The user shall be deemed to have consent to the terms and conditions , referred to as the agreement. You agree to be bound by the contract under this contract.\n"
     ]
    }
   ],
   "source": [
    "from transformers import AutoModelForMaskedLM, AutoTokenizer\n",
    "from sentence_transformers import SentenceTransformer, util\n",
    "import nltk\n",
    "from nltk.tokenize import sent_tokenize, word_tokenize\n",
    "import numpy as np\n",
    "\n",
    "nltk.download('punkt')\n",
    "\n",
    "# Load models\n",
    "tokenizer = AutoTokenizer.from_pretrained(\"bert-base-uncased\", trust_remote_code=True)\n",
    "model = AutoModelForMaskedLM.from_pretrained(\"bert-base-uncased\", trust_remote_code=True)\n",
    "similarity_model = SentenceTransformer(\"all-MiniLM-L6-v2\")\n",
    "\n",
    "def mask_word(sentence, word):\n",
    "    \"\"\"Replace a word in the sentence with [MASK].\"\"\"\n",
    "    return sentence.replace(word, \"[MASK]\")\n",
    "\n",
    "def generate_candidates(masked_sentence, top_k=5):\n",
    "    \"\"\"Generate replacement candidates using MLM.\"\"\"\n",
    "    inputs = tokenizer(masked_sentence, return_tensors=\"pt\")\n",
    "    outputs = model(**inputs)\n",
    "    logits = outputs.logits\n",
    "\n",
    "    mask_token_index = (inputs.input_ids == tokenizer.mask_token_id).nonzero(as_tuple=True)[1]\n",
    "    mask_logits = logits[0, mask_token_index, :]\n",
    "    top_tokens = mask_logits.topk(top_k, dim=-1).indices[0].tolist()\n",
    "\n",
    "    candidates = [tokenizer.decode([token]).strip() for token in top_tokens]\n",
    "    return candidates\n",
    "\n",
    "def rank_candidates(sentence, word, candidates):\n",
    "    \"\"\"Rank candidates based on semantic similarity and simplicity.\"\"\"\n",
    "    original_embedding = similarity_model.encode(sentence)\n",
    "    rankings = []\n",
    "\n",
    "    for candidate in candidates:\n",
    "        replaced_sentence = sentence.replace(word, candidate)\n",
    "        candidate_embedding = similarity_model.encode(replaced_sentence)\n",
    "        similarity = util.cos_sim(original_embedding, candidate_embedding)[0][0].item()\n",
    "        rankings.append((candidate, similarity))\n",
    "\n",
    "    # Sort by similarity and word length (shorter words preferred for simplicity)\n",
    "    rankings.sort(key=lambda x: (-x[1], len(x[0])))\n",
    "    return [candidate for candidate, _ in rankings]\n",
    "\n",
    "def simplify_text(text, complexity_threshold=5):\n",
    "    \"\"\"Simplify text by replacing complex words.\"\"\"\n",
    "    simplified_sentences = []\n",
    "    sentences = sent_tokenize(text)\n",
    "\n",
    "    for sentence in sentences:\n",
    "        words = word_tokenize(sentence)\n",
    "        for word in words:\n",
    "            if len(word) > complexity_threshold:  # Detect complex words by length\n",
    "                masked_sentence = mask_word(sentence, word)\n",
    "                candidates = generate_candidates(masked_sentence)\n",
    "                ranked_candidates = rank_candidates(sentence, word, candidates)\n",
    "\n",
    "                if ranked_candidates:\n",
    "                    sentence = sentence.replace(word, ranked_candidates[0], 1)\n",
    "        simplified_sentences.append(sentence)\n",
    "\n",
    "    return \" \".join(simplified_sentences)\n",
    "\n",
    "# Example usage\n",
    "text = \"\"\"\n",
    "The user shall be deemed to have consented to the terms and conditions herein referred to as the agreement. \n",
    "You agree to be bound by the obligations under this contract.\n",
    "\"\"\"\n",
    "\n",
    "simplified_text = simplify_text(text)\n",
    "print(\"Simplified Text:\", simplified_text)\n"
   ]
  },
  {
   "cell_type": "markdown",
   "metadata": {},
   "source": [
    "Still work ahead for this part of the project, might be for later, not enough time"
   ]
  },
  {
   "cell_type": "markdown",
   "metadata": {},
   "source": [
    "### Create Cypher Queries with eFLINT notation"
   ]
  },
  {
   "cell_type": "code",
   "execution_count": 46,
   "metadata": {},
   "outputs": [],
   "source": [
    "def classify_and_generate_queries2(json_data, file_path):\n",
    "    nodes = {}\n",
    "    relationships = []\n",
    "\n",
    "    # Enhanced mapping function for entity types based on eFLINT elements\n",
    "    def map_eflint_type(entity_type, entity_name):\n",
    "        # we are not really interested in numbers so we delete those\n",
    "        # in the case of links it is better that we classify them as FACT rather than ORG\n",
    "        if 'http://' in entity_type or 'https://' in entity_name:\n",
    "            return 'FACT'\n",
    "\n",
    "        if entity_type in ['CARDINAL', 'ORDINAL']:\n",
    "            return 'NUMBER'\n",
    "\n",
    "\n",
    "        if entity_type == 'ORG':\n",
    "            if 'terms' in entity_name.lower() or 'conditions' in entity_name.lower() or 'agreement' in entity_name.lower():\n",
    "                return 'DUTY'\n",
    "            else:\n",
    "                return 'ACTOR'\n",
    "\n",
    "        if 'section' in entity_name.lower() or 'section' in entity_type.lower():\n",
    "            return 'SECTION'\n",
    "        \n",
    "        mapping = {\n",
    "            'PERSON': 'ACTOR',\n",
    "            'EVENT': 'EVENT',\n",
    "            'LAW': 'DUTY',\n",
    "            'WORK_OF_ART': 'ACT',\n",
    "            'CONDITION': 'CONDITION',\n",
    "            'DATE': 'DATE',\n",
    "            # they sadly do not appear in the NER we performed but we can nevertheless include them to keep the eFLINT semantics\n",
    "            'CLAIMANT': 'CLAIMANT',\n",
    "            'HOLDER': 'HOLDER'\n",
    "        }\n",
    "        return mapping.get(entity_type, 'FACT') \n",
    "\n",
    "    # entities and relationships\n",
    "    for item in json_data:\n",
    "        entities = item.get('entities', [])\n",
    "        relations = item.get('relations', [])\n",
    "        context_text = item.get('context', '')  # Text surrounding the entities\n",
    "\n",
    "        # Generate section summary for the context\n",
    "        section_summary = summarize_section(context_text) if context_text else \"No summary available\"\n",
    "        \n",
    "        for entity in entities:\n",
    "            entity_name, entity_type = entity[:2]\n",
    "            mapped_type = map_eflint_type(entity_type, entity_name)\n",
    "            node_id = f\"{entity_name.replace(' ', '_')}_{mapped_type}\"\n",
    "            nodes[node_id] = {\n",
    "                'name': entity_name, \n",
    "                'type': mapped_type,\n",
    "                'description': section_summary  # Add the summary as a description\n",
    "            }\n",
    "        \n",
    "        for relation in relations:\n",
    "            src_id = f\"{relation[0].replace(' ', '_')}_{map_eflint_type(entities[0][1], entities[0][0])}\"\n",
    "            tgt_id = f\"{relation[2].replace(' ', '_')}_{map_eflint_type(entities[0][1], entities[0][0])}\"\n",
    "            relationship_type = relation[1].replace(' ', '_').replace('-', '_')\n",
    "            relationships.append((src_id, relationship_type, tgt_id))\n",
    "\n",
    "    node_queries = [\n",
    "        f\"MERGE (n:{data['type']} {{name: '{data['name']}', description: '{data['description']}'}}) SET n.id = '{node_id}'\"\n",
    "        for node_id, data in nodes.items() if data['type'] != 'NUMBER'\n",
    "    ]\n",
    "\n",
    "    relationship_queries = [\n",
    "        f\"MATCH (a), (b) WHERE a.id = '{rel[0]}' AND b.id = '{rel[2]}' \"\n",
    "        f\"MERGE (a)-[:{rel[1]}]->(b)\"\n",
    "        for rel in relationships\n",
    "    ]\n",
    "\n",
    "    queries = node_queries + relationship_queries\n",
    "    # Save queries to a text file\n",
    "    with open(file_path, 'w') as file:\n",
    "        for query in queries:\n",
    "            file.write(query + '\\n')\n",
    "\n",
    "    return queries"
   ]
  },
  {
   "cell_type": "code",
   "execution_count": 51,
   "metadata": {},
   "outputs": [],
   "source": [
    "def classify_and_generate_queries(json_data, file_path):\n",
    "    nodes = {}\n",
    "    relationships = []\n",
    "\n",
    "    # Enhanced mapping function for entity types based on eFLINT elements\n",
    "    def map_eflint_type(entity_type, entity_name):\n",
    "        if 'http://' in entity_type or 'https://' in entity_name:\n",
    "            return 'FACT'\n",
    "        if entity_type in ['CARDINAL', 'ORDINAL']:\n",
    "            return 'NUMBER'\n",
    "        if entity_type == 'ORG':\n",
    "            if 'terms' in entity_name.lower() or 'conditions' in entity_name.lower() or 'agreement' in entity_name.lower():\n",
    "                return 'DUTY'\n",
    "            else:\n",
    "                return 'ACTOR'\n",
    "        if 'section' in entity_name.lower() or 'section' in entity_type.lower():\n",
    "            return 'SECTION'\n",
    "        mapping = {\n",
    "            'PERSON': 'ACTOR',\n",
    "            'EVENT': 'EVENT',\n",
    "            'LAW': 'DUTY',\n",
    "            'WORK_OF_ART': 'ACT',\n",
    "            'CONDITION': 'CONDITION',\n",
    "            'DATE': 'DATE',\n",
    "        }\n",
    "        return mapping.get(entity_type, 'FACT')\n",
    "\n",
    "    # Process summaries and associate them with entities\n",
    "    for item in json_data:\n",
    "        summary = item.get('summary', 'No summary available')\n",
    "        entities = item.get('entities', [])\n",
    "        relations = item.get('relations', [])\n",
    "\n",
    "        for entity in entities:\n",
    "            entity_name, entity_type = entity[:2]\n",
    "            mapped_type = map_eflint_type(entity_type, entity_name)\n",
    "            node_id = f\"{entity_name.replace(' ', '_')}_{mapped_type}\"\n",
    "            if node_id not in nodes:\n",
    "                nodes[node_id] = {\n",
    "                    'name': entity_name,\n",
    "                    'type': mapped_type,\n",
    "                    'descriptions': [summary],  # Start with the current summary\n",
    "                }\n",
    "            else:\n",
    "                nodes[node_id]['descriptions'].append(summary)  # Append additional summaries\n",
    "\n",
    "        # Add relationships if present\n",
    "        for relation in relations:\n",
    "            src_id = f\"{relation[0].replace(' ', '_')}_{map_eflint_type(entity_type, relation[0])}\"\n",
    "            tgt_id = f\"{relation[2].replace(' ', '_')}_{map_eflint_type(entity_type, relation[2])}\"\n",
    "            relationship_type = relation[1].replace(' ', '_').replace('-', '_')\n",
    "            relationships.append((src_id, relationship_type, tgt_id))\n",
    "\n",
    "    # Create Cypher queries for nodes\n",
    "    node_queries = [\n",
    "        f\"\"\"\n",
    "        MERGE (n:{data['type']} {{name: '{data['name']}'}})\n",
    "        SET n.id = '{node_id}', n.descriptions = {json.dumps(data['descriptions'])}\n",
    "        \"\"\"\n",
    "        for node_id, data in nodes.items() if data['type'] != 'NUMBER'\n",
    "    ]\n",
    "\n",
    "    # Create Cypher queries for relationships\n",
    "    relationship_queries = [\n",
    "        f\"\"\"\n",
    "        MATCH (a), (b)\n",
    "        WHERE a.id = '{rel[0]}' AND b.id = '{rel[2]}'\n",
    "        MERGE (a)-[:{rel[1]}]->(b)\n",
    "        \"\"\"\n",
    "        for rel in relationships\n",
    "    ]\n",
    "\n",
    "    queries = node_queries + relationship_queries\n",
    "\n",
    "    # Save queries to a text file\n",
    "    with open(file_path, 'w') as file:\n",
    "        for query in queries:\n",
    "            file.write(query + '\\n')\n",
    "\n",
    "    return queries\n"
   ]
  },
  {
   "cell_type": "code",
   "execution_count": 52,
   "metadata": {},
   "outputs": [],
   "source": [
    "with open('processed_data.json', 'r') as file:\n",
    "    json_data = json.load(file)\n",
    "\n",
    "queries = classify_and_generate_queries(json_data, 'cypher_queries.txt')"
   ]
  },
  {
   "cell_type": "code",
   "execution_count": 55,
   "metadata": {},
   "outputs": [],
   "source": [
    "from neo4j import GraphDatabase\n",
    "\n",
    "def execute_queries(queries, uri, user, password):\n",
    "    driver = GraphDatabase.driver(uri, auth=(user, password))\n",
    "    with driver.session() as session:\n",
    "        for query in queries:\n",
    "            session.run(query)\n",
    "    driver.close()\n",
    "\n",
    "# Example usage\n",
    "uri = \"neo4j://localhost:7687\"\n",
    "user = \"neo4j\"\n",
    "password = \"movies11\"\n",
    "\n",
    "execute_queries(queries, uri, user, password)\n"
   ]
  },
  {
   "cell_type": "markdown",
   "metadata": {},
   "source": [
    "## Other option: \n",
    "### Using Langchain for Queries"
   ]
  },
  {
   "cell_type": "code",
   "execution_count": null,
   "metadata": {},
   "outputs": [],
   "source": [
    "# %pip install langchain_openai\n",
    "# %pip install langchain_experimental\n",
    "# %pip install neo4j langchain-neo4j\n",
    "# %pip install yfiles_jupyter_graphs"
   ]
  },
  {
   "cell_type": "code",
   "execution_count": 16,
   "metadata": {},
   "outputs": [],
   "source": [
    "if not os.getenv(\"NEO4J_URI\"):\n",
    "    print(\"nope\")\n",
    "if not os.getenv(\"NEO4J_USERNAME\"):\n",
    "    print(\"nope\")\n",
    "if not os.getenv(\"NEO4J_PASSWORD\"):\n",
    "    print(\"nope\")"
   ]
  },
  {
   "cell_type": "code",
   "execution_count": 17,
   "metadata": {},
   "outputs": [],
   "source": [
    "from langchain.text_splitter import TokenTextSplitter\n",
    "text_splitter = TokenTextSplitter(chunk_size=512, chunk_overlap=24)\n",
    "tc_document = text_splitter.split_documents(tc_data)"
   ]
  },
  {
   "cell_type": "code",
   "execution_count": 18,
   "metadata": {},
   "outputs": [],
   "source": [
    "from langchain_openai import ChatOpenAI\n",
    "from langchain_experimental.graph_transformers import LLMGraphTransformer\n",
    "\n",
    "llm=ChatOpenAI(temperature=0, model_name=\"gpt-4o-mini\")\n",
    "     \n",
    "llm_transformer = LLMGraphTransformer(llm=llm)\n",
    "\n",
    "graph_documents = llm_transformer.convert_to_graph_documents(tc_document)"
   ]
  },
  {
   "cell_type": "code",
   "execution_count": 19,
   "metadata": {},
   "outputs": [],
   "source": [
    "from langchain_neo4j import Neo4jGraph\n",
    "\n",
    "graph = Neo4jGraph()\n",
    "graph.add_graph_documents(\n",
    "    graph_documents,\n",
    "    baseEntityLabel=True,\n",
    "    include_source=True\n",
    ")"
   ]
  },
  {
   "cell_type": "code",
   "execution_count": 20,
   "metadata": {},
   "outputs": [],
   "source": [
    "from yfiles_jupyter_graphs import GraphWidget\n",
    "from neo4j import GraphDatabase\n",
    "\n",
    "default_cypher = \"MATCH (s)-[r:!MENTIONS]->(t) RETURN s,r,t LIMIT 80\"\n",
    "\n",
    "def showGraph(cypher: str = default_cypher):\n",
    "    # create a neo4j session to run queries\n",
    "    driver = GraphDatabase.driver(\n",
    "        uri = os.environ[\"NEO4J_URI\"],\n",
    "        auth = (os.environ[\"NEO4J_USERNAME\"],\n",
    "                os.environ[\"NEO4J_PASSWORD\"]))\n",
    "    session = driver.session()\n",
    "    widget = GraphWidget(graph = session.run(cypher).graph())\n",
    "    widget.node_label_mapping = 'id'\n",
    "    display(widget)\n",
    "    return widget"
   ]
  },
  {
   "cell_type": "code",
   "execution_count": 21,
   "metadata": {},
   "outputs": [],
   "source": [
    "# showGraph()"
   ]
  },
  {
   "cell_type": "markdown",
   "metadata": {},
   "source": [
    "## Summarization based RAG"
   ]
  },
  {
   "cell_type": "code",
   "execution_count": 22,
   "metadata": {},
   "outputs": [],
   "source": [
    "from langchain_openai import OpenAIEmbeddings\n",
    "from langchain_neo4j import Neo4jVector\n",
    "from langchain_community.vectorstores.neo4j_vector import remove_lucene_chars\n",
    "from langchain.document_loaders import PyPDFLoader\n",
    "from langchain.docstore.document import Document\n",
    "from langchain.prompts import ChatPromptTemplate\n",
    "from langchain_openai import OpenAI\n",
    "from pydantic import BaseModel, Field\n",
    "from typing import Tuple, List, Optional\n",
    "import os\n",
    "import json"
   ]
  },
  {
   "cell_type": "code",
   "execution_count": 23,
   "metadata": {},
   "outputs": [],
   "source": [
    "# Establishing a connection to the Neo4j Graph\n",
    "vector_index = Neo4jVector.from_existing_graph(\n",
    "    OpenAIEmbeddings(),\n",
    "    search_type=\"hybrid\",\n",
    "    node_label=\"Document\",\n",
    "    text_node_properties=[\"text\"],\n",
    "    embedding_node_property=\"embedding\"\n",
    ")"
   ]
  },
  {
   "cell_type": "code",
   "execution_count": 24,
   "metadata": {},
   "outputs": [
    {
     "data": {
      "text/plain": [
       "[]"
      ]
     },
     "execution_count": 24,
     "metadata": {},
     "output_type": "execute_result"
    }
   ],
   "source": [
    "# Define the graph query for fulltext index if not already existing\n",
    "graph.query(\"CREATE FULLTEXT INDEX entity IF NOT EXISTS FOR (e:__Entity__) ON EACH [e.id]\")"
   ]
  },
  {
   "cell_type": "code",
   "execution_count": 25,
   "metadata": {},
   "outputs": [],
   "source": [
    "# BaseModel for extracting entities\n",
    "class Entities(BaseModel):\n",
    "    \"\"\"Identifying information about entities.\"\"\"\n",
    "    names: List[str] = Field(\n",
    "        ...,\n",
    "        description=\"All the person, organization, or business entities that appear in the text\",\n",
    "    )\n",
    "\n",
    "prompt = ChatPromptTemplate.from_messages(\n",
    "    [\n",
    "        (\"system\", \"Extracting key entities and information for summarization.\"),\n",
    "        (\"human\", \"Summarize the following content using key entities and relationships: {context}\"),\n",
    "    ]\n",
    ")\n",
    "\n",
    "llm = OpenAI() "
   ]
  },
  {
   "cell_type": "code",
   "execution_count": null,
   "metadata": {},
   "outputs": [],
   "source": [
    "# function to generate fulltext search query\n",
    "def generate_full_text_query(input: str) -> str:\n",
    "    full_text_query = \"\"\n",
    "    words = [el for el in remove_lucene_chars(input).split() if el]\n",
    "    for word in words[:-1]:\n",
    "        full_text_query += f\"{word}~2 AND\"\n",
    "    full_text_query += f\"{words[-1]}~2\"\n",
    "    return full_text_query.strip()\n",
    "\n",
    "# very basic retriever\n",
    "def structured_retriever(context: str) -> str:\n",
    "    result = \"\"\n",
    "    entities = entity_chain.invoke({\"context\": context})\n",
    "    for entity in entities.names:\n",
    "        response = graph.query(\n",
    "            \"\"\"CALL db.index.fulltext.queryNodes('entity', $query, {limit:2})\n",
    "            YIELD node,score\n",
    "            CALL {\n",
    "                WITH node\n",
    "                MATCH (node)-[r:!MENTIONS]->(neighbor)\n",
    "                RETURN node.id + ' - ' + type(r) + ' -> ' + neighbor.id AS output\n",
    "                UNION ALL\n",
    "                WITH node\n",
    "                MATCH (node)<-[r:!MENTIONS]-(neighbor)\n",
    "                RETURN neighbor.id + ' - ' + type(r) + ' -> ' + node.id AS output\n",
    "            }\n",
    "            RETURN output LIMIT 50\n",
    "            \"\"\",\n",
    "            {\"query\": generate_full_text_query(entity)},\n",
    "        )\n",
    "        result += \"\\n\".join([el['output'] for el in response])\n",
    "    return result"
   ]
  }
 ],
 "metadata": {
  "kernelspec": {
   "display_name": "Python 3",
   "language": "python",
   "name": "python3"
  },
  "language_info": {
   "codemirror_mode": {
    "name": "ipython",
    "version": 3
   },
   "file_extension": ".py",
   "mimetype": "text/x-python",
   "name": "python",
   "nbconvert_exporter": "python",
   "pygments_lexer": "ipython3",
   "version": "3.9.21"
  }
 },
 "nbformat": 4,
 "nbformat_minor": 4
}
