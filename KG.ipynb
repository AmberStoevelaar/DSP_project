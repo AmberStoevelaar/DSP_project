{
 "cells": [
  {
   "cell_type": "code",
   "execution_count": 2,
   "metadata": {},
   "outputs": [
    {
     "name": "stdout",
     "output_type": "stream",
     "text": [
      "3.9.21\n",
      "\u001b[33mDEPRECATION: Configuring installation scheme with distutils config files is deprecated and will no longer work in the near future. If you are using a Homebrew or Linuxbrew Python, please see discussion at https://github.com/Homebrew/homebrew-core/issues/76621\u001b[0m\u001b[33m\n",
      "\u001b[0mRequirement already satisfied: langchain in /usr/local/lib/python3.9/site-packages (0.3.15)\n",
      "Requirement already satisfied: PyYAML>=5.3 in /usr/local/lib/python3.9/site-packages (from langchain) (6.0.1)\n",
      "Requirement already satisfied: SQLAlchemy<3,>=1.4 in /usr/local/lib/python3.9/site-packages (from langchain) (2.0.37)\n",
      "Requirement already satisfied: aiohttp<4.0.0,>=3.8.3 in /usr/local/lib/python3.9/site-packages (from langchain) (3.11.11)\n",
      "Requirement already satisfied: async-timeout<5.0.0,>=4.0.0 in /usr/local/lib/python3.9/site-packages (from langchain) (4.0.3)\n",
      "Requirement already satisfied: langchain-core<0.4.0,>=0.3.31 in /usr/local/lib/python3.9/site-packages (from langchain) (0.3.31)\n",
      "Requirement already satisfied: langchain-text-splitters<0.4.0,>=0.3.3 in /usr/local/lib/python3.9/site-packages (from langchain) (0.3.5)\n",
      "Requirement already satisfied: langsmith<0.4,>=0.1.17 in /usr/local/lib/python3.9/site-packages (from langchain) (0.2.11)\n",
      "Requirement already satisfied: numpy<2,>=1.22.4 in /usr/local/lib/python3.9/site-packages (from langchain) (1.24.4)\n",
      "Requirement already satisfied: pydantic<3.0.0,>=2.7.4 in /usr/local/lib/python3.9/site-packages (from langchain) (2.10.5)\n",
      "Requirement already satisfied: requests<3,>=2 in /usr/local/lib/python3.9/site-packages (from langchain) (2.28.2)\n",
      "Requirement already satisfied: tenacity!=8.4.0,<10,>=8.1.0 in /usr/local/lib/python3.9/site-packages (from langchain) (9.0.0)\n",
      "Requirement already satisfied: aiohappyeyeballs>=2.3.0 in /usr/local/lib/python3.9/site-packages (from aiohttp<4.0.0,>=3.8.3->langchain) (2.4.4)\n",
      "Requirement already satisfied: aiosignal>=1.1.2 in /usr/local/lib/python3.9/site-packages (from aiohttp<4.0.0,>=3.8.3->langchain) (1.3.2)\n",
      "Requirement already satisfied: attrs>=17.3.0 in /usr/local/lib/python3.9/site-packages (from aiohttp<4.0.0,>=3.8.3->langchain) (21.4.0)\n",
      "Requirement already satisfied: frozenlist>=1.1.1 in /usr/local/lib/python3.9/site-packages (from aiohttp<4.0.0,>=3.8.3->langchain) (1.5.0)\n",
      "Requirement already satisfied: multidict<7.0,>=4.5 in /usr/local/lib/python3.9/site-packages (from aiohttp<4.0.0,>=3.8.3->langchain) (6.1.0)\n",
      "Requirement already satisfied: propcache>=0.2.0 in /usr/local/lib/python3.9/site-packages (from aiohttp<4.0.0,>=3.8.3->langchain) (0.2.1)\n",
      "Requirement already satisfied: yarl<2.0,>=1.17.0 in /usr/local/lib/python3.9/site-packages (from aiohttp<4.0.0,>=3.8.3->langchain) (1.18.3)\n",
      "Requirement already satisfied: jsonpatch<2.0,>=1.33 in /usr/local/lib/python3.9/site-packages (from langchain-core<0.4.0,>=0.3.31->langchain) (1.33)\n",
      "Requirement already satisfied: packaging<25,>=23.2 in /usr/local/lib/python3.9/site-packages (from langchain-core<0.4.0,>=0.3.31->langchain) (24.2)\n",
      "Requirement already satisfied: typing-extensions>=4.7 in /usr/local/lib/python3.9/site-packages (from langchain-core<0.4.0,>=0.3.31->langchain) (4.12.2)\n",
      "Requirement already satisfied: httpx<1,>=0.23.0 in /usr/local/lib/python3.9/site-packages (from langsmith<0.4,>=0.1.17->langchain) (0.28.1)\n",
      "Requirement already satisfied: orjson<4.0.0,>=3.9.14 in /usr/local/lib/python3.9/site-packages (from langsmith<0.4,>=0.1.17->langchain) (3.10.14)\n",
      "Requirement already satisfied: requests-toolbelt<2.0.0,>=1.0.0 in /usr/local/lib/python3.9/site-packages (from langsmith<0.4,>=0.1.17->langchain) (1.0.0)\n",
      "Requirement already satisfied: annotated-types>=0.6.0 in /usr/local/lib/python3.9/site-packages (from pydantic<3.0.0,>=2.7.4->langchain) (0.7.0)\n",
      "Requirement already satisfied: pydantic-core==2.27.2 in /usr/local/lib/python3.9/site-packages (from pydantic<3.0.0,>=2.7.4->langchain) (2.27.2)\n",
      "Requirement already satisfied: charset-normalizer<4,>=2 in /usr/local/lib/python3.9/site-packages (from requests<3,>=2->langchain) (3.1.0)\n",
      "Requirement already satisfied: idna<4,>=2.5 in /usr/local/lib/python3.9/site-packages (from requests<3,>=2->langchain) (3.4)\n",
      "Requirement already satisfied: urllib3<1.27,>=1.21.1 in /usr/local/lib/python3.9/site-packages (from requests<3,>=2->langchain) (1.26.15)\n",
      "Requirement already satisfied: certifi>=2017.4.17 in /usr/local/lib/python3.9/site-packages (from requests<3,>=2->langchain) (2022.12.7)\n",
      "Requirement already satisfied: greenlet!=0.4.17 in /usr/local/lib/python3.9/site-packages (from SQLAlchemy<3,>=1.4->langchain) (3.1.1)\n",
      "Requirement already satisfied: anyio in /usr/local/lib/python3.9/site-packages (from httpx<1,>=0.23.0->langsmith<0.4,>=0.1.17->langchain) (4.8.0)\n",
      "Requirement already satisfied: httpcore==1.* in /usr/local/lib/python3.9/site-packages (from httpx<1,>=0.23.0->langsmith<0.4,>=0.1.17->langchain) (1.0.7)\n",
      "Requirement already satisfied: h11<0.15,>=0.13 in /usr/local/lib/python3.9/site-packages (from httpcore==1.*->httpx<1,>=0.23.0->langsmith<0.4,>=0.1.17->langchain) (0.14.0)\n",
      "Requirement already satisfied: jsonpointer>=1.9 in /usr/local/lib/python3.9/site-packages (from jsonpatch<2.0,>=1.33->langchain-core<0.4.0,>=0.3.31->langchain) (3.0.0)\n",
      "Requirement already satisfied: exceptiongroup>=1.0.2 in /usr/local/lib/python3.9/site-packages (from anyio->httpx<1,>=0.23.0->langsmith<0.4,>=0.1.17->langchain) (1.2.2)\n",
      "Requirement already satisfied: sniffio>=1.1 in /usr/local/lib/python3.9/site-packages (from anyio->httpx<1,>=0.23.0->langsmith<0.4,>=0.1.17->langchain) (1.3.1)\n",
      "\u001b[33mWARNING: Error parsing dependencies of bleach: Expected matching RIGHT_PARENTHESIS for LEFT_PARENTHESIS, after version specifier\n",
      "    tinycss2 (>=1.1.0<1.2) ; extra == 'css'\n",
      "             ~~~~~~~~^\u001b[0m\u001b[33m\n",
      "\u001b[0m\u001b[33mDEPRECATION: Configuring installation scheme with distutils config files is deprecated and will no longer work in the near future. If you are using a Homebrew or Linuxbrew Python, please see discussion at https://github.com/Homebrew/homebrew-core/issues/76621\u001b[0m\u001b[33m\n",
      "\u001b[0mNote: you may need to restart the kernel to use updated packages.\n",
      "\u001b[33mDEPRECATION: Configuring installation scheme with distutils config files is deprecated and will no longer work in the near future. If you are using a Homebrew or Linuxbrew Python, please see discussion at https://github.com/Homebrew/homebrew-core/issues/76621\u001b[0m\u001b[33m\n",
      "\u001b[0mRequirement already satisfied: langchain-community in /usr/local/lib/python3.9/site-packages (0.3.15)\n",
      "Requirement already satisfied: PyYAML>=5.3 in /usr/local/lib/python3.9/site-packages (from langchain-community) (6.0.1)\n",
      "Requirement already satisfied: SQLAlchemy<3,>=1.4 in /usr/local/lib/python3.9/site-packages (from langchain-community) (2.0.37)\n",
      "Requirement already satisfied: aiohttp<4.0.0,>=3.8.3 in /usr/local/lib/python3.9/site-packages (from langchain-community) (3.11.11)\n",
      "Requirement already satisfied: dataclasses-json<0.7,>=0.5.7 in /usr/local/lib/python3.9/site-packages (from langchain-community) (0.6.7)\n",
      "Requirement already satisfied: httpx-sse<0.5.0,>=0.4.0 in /usr/local/lib/python3.9/site-packages (from langchain-community) (0.4.0)\n",
      "Requirement already satisfied: langchain<0.4.0,>=0.3.15 in /usr/local/lib/python3.9/site-packages (from langchain-community) (0.3.15)\n",
      "Requirement already satisfied: langchain-core<0.4.0,>=0.3.31 in /usr/local/lib/python3.9/site-packages (from langchain-community) (0.3.31)\n",
      "Requirement already satisfied: langsmith<0.4,>=0.1.125 in /usr/local/lib/python3.9/site-packages (from langchain-community) (0.2.11)\n",
      "Requirement already satisfied: numpy<2,>=1.22.4 in /usr/local/lib/python3.9/site-packages (from langchain-community) (1.24.4)\n",
      "Requirement already satisfied: pydantic-settings<3.0.0,>=2.4.0 in /usr/local/lib/python3.9/site-packages (from langchain-community) (2.7.1)\n",
      "Requirement already satisfied: requests<3,>=2 in /usr/local/lib/python3.9/site-packages (from langchain-community) (2.28.2)\n",
      "Requirement already satisfied: tenacity!=8.4.0,<10,>=8.1.0 in /usr/local/lib/python3.9/site-packages (from langchain-community) (9.0.0)\n",
      "Requirement already satisfied: aiohappyeyeballs>=2.3.0 in /usr/local/lib/python3.9/site-packages (from aiohttp<4.0.0,>=3.8.3->langchain-community) (2.4.4)\n",
      "Requirement already satisfied: aiosignal>=1.1.2 in /usr/local/lib/python3.9/site-packages (from aiohttp<4.0.0,>=3.8.3->langchain-community) (1.3.2)\n",
      "Requirement already satisfied: async-timeout<6.0,>=4.0 in /usr/local/lib/python3.9/site-packages (from aiohttp<4.0.0,>=3.8.3->langchain-community) (4.0.3)\n",
      "Requirement already satisfied: attrs>=17.3.0 in /usr/local/lib/python3.9/site-packages (from aiohttp<4.0.0,>=3.8.3->langchain-community) (21.4.0)\n",
      "Requirement already satisfied: frozenlist>=1.1.1 in /usr/local/lib/python3.9/site-packages (from aiohttp<4.0.0,>=3.8.3->langchain-community) (1.5.0)\n",
      "Requirement already satisfied: multidict<7.0,>=4.5 in /usr/local/lib/python3.9/site-packages (from aiohttp<4.0.0,>=3.8.3->langchain-community) (6.1.0)\n",
      "Requirement already satisfied: propcache>=0.2.0 in /usr/local/lib/python3.9/site-packages (from aiohttp<4.0.0,>=3.8.3->langchain-community) (0.2.1)\n",
      "Requirement already satisfied: yarl<2.0,>=1.17.0 in /usr/local/lib/python3.9/site-packages (from aiohttp<4.0.0,>=3.8.3->langchain-community) (1.18.3)\n",
      "Requirement already satisfied: marshmallow<4.0.0,>=3.18.0 in /usr/local/lib/python3.9/site-packages (from dataclasses-json<0.7,>=0.5.7->langchain-community) (3.25.1)\n",
      "Requirement already satisfied: typing-inspect<1,>=0.4.0 in /usr/local/lib/python3.9/site-packages (from dataclasses-json<0.7,>=0.5.7->langchain-community) (0.9.0)\n",
      "Requirement already satisfied: langchain-text-splitters<0.4.0,>=0.3.3 in /usr/local/lib/python3.9/site-packages (from langchain<0.4.0,>=0.3.15->langchain-community) (0.3.5)\n",
      "Requirement already satisfied: pydantic<3.0.0,>=2.7.4 in /usr/local/lib/python3.9/site-packages (from langchain<0.4.0,>=0.3.15->langchain-community) (2.10.5)\n",
      "Requirement already satisfied: jsonpatch<2.0,>=1.33 in /usr/local/lib/python3.9/site-packages (from langchain-core<0.4.0,>=0.3.31->langchain-community) (1.33)\n",
      "Requirement already satisfied: packaging<25,>=23.2 in /usr/local/lib/python3.9/site-packages (from langchain-core<0.4.0,>=0.3.31->langchain-community) (24.2)\n",
      "Requirement already satisfied: typing-extensions>=4.7 in /usr/local/lib/python3.9/site-packages (from langchain-core<0.4.0,>=0.3.31->langchain-community) (4.12.2)\n",
      "Requirement already satisfied: httpx<1,>=0.23.0 in /usr/local/lib/python3.9/site-packages (from langsmith<0.4,>=0.1.125->langchain-community) (0.28.1)\n",
      "Requirement already satisfied: orjson<4.0.0,>=3.9.14 in /usr/local/lib/python3.9/site-packages (from langsmith<0.4,>=0.1.125->langchain-community) (3.10.14)\n",
      "Requirement already satisfied: requests-toolbelt<2.0.0,>=1.0.0 in /usr/local/lib/python3.9/site-packages (from langsmith<0.4,>=0.1.125->langchain-community) (1.0.0)\n",
      "Requirement already satisfied: python-dotenv>=0.21.0 in /usr/local/lib/python3.9/site-packages (from pydantic-settings<3.0.0,>=2.4.0->langchain-community) (1.0.1)\n",
      "Requirement already satisfied: charset-normalizer<4,>=2 in /usr/local/lib/python3.9/site-packages (from requests<3,>=2->langchain-community) (3.1.0)\n",
      "Requirement already satisfied: idna<4,>=2.5 in /usr/local/lib/python3.9/site-packages (from requests<3,>=2->langchain-community) (3.4)\n",
      "Requirement already satisfied: urllib3<1.27,>=1.21.1 in /usr/local/lib/python3.9/site-packages (from requests<3,>=2->langchain-community) (1.26.15)\n",
      "Requirement already satisfied: certifi>=2017.4.17 in /usr/local/lib/python3.9/site-packages (from requests<3,>=2->langchain-community) (2022.12.7)\n",
      "Requirement already satisfied: greenlet!=0.4.17 in /usr/local/lib/python3.9/site-packages (from SQLAlchemy<3,>=1.4->langchain-community) (3.1.1)\n",
      "Requirement already satisfied: anyio in /usr/local/lib/python3.9/site-packages (from httpx<1,>=0.23.0->langsmith<0.4,>=0.1.125->langchain-community) (4.8.0)\n",
      "Requirement already satisfied: httpcore==1.* in /usr/local/lib/python3.9/site-packages (from httpx<1,>=0.23.0->langsmith<0.4,>=0.1.125->langchain-community) (1.0.7)\n",
      "Requirement already satisfied: h11<0.15,>=0.13 in /usr/local/lib/python3.9/site-packages (from httpcore==1.*->httpx<1,>=0.23.0->langsmith<0.4,>=0.1.125->langchain-community) (0.14.0)\n",
      "Requirement already satisfied: jsonpointer>=1.9 in /usr/local/lib/python3.9/site-packages (from jsonpatch<2.0,>=1.33->langchain-core<0.4.0,>=0.3.31->langchain-community) (3.0.0)\n",
      "Requirement already satisfied: annotated-types>=0.6.0 in /usr/local/lib/python3.9/site-packages (from pydantic<3.0.0,>=2.7.4->langchain<0.4.0,>=0.3.15->langchain-community) (0.7.0)\n",
      "Requirement already satisfied: pydantic-core==2.27.2 in /usr/local/lib/python3.9/site-packages (from pydantic<3.0.0,>=2.7.4->langchain<0.4.0,>=0.3.15->langchain-community) (2.27.2)\n",
      "Requirement already satisfied: mypy-extensions>=0.3.0 in /usr/local/lib/python3.9/site-packages (from typing-inspect<1,>=0.4.0->dataclasses-json<0.7,>=0.5.7->langchain-community) (1.0.0)\n",
      "Requirement already satisfied: exceptiongroup>=1.0.2 in /usr/local/lib/python3.9/site-packages (from anyio->httpx<1,>=0.23.0->langsmith<0.4,>=0.1.125->langchain-community) (1.2.2)\n",
      "Requirement already satisfied: sniffio>=1.1 in /usr/local/lib/python3.9/site-packages (from anyio->httpx<1,>=0.23.0->langsmith<0.4,>=0.1.125->langchain-community) (1.3.1)\n",
      "\u001b[33mWARNING: Error parsing dependencies of bleach: Expected matching RIGHT_PARENTHESIS for LEFT_PARENTHESIS, after version specifier\n",
      "    tinycss2 (>=1.1.0<1.2) ; extra == 'css'\n",
      "             ~~~~~~~~^\u001b[0m\u001b[33m\n",
      "\u001b[0m\u001b[33mDEPRECATION: Configuring installation scheme with distutils config files is deprecated and will no longer work in the near future. If you are using a Homebrew or Linuxbrew Python, please see discussion at https://github.com/Homebrew/homebrew-core/issues/76621\u001b[0m\u001b[33m\n",
      "\u001b[0mNote: you may need to restart the kernel to use updated packages.\n",
      "\u001b[33mDEPRECATION: Configuring installation scheme with distutils config files is deprecated and will no longer work in the near future. If you are using a Homebrew or Linuxbrew Python, please see discussion at https://github.com/Homebrew/homebrew-core/issues/76621\u001b[0m\u001b[33m\n",
      "\u001b[0mRequirement already satisfied: pypdf in /usr/local/lib/python3.9/site-packages (5.1.0)\n",
      "Requirement already satisfied: typing_extensions>=4.0 in /usr/local/lib/python3.9/site-packages (from pypdf) (4.12.2)\n",
      "\u001b[33mWARNING: Error parsing dependencies of bleach: Expected matching RIGHT_PARENTHESIS for LEFT_PARENTHESIS, after version specifier\n",
      "    tinycss2 (>=1.1.0<1.2) ; extra == 'css'\n",
      "             ~~~~~~~~^\u001b[0m\u001b[33m\n",
      "\u001b[0m\u001b[33mDEPRECATION: Configuring installation scheme with distutils config files is deprecated and will no longer work in the near future. If you are using a Homebrew or Linuxbrew Python, please see discussion at https://github.com/Homebrew/homebrew-core/issues/76621\u001b[0m\u001b[33m\n",
      "\u001b[0mNote: you may need to restart the kernel to use updated packages.\n",
      "\u001b[33mDEPRECATION: Configuring installation scheme with distutils config files is deprecated and will no longer work in the near future. If you are using a Homebrew or Linuxbrew Python, please see discussion at https://github.com/Homebrew/homebrew-core/issues/76621\u001b[0m\u001b[33m\n",
      "\u001b[0mRequirement already satisfied: spacy in /usr/local/lib/python3.9/site-packages (3.8.3)\n",
      "Requirement already satisfied: spacy-legacy<3.1.0,>=3.0.11 in /usr/local/lib/python3.9/site-packages (from spacy) (3.0.12)\n",
      "Requirement already satisfied: spacy-loggers<2.0.0,>=1.0.0 in /usr/local/lib/python3.9/site-packages (from spacy) (1.0.5)\n",
      "Requirement already satisfied: murmurhash<1.1.0,>=0.28.0 in /usr/local/lib/python3.9/site-packages (from spacy) (1.0.12)\n",
      "Requirement already satisfied: cymem<2.1.0,>=2.0.2 in /usr/local/lib/python3.9/site-packages (from spacy) (2.0.11)\n",
      "Requirement already satisfied: preshed<3.1.0,>=3.0.2 in /usr/local/lib/python3.9/site-packages (from spacy) (3.0.9)\n",
      "Requirement already satisfied: thinc<8.4.0,>=8.3.0 in /usr/local/lib/python3.9/site-packages (from spacy) (8.3.4)\n",
      "Requirement already satisfied: wasabi<1.2.0,>=0.9.1 in /usr/local/lib/python3.9/site-packages (from spacy) (1.1.3)\n",
      "Requirement already satisfied: srsly<3.0.0,>=2.4.3 in /usr/local/lib/python3.9/site-packages (from spacy) (2.5.1)\n",
      "Requirement already satisfied: catalogue<2.1.0,>=2.0.6 in /usr/local/lib/python3.9/site-packages (from spacy) (2.0.10)\n",
      "Requirement already satisfied: weasel<0.5.0,>=0.1.0 in /usr/local/lib/python3.9/site-packages (from spacy) (0.4.1)\n",
      "Requirement already satisfied: typer<1.0.0,>=0.3.0 in /usr/local/lib/python3.9/site-packages (from spacy) (0.15.1)\n",
      "Requirement already satisfied: tqdm<5.0.0,>=4.38.0 in /usr/local/lib/python3.9/site-packages (from spacy) (4.64.1)\n",
      "Requirement already satisfied: numpy>=1.19.0 in /usr/local/lib/python3.9/site-packages (from spacy) (1.24.4)\n",
      "Requirement already satisfied: requests<3.0.0,>=2.13.0 in /usr/local/lib/python3.9/site-packages (from spacy) (2.28.2)\n",
      "Requirement already satisfied: pydantic!=1.8,!=1.8.1,<3.0.0,>=1.7.4 in /usr/local/lib/python3.9/site-packages (from spacy) (2.10.5)\n",
      "Requirement already satisfied: jinja2 in /usr/local/lib/python3.9/site-packages (from spacy) (3.1.2)\n",
      "Requirement already satisfied: setuptools in /usr/local/lib/python3.9/site-packages (from spacy) (75.6.0)\n",
      "Requirement already satisfied: packaging>=20.0 in /usr/local/lib/python3.9/site-packages (from spacy) (24.2)\n",
      "Requirement already satisfied: langcodes<4.0.0,>=3.2.0 in /usr/local/lib/python3.9/site-packages (from spacy) (3.5.0)\n",
      "Requirement already satisfied: language-data>=1.2 in /usr/local/lib/python3.9/site-packages (from langcodes<4.0.0,>=3.2.0->spacy) (1.3.0)\n",
      "Requirement already satisfied: annotated-types>=0.6.0 in /usr/local/lib/python3.9/site-packages (from pydantic!=1.8,!=1.8.1,<3.0.0,>=1.7.4->spacy) (0.7.0)\n",
      "Requirement already satisfied: pydantic-core==2.27.2 in /usr/local/lib/python3.9/site-packages (from pydantic!=1.8,!=1.8.1,<3.0.0,>=1.7.4->spacy) (2.27.2)\n",
      "Requirement already satisfied: typing-extensions>=4.12.2 in /usr/local/lib/python3.9/site-packages (from pydantic!=1.8,!=1.8.1,<3.0.0,>=1.7.4->spacy) (4.12.2)\n",
      "Requirement already satisfied: charset-normalizer<4,>=2 in /usr/local/lib/python3.9/site-packages (from requests<3.0.0,>=2.13.0->spacy) (3.1.0)\n",
      "Requirement already satisfied: idna<4,>=2.5 in /usr/local/lib/python3.9/site-packages (from requests<3.0.0,>=2.13.0->spacy) (3.4)\n",
      "Requirement already satisfied: urllib3<1.27,>=1.21.1 in /usr/local/lib/python3.9/site-packages (from requests<3.0.0,>=2.13.0->spacy) (1.26.15)\n",
      "Requirement already satisfied: certifi>=2017.4.17 in /usr/local/lib/python3.9/site-packages (from requests<3.0.0,>=2.13.0->spacy) (2022.12.7)\n",
      "Requirement already satisfied: blis<1.3.0,>=1.2.0 in /usr/local/lib/python3.9/site-packages (from thinc<8.4.0,>=8.3.0->spacy) (1.2.0)\n",
      "Requirement already satisfied: confection<1.0.0,>=0.0.1 in /usr/local/lib/python3.9/site-packages (from thinc<8.4.0,>=8.3.0->spacy) (0.1.5)\n",
      "Requirement already satisfied: click>=8.0.0 in /usr/local/lib/python3.9/site-packages (from typer<1.0.0,>=0.3.0->spacy) (8.1.3)\n",
      "Requirement already satisfied: shellingham>=1.3.0 in /usr/local/lib/python3.9/site-packages (from typer<1.0.0,>=0.3.0->spacy) (1.5.4)\n",
      "Requirement already satisfied: rich>=10.11.0 in /usr/local/lib/python3.9/site-packages (from typer<1.0.0,>=0.3.0->spacy) (13.9.4)\n",
      "Requirement already satisfied: cloudpathlib<1.0.0,>=0.7.0 in /usr/local/lib/python3.9/site-packages (from weasel<0.5.0,>=0.1.0->spacy) (0.20.0)\n",
      "Requirement already satisfied: smart-open<8.0.0,>=5.2.1 in /usr/local/lib/python3.9/site-packages (from weasel<0.5.0,>=0.1.0->spacy) (6.4.0)\n",
      "Requirement already satisfied: MarkupSafe>=2.0 in /usr/local/lib/python3.9/site-packages (from jinja2->spacy) (2.1.1)\n",
      "Requirement already satisfied: marisa-trie>=1.1.0 in /usr/local/lib/python3.9/site-packages (from language-data>=1.2->langcodes<4.0.0,>=3.2.0->spacy) (1.2.1)\n",
      "Requirement already satisfied: markdown-it-py>=2.2.0 in /usr/local/lib/python3.9/site-packages (from rich>=10.11.0->typer<1.0.0,>=0.3.0->spacy) (3.0.0)\n",
      "Requirement already satisfied: pygments<3.0.0,>=2.13.0 in /Users/amber/Library/Python/3.9/lib/python/site-packages (from rich>=10.11.0->typer<1.0.0,>=0.3.0->spacy) (2.14.0)\n",
      "Requirement already satisfied: mdurl~=0.1 in /usr/local/lib/python3.9/site-packages (from markdown-it-py>=2.2.0->rich>=10.11.0->typer<1.0.0,>=0.3.0->spacy) (0.1.2)\n",
      "\u001b[33mWARNING: Error parsing dependencies of bleach: Expected matching RIGHT_PARENTHESIS for LEFT_PARENTHESIS, after version specifier\n",
      "    tinycss2 (>=1.1.0<1.2) ; extra == 'css'\n",
      "             ~~~~~~~~^\u001b[0m\u001b[33m\n",
      "\u001b[0m\u001b[33mDEPRECATION: Configuring installation scheme with distutils config files is deprecated and will no longer work in the near future. If you are using a Homebrew or Linuxbrew Python, please see discussion at https://github.com/Homebrew/homebrew-core/issues/76621\u001b[0m\u001b[33m\n",
      "\u001b[0mNote: you may need to restart the kernel to use updated packages.\n",
      "\u001b[33mDEPRECATION: Configuring installation scheme with distutils config files is deprecated and will no longer work in the near future. If you are using a Homebrew or Linuxbrew Python, please see discussion at https://github.com/Homebrew/homebrew-core/issues/76621\u001b[0m\u001b[33m\n",
      "\u001b[0mRequirement already satisfied: spacy-llm in /usr/local/lib/python3.9/site-packages (0.7.3)\n",
      "Requirement already satisfied: spacy<4.0,>=3.5 in /usr/local/lib/python3.9/site-packages (from spacy-llm) (3.8.3)\n",
      "Requirement already satisfied: jinja2 in /usr/local/lib/python3.9/site-packages (from spacy-llm) (3.1.2)\n",
      "Requirement already satisfied: confection<1.0.0,>=0.1.3 in /usr/local/lib/python3.9/site-packages (from spacy-llm) (0.1.5)\n",
      "Requirement already satisfied: pydantic!=1.8,!=1.8.1,<3.0.0,>=1.7.4 in /usr/local/lib/python3.9/site-packages (from confection<1.0.0,>=0.1.3->spacy-llm) (2.10.5)\n",
      "Requirement already satisfied: srsly<3.0.0,>=2.4.0 in /usr/local/lib/python3.9/site-packages (from confection<1.0.0,>=0.1.3->spacy-llm) (2.5.1)\n",
      "Requirement already satisfied: spacy-legacy<3.1.0,>=3.0.11 in /usr/local/lib/python3.9/site-packages (from spacy<4.0,>=3.5->spacy-llm) (3.0.12)\n",
      "Requirement already satisfied: spacy-loggers<2.0.0,>=1.0.0 in /usr/local/lib/python3.9/site-packages (from spacy<4.0,>=3.5->spacy-llm) (1.0.5)\n",
      "Requirement already satisfied: murmurhash<1.1.0,>=0.28.0 in /usr/local/lib/python3.9/site-packages (from spacy<4.0,>=3.5->spacy-llm) (1.0.12)\n",
      "Requirement already satisfied: cymem<2.1.0,>=2.0.2 in /usr/local/lib/python3.9/site-packages (from spacy<4.0,>=3.5->spacy-llm) (2.0.11)\n",
      "Requirement already satisfied: preshed<3.1.0,>=3.0.2 in /usr/local/lib/python3.9/site-packages (from spacy<4.0,>=3.5->spacy-llm) (3.0.9)\n",
      "Requirement already satisfied: thinc<8.4.0,>=8.3.0 in /usr/local/lib/python3.9/site-packages (from spacy<4.0,>=3.5->spacy-llm) (8.3.4)\n",
      "Requirement already satisfied: wasabi<1.2.0,>=0.9.1 in /usr/local/lib/python3.9/site-packages (from spacy<4.0,>=3.5->spacy-llm) (1.1.3)\n",
      "Requirement already satisfied: catalogue<2.1.0,>=2.0.6 in /usr/local/lib/python3.9/site-packages (from spacy<4.0,>=3.5->spacy-llm) (2.0.10)\n",
      "Requirement already satisfied: weasel<0.5.0,>=0.1.0 in /usr/local/lib/python3.9/site-packages (from spacy<4.0,>=3.5->spacy-llm) (0.4.1)\n",
      "Requirement already satisfied: typer<1.0.0,>=0.3.0 in /usr/local/lib/python3.9/site-packages (from spacy<4.0,>=3.5->spacy-llm) (0.15.1)\n",
      "Requirement already satisfied: tqdm<5.0.0,>=4.38.0 in /usr/local/lib/python3.9/site-packages (from spacy<4.0,>=3.5->spacy-llm) (4.64.1)\n",
      "Requirement already satisfied: numpy>=1.19.0 in /usr/local/lib/python3.9/site-packages (from spacy<4.0,>=3.5->spacy-llm) (1.24.4)\n",
      "Requirement already satisfied: requests<3.0.0,>=2.13.0 in /usr/local/lib/python3.9/site-packages (from spacy<4.0,>=3.5->spacy-llm) (2.28.2)\n",
      "Requirement already satisfied: setuptools in /usr/local/lib/python3.9/site-packages (from spacy<4.0,>=3.5->spacy-llm) (75.6.0)\n",
      "Requirement already satisfied: packaging>=20.0 in /usr/local/lib/python3.9/site-packages (from spacy<4.0,>=3.5->spacy-llm) (24.2)\n",
      "Requirement already satisfied: langcodes<4.0.0,>=3.2.0 in /usr/local/lib/python3.9/site-packages (from spacy<4.0,>=3.5->spacy-llm) (3.5.0)\n",
      "Requirement already satisfied: MarkupSafe>=2.0 in /usr/local/lib/python3.9/site-packages (from jinja2->spacy-llm) (2.1.1)\n",
      "Requirement already satisfied: language-data>=1.2 in /usr/local/lib/python3.9/site-packages (from langcodes<4.0.0,>=3.2.0->spacy<4.0,>=3.5->spacy-llm) (1.3.0)\n",
      "Requirement already satisfied: annotated-types>=0.6.0 in /usr/local/lib/python3.9/site-packages (from pydantic!=1.8,!=1.8.1,<3.0.0,>=1.7.4->confection<1.0.0,>=0.1.3->spacy-llm) (0.7.0)\n",
      "Requirement already satisfied: pydantic-core==2.27.2 in /usr/local/lib/python3.9/site-packages (from pydantic!=1.8,!=1.8.1,<3.0.0,>=1.7.4->confection<1.0.0,>=0.1.3->spacy-llm) (2.27.2)\n",
      "Requirement already satisfied: typing-extensions>=4.12.2 in /usr/local/lib/python3.9/site-packages (from pydantic!=1.8,!=1.8.1,<3.0.0,>=1.7.4->confection<1.0.0,>=0.1.3->spacy-llm) (4.12.2)\n",
      "Requirement already satisfied: charset-normalizer<4,>=2 in /usr/local/lib/python3.9/site-packages (from requests<3.0.0,>=2.13.0->spacy<4.0,>=3.5->spacy-llm) (3.1.0)\n",
      "Requirement already satisfied: idna<4,>=2.5 in /usr/local/lib/python3.9/site-packages (from requests<3.0.0,>=2.13.0->spacy<4.0,>=3.5->spacy-llm) (3.4)\n",
      "Requirement already satisfied: urllib3<1.27,>=1.21.1 in /usr/local/lib/python3.9/site-packages (from requests<3.0.0,>=2.13.0->spacy<4.0,>=3.5->spacy-llm) (1.26.15)\n",
      "Requirement already satisfied: certifi>=2017.4.17 in /usr/local/lib/python3.9/site-packages (from requests<3.0.0,>=2.13.0->spacy<4.0,>=3.5->spacy-llm) (2022.12.7)\n",
      "Requirement already satisfied: blis<1.3.0,>=1.2.0 in /usr/local/lib/python3.9/site-packages (from thinc<8.4.0,>=8.3.0->spacy<4.0,>=3.5->spacy-llm) (1.2.0)\n",
      "Requirement already satisfied: click>=8.0.0 in /usr/local/lib/python3.9/site-packages (from typer<1.0.0,>=0.3.0->spacy<4.0,>=3.5->spacy-llm) (8.1.3)\n",
      "Requirement already satisfied: shellingham>=1.3.0 in /usr/local/lib/python3.9/site-packages (from typer<1.0.0,>=0.3.0->spacy<4.0,>=3.5->spacy-llm) (1.5.4)\n",
      "Requirement already satisfied: rich>=10.11.0 in /usr/local/lib/python3.9/site-packages (from typer<1.0.0,>=0.3.0->spacy<4.0,>=3.5->spacy-llm) (13.9.4)\n",
      "Requirement already satisfied: cloudpathlib<1.0.0,>=0.7.0 in /usr/local/lib/python3.9/site-packages (from weasel<0.5.0,>=0.1.0->spacy<4.0,>=3.5->spacy-llm) (0.20.0)\n",
      "Requirement already satisfied: smart-open<8.0.0,>=5.2.1 in /usr/local/lib/python3.9/site-packages (from weasel<0.5.0,>=0.1.0->spacy<4.0,>=3.5->spacy-llm) (6.4.0)\n",
      "Requirement already satisfied: marisa-trie>=1.1.0 in /usr/local/lib/python3.9/site-packages (from language-data>=1.2->langcodes<4.0.0,>=3.2.0->spacy<4.0,>=3.5->spacy-llm) (1.2.1)\n",
      "Requirement already satisfied: markdown-it-py>=2.2.0 in /usr/local/lib/python3.9/site-packages (from rich>=10.11.0->typer<1.0.0,>=0.3.0->spacy<4.0,>=3.5->spacy-llm) (3.0.0)\n",
      "Requirement already satisfied: pygments<3.0.0,>=2.13.0 in /Users/amber/Library/Python/3.9/lib/python/site-packages (from rich>=10.11.0->typer<1.0.0,>=0.3.0->spacy<4.0,>=3.5->spacy-llm) (2.14.0)\n",
      "Requirement already satisfied: mdurl~=0.1 in /usr/local/lib/python3.9/site-packages (from markdown-it-py>=2.2.0->rich>=10.11.0->typer<1.0.0,>=0.3.0->spacy<4.0,>=3.5->spacy-llm) (0.1.2)\n",
      "\u001b[33mWARNING: Error parsing dependencies of bleach: Expected matching RIGHT_PARENTHESIS for LEFT_PARENTHESIS, after version specifier\n",
      "    tinycss2 (>=1.1.0<1.2) ; extra == 'css'\n",
      "             ~~~~~~~~^\u001b[0m\u001b[33m\n",
      "\u001b[0m\u001b[33mDEPRECATION: Configuring installation scheme with distutils config files is deprecated and will no longer work in the near future. If you are using a Homebrew or Linuxbrew Python, please see discussion at https://github.com/Homebrew/homebrew-core/issues/76621\u001b[0m\u001b[33m\n",
      "\u001b[0m\u001b[33mDEPRECATION: Configuring installation scheme with distutils config files is deprecated and will no longer work in the near future. If you are using a Homebrew or Linuxbrew Python, please see discussion at https://github.com/Homebrew/homebrew-core/issues/76621\u001b[0m\u001b[33m\n",
      "\u001b[0mCollecting en-core-web-sm==3.8.0\n",
      "  Using cached https://github.com/explosion/spacy-models/releases/download/en_core_web_sm-3.8.0/en_core_web_sm-3.8.0-py3-none-any.whl (12.8 MB)\n",
      "\u001b[33mWARNING: Error parsing dependencies of bleach: Expected matching RIGHT_PARENTHESIS for LEFT_PARENTHESIS, after version specifier\n",
      "    tinycss2 (>=1.1.0<1.2) ; extra == 'css'\n",
      "             ~~~~~~~~^\u001b[0m\u001b[33m\n",
      "\u001b[0m\u001b[33mDEPRECATION: Configuring installation scheme with distutils config files is deprecated and will no longer work in the near future. If you are using a Homebrew or Linuxbrew Python, please see discussion at https://github.com/Homebrew/homebrew-core/issues/76621\u001b[0m\u001b[33m\n",
      "\u001b[0m\u001b[38;5;2m✔ Download and installation successful\u001b[0m\n",
      "You can now load the package via spacy.load('en_core_web_sm')\n",
      "\u001b[33mDEPRECATION: Configuring installation scheme with distutils config files is deprecated and will no longer work in the near future. If you are using a Homebrew or Linuxbrew Python, please see discussion at https://github.com/Homebrew/homebrew-core/issues/76621\u001b[0m\u001b[33m\n",
      "\u001b[0mRequirement already satisfied: scikit-learn in /usr/local/lib/python3.9/site-packages (1.5.2)\n",
      "Requirement already satisfied: numpy>=1.19.5 in /usr/local/lib/python3.9/site-packages (from scikit-learn) (1.24.4)\n",
      "Requirement already satisfied: scipy>=1.6.0 in /usr/local/lib/python3.9/site-packages (from scikit-learn) (1.13.1)\n",
      "Requirement already satisfied: joblib>=1.2.0 in /usr/local/lib/python3.9/site-packages (from scikit-learn) (1.2.0)\n",
      "Requirement already satisfied: threadpoolctl>=3.1.0 in /usr/local/lib/python3.9/site-packages (from scikit-learn) (3.1.0)\n",
      "\u001b[33mWARNING: Error parsing dependencies of bleach: Expected matching RIGHT_PARENTHESIS for LEFT_PARENTHESIS, after version specifier\n",
      "    tinycss2 (>=1.1.0<1.2) ; extra == 'css'\n",
      "             ~~~~~~~~^\u001b[0m\u001b[33m\n",
      "\u001b[0m\u001b[33mDEPRECATION: Configuring installation scheme with distutils config files is deprecated and will no longer work in the near future. If you are using a Homebrew or Linuxbrew Python, please see discussion at https://github.com/Homebrew/homebrew-core/issues/76621\u001b[0m\u001b[33m\n",
      "\u001b[0mNote: you may need to restart the kernel to use updated packages.\n",
      "\u001b[33mDEPRECATION: Configuring installation scheme with distutils config files is deprecated and will no longer work in the near future. If you are using a Homebrew or Linuxbrew Python, please see discussion at https://github.com/Homebrew/homebrew-core/issues/76621\u001b[0m\u001b[33m\n",
      "\u001b[0mRequirement already satisfied: sentence-transformers in /usr/local/lib/python3.9/site-packages (3.3.1)\n",
      "Requirement already satisfied: transformers<5.0.0,>=4.41.0 in /usr/local/lib/python3.9/site-packages (from sentence-transformers) (4.48.1)\n",
      "Requirement already satisfied: tqdm in /usr/local/lib/python3.9/site-packages (from sentence-transformers) (4.64.1)\n",
      "Requirement already satisfied: torch>=1.11.0 in /usr/local/lib/python3.9/site-packages (from sentence-transformers) (2.0.1)\n",
      "Requirement already satisfied: scikit-learn in /usr/local/lib/python3.9/site-packages (from sentence-transformers) (1.5.2)\n",
      "Requirement already satisfied: scipy in /usr/local/lib/python3.9/site-packages (from sentence-transformers) (1.13.1)\n",
      "Requirement already satisfied: huggingface-hub>=0.20.0 in /usr/local/lib/python3.9/site-packages (from sentence-transformers) (0.27.1)\n",
      "Requirement already satisfied: Pillow in /usr/local/lib/python3.9/site-packages (from sentence-transformers) (9.0.1)\n",
      "Requirement already satisfied: filelock in /usr/local/lib/python3.9/site-packages (from huggingface-hub>=0.20.0->sentence-transformers) (3.12.4)\n",
      "Requirement already satisfied: fsspec>=2023.5.0 in /usr/local/lib/python3.9/site-packages (from huggingface-hub>=0.20.0->sentence-transformers) (2024.12.0)\n",
      "Requirement already satisfied: packaging>=20.9 in /usr/local/lib/python3.9/site-packages (from huggingface-hub>=0.20.0->sentence-transformers) (24.2)\n",
      "Requirement already satisfied: pyyaml>=5.1 in /usr/local/lib/python3.9/site-packages (from huggingface-hub>=0.20.0->sentence-transformers) (6.0.1)\n",
      "Requirement already satisfied: requests in /usr/local/lib/python3.9/site-packages (from huggingface-hub>=0.20.0->sentence-transformers) (2.28.2)\n",
      "Requirement already satisfied: typing-extensions>=3.7.4.3 in /usr/local/lib/python3.9/site-packages (from huggingface-hub>=0.20.0->sentence-transformers) (4.12.2)\n",
      "Requirement already satisfied: sympy in /usr/local/lib/python3.9/site-packages (from torch>=1.11.0->sentence-transformers) (1.12)\n",
      "Requirement already satisfied: networkx in /usr/local/lib/python3.9/site-packages (from torch>=1.11.0->sentence-transformers) (3.0)\n",
      "Requirement already satisfied: jinja2 in /usr/local/lib/python3.9/site-packages (from torch>=1.11.0->sentence-transformers) (3.1.2)\n",
      "Requirement already satisfied: numpy>=1.17 in /usr/local/lib/python3.9/site-packages (from transformers<5.0.0,>=4.41.0->sentence-transformers) (1.24.4)\n",
      "Requirement already satisfied: regex!=2019.12.17 in /usr/local/lib/python3.9/site-packages (from transformers<5.0.0,>=4.41.0->sentence-transformers) (2022.10.31)\n",
      "Requirement already satisfied: tokenizers<0.22,>=0.21 in /usr/local/lib/python3.9/site-packages (from transformers<5.0.0,>=4.41.0->sentence-transformers) (0.21.0)\n",
      "Requirement already satisfied: safetensors>=0.4.1 in /usr/local/lib/python3.9/site-packages (from transformers<5.0.0,>=4.41.0->sentence-transformers) (0.5.2)\n",
      "Requirement already satisfied: joblib>=1.2.0 in /usr/local/lib/python3.9/site-packages (from scikit-learn->sentence-transformers) (1.2.0)\n",
      "Requirement already satisfied: threadpoolctl>=3.1.0 in /usr/local/lib/python3.9/site-packages (from scikit-learn->sentence-transformers) (3.1.0)\n",
      "Requirement already satisfied: MarkupSafe>=2.0 in /usr/local/lib/python3.9/site-packages (from jinja2->torch>=1.11.0->sentence-transformers) (2.1.1)\n",
      "Requirement already satisfied: charset-normalizer<4,>=2 in /usr/local/lib/python3.9/site-packages (from requests->huggingface-hub>=0.20.0->sentence-transformers) (3.1.0)\n",
      "Requirement already satisfied: idna<4,>=2.5 in /usr/local/lib/python3.9/site-packages (from requests->huggingface-hub>=0.20.0->sentence-transformers) (3.4)\n",
      "Requirement already satisfied: urllib3<1.27,>=1.21.1 in /usr/local/lib/python3.9/site-packages (from requests->huggingface-hub>=0.20.0->sentence-transformers) (1.26.15)\n",
      "Requirement already satisfied: certifi>=2017.4.17 in /usr/local/lib/python3.9/site-packages (from requests->huggingface-hub>=0.20.0->sentence-transformers) (2022.12.7)\n",
      "Requirement already satisfied: mpmath>=0.19 in /usr/local/lib/python3.9/site-packages (from sympy->torch>=1.11.0->sentence-transformers) (1.3.0)\n",
      "\u001b[33mWARNING: Error parsing dependencies of bleach: Expected matching RIGHT_PARENTHESIS for LEFT_PARENTHESIS, after version specifier\n",
      "    tinycss2 (>=1.1.0<1.2) ; extra == 'css'\n",
      "             ~~~~~~~~^\u001b[0m\u001b[33m\n",
      "\u001b[0m\u001b[33mDEPRECATION: Configuring installation scheme with distutils config files is deprecated and will no longer work in the near future. If you are using a Homebrew or Linuxbrew Python, please see discussion at https://github.com/Homebrew/homebrew-core/issues/76621\u001b[0m\u001b[33m\n",
      "\u001b[0mNote: you may need to restart the kernel to use updated packages.\n",
      "\u001b[33mDEPRECATION: Configuring installation scheme with distutils config files is deprecated and will no longer work in the near future. If you are using a Homebrew or Linuxbrew Python, please see discussion at https://github.com/Homebrew/homebrew-core/issues/76621\u001b[0m\u001b[33m\n",
      "\u001b[0mRequirement already satisfied: keybert in /usr/local/lib/python3.9/site-packages (0.8.5)\n",
      "Requirement already satisfied: numpy>=1.18.5 in /usr/local/lib/python3.9/site-packages (from keybert) (1.24.4)\n",
      "Requirement already satisfied: rich>=10.4.0 in /usr/local/lib/python3.9/site-packages (from keybert) (13.9.4)\n",
      "Requirement already satisfied: scikit-learn>=0.22.2 in /usr/local/lib/python3.9/site-packages (from keybert) (1.5.2)\n",
      "Requirement already satisfied: sentence-transformers>=0.3.8 in /usr/local/lib/python3.9/site-packages (from keybert) (3.3.1)\n",
      "Requirement already satisfied: markdown-it-py>=2.2.0 in /usr/local/lib/python3.9/site-packages (from rich>=10.4.0->keybert) (3.0.0)\n",
      "Requirement already satisfied: pygments<3.0.0,>=2.13.0 in /Users/amber/Library/Python/3.9/lib/python/site-packages (from rich>=10.4.0->keybert) (2.14.0)\n",
      "Requirement already satisfied: typing-extensions<5.0,>=4.0.0 in /usr/local/lib/python3.9/site-packages (from rich>=10.4.0->keybert) (4.12.2)\n",
      "Requirement already satisfied: scipy>=1.6.0 in /usr/local/lib/python3.9/site-packages (from scikit-learn>=0.22.2->keybert) (1.13.1)\n",
      "Requirement already satisfied: joblib>=1.2.0 in /usr/local/lib/python3.9/site-packages (from scikit-learn>=0.22.2->keybert) (1.2.0)\n",
      "Requirement already satisfied: threadpoolctl>=3.1.0 in /usr/local/lib/python3.9/site-packages (from scikit-learn>=0.22.2->keybert) (3.1.0)\n",
      "Requirement already satisfied: transformers<5.0.0,>=4.41.0 in /usr/local/lib/python3.9/site-packages (from sentence-transformers>=0.3.8->keybert) (4.48.1)\n",
      "Requirement already satisfied: tqdm in /usr/local/lib/python3.9/site-packages (from sentence-transformers>=0.3.8->keybert) (4.64.1)\n",
      "Requirement already satisfied: torch>=1.11.0 in /usr/local/lib/python3.9/site-packages (from sentence-transformers>=0.3.8->keybert) (2.0.1)\n",
      "Requirement already satisfied: huggingface-hub>=0.20.0 in /usr/local/lib/python3.9/site-packages (from sentence-transformers>=0.3.8->keybert) (0.27.1)\n",
      "Requirement already satisfied: Pillow in /usr/local/lib/python3.9/site-packages (from sentence-transformers>=0.3.8->keybert) (9.0.1)\n",
      "Requirement already satisfied: filelock in /usr/local/lib/python3.9/site-packages (from huggingface-hub>=0.20.0->sentence-transformers>=0.3.8->keybert) (3.12.4)\n",
      "Requirement already satisfied: fsspec>=2023.5.0 in /usr/local/lib/python3.9/site-packages (from huggingface-hub>=0.20.0->sentence-transformers>=0.3.8->keybert) (2024.12.0)\n",
      "Requirement already satisfied: packaging>=20.9 in /usr/local/lib/python3.9/site-packages (from huggingface-hub>=0.20.0->sentence-transformers>=0.3.8->keybert) (24.2)\n",
      "Requirement already satisfied: pyyaml>=5.1 in /usr/local/lib/python3.9/site-packages (from huggingface-hub>=0.20.0->sentence-transformers>=0.3.8->keybert) (6.0.1)\n",
      "Requirement already satisfied: requests in /usr/local/lib/python3.9/site-packages (from huggingface-hub>=0.20.0->sentence-transformers>=0.3.8->keybert) (2.28.2)\n",
      "Requirement already satisfied: mdurl~=0.1 in /usr/local/lib/python3.9/site-packages (from markdown-it-py>=2.2.0->rich>=10.4.0->keybert) (0.1.2)\n",
      "Requirement already satisfied: sympy in /usr/local/lib/python3.9/site-packages (from torch>=1.11.0->sentence-transformers>=0.3.8->keybert) (1.12)\n",
      "Requirement already satisfied: networkx in /usr/local/lib/python3.9/site-packages (from torch>=1.11.0->sentence-transformers>=0.3.8->keybert) (3.0)\n",
      "Requirement already satisfied: jinja2 in /usr/local/lib/python3.9/site-packages (from torch>=1.11.0->sentence-transformers>=0.3.8->keybert) (3.1.2)\n",
      "Requirement already satisfied: regex!=2019.12.17 in /usr/local/lib/python3.9/site-packages (from transformers<5.0.0,>=4.41.0->sentence-transformers>=0.3.8->keybert) (2022.10.31)\n",
      "Requirement already satisfied: tokenizers<0.22,>=0.21 in /usr/local/lib/python3.9/site-packages (from transformers<5.0.0,>=4.41.0->sentence-transformers>=0.3.8->keybert) (0.21.0)\n",
      "Requirement already satisfied: safetensors>=0.4.1 in /usr/local/lib/python3.9/site-packages (from transformers<5.0.0,>=4.41.0->sentence-transformers>=0.3.8->keybert) (0.5.2)\n",
      "Requirement already satisfied: MarkupSafe>=2.0 in /usr/local/lib/python3.9/site-packages (from jinja2->torch>=1.11.0->sentence-transformers>=0.3.8->keybert) (2.1.1)\n",
      "Requirement already satisfied: charset-normalizer<4,>=2 in /usr/local/lib/python3.9/site-packages (from requests->huggingface-hub>=0.20.0->sentence-transformers>=0.3.8->keybert) (3.1.0)\n",
      "Requirement already satisfied: idna<4,>=2.5 in /usr/local/lib/python3.9/site-packages (from requests->huggingface-hub>=0.20.0->sentence-transformers>=0.3.8->keybert) (3.4)\n",
      "Requirement already satisfied: urllib3<1.27,>=1.21.1 in /usr/local/lib/python3.9/site-packages (from requests->huggingface-hub>=0.20.0->sentence-transformers>=0.3.8->keybert) (1.26.15)\n",
      "Requirement already satisfied: certifi>=2017.4.17 in /usr/local/lib/python3.9/site-packages (from requests->huggingface-hub>=0.20.0->sentence-transformers>=0.3.8->keybert) (2022.12.7)\n",
      "Requirement already satisfied: mpmath>=0.19 in /usr/local/lib/python3.9/site-packages (from sympy->torch>=1.11.0->sentence-transformers>=0.3.8->keybert) (1.3.0)\n",
      "\u001b[33mWARNING: Error parsing dependencies of bleach: Expected matching RIGHT_PARENTHESIS for LEFT_PARENTHESIS, after version specifier\n",
      "    tinycss2 (>=1.1.0<1.2) ; extra == 'css'\n",
      "             ~~~~~~~~^\u001b[0m\u001b[33m\n",
      "\u001b[0m\u001b[33mDEPRECATION: Configuring installation scheme with distutils config files is deprecated and will no longer work in the near future. If you are using a Homebrew or Linuxbrew Python, please see discussion at https://github.com/Homebrew/homebrew-core/issues/76621\u001b[0m\u001b[33m\n",
      "\u001b[0mNote: you may need to restart the kernel to use updated packages.\n",
      "\u001b[33mDEPRECATION: Configuring installation scheme with distutils config files is deprecated and will no longer work in the near future. If you are using a Homebrew or Linuxbrew Python, please see discussion at https://github.com/Homebrew/homebrew-core/issues/76621\u001b[0m\u001b[33m\n",
      "\u001b[0mRequirement already satisfied: transformers in /usr/local/lib/python3.9/site-packages (4.48.1)\n",
      "Requirement already satisfied: sentence-transformers in /usr/local/lib/python3.9/site-packages (3.3.1)\n",
      "Requirement already satisfied: nltk in /usr/local/lib/python3.9/site-packages (3.7)\n",
      "Requirement already satisfied: filelock in /usr/local/lib/python3.9/site-packages (from transformers) (3.12.4)\n",
      "Requirement already satisfied: huggingface-hub<1.0,>=0.24.0 in /usr/local/lib/python3.9/site-packages (from transformers) (0.27.1)\n",
      "Requirement already satisfied: numpy>=1.17 in /usr/local/lib/python3.9/site-packages (from transformers) (1.24.4)\n",
      "Requirement already satisfied: packaging>=20.0 in /usr/local/lib/python3.9/site-packages (from transformers) (24.2)\n",
      "Requirement already satisfied: pyyaml>=5.1 in /usr/local/lib/python3.9/site-packages (from transformers) (6.0.1)\n",
      "Requirement already satisfied: regex!=2019.12.17 in /usr/local/lib/python3.9/site-packages (from transformers) (2022.10.31)\n",
      "Requirement already satisfied: requests in /usr/local/lib/python3.9/site-packages (from transformers) (2.28.2)\n",
      "Requirement already satisfied: tokenizers<0.22,>=0.21 in /usr/local/lib/python3.9/site-packages (from transformers) (0.21.0)\n",
      "Requirement already satisfied: safetensors>=0.4.1 in /usr/local/lib/python3.9/site-packages (from transformers) (0.5.2)\n",
      "Requirement already satisfied: tqdm>=4.27 in /usr/local/lib/python3.9/site-packages (from transformers) (4.64.1)\n",
      "Requirement already satisfied: torch>=1.11.0 in /usr/local/lib/python3.9/site-packages (from sentence-transformers) (2.0.1)\n",
      "Requirement already satisfied: scikit-learn in /usr/local/lib/python3.9/site-packages (from sentence-transformers) (1.5.2)\n",
      "Requirement already satisfied: scipy in /usr/local/lib/python3.9/site-packages (from sentence-transformers) (1.13.1)\n",
      "Requirement already satisfied: Pillow in /usr/local/lib/python3.9/site-packages (from sentence-transformers) (9.0.1)\n",
      "Requirement already satisfied: click in /usr/local/lib/python3.9/site-packages (from nltk) (8.1.3)\n",
      "Requirement already satisfied: joblib in /usr/local/lib/python3.9/site-packages (from nltk) (1.2.0)\n",
      "Requirement already satisfied: fsspec>=2023.5.0 in /usr/local/lib/python3.9/site-packages (from huggingface-hub<1.0,>=0.24.0->transformers) (2024.12.0)\n",
      "Requirement already satisfied: typing-extensions>=3.7.4.3 in /usr/local/lib/python3.9/site-packages (from huggingface-hub<1.0,>=0.24.0->transformers) (4.12.2)\n",
      "Requirement already satisfied: sympy in /usr/local/lib/python3.9/site-packages (from torch>=1.11.0->sentence-transformers) (1.12)\n",
      "Requirement already satisfied: networkx in /usr/local/lib/python3.9/site-packages (from torch>=1.11.0->sentence-transformers) (3.0)\n",
      "Requirement already satisfied: jinja2 in /usr/local/lib/python3.9/site-packages (from torch>=1.11.0->sentence-transformers) (3.1.2)\n",
      "Requirement already satisfied: charset-normalizer<4,>=2 in /usr/local/lib/python3.9/site-packages (from requests->transformers) (3.1.0)\n",
      "Requirement already satisfied: idna<4,>=2.5 in /usr/local/lib/python3.9/site-packages (from requests->transformers) (3.4)\n",
      "Requirement already satisfied: urllib3<1.27,>=1.21.1 in /usr/local/lib/python3.9/site-packages (from requests->transformers) (1.26.15)\n",
      "Requirement already satisfied: certifi>=2017.4.17 in /usr/local/lib/python3.9/site-packages (from requests->transformers) (2022.12.7)\n",
      "Requirement already satisfied: threadpoolctl>=3.1.0 in /usr/local/lib/python3.9/site-packages (from scikit-learn->sentence-transformers) (3.1.0)\n",
      "Requirement already satisfied: MarkupSafe>=2.0 in /usr/local/lib/python3.9/site-packages (from jinja2->torch>=1.11.0->sentence-transformers) (2.1.1)\n",
      "Requirement already satisfied: mpmath>=0.19 in /usr/local/lib/python3.9/site-packages (from sympy->torch>=1.11.0->sentence-transformers) (1.3.0)\n",
      "\u001b[33mWARNING: Error parsing dependencies of bleach: Expected matching RIGHT_PARENTHESIS for LEFT_PARENTHESIS, after version specifier\n",
      "    tinycss2 (>=1.1.0<1.2) ; extra == 'css'\n",
      "             ~~~~~~~~^\u001b[0m\u001b[33m\n",
      "\u001b[0m\u001b[33mDEPRECATION: Configuring installation scheme with distutils config files is deprecated and will no longer work in the near future. If you are using a Homebrew or Linuxbrew Python, please see discussion at https://github.com/Homebrew/homebrew-core/issues/76621\u001b[0m\u001b[33m\n",
      "\u001b[0mNote: you may need to restart the kernel to use updated packages.\n"
     ]
    }
   ],
   "source": [
    "from platform import python_version\n",
    "\n",
    "print(python_version())\n",
    "\n",
    "%pip install langchain\n",
    "%pip install -U langchain-community\n",
    "%pip install pypdf\n",
    "%pip install spacy\n",
    "!python3.9 -m pip install spacy-llm\n",
    "!python3.9 -m spacy download en_core_web_sm\n",
    "%pip install scikit-learn\n",
    "%pip install -U sentence-transformers\n",
    "%pip install keybert\n",
    "%pip install transformers sentence-transformers nltk"
   ]
  },
  {
   "cell_type": "markdown",
   "metadata": {},
   "source": [
    "#### Document reading and split"
   ]
  },
  {
   "cell_type": "code",
   "execution_count": 3,
   "metadata": {},
   "outputs": [
    {
<<<<<<< HEAD
     "data": {
      "text/plain": [
       "str"
      ]
     },
     "execution_count": 2,
     "metadata": {},
     "output_type": "execute_result"
=======
     "name": "stdout",
     "output_type": "stream",
     "text": [
      "Number of Apple-related documents: 17\n"
     ]
>>>>>>> 590db99 (add first title)
    }
   ],
   "source": [
    "import langchain\n",
    "from langchain.document_loaders import PyPDFLoader\n",
    "from langchain.docstore.document import Document\n",
    "import os\n",
    "\n",
    "# Directory containing your PDF files\n",
    "directory_path = 'TCs'\n",
    "\n",
    "# Initialize PyPDFLoader for each PDF in the directory\n",
    "loaders = [PyPDFLoader(os.path.join(directory_path, f)) for f in os.listdir(directory_path) if f.endswith('.pdf')]\n",
    "\n",
    "# Load documents from PDFs\n",
    "tc_docs = []\n",
    "for loader in loaders:\n",
    "    tc_docs.extend(loader.load())\n",
    "\n",
    "# Prepare the content and metadata for each news article as Document objects\n",
    "tc_data = [\n",
    "    Document(\n",
    "        page_content=doc.page_content,  # Assuming this is how you access the page content of the document\n",
    "        metadata={\n",
    "            \"source\": doc.metadata['source'].removeprefix('TCs'),  # Assuming this is the metadata format\n",
    "        }\n",
    "    )\n",
    "    for doc in tc_docs  # Assuming news_docs is a list of objects with page_content and metadata\n",
    "]\n",
    "\n",
    "data = tc_data[0].page_content\n",
    "# print(type(news_articles_data))\n",
    "\n",
    "page_contents = [doc.page_content for doc in tc_docs]\n",
    "combined = \"\".join(page_contents)\n",
    "type(combined)"
   ]
  },
  {
   "cell_type": "code",
   "execution_count": 4,
   "metadata": {},
   "outputs": [
    {
     "name": "stdout",
     "output_type": "stream",
     "text": [
      "150\n"
     ]
    }
   ],
   "source": [
    "from langchain.text_splitter import RecursiveCharacterTextSplitter\n",
    "\n",
    "text_splitter = RecursiveCharacterTextSplitter(\n",
    "    chunk_size=500, chunk_overlap=60\n",
    ")\n",
    "# split_docs = text_splitter.split_text(data)\n",
    "split_docs = text_splitter.split_text(combined)\n",
    "print(len(split_docs))\n",
    "\n",
    "# function for functionality of pipeline\n",
    "def split_text(combined_text):\n",
    "    text_splitter = RecursiveCharacterTextSplitter(\n",
    "        chunk_size=500,\n",
    "        chunk_overlap=60\n",
    "    )\n",
    "    return text_splitter.split_text(combined_text)"
   ]
  },
  {
   "cell_type": "markdown",
   "metadata": {},
   "source": [
    "### Entity & Relationships"
   ]
  },
  {
   "cell_type": "code",
   "execution_count": 4,
   "metadata": {},
   "outputs": [],
   "source": [
    "import json\n",
    "with open('text_var.json', 'r') as f:\n",
    "    data = json.load(f)\n",
    "\n",
    "text_var = data['text_var']"
   ]
  },
  {
   "cell_type": "code",
   "execution_count": 5,
   "metadata": {},
   "outputs": [
    {
     "name": "stderr",
     "output_type": "stream",
     "text": [
      "/usr/local/lib/python3.9/site-packages/spacy_llm/pipeline/llm.py:143: UserWarning: Task supports sharding, but model does not provide context length. Data won't be sharded, prompt might exceed the model's context length. Set context length in your config. If you think spacy-llm should provide the context length for this model automatically, report this to https://github.com/explosion/spacy-llm/issues.\n",
      "  warnings.warn(\n"
     ]
    },
    {
     "name": "stdout",
     "output_type": "stream",
     "text": [
      "Entity counts: Counter({'ORG': 263, 'GPE': 81, 'CARDINAL': 20, 'PERSON': 20,\n",
      "'ORDINAL': 17, 'LAW': 13, 'WORK_OF_ART': 10, 'PRODUCT': 1, 'DATE': 1, 'EVENT':\n",
      "1, 'TIME': 1})\n",
<<<<<<< HEAD
      "Relation counts: Counter({'adjacent': 43, 'associated_with': 16, 'related_to':\n",
      "11, 'affiliation': 9, 'defined_in': 6, 'operates_on': 5, 'RELATED_TO': 5,\n",
      "'governed_by': 4, 'governs': 4, 'responsible_for': 4, 'enable_access': 4,\n",
      "'affiliated_with': 4, 'self': 4, 'provided_by': 3, 'is_licensed_by': 3,\n",
      "'licensed_by': 3, 'ASSOCIATED_WITH': 3, 'authorized_by': 3, 'OWNED_BY': 2,\n",
      "'part_of': 2, 'quantity': 2, 'PRODUCT_OF': 2, 'content_of': 2, 'implemented_by':\n",
      "2, 'displayed_on': 2, 'MODIFIER_OF': 2, 'no_relation': 2, 'assist': 2,\n",
      "'has_attribute': 2, 'PART_OF': 2, 'same_entity': 2, 'included_with': 2,\n",
      "'LOCATION': 2, 'same_as': 2, 'is_feature_of': 2, 'compatible_with': 2,\n",
      "'return_policy': 1, 'LICENSED_FROM': 1, 'subject_to': 1, 'owned_by': 1,\n",
      "'run_on': 1, 'supported_on': 1, 'WORKS_FOR': 1, 'ALIAS_OF': 1, 'feature_of': 1,\n",
      "'software_of': 1, 'runs_on': 1, 'branded_as': 1, 'FOR': 1,\n",
      "'require_authentication_with': 1, 'delivered_through': 1, 'govern': 1,\n",
      "'rights_of': 1, 'is_software_of': 1, 'is_branded_as': 1, 'equivalent': 1,\n",
      "'prohibition_on': 1, 'QUANTITY_OF': 1, 'transfer_from': 1, 'transfer_to': 1,\n",
      "'MAKES_AVAILABLE': 1, 'affects': 1, 'alias_of': 1, 'USES': 1, 'BOUND_BY': 1,\n",
      "'INSTALLED_ON': 1, 'subject_of': 1, 'mentioned_in': 1, 'notice_from': 1,\n",
      "'provision_tool_for': 1, 'access_to': 1, 'ORG_AFFILIATION': 1, 'license_from':\n",
      "1, 'distribution_medium': 1, 'transfer_with': 1, 'include': 1,\n",
      "'update_version_of': 1, 'product_of': 1, 'Information_Sent_To': 1,\n",
      "'SAME_ENTITY': 1, 'is_part_of': 1, 'is_equivalent_to': 1, 'INVOLVES': 1,\n",
      "'Location_of': 1, 'ORG_OF': 1, 'SAME': 1, 'ATTRIBUTE': 1, 'COMPATIBLE_WITH': 1,\n",
      "'AFFILIATION': 1, 'legislation_applies_to': 1, 'ORG-LOCATED_IN': 1,\n",
      "'licensed_to': 1, 'ORG_BASED_IN': 1, 'provides_license_for': 1, 'contains': 1,\n",
      "'require_consent_from': 1, 'distributed_with': 1, 'available_from': 1, 'same':\n",
      "1, 'USED_WITH': 1, 'account_of': 1, 'requires': 1, 'incompatible_with': 1,\n",
      "'applicable_to': 1, 'involved_with': 1, 'DISCLAIMS_LIABILITY_FOR': 1,\n",
      "'used_with': 1, 'affiliate_of': 1})\n"
=======
      "Relation counts: Counter({'is located in': 43, 'is a country in': 27, 'uses':\n",
      "20, 'related_to': 20, 'provides': 16, 'includes': 10, 'runs_on': 9, 'is_a': 7,\n",
      "'refers_to': 6, 'affiliated_with': 5, 'has access to': 5, 'supports': 4,\n",
      "'related to': 3, 'licensed_by': 3, 'runs': 3, 'included_with': 3,\n",
      "'associated_with': 3, 'governs': 2, 'affects': 2, 'is part of': 2, 'owned_by':\n",
      "2, 'does not endorse': 2, 'is a type of': 2, 'maintains': 2, 'owns': 1,\n",
      "'accompanied by': 1, 'competes_with': 1, 'obtained_from': 1, 'subject to': 1,\n",
      "'set forth in': 1, 'produces': 1, 'ownership': 1, 'supported_on': 1,\n",
      "'branded_by': 1, 'downloads': 1, 'delivers': 1, 'is_related_to': 1, 'enables':\n",
      "1, 'authorizes': 1, 'involves': 1, 'governed_by': 1, 'has_rights_over': 1,\n",
      "'license_for': 1, 'controls': 1, 'prohibits': 1, 'restricts': 1, 'transfers\n",
      "software to': 1, 'compatible_with': 1, 'offers': 1, 'provides support for': 1,\n",
      "'modification of': 1, 'part of': 1, 'checks_with': 1, 'leases': 1,\n",
      "'installed_on': 1, 'defines': 1, 'subleasing': 1, 'complies_with': 1,\n",
      "'agrees_to': 1, 'assists': 1, 'notifies': 1, 'terminates': 1, 'is_instance_of':\n",
      "1, 'responsibility': 1, 'licensed_from': 1, 'provided_by': 1,\n",
      "'transferred_with': 1, 'provides_update': 1, 'brand': 1, 'enables access to': 1,\n",
      "'cease_use_of': 1, 'disclaims': 1, 'authorized representative of': 1, 'applies\n",
      "to': 1, 'perpetrates': 1, 'authorized by': 1, 'obtained under': 1, 'licensed\n",
      "to': 1, 'located_in': 1, 'licensed under': 1, 'licensed by': 1, 'compliance\n",
      "with': 1, 'contains': 1, 'consent': 1, 'not liable': 1,\n",
      "'no_obligation_to_support': 1, 'distributed_with': 1, 'available_from': 1,\n",
      "'stored_in': 1, 'licensed_to': 1, 'is_feature_of': 1, 'is_type_of': 1, 'is\n",
      "provided by': 1, 'requires': 1, 'applies_to': 1, 'contracts_with': 1, 'not a\n",
      "party to agreement': 1})\n"
>>>>>>> 0e81b9d (final clean code)
     ]
    }
   ],
   "source": [
    "import os\n",
    "import json\n",
    "import spacy\n",
    "from collections import Counter\n",
    "from pathlib import Path\n",
    "from wasabi import msg\n",
    "from spacy_llm.util import assemble\n",
    "\n",
    "import spacy\n",
    "from sklearn.feature_extraction.text import TfidfVectorizer\n",
    "from sklearn.metrics.pairwise import cosine_similarity\n",
    "import numpy as np\n",
    "\n",
    "# traditional spacy NER\n",
    "# def split_document_sent(text):\n",
    "#     nlp = spacy.load(\"en_core_web_sm\")\n",
    "#     doc = nlp(text)\n",
    "#     return [sent.text.strip() for sent in doc.sents] # referencial\n",
    "\n",
    "def summarize_section(text):\n",
    "    nlp = spacy.load(\"en_core_web_sm\")\n",
    "    doc = nlp(text)\n",
    "\n",
    "    sentences = [sent.text.strip() for sent in doc.sents if sent.text.strip()]\n",
    "\n",
    "    if not sentences:\n",
    "        return \"No summary available\"\n",
    "\n",
    "    try:\n",
    "        # TF-IDF (sentence embedding)\n",
    "        vectorizer = TfidfVectorizer(stop_words='english')\n",
    "        sentence_vectors = vectorizer.fit_transform(sentences).toarray()\n",
    "\n",
    "        avg_vector = np.mean(sentence_vectors, axis=0).reshape(1, -1)\n",
    "        similarities = cosine_similarity(avg_vector, sentence_vectors)\n",
    "\n",
    "        # most relevant\n",
    "        most_relevant_index = np.argmax(similarities)\n",
    "        return sentences[most_relevant_index]\n",
    "\n",
    "    # in case there is empty input\n",
    "    except ValueError:\n",
    "        return \"No summary available\"\n",
    "\n",
    "# spacy-llm relationship extraction\n",
    "# def process_text(nlp, text, verbose=False):\n",
    "#     doc = nlp(text)\n",
    "#     if verbose:\n",
    "#         msg.text(f\"Text: {doc.text}\")\n",
    "#         msg.text(f\"Entities: {[(ent.text, ent.label_) for ent in doc.ents]}\")\n",
    "#         msg.text(\"Relations:\")\n",
    "#         for r in doc._.rel:\n",
    "#             msg.text(f\"  - {doc.ents[r.dep]} [{r.relation}] {doc.ents[r.dest]}\")\n",
    "#     return doc\n",
    "\n",
    "def run_pipeline(combined, config_path, examples_path=None, verbose=False):\n",
    "    if not os.getenv(\"OPENAI_API_KEY\"):\n",
    "        msg.fail(\"OPENAI_API_KEY env variable was not found. Set it and try again.\", exits=1)\n",
    "\n",
    "    sections = split_text(combined)\n",
    "    nlp = assemble(config_path, overrides={} if examples_path is None else {\"paths.examples\": str(examples_path)})\n",
    "\n",
    "    # Initialize counters and storage\n",
    "    processed_data = []\n",
    "    entity_counts = Counter()\n",
    "    relation_counts = Counter()\n",
    "\n",
    "    for section in sections:\n",
    "        summary = summarize_section(section)\n",
    "        doc = nlp(summary)\n",
    "        entities = [(ent.text, ent.label_) for ent in doc.ents]\n",
    "        relations = [(doc.ents[r.dep].text, r.relation, doc.ents[r.dest].text) for r in doc._.rel]\n",
    "\n",
    "        # processed data\n",
    "        processed_data.append({\n",
    "            'original_text': section,\n",
    "            'summary': summary,\n",
    "            'entities': entities,\n",
    "            'relations': relations})\n",
    "\n",
    "        entity_counts.update([ent[1] for ent in entities])\n",
    "        relation_counts.update([rel[1] for rel in relations])\n",
    "\n",
<<<<<<< HEAD
    "    # Export to JSON\n",
    "    with open('processed_data.json', 'w') as f:\n",
=======
    "    with open(filename, 'w') as f:\n",
>>>>>>> 0e81b9d (final clean code)
    "        json.dump(processed_data, f)\n",
    "\n",
    "    msg.text(f\"Entity counts: {entity_counts}\")\n",
    "    msg.text(f\"Relation counts: {relation_counts}\")\n",
    "\n",
    "config_path = Path(\"config.cfg\")\n",
    "examples_path = None\n",
    "verbose = True\n",
    "\n",
<<<<<<< HEAD
    "# Run the pipeline\n",
    "file = run_pipeline(text_var, config_path, None, verbose)"
=======
    "file_apple = run_pipeline(combined_apple, config_path, 'apple_processed_data.json', None, verbose)"
>>>>>>> 0e81b9d (final clean code)
   ]
  },
  {
   "cell_type": "markdown",
   "metadata": {},
   "source": [
    "### Addition of description per chunk of text as well as simplification "
   ]
  },
  {
   "cell_type": "markdown",
   "metadata": {},
   "source": [
    "#### Add description"
   ]
  },
  {
   "cell_type": "code",
   "execution_count": 6,
   "metadata": {},
   "outputs": [
    {
     "name": "stdout",
     "output_type": "stream",
     "text": [
      "AT https://www.apple.com/legal/sales-support/. YOU MUST RETURN \n",
      "THE ENTIRE HARDWARE/SOFTWARE PACKAGE IN ORDER TO OBTAIN A REFUND.\n"
     ]
    },
    {
     "data": {
      "text/plain": [
       "'ACQUIRED THE APPLE SOFTWARE AS PART OF AN APPLE HARDWARE PURCHASE AND IF YOU \\nDO NOT AGREE TO THE TERMS OF THIS LICENSE, YOU MAY RETURN THE ENTIRE APPLE \\nHARDWARE/SOFTWARE PACKAGE WITHIN THE RETURN PERIOD TO THE APPLE STORE OR \\nAUTHORIZED DISTRIBUTOR WHERE YOU OBTAINED IT FOR A REFUND, SUBJECT TO APPLE’S \\nRETURN POLICY FOUND AT https://www.apple.com/legal/sales-support/. YOU MUST RETURN \\nTHE ENTIRE HARDWARE/SOFTWARE PACKAGE IN ORDER TO OBTAIN A REFUND.'"
      ]
     },
     "execution_count": 6,
     "metadata": {},
     "output_type": "execute_result"
    }
   ],
   "source": [
    "def summarize_section(text):\n",
    "    nlp = spacy.load(\"en_core_web_sm\")\n",
    "    doc = nlp(text)\n",
    "    sentences = [sent.text for sent in doc.sents]\n",
    "\n",
    "    vectorizer = TfidfVectorizer(stop_words='english')\n",
    "    # convert to array in order to perform cosine similarity\n",
    "    sentence_vectors = vectorizer.fit_transform(sentences).toarray()\n",
    "\n",
    "    avg_vector = np.mean(sentence_vectors, axis=0)\n",
    "    avg_vector = avg_vector.reshape(1, -1)\n",
    "    similarities = cosine_similarity(avg_vector, sentence_vectors)\n",
    "\n",
    "    # index with highest cosine similarity to the average vector\n",
    "    most_relevant_index = np.argmax(similarities)\n",
    "\n",
    "    return sentences[most_relevant_index]\n",
    "\n",
    "\n",
<<<<<<< HEAD
    "print(summarize_section(split_docs[2]))\n",
    "split_docs[2]"
=======
    "print(summarize_section(split_docs_apple[1]))\n",
    "split_docs_apple[1]"
>>>>>>> 0e81b9d (final clean code)
   ]
  },
  {
   "cell_type": "markdown",
   "metadata": {},
   "source": [
    "#### Simplification with Lexical Simplification with BERT"
   ]
  },
  {
   "cell_type": "code",
   "execution_count": 7,
   "metadata": {},
   "outputs": [
    {
     "name": "stderr",
     "output_type": "stream",
     "text": [
      "[nltk_data] Downloading package punkt to /Users/amber/nltk_data...\n",
      "[nltk_data]   Package punkt is already up-to-date!\n"
     ]
    },
    {
     "data": {
      "application/vnd.jupyter.widget-view+json": {
       "model_id": "eefcee5b23434f70a248e7dd93c082c0",
       "version_major": 2,
       "version_minor": 0
      },
      "text/plain": [
       "tokenizer_config.json:   0%|          | 0.00/48.0 [00:00<?, ?B/s]"
      ]
     },
     "metadata": {},
     "output_type": "display_data"
    },
    {
     "data": {
      "application/vnd.jupyter.widget-view+json": {
       "model_id": "f2e9366db1ef41d0852bf086f71bd5a2",
       "version_major": 2,
       "version_minor": 0
      },
      "text/plain": [
       "config.json:   0%|          | 0.00/570 [00:00<?, ?B/s]"
      ]
     },
     "metadata": {},
     "output_type": "display_data"
    },
    {
     "data": {
      "application/vnd.jupyter.widget-view+json": {
       "model_id": "ca12cc874ac048c8a00ed7fa88ce892c",
       "version_major": 2,
       "version_minor": 0
      },
      "text/plain": [
       "vocab.txt:   0%|          | 0.00/232k [00:00<?, ?B/s]"
      ]
     },
     "metadata": {},
     "output_type": "display_data"
    },
    {
     "data": {
      "application/vnd.jupyter.widget-view+json": {
       "model_id": "73c2368ef96d4591adf3d8c389c6b32e",
       "version_major": 2,
       "version_minor": 0
      },
      "text/plain": [
       "tokenizer.json:   0%|          | 0.00/466k [00:00<?, ?B/s]"
      ]
     },
     "metadata": {},
     "output_type": "display_data"
    },
    {
     "data": {
      "application/vnd.jupyter.widget-view+json": {
       "model_id": "358e6e0dbd574c08a5f253ece47c5106",
       "version_major": 2,
       "version_minor": 0
      },
      "text/plain": [
       "model.safetensors:   0%|          | 0.00/440M [00:00<?, ?B/s]"
      ]
     },
     "metadata": {},
     "output_type": "display_data"
    },
    {
     "name": "stderr",
     "output_type": "stream",
     "text": [
      "BertForMaskedLM has generative capabilities, as `prepare_inputs_for_generation` is explicitly overwritten. However, it doesn't directly inherit from `GenerationMixin`. From 👉v4.50👈 onwards, `PreTrainedModel` will NOT inherit from `GenerationMixin`, and this model will lose the ability to call `generate` and other related functions.\n",
      "  - If you're using `trust_remote_code=True`, you can get rid of this warning by loading the model with an auto class. See https://huggingface.co/docs/transformers/en/model_doc/auto#auto-classes\n",
      "  - If you are the owner of the model architecture code, please modify your model class such that it inherits from `GenerationMixin` (after `PreTrainedModel`, otherwise you'll get an exception).\n",
      "  - If you are not the owner of the model architecture class, please contact the model code owner to update it.\n",
      "Some weights of the model checkpoint at bert-base-uncased were not used when initializing BertForMaskedLM: ['bert.pooler.dense.bias', 'bert.pooler.dense.weight', 'cls.seq_relationship.bias', 'cls.seq_relationship.weight']\n",
      "- This IS expected if you are initializing BertForMaskedLM from the checkpoint of a model trained on another task or with another architecture (e.g. initializing a BertForSequenceClassification model from a BertForPreTraining model).\n",
      "- This IS NOT expected if you are initializing BertForMaskedLM from the checkpoint of a model that you expect to be exactly identical (initializing a BertForSequenceClassification model from a BertForSequenceClassification model).\n"
     ]
    },
    {
     "data": {
      "application/vnd.jupyter.widget-view+json": {
       "model_id": "eabe1fb1fbb0426d80f84d6c61697b6f",
       "version_major": 2,
       "version_minor": 0
      },
      "text/plain": [
       "modules.json:   0%|          | 0.00/349 [00:00<?, ?B/s]"
      ]
     },
     "metadata": {},
     "output_type": "display_data"
    },
    {
     "data": {
      "application/vnd.jupyter.widget-view+json": {
       "model_id": "9440817927a44534a70136a353d965ec",
       "version_major": 2,
       "version_minor": 0
      },
      "text/plain": [
       "config_sentence_transformers.json:   0%|          | 0.00/116 [00:00<?, ?B/s]"
      ]
     },
     "metadata": {},
     "output_type": "display_data"
    },
    {
     "data": {
      "application/vnd.jupyter.widget-view+json": {
       "model_id": "03deb55e48af4904bc6695d9256fb963",
       "version_major": 2,
       "version_minor": 0
      },
      "text/plain": [
       "README.md:   0%|          | 0.00/10.7k [00:00<?, ?B/s]"
      ]
     },
     "metadata": {},
     "output_type": "display_data"
    },
    {
     "data": {
      "application/vnd.jupyter.widget-view+json": {
       "model_id": "57f7d1ddf6424d78ac07bfe3803f2c23",
       "version_major": 2,
       "version_minor": 0
      },
      "text/plain": [
       "sentence_bert_config.json:   0%|          | 0.00/53.0 [00:00<?, ?B/s]"
      ]
     },
     "metadata": {},
     "output_type": "display_data"
    },
    {
     "data": {
      "application/vnd.jupyter.widget-view+json": {
       "model_id": "7fc4d8f893504c95b2359e660169736c",
       "version_major": 2,
       "version_minor": 0
      },
      "text/plain": [
       "config.json:   0%|          | 0.00/612 [00:00<?, ?B/s]"
      ]
     },
     "metadata": {},
     "output_type": "display_data"
    },
    {
     "data": {
      "application/vnd.jupyter.widget-view+json": {
       "model_id": "d94a050284354a1da2cb13fb474b7138",
       "version_major": 2,
       "version_minor": 0
      },
      "text/plain": [
       "model.safetensors:   0%|          | 0.00/90.9M [00:00<?, ?B/s]"
      ]
     },
     "metadata": {},
     "output_type": "display_data"
    },
    {
     "data": {
      "application/vnd.jupyter.widget-view+json": {
       "model_id": "2ff80f67006d41e9976246dca716ab26",
       "version_major": 2,
       "version_minor": 0
      },
      "text/plain": [
       "tokenizer_config.json:   0%|          | 0.00/350 [00:00<?, ?B/s]"
      ]
     },
     "metadata": {},
     "output_type": "display_data"
    },
    {
     "data": {
      "application/vnd.jupyter.widget-view+json": {
       "model_id": "d1968d9d406c47b3b15dd2777ff49c83",
       "version_major": 2,
       "version_minor": 0
      },
      "text/plain": [
       "vocab.txt:   0%|          | 0.00/232k [00:00<?, ?B/s]"
      ]
     },
     "metadata": {},
     "output_type": "display_data"
    },
    {
     "data": {
      "application/vnd.jupyter.widget-view+json": {
       "model_id": "bbd7ffe1db8542f78002b56e717c54c0",
       "version_major": 2,
       "version_minor": 0
      },
      "text/plain": [
       "tokenizer.json:   0%|          | 0.00/466k [00:00<?, ?B/s]"
      ]
     },
     "metadata": {},
     "output_type": "display_data"
    },
    {
     "data": {
      "application/vnd.jupyter.widget-view+json": {
       "model_id": "10698023bc7b4386ba0f40c9bad5d14f",
       "version_major": 2,
       "version_minor": 0
      },
      "text/plain": [
       "special_tokens_map.json:   0%|          | 0.00/112 [00:00<?, ?B/s]"
      ]
     },
     "metadata": {},
     "output_type": "display_data"
    },
    {
     "data": {
      "application/vnd.jupyter.widget-view+json": {
       "model_id": "3a1c897358194258b6451dcbe59f7854",
       "version_major": 2,
       "version_minor": 0
      },
      "text/plain": [
       "1_Pooling/config.json:   0%|          | 0.00/190 [00:00<?, ?B/s]"
      ]
     },
     "metadata": {},
     "output_type": "display_data"
    },
    {
     "name": "stdout",
     "output_type": "stream",
     "text": [
      "Simplified Text: \n",
      "The user shall be deemed to have consent to the terms and conditions , referred to as the agreement. You agree to be bound by the contract under this contract.\n"
     ]
    }
   ],
   "source": [
    "from transformers import AutoModelForMaskedLM, AutoTokenizer\n",
    "from sentence_transformers import SentenceTransformer, util\n",
    "import nltk\n",
    "from nltk.tokenize import sent_tokenize, word_tokenize\n",
    "import numpy as np\n",
    "\n",
    "nltk.download('punkt')\n",
    "\n",
    "# Load models\n",
    "tokenizer = AutoTokenizer.from_pretrained(\"bert-base-uncased\", trust_remote_code=True)\n",
    "model = AutoModelForMaskedLM.from_pretrained(\"bert-base-uncased\", trust_remote_code=True)\n",
    "similarity_model = SentenceTransformer(\"all-MiniLM-L6-v2\")\n",
    "\n",
    "def mask_word(sentence, word):\n",
    "    \"\"\"Replace a word in the sentence with [MASK].\"\"\"\n",
    "    return sentence.replace(word, \"[MASK]\")\n",
    "\n",
    "def generate_candidates(masked_sentence, top_k=5):\n",
    "    \"\"\"Generate replacement candidates using MLM.\"\"\"\n",
    "    inputs = tokenizer(masked_sentence, return_tensors=\"pt\")\n",
    "    outputs = model(**inputs)\n",
    "    logits = outputs.logits\n",
    "\n",
    "    mask_token_index = (inputs.input_ids == tokenizer.mask_token_id).nonzero(as_tuple=True)[1]\n",
    "    mask_logits = logits[0, mask_token_index, :]\n",
    "    top_tokens = mask_logits.topk(top_k, dim=-1).indices[0].tolist()\n",
    "\n",
    "    candidates = [tokenizer.decode([token]).strip() for token in top_tokens]\n",
    "    return candidates\n",
    "\n",
    "def rank_candidates(sentence, word, candidates):\n",
    "    \"\"\"Rank candidates based on semantic similarity and simplicity.\"\"\"\n",
    "    original_embedding = similarity_model.encode(sentence)\n",
    "    rankings = []\n",
    "\n",
    "    for candidate in candidates:\n",
    "        replaced_sentence = sentence.replace(word, candidate)\n",
    "        candidate_embedding = similarity_model.encode(replaced_sentence)\n",
    "        similarity = util.cos_sim(original_embedding, candidate_embedding)[0][0].item()\n",
    "        rankings.append((candidate, similarity))\n",
    "\n",
    "    # Sort by similarity and word length (shorter words preferred for simplicity)\n",
    "    rankings.sort(key=lambda x: (-x[1], len(x[0])))\n",
    "    return [candidate for candidate, _ in rankings]\n",
    "\n",
    "def simplify_text(text, complexity_threshold=5):\n",
    "    \"\"\"Simplify text by replacing complex words.\"\"\"\n",
    "    simplified_sentences = []\n",
    "    sentences = sent_tokenize(text)\n",
    "\n",
    "    for sentence in sentences:\n",
    "        words = word_tokenize(sentence)\n",
    "        for word in words:\n",
    "            # Detect complex words by length\n",
    "            if len(word) > complexity_threshold:  \n",
    "                masked_sentence = mask_word(sentence, word)\n",
    "                candidates = generate_candidates(masked_sentence)\n",
    "                ranked_candidates = rank_candidates(sentence, word, candidates)\n",
    "\n",
    "                if ranked_candidates:\n",
    "                    sentence = sentence.replace(word, ranked_candidates[0], 1)\n",
    "        simplified_sentences.append(sentence)\n",
    "\n",
    "    return \" \".join(simplified_sentences)\n",
    "\n",
    "\n",
    "text = \"\"\"\n",
    "The user shall be deemed to have consented to the terms and conditions herein referred to as the agreement.\n",
    "You agree to be bound by the obligations under this contract.\n",
    "\"\"\"\n",
    "\n",
    "simplified_text = simplify_text(text)\n",
    "print(\"Simplified Text:\", simplified_text)\n"
   ]
  },
  {
   "cell_type": "markdown",
   "metadata": {},
   "source": [
    "Still work ahead for this part of the project, might be for later, not enough time"
   ]
  },
  {
   "cell_type": "markdown",
   "metadata": {},
   "source": [
    "### Create Cypher Queries with eFLINT notation"
   ]
  },
  {
   "cell_type": "code",
   "execution_count": 8,
   "metadata": {},
   "outputs": [],
   "source": [
    "def classify_and_generate_queries2(json_data, file_path):\n",
    "    nodes = {}\n",
    "    relationships = []\n",
    "\n",
    "    # Enhanced mapping function for entity types based on eFLINT elements\n",
    "    def map_eflint_type(entity_type, entity_name):\n",
    "        # we are not really interested in numbers so we delete those\n",
    "        # in the case of links it is better that we classify them as FACT rather than ORG\n",
    "        if 'http://' in entity_type or 'https://' in entity_name:\n",
    "            return 'FACT'\n",
    "\n",
    "        if entity_type in ['CARDINAL', 'ORDINAL']:\n",
    "            return 'NUMBER'\n",
    "\n",
    "\n",
    "        if entity_type == 'ORG':\n",
    "            if 'terms' in entity_name.lower() or 'conditions' in entity_name.lower() or 'agreement' in entity_name.lower():\n",
    "                return 'DUTY'\n",
    "            else:\n",
    "                return 'ACTOR'\n",
    "\n",
    "        if 'section' in entity_name.lower() or 'section' in entity_type.lower():\n",
    "            return 'SECTION'\n",
    "\n",
    "        mapping = {\n",
    "            'PERSON': 'ACTOR',\n",
    "            'EVENT': 'EVENT',\n",
    "            'LAW': 'DUTY',\n",
    "            'WORK_OF_ART': 'ACT',\n",
    "            'CONDITION': 'CONDITION',\n",
    "            'DATE': 'DATE',\n",
    "            # they sadly do not appear in the NER we performed but we can nevertheless include them to keep the eFLINT semantics\n",
    "            'CLAIMANT': 'CLAIMANT',\n",
    "            'HOLDER': 'HOLDER'\n",
    "        }\n",
    "        return mapping.get(entity_type, 'FACT')\n",
    "\n",
    "    # entities and relationships\n",
    "    for item in json_data:\n",
    "        entities = item.get('entities', [])\n",
    "        relations = item.get('relations', [])\n",
    "        context_text = item.get('context', '')  # Text surrounding the entities\n",
    "\n",
    "        # Generate section summary for the context\n",
    "        section_summary = summarize_section(context_text) if context_text else \"No summary available\"\n",
    "\n",
    "        for entity in entities:\n",
    "            entity_name, entity_type = entity[:2]\n",
    "            mapped_type = map_eflint_type(entity_type, entity_name)\n",
    "            node_id = f\"{entity_name.replace(' ', '_')}_{mapped_type}\"\n",
    "            nodes[node_id] = {\n",
    "                'name': entity_name,\n",
    "                'type': mapped_type,\n",
    "                'description': section_summary  # Add the summary as a description\n",
    "            }\n",
    "\n",
    "        for relation in relations:\n",
    "            src_id = f\"{relation[0].replace(' ', '_')}_{map_eflint_type(entities[0][1], entities[0][0])}\"\n",
    "            tgt_id = f\"{relation[2].replace(' ', '_')}_{map_eflint_type(entities[0][1], entities[0][0])}\"\n",
    "            relationship_type = relation[1].replace(' ', '_').replace('-', '_')\n",
    "            relationships.append((src_id, relationship_type, tgt_id))\n",
    "\n",
    "    node_queries = [\n",
    "        f\"MERGE (n:{data['type']} {{name: '{data['name']}', description: '{data['description']}'}}) SET n.id = '{node_id}'\"\n",
    "        for node_id, data in nodes.items() if data['type'] != 'NUMBER'\n",
    "    ]\n",
    "\n",
    "    relationship_queries = [\n",
    "        f\"MATCH (a), (b) WHERE a.id = '{rel[0]}' AND b.id = '{rel[2]}' \"\n",
    "        f\"MERGE (a)-[:{rel[1]}]->(b)\"\n",
    "        for rel in relationships\n",
    "    ]\n",
    "\n",
    "    queries = node_queries + relationship_queries\n",
    "    # Save queries to a text file\n",
    "    with open(file_path, 'w') as file:\n",
    "        for query in queries:\n",
    "            file.write(query + '\\n')\n",
    "\n",
    "    return queries"
   ]
  },
  {
   "cell_type": "code",
   "execution_count": 9,
   "metadata": {},
   "outputs": [],
   "source": [
    "def classify_and_generate_queries(json_data, file_path):\n",
    "    nodes = {}\n",
    "    relationships = []\n",
    "\n",
    "    # Enhanced mapping function for entity types based on eFLINT elements\n",
    "    def map_eflint_type(entity_type, entity_name):\n",
    "        if 'http://' in entity_type or 'https://' in entity_name:\n",
    "            return 'FACT'\n",
    "        if entity_type in ['CARDINAL', 'ORDINAL']:\n",
    "            return 'NUMBER'\n",
    "        if entity_type == 'ORG':\n",
    "            if 'terms' in entity_name.lower() or 'conditions' in entity_name.lower() or 'agreement' in entity_name.lower():\n",
    "                return 'DUTY'\n",
    "            else:\n",
    "                return 'ACTOR'\n",
    "        if 'section' in entity_name.lower() or 'section' in entity_type.lower():\n",
    "            return 'SECTION'\n",
    "        mapping = {\n",
    "            'PERSON': 'ACTOR',\n",
    "            'EVENT': 'EVENT',\n",
    "            'LAW': 'DUTY',\n",
    "            'WORK_OF_ART': 'ACT',\n",
    "            'CONDITION': 'CONDITION',\n",
    "            'DATE': 'DATE',\n",
    "        }\n",
    "        return mapping.get(entity_type, 'FACT')\n",
    "\n",
    "    # Process summaries and associate them with entities\n",
    "    for item in json_data:\n",
    "        summary = item.get('summary', 'No summary available')\n",
    "        entities = item.get('entities', [])\n",
    "        relations = item.get('relations', [])\n",
    "\n",
    "        for entity in entities:\n",
    "            entity_name, entity_type = entity[:2]\n",
    "            mapped_type = map_eflint_type(entity_type, entity_name)\n",
    "            node_id = f\"{entity_name.replace(' ', '_')}_{mapped_type}\"\n",
    "            if node_id not in nodes:\n",
    "                nodes[node_id] = {\n",
    "                    'name': entity_name,\n",
    "                    'type': mapped_type,\n",
    "                    'descriptions': [summary],  # Start with the current summary\n",
    "                }\n",
    "            else:\n",
    "                nodes[node_id]['descriptions'].append(summary)  # Append additional summaries\n",
    "\n",
    "        # Add relationships if present\n",
    "        for relation in relations:\n",
    "            src_id = f\"{relation[0].replace(' ', '_')}_{map_eflint_type(entity_type, relation[0])}\"\n",
    "            tgt_id = f\"{relation[2].replace(' ', '_')}_{map_eflint_type(entity_type, relation[2])}\"\n",
    "            relationship_type = relation[1].replace(' ', '_').replace('-', '_')\n",
    "            relationships.append((src_id, relationship_type, tgt_id))\n",
    "\n",
    "    # Create Cypher queries for nodes\n",
    "    node_queries = [\n",
    "        f\"\"\"\n",
    "        MERGE (n:{data['type']} {{name: '{data['name']}'}})\n",
    "        SET n.id = '{node_id}', n.descriptions = {json.dumps(data['descriptions'])}\n",
    "        \"\"\"\n",
    "        for node_id, data in nodes.items() if data['type'] != 'NUMBER'\n",
    "    ]\n",
    "\n",
    "    # Create Cypher queries for relationships\n",
    "    relationship_queries = [\n",
    "        f\"\"\"\n",
    "        MATCH (a), (b)\n",
    "        WHERE a.id = '{rel[0]}' AND b.id = '{rel[2]}'\n",
    "        MERGE (a)-[:{rel[1]}]->(b)\n",
    "        \"\"\"\n",
    "        for rel in relationships\n",
    "    ]\n",
    "\n",
    "    queries = node_queries + relationship_queries\n",
    "\n",
    "    # Save queries to a text file\n",
    "    with open(file_path, 'w') as file:\n",
    "        for query in queries:\n",
    "            file.write(query + '\\n')\n",
    "\n",
    "    return queries\n"
   ]
  },
  {
   "cell_type": "code",
   "execution_count": 10,
   "metadata": {},
   "outputs": [],
   "source": [
    "with open('processed_data.json', 'r') as file:\n",
    "    json_data = json.load(file)\n",
    "\n",
    "queries = classify_and_generate_queries(json_data, 'cypher_queries.txt')"
   ]
  },
  {
   "cell_type": "code",
   "execution_count": 14,
   "metadata": {},
   "outputs": [
    {
     "ename": "AuthError",
     "evalue": "{code: Neo.ClientError.Security.Unauthorized} {message: The client is unauthorized due to authentication failure.}",
     "output_type": "error",
     "traceback": [
      "\u001b[0;31m---------------------------------------------------------------------------\u001b[0m",
      "\u001b[0;31mAuthError\u001b[0m                                 Traceback (most recent call last)",
      "Cell \u001b[0;32mIn[14], line 15\u001b[0m\n\u001b[1;32m     12\u001b[0m user \u001b[38;5;241m=\u001b[39m \u001b[38;5;124m\"\u001b[39m\u001b[38;5;124mneo4j\u001b[39m\u001b[38;5;124m\"\u001b[39m\n\u001b[1;32m     13\u001b[0m password \u001b[38;5;241m=\u001b[39m \u001b[38;5;124m\"\u001b[39m\u001b[38;5;124mmovies11\u001b[39m\u001b[38;5;124m\"\u001b[39m\n\u001b[0;32m---> 15\u001b[0m \u001b[43mexecute_queries\u001b[49m\u001b[43m(\u001b[49m\u001b[43mqueries\u001b[49m\u001b[43m,\u001b[49m\u001b[43m \u001b[49m\u001b[43muri\u001b[49m\u001b[43m,\u001b[49m\u001b[43m \u001b[49m\u001b[43muser\u001b[49m\u001b[43m,\u001b[49m\u001b[43m \u001b[49m\u001b[43mpassword\u001b[49m\u001b[43m)\u001b[49m\n",
      "Cell \u001b[0;32mIn[14], line 7\u001b[0m, in \u001b[0;36mexecute_queries\u001b[0;34m(queries, uri, user, password)\u001b[0m\n\u001b[1;32m      5\u001b[0m \u001b[38;5;28;01mwith\u001b[39;00m driver\u001b[38;5;241m.\u001b[39msession() \u001b[38;5;28;01mas\u001b[39;00m session:\n\u001b[1;32m      6\u001b[0m     \u001b[38;5;28;01mfor\u001b[39;00m query \u001b[38;5;129;01min\u001b[39;00m queries:\n\u001b[0;32m----> 7\u001b[0m         \u001b[43msession\u001b[49m\u001b[38;5;241;43m.\u001b[39;49m\u001b[43mrun\u001b[49m\u001b[43m(\u001b[49m\u001b[43mquery\u001b[49m\u001b[43m)\u001b[49m\n\u001b[1;32m      8\u001b[0m driver\u001b[38;5;241m.\u001b[39mclose()\n",
      "File \u001b[0;32m/usr/local/lib/python3.9/site-packages/neo4j/_sync/work/session.py:313\u001b[0m, in \u001b[0;36mSession.run\u001b[0;34m(self, query, parameters, **kwargs)\u001b[0m\n\u001b[1;32m    310\u001b[0m     \u001b[38;5;28mself\u001b[39m\u001b[38;5;241m.\u001b[39m_auto_result\u001b[38;5;241m.\u001b[39m_buffer_all()\n\u001b[1;32m    312\u001b[0m \u001b[38;5;28;01mif\u001b[39;00m \u001b[38;5;129;01mnot\u001b[39;00m \u001b[38;5;28mself\u001b[39m\u001b[38;5;241m.\u001b[39m_connection:\n\u001b[0;32m--> 313\u001b[0m     \u001b[38;5;28;43mself\u001b[39;49m\u001b[38;5;241;43m.\u001b[39;49m\u001b[43m_connect\u001b[49m\u001b[43m(\u001b[49m\u001b[38;5;28;43mself\u001b[39;49m\u001b[38;5;241;43m.\u001b[39;49m\u001b[43m_config\u001b[49m\u001b[38;5;241;43m.\u001b[39;49m\u001b[43mdefault_access_mode\u001b[49m\u001b[43m)\u001b[49m\n\u001b[1;32m    314\u001b[0m     \u001b[38;5;28;01massert\u001b[39;00m \u001b[38;5;28mself\u001b[39m\u001b[38;5;241m.\u001b[39m_connection \u001b[38;5;129;01mis\u001b[39;00m \u001b[38;5;129;01mnot\u001b[39;00m \u001b[38;5;28;01mNone\u001b[39;00m\n\u001b[1;32m    315\u001b[0m cx \u001b[38;5;241m=\u001b[39m \u001b[38;5;28mself\u001b[39m\u001b[38;5;241m.\u001b[39m_connection\n",
      "File \u001b[0;32m/usr/local/lib/python3.9/site-packages/neo4j/_sync/work/session.py:136\u001b[0m, in \u001b[0;36mSession._connect\u001b[0;34m(self, access_mode, **acquire_kwargs)\u001b[0m\n\u001b[1;32m    134\u001b[0m     access_mode \u001b[38;5;241m=\u001b[39m \u001b[38;5;28mself\u001b[39m\u001b[38;5;241m.\u001b[39m_config\u001b[38;5;241m.\u001b[39mdefault_access_mode\n\u001b[1;32m    135\u001b[0m \u001b[38;5;28;01mtry\u001b[39;00m:\n\u001b[0;32m--> 136\u001b[0m     \u001b[38;5;28;43msuper\u001b[39;49m\u001b[43m(\u001b[49m\u001b[43m)\u001b[49m\u001b[38;5;241;43m.\u001b[39;49m\u001b[43m_connect\u001b[49m\u001b[43m(\u001b[49m\n\u001b[1;32m    137\u001b[0m \u001b[43m        \u001b[49m\u001b[43maccess_mode\u001b[49m\u001b[43m,\u001b[49m\u001b[43m \u001b[49m\u001b[43mauth\u001b[49m\u001b[38;5;241;43m=\u001b[39;49m\u001b[38;5;28;43mself\u001b[39;49m\u001b[38;5;241;43m.\u001b[39;49m\u001b[43m_config\u001b[49m\u001b[38;5;241;43m.\u001b[39;49m\u001b[43mauth\u001b[49m\u001b[43m,\u001b[49m\u001b[43m \u001b[49m\u001b[38;5;241;43m*\u001b[39;49m\u001b[38;5;241;43m*\u001b[39;49m\u001b[43macquire_kwargs\u001b[49m\n\u001b[1;32m    138\u001b[0m \u001b[43m    \u001b[49m\u001b[43m)\u001b[49m\n\u001b[1;32m    139\u001b[0m \u001b[38;5;28;01mexcept\u001b[39;00m asyncio\u001b[38;5;241m.\u001b[39mCancelledError:\n\u001b[1;32m    140\u001b[0m     \u001b[38;5;28mself\u001b[39m\u001b[38;5;241m.\u001b[39m_handle_cancellation(message\u001b[38;5;241m=\u001b[39m\u001b[38;5;124m\"\u001b[39m\u001b[38;5;124m_connect\u001b[39m\u001b[38;5;124m\"\u001b[39m)\n",
      "File \u001b[0;32m/usr/local/lib/python3.9/site-packages/neo4j/_sync/work/workspace.py:167\u001b[0m, in \u001b[0;36mWorkspace._connect\u001b[0;34m(self, access_mode, auth, **acquire_kwargs)\u001b[0m\n\u001b[1;32m    159\u001b[0m     \u001b[38;5;28;01melse\u001b[39;00m:\n\u001b[1;32m    160\u001b[0m         \u001b[38;5;66;03m# This is the first time we open a connection to a server in a\u001b[39;00m\n\u001b[1;32m    161\u001b[0m         \u001b[38;5;66;03m# cluster environment for this session without explicitly\u001b[39;00m\n\u001b[0;32m   (...)\u001b[0m\n\u001b[1;32m    164\u001b[0m         \u001b[38;5;66;03m# we shall use this database explicitly for all subsequent\u001b[39;00m\n\u001b[1;32m    165\u001b[0m         \u001b[38;5;66;03m# actions within this session.\u001b[39;00m\n\u001b[1;32m    166\u001b[0m         log\u001b[38;5;241m.\u001b[39mdebug(\u001b[38;5;124m\"\u001b[39m\u001b[38;5;124m[#0000]  _: <WORKSPACE> resolve home database\u001b[39m\u001b[38;5;124m\"\u001b[39m)\n\u001b[0;32m--> 167\u001b[0m         \u001b[38;5;28;43mself\u001b[39;49m\u001b[38;5;241;43m.\u001b[39;49m\u001b[43m_pool\u001b[49m\u001b[38;5;241;43m.\u001b[39;49m\u001b[43mupdate_routing_table\u001b[49m\u001b[43m(\u001b[49m\n\u001b[1;32m    168\u001b[0m \u001b[43m            \u001b[49m\u001b[43mdatabase\u001b[49m\u001b[38;5;241;43m=\u001b[39;49m\u001b[38;5;28;43mself\u001b[39;49m\u001b[38;5;241;43m.\u001b[39;49m\u001b[43m_config\u001b[49m\u001b[38;5;241;43m.\u001b[39;49m\u001b[43mdatabase\u001b[49m\u001b[43m,\u001b[49m\n\u001b[1;32m    169\u001b[0m \u001b[43m            \u001b[49m\u001b[43mimp_user\u001b[49m\u001b[38;5;241;43m=\u001b[39;49m\u001b[38;5;28;43mself\u001b[39;49m\u001b[38;5;241;43m.\u001b[39;49m\u001b[43m_config\u001b[49m\u001b[38;5;241;43m.\u001b[39;49m\u001b[43mimpersonated_user\u001b[49m\u001b[43m,\u001b[49m\n\u001b[1;32m    170\u001b[0m \u001b[43m            \u001b[49m\u001b[43mbookmarks\u001b[49m\u001b[38;5;241;43m=\u001b[39;49m\u001b[38;5;28;43mself\u001b[39;49m\u001b[38;5;241;43m.\u001b[39;49m\u001b[43m_get_bookmarks\u001b[49m\u001b[43m(\u001b[49m\u001b[43m)\u001b[49m\u001b[43m,\u001b[49m\n\u001b[1;32m    171\u001b[0m \u001b[43m            \u001b[49m\u001b[43mauth\u001b[49m\u001b[38;5;241;43m=\u001b[39;49m\u001b[43mauth\u001b[49m\u001b[43m,\u001b[49m\n\u001b[1;32m    172\u001b[0m \u001b[43m            \u001b[49m\u001b[43macquisition_timeout\u001b[49m\u001b[38;5;241;43m=\u001b[39;49m\u001b[43macquisition_timeout\u001b[49m\u001b[43m,\u001b[49m\n\u001b[1;32m    173\u001b[0m \u001b[43m            \u001b[49m\u001b[43mdatabase_callback\u001b[49m\u001b[38;5;241;43m=\u001b[39;49m\u001b[38;5;28;43mself\u001b[39;49m\u001b[38;5;241;43m.\u001b[39;49m\u001b[43m_set_cached_database\u001b[49m\u001b[43m,\u001b[49m\n\u001b[1;32m    174\u001b[0m \u001b[43m        \u001b[49m\u001b[43m)\u001b[49m\n\u001b[1;32m    175\u001b[0m acquire_kwargs_ \u001b[38;5;241m=\u001b[39m {\n\u001b[1;32m    176\u001b[0m     \u001b[38;5;124m\"\u001b[39m\u001b[38;5;124maccess_mode\u001b[39m\u001b[38;5;124m\"\u001b[39m: access_mode,\n\u001b[1;32m    177\u001b[0m     \u001b[38;5;124m\"\u001b[39m\u001b[38;5;124mtimeout\u001b[39m\u001b[38;5;124m\"\u001b[39m: acquisition_timeout,\n\u001b[0;32m   (...)\u001b[0m\n\u001b[1;32m    181\u001b[0m     \u001b[38;5;124m\"\u001b[39m\u001b[38;5;124mliveness_check_timeout\u001b[39m\u001b[38;5;124m\"\u001b[39m: \u001b[38;5;28;01mNone\u001b[39;00m,\n\u001b[1;32m    182\u001b[0m }\n\u001b[1;32m    183\u001b[0m acquire_kwargs_\u001b[38;5;241m.\u001b[39mupdate(acquire_kwargs)\n",
      "File \u001b[0;32m/usr/local/lib/python3.9/site-packages/neo4j/_sync/io/_pool.py:900\u001b[0m, in \u001b[0;36mNeo4jPool.update_routing_table\u001b[0;34m(self, database, imp_user, bookmarks, auth, acquisition_timeout, database_callback)\u001b[0m\n\u001b[1;32m    890\u001b[0m existing_routers \u001b[38;5;241m=\u001b[39m \u001b[38;5;28mset\u001b[39m(routing_table\u001b[38;5;241m.\u001b[39mrouters)\n\u001b[1;32m    892\u001b[0m prefer_initial_routing_address \u001b[38;5;241m=\u001b[39m \u001b[38;5;28mself\u001b[39m\u001b[38;5;241m.\u001b[39mrouting_tables[\n\u001b[1;32m    893\u001b[0m     database\n\u001b[1;32m    894\u001b[0m ]\u001b[38;5;241m.\u001b[39minitialized_without_writers\n\u001b[1;32m    896\u001b[0m \u001b[38;5;28;01mif\u001b[39;00m (\n\u001b[1;32m    897\u001b[0m     prefer_initial_routing_address\n\u001b[1;32m    898\u001b[0m     \u001b[38;5;129;01mand\u001b[39;00m\n\u001b[1;32m    899\u001b[0m     \u001b[38;5;66;03m# TODO: Test this state\u001b[39;00m\n\u001b[0;32m--> 900\u001b[0m     \u001b[38;5;28;43mself\u001b[39;49m\u001b[38;5;241;43m.\u001b[39;49m\u001b[43m_update_routing_table_from\u001b[49m\u001b[43m(\u001b[49m\n\u001b[1;32m    901\u001b[0m \u001b[43m        \u001b[49m\u001b[38;5;28;43mself\u001b[39;49m\u001b[38;5;241;43m.\u001b[39;49m\u001b[43maddress\u001b[49m\u001b[43m,\u001b[49m\n\u001b[1;32m    902\u001b[0m \u001b[43m        \u001b[49m\u001b[43mdatabase\u001b[49m\u001b[38;5;241;43m=\u001b[39;49m\u001b[43mdatabase\u001b[49m\u001b[43m,\u001b[49m\n\u001b[1;32m    903\u001b[0m \u001b[43m        \u001b[49m\u001b[43mimp_user\u001b[49m\u001b[38;5;241;43m=\u001b[39;49m\u001b[43mimp_user\u001b[49m\u001b[43m,\u001b[49m\n\u001b[1;32m    904\u001b[0m \u001b[43m        \u001b[49m\u001b[43mbookmarks\u001b[49m\u001b[38;5;241;43m=\u001b[39;49m\u001b[43mbookmarks\u001b[49m\u001b[43m,\u001b[49m\n\u001b[1;32m    905\u001b[0m \u001b[43m        \u001b[49m\u001b[43mauth\u001b[49m\u001b[38;5;241;43m=\u001b[39;49m\u001b[43mauth\u001b[49m\u001b[43m,\u001b[49m\n\u001b[1;32m    906\u001b[0m \u001b[43m        \u001b[49m\u001b[43macquisition_timeout\u001b[49m\u001b[38;5;241;43m=\u001b[39;49m\u001b[43macquisition_timeout\u001b[49m\u001b[43m,\u001b[49m\n\u001b[1;32m    907\u001b[0m \u001b[43m        \u001b[49m\u001b[43mdatabase_callback\u001b[49m\u001b[38;5;241;43m=\u001b[39;49m\u001b[43mdatabase_callback\u001b[49m\u001b[43m,\u001b[49m\n\u001b[1;32m    908\u001b[0m \u001b[43m    \u001b[49m\u001b[43m)\u001b[49m\n\u001b[1;32m    909\u001b[0m ):\n\u001b[1;32m    910\u001b[0m     \u001b[38;5;66;03m# Why is only the first initial routing address used?\u001b[39;00m\n\u001b[1;32m    911\u001b[0m     \u001b[38;5;28;01mreturn\u001b[39;00m\n\u001b[1;32m    912\u001b[0m \u001b[38;5;28;01mif\u001b[39;00m \u001b[38;5;28mself\u001b[39m\u001b[38;5;241m.\u001b[39m_update_routing_table_from(\n\u001b[1;32m    913\u001b[0m     \u001b[38;5;241m*\u001b[39m(existing_routers \u001b[38;5;241m-\u001b[39m {\u001b[38;5;28mself\u001b[39m\u001b[38;5;241m.\u001b[39maddress}),\n\u001b[1;32m    914\u001b[0m     database\u001b[38;5;241m=\u001b[39mdatabase,\n\u001b[0;32m   (...)\u001b[0m\n\u001b[1;32m    919\u001b[0m     database_callback\u001b[38;5;241m=\u001b[39mdatabase_callback,\n\u001b[1;32m    920\u001b[0m ):\n",
      "File \u001b[0;32m/usr/local/lib/python3.9/site-packages/neo4j/_sync/io/_pool.py:833\u001b[0m, in \u001b[0;36mNeo4jPool._update_routing_table_from\u001b[0;34m(self, database, imp_user, bookmarks, auth, acquisition_timeout, database_callback, *routers)\u001b[0m\n\u001b[1;32m    829\u001b[0m \u001b[38;5;28;01mfor\u001b[39;00m router \u001b[38;5;129;01min\u001b[39;00m routers:\n\u001b[1;32m    830\u001b[0m     \u001b[38;5;28;01mfor\u001b[39;00m address \u001b[38;5;129;01min\u001b[39;00m NetworkUtil\u001b[38;5;241m.\u001b[39mresolve_address(\n\u001b[1;32m    831\u001b[0m         router, resolver\u001b[38;5;241m=\u001b[39m\u001b[38;5;28mself\u001b[39m\u001b[38;5;241m.\u001b[39mpool_config\u001b[38;5;241m.\u001b[39mresolver\n\u001b[1;32m    832\u001b[0m     ):\n\u001b[0;32m--> 833\u001b[0m         new_routing_table \u001b[38;5;241m=\u001b[39m \u001b[38;5;28;43mself\u001b[39;49m\u001b[38;5;241;43m.\u001b[39;49m\u001b[43mfetch_routing_table\u001b[49m\u001b[43m(\u001b[49m\n\u001b[1;32m    834\u001b[0m \u001b[43m            \u001b[49m\u001b[43maddress\u001b[49m\u001b[38;5;241;43m=\u001b[39;49m\u001b[43maddress\u001b[49m\u001b[43m,\u001b[49m\n\u001b[1;32m    835\u001b[0m \u001b[43m            \u001b[49m\u001b[43macquisition_timeout\u001b[49m\u001b[38;5;241;43m=\u001b[39;49m\u001b[43macquisition_timeout\u001b[49m\u001b[43m,\u001b[49m\n\u001b[1;32m    836\u001b[0m \u001b[43m            \u001b[49m\u001b[43mdatabase\u001b[49m\u001b[38;5;241;43m=\u001b[39;49m\u001b[43mdatabase\u001b[49m\u001b[43m,\u001b[49m\n\u001b[1;32m    837\u001b[0m \u001b[43m            \u001b[49m\u001b[43mimp_user\u001b[49m\u001b[38;5;241;43m=\u001b[39;49m\u001b[43mimp_user\u001b[49m\u001b[43m,\u001b[49m\n\u001b[1;32m    838\u001b[0m \u001b[43m            \u001b[49m\u001b[43mbookmarks\u001b[49m\u001b[38;5;241;43m=\u001b[39;49m\u001b[43mbookmarks\u001b[49m\u001b[43m,\u001b[49m\n\u001b[1;32m    839\u001b[0m \u001b[43m            \u001b[49m\u001b[43mauth\u001b[49m\u001b[38;5;241;43m=\u001b[39;49m\u001b[43mauth\u001b[49m\u001b[43m,\u001b[49m\n\u001b[1;32m    840\u001b[0m \u001b[43m        \u001b[49m\u001b[43m)\u001b[49m\n\u001b[1;32m    841\u001b[0m         \u001b[38;5;28;01mif\u001b[39;00m new_routing_table \u001b[38;5;129;01mis\u001b[39;00m \u001b[38;5;129;01mnot\u001b[39;00m \u001b[38;5;28;01mNone\u001b[39;00m:\n\u001b[1;32m    842\u001b[0m             new_database \u001b[38;5;241m=\u001b[39m new_routing_table\u001b[38;5;241m.\u001b[39mdatabase\n",
      "File \u001b[0;32m/usr/local/lib/python3.9/site-packages/neo4j/_sync/io/_pool.py:746\u001b[0m, in \u001b[0;36mNeo4jPool.fetch_routing_table\u001b[0;34m(self, address, acquisition_timeout, database, imp_user, bookmarks, auth)\u001b[0m\n\u001b[1;32m    744\u001b[0m new_routing_info \u001b[38;5;241m=\u001b[39m \u001b[38;5;28;01mNone\u001b[39;00m\n\u001b[1;32m    745\u001b[0m \u001b[38;5;28;01mtry\u001b[39;00m:\n\u001b[0;32m--> 746\u001b[0m     new_routing_info \u001b[38;5;241m=\u001b[39m \u001b[38;5;28;43mself\u001b[39;49m\u001b[38;5;241;43m.\u001b[39;49m\u001b[43mfetch_routing_info\u001b[49m\u001b[43m(\u001b[49m\n\u001b[1;32m    747\u001b[0m \u001b[43m        \u001b[49m\u001b[43maddress\u001b[49m\u001b[43m,\u001b[49m\n\u001b[1;32m    748\u001b[0m \u001b[43m        \u001b[49m\u001b[43mdatabase\u001b[49m\u001b[43m,\u001b[49m\n\u001b[1;32m    749\u001b[0m \u001b[43m        \u001b[49m\u001b[43mimp_user\u001b[49m\u001b[43m,\u001b[49m\n\u001b[1;32m    750\u001b[0m \u001b[43m        \u001b[49m\u001b[43mbookmarks\u001b[49m\u001b[43m,\u001b[49m\n\u001b[1;32m    751\u001b[0m \u001b[43m        \u001b[49m\u001b[43mauth\u001b[49m\u001b[43m,\u001b[49m\n\u001b[1;32m    752\u001b[0m \u001b[43m        \u001b[49m\u001b[43macquisition_timeout\u001b[49m\u001b[43m,\u001b[49m\n\u001b[1;32m    753\u001b[0m \u001b[43m    \u001b[49m\u001b[43m)\u001b[49m\n\u001b[1;32m    754\u001b[0m \u001b[38;5;28;01mexcept\u001b[39;00m Neo4jError \u001b[38;5;28;01mas\u001b[39;00m e:\n\u001b[1;32m    755\u001b[0m     \u001b[38;5;66;03m# checks if the code is an error that is caused by the client. In\u001b[39;00m\n\u001b[1;32m    756\u001b[0m     \u001b[38;5;66;03m# this case there is no sense in trying to fetch a RT from another\u001b[39;00m\n\u001b[1;32m    757\u001b[0m     \u001b[38;5;66;03m# router. Hence, the driver should fail fast during discovery.\u001b[39;00m\n\u001b[1;32m    758\u001b[0m     \u001b[38;5;28;01mif\u001b[39;00m e\u001b[38;5;241m.\u001b[39m_is_fatal_during_discovery():\n",
      "File \u001b[0;32m/usr/local/lib/python3.9/site-packages/neo4j/_sync/io/_pool.py:707\u001b[0m, in \u001b[0;36mNeo4jPool.fetch_routing_info\u001b[0;34m(self, address, database, imp_user, bookmarks, auth, acquisition_timeout)\u001b[0m\n\u001b[1;32m    705\u001b[0m     auth \u001b[38;5;241m=\u001b[39m copy(auth)\n\u001b[1;32m    706\u001b[0m     auth\u001b[38;5;241m.\u001b[39mforce_auth \u001b[38;5;241m=\u001b[39m \u001b[38;5;28;01mFalse\u001b[39;00m\n\u001b[0;32m--> 707\u001b[0m cx \u001b[38;5;241m=\u001b[39m \u001b[38;5;28;43mself\u001b[39;49m\u001b[38;5;241;43m.\u001b[39;49m\u001b[43m_acquire\u001b[49m\u001b[43m(\u001b[49m\u001b[43maddress\u001b[49m\u001b[43m,\u001b[49m\u001b[43m \u001b[49m\u001b[43mauth\u001b[49m\u001b[43m,\u001b[49m\u001b[43m \u001b[49m\u001b[43mdeadline\u001b[49m\u001b[43m,\u001b[49m\u001b[43m \u001b[49m\u001b[38;5;28;43;01mNone\u001b[39;49;00m\u001b[43m)\u001b[49m\n\u001b[1;32m    708\u001b[0m \u001b[38;5;28;01mtry\u001b[39;00m:\n\u001b[1;32m    709\u001b[0m     routing_table \u001b[38;5;241m=\u001b[39m cx\u001b[38;5;241m.\u001b[39mroute(\n\u001b[1;32m    710\u001b[0m         database\u001b[38;5;241m=\u001b[39mdatabase \u001b[38;5;129;01mor\u001b[39;00m \u001b[38;5;28mself\u001b[39m\u001b[38;5;241m.\u001b[39mworkspace_config\u001b[38;5;241m.\u001b[39mdatabase,\n\u001b[1;32m    711\u001b[0m         imp_user\u001b[38;5;241m=\u001b[39mimp_user \u001b[38;5;129;01mor\u001b[39;00m \u001b[38;5;28mself\u001b[39m\u001b[38;5;241m.\u001b[39mworkspace_config\u001b[38;5;241m.\u001b[39mimpersonated_user,\n\u001b[1;32m    712\u001b[0m         bookmarks\u001b[38;5;241m=\u001b[39mbookmarks,\n\u001b[1;32m    713\u001b[0m     )\n",
      "File \u001b[0;32m/usr/local/lib/python3.9/site-packages/neo4j/_sync/io/_pool.py:347\u001b[0m, in \u001b[0;36mIOPool._acquire\u001b[0;34m(self, address, auth, deadline, liveness_check_timeout)\u001b[0m\n\u001b[1;32m    342\u001b[0m             \u001b[38;5;28;01mraise\u001b[39;00m ClientError(\n\u001b[1;32m    343\u001b[0m                 \u001b[38;5;124m\"\u001b[39m\u001b[38;5;124mfailed to obtain a connection from the pool within \u001b[39m\u001b[38;5;124m\"\u001b[39m\n\u001b[1;32m    344\u001b[0m                 \u001b[38;5;124mf\u001b[39m\u001b[38;5;124m\"\u001b[39m\u001b[38;5;132;01m{\u001b[39;00mdeadline\u001b[38;5;241m.\u001b[39moriginal_timeout\u001b[38;5;132;01m!r}\u001b[39;00m\u001b[38;5;124ms (timeout)\u001b[39m\u001b[38;5;124m\"\u001b[39m\n\u001b[1;32m    345\u001b[0m             )\n\u001b[1;32m    346\u001b[0m log\u001b[38;5;241m.\u001b[39mdebug(\u001b[38;5;124m\"\u001b[39m\u001b[38;5;124m[#0000]  _: <POOL> trying to hand out new connection\u001b[39m\u001b[38;5;124m\"\u001b[39m)\n\u001b[0;32m--> 347\u001b[0m \u001b[38;5;28;01mreturn\u001b[39;00m \u001b[43mconnection_creator\u001b[49m\u001b[43m(\u001b[49m\u001b[43m)\u001b[49m\n",
      "File \u001b[0;32m/usr/local/lib/python3.9/site-packages/neo4j/_sync/io/_pool.py:169\u001b[0m, in \u001b[0;36mIOPool._acquire_new_later.<locals>.connection_creator\u001b[0;34m()\u001b[0m\n\u001b[1;32m    167\u001b[0m \u001b[38;5;28;01mtry\u001b[39;00m:\n\u001b[1;32m    168\u001b[0m     \u001b[38;5;28;01mtry\u001b[39;00m:\n\u001b[0;32m--> 169\u001b[0m         connection \u001b[38;5;241m=\u001b[39m \u001b[38;5;28;43mself\u001b[39;49m\u001b[38;5;241;43m.\u001b[39;49m\u001b[43mopener\u001b[49m\u001b[43m(\u001b[49m\n\u001b[1;32m    170\u001b[0m \u001b[43m            \u001b[49m\u001b[43maddress\u001b[49m\u001b[43m,\u001b[49m\u001b[43m \u001b[49m\u001b[43mauth\u001b[49m\u001b[43m \u001b[49m\u001b[38;5;129;43;01mor\u001b[39;49;00m\u001b[43m \u001b[49m\u001b[38;5;28;43mself\u001b[39;49m\u001b[38;5;241;43m.\u001b[39;49m\u001b[43mpool_config\u001b[49m\u001b[38;5;241;43m.\u001b[39;49m\u001b[43mauth\u001b[49m\u001b[43m,\u001b[49m\u001b[43m \u001b[49m\u001b[43mdeadline\u001b[49m\n\u001b[1;32m    171\u001b[0m \u001b[43m        \u001b[49m\u001b[43m)\u001b[49m\n\u001b[1;32m    172\u001b[0m     \u001b[38;5;28;01mexcept\u001b[39;00m ServiceUnavailable:\n\u001b[1;32m    173\u001b[0m         \u001b[38;5;28mself\u001b[39m\u001b[38;5;241m.\u001b[39mdeactivate(address)\n",
      "File \u001b[0;32m/usr/local/lib/python3.9/site-packages/neo4j/_sync/io/_pool.py:630\u001b[0m, in \u001b[0;36mNeo4jPool.open.<locals>.opener\u001b[0;34m(addr, auth_manager, deadline)\u001b[0m\n\u001b[1;32m    629\u001b[0m \u001b[38;5;28;01mdef\u001b[39;00m \u001b[38;5;21mopener\u001b[39m(addr, auth_manager, deadline):\n\u001b[0;32m--> 630\u001b[0m     \u001b[38;5;28;01mreturn\u001b[39;00m \u001b[43mBolt\u001b[49m\u001b[38;5;241;43m.\u001b[39;49m\u001b[43mopen\u001b[49m\u001b[43m(\u001b[49m\n\u001b[1;32m    631\u001b[0m \u001b[43m        \u001b[49m\u001b[43maddr\u001b[49m\u001b[43m,\u001b[49m\n\u001b[1;32m    632\u001b[0m \u001b[43m        \u001b[49m\u001b[43mauth_manager\u001b[49m\u001b[38;5;241;43m=\u001b[39;49m\u001b[43mauth_manager\u001b[49m\u001b[43m,\u001b[49m\n\u001b[1;32m    633\u001b[0m \u001b[43m        \u001b[49m\u001b[43mdeadline\u001b[49m\u001b[38;5;241;43m=\u001b[39;49m\u001b[43mdeadline\u001b[49m\u001b[43m,\u001b[49m\n\u001b[1;32m    634\u001b[0m \u001b[43m        \u001b[49m\u001b[43mrouting_context\u001b[49m\u001b[38;5;241;43m=\u001b[39;49m\u001b[43mrouting_context\u001b[49m\u001b[43m,\u001b[49m\n\u001b[1;32m    635\u001b[0m \u001b[43m        \u001b[49m\u001b[43mpool_config\u001b[49m\u001b[38;5;241;43m=\u001b[39;49m\u001b[43mpool_config\u001b[49m\u001b[43m,\u001b[49m\n\u001b[1;32m    636\u001b[0m \u001b[43m    \u001b[49m\u001b[43m)\u001b[49m\n",
      "File \u001b[0;32m/usr/local/lib/python3.9/site-packages/neo4j/_sync/io/_bolt.py:560\u001b[0m, in \u001b[0;36mBolt.open\u001b[0;34m(cls, address, auth_manager, deadline, routing_context, pool_config)\u001b[0m\n\u001b[1;32m    558\u001b[0m connection\u001b[38;5;241m.\u001b[39msocket\u001b[38;5;241m.\u001b[39mset_deadline(deadline)\n\u001b[1;32m    559\u001b[0m \u001b[38;5;28;01mtry\u001b[39;00m:\n\u001b[0;32m--> 560\u001b[0m     \u001b[43mconnection\u001b[49m\u001b[38;5;241;43m.\u001b[39;49m\u001b[43mhello\u001b[49m\u001b[43m(\u001b[49m\u001b[43m)\u001b[49m\n\u001b[1;32m    561\u001b[0m \u001b[38;5;28;01mfinally\u001b[39;00m:\n\u001b[1;32m    562\u001b[0m     connection\u001b[38;5;241m.\u001b[39msocket\u001b[38;5;241m.\u001b[39mset_deadline(\u001b[38;5;28;01mNone\u001b[39;00m)\n",
      "File \u001b[0;32m/usr/local/lib/python3.9/site-packages/neo4j/_sync/io/_bolt5.py:736\u001b[0m, in \u001b[0;36mBolt5x2.hello\u001b[0;34m(self, dehydration_hooks, hydration_hooks)\u001b[0m\n\u001b[1;32m    734\u001b[0m \u001b[38;5;28mself\u001b[39m\u001b[38;5;241m.\u001b[39mlogon(dehydration_hooks, hydration_hooks)\n\u001b[1;32m    735\u001b[0m \u001b[38;5;28mself\u001b[39m\u001b[38;5;241m.\u001b[39msend_all()\n\u001b[0;32m--> 736\u001b[0m \u001b[38;5;28;43mself\u001b[39;49m\u001b[38;5;241;43m.\u001b[39;49m\u001b[43mfetch_all\u001b[49m\u001b[43m(\u001b[49m\u001b[43m)\u001b[49m\n\u001b[1;32m    737\u001b[0m check_supported_server_product(\u001b[38;5;28mself\u001b[39m\u001b[38;5;241m.\u001b[39mserver_info\u001b[38;5;241m.\u001b[39magent)\n",
      "File \u001b[0;32m/usr/local/lib/python3.9/site-packages/neo4j/_sync/io/_bolt.py:1009\u001b[0m, in \u001b[0;36mBolt.fetch_all\u001b[0;34m(self)\u001b[0m\n\u001b[1;32m   1007\u001b[0m response \u001b[38;5;241m=\u001b[39m \u001b[38;5;28mself\u001b[39m\u001b[38;5;241m.\u001b[39mresponses[\u001b[38;5;241m0\u001b[39m]\n\u001b[1;32m   1008\u001b[0m \u001b[38;5;28;01mwhile\u001b[39;00m \u001b[38;5;129;01mnot\u001b[39;00m response\u001b[38;5;241m.\u001b[39mcomplete:\n\u001b[0;32m-> 1009\u001b[0m     detail_delta, summary_delta \u001b[38;5;241m=\u001b[39m \u001b[38;5;28;43mself\u001b[39;49m\u001b[38;5;241;43m.\u001b[39;49m\u001b[43mfetch_message\u001b[49m\u001b[43m(\u001b[49m\u001b[43m)\u001b[49m\n\u001b[1;32m   1010\u001b[0m     detail_count \u001b[38;5;241m+\u001b[39m\u001b[38;5;241m=\u001b[39m detail_delta\n\u001b[1;32m   1011\u001b[0m     summary_count \u001b[38;5;241m+\u001b[39m\u001b[38;5;241m=\u001b[39m summary_delta\n",
      "File \u001b[0;32m/usr/local/lib/python3.9/site-packages/neo4j/_sync/io/_bolt.py:994\u001b[0m, in \u001b[0;36mBolt.fetch_message\u001b[0;34m(self)\u001b[0m\n\u001b[1;32m    990\u001b[0m \u001b[38;5;66;03m# Receive exactly one message\u001b[39;00m\n\u001b[1;32m    991\u001b[0m tag, fields \u001b[38;5;241m=\u001b[39m \u001b[38;5;28mself\u001b[39m\u001b[38;5;241m.\u001b[39minbox\u001b[38;5;241m.\u001b[39mpop(\n\u001b[1;32m    992\u001b[0m     hydration_hooks\u001b[38;5;241m=\u001b[39m\u001b[38;5;28mself\u001b[39m\u001b[38;5;241m.\u001b[39mresponses[\u001b[38;5;241m0\u001b[39m]\u001b[38;5;241m.\u001b[39mhydration_hooks\n\u001b[1;32m    993\u001b[0m )\n\u001b[0;32m--> 994\u001b[0m res \u001b[38;5;241m=\u001b[39m \u001b[38;5;28;43mself\u001b[39;49m\u001b[38;5;241;43m.\u001b[39;49m\u001b[43m_process_message\u001b[49m\u001b[43m(\u001b[49m\u001b[43mtag\u001b[49m\u001b[43m,\u001b[49m\u001b[43m \u001b[49m\u001b[43mfields\u001b[49m\u001b[43m)\u001b[49m\n\u001b[1;32m    995\u001b[0m \u001b[38;5;28mself\u001b[39m\u001b[38;5;241m.\u001b[39midle_since \u001b[38;5;241m=\u001b[39m monotonic()\n\u001b[1;32m    996\u001b[0m \u001b[38;5;28;01mreturn\u001b[39;00m res\n",
      "File \u001b[0;32m/usr/local/lib/python3.9/site-packages/neo4j/_sync/io/_bolt5.py:496\u001b[0m, in \u001b[0;36mBolt5x0._process_message\u001b[0;34m(self, tag, fields)\u001b[0m\n\u001b[1;32m    494\u001b[0m \u001b[38;5;28mself\u001b[39m\u001b[38;5;241m.\u001b[39m_server_state_manager\u001b[38;5;241m.\u001b[39mstate \u001b[38;5;241m=\u001b[39m \u001b[38;5;28mself\u001b[39m\u001b[38;5;241m.\u001b[39mbolt_states\u001b[38;5;241m.\u001b[39mFAILED\n\u001b[1;32m    495\u001b[0m \u001b[38;5;28;01mtry\u001b[39;00m:\n\u001b[0;32m--> 496\u001b[0m     \u001b[43mresponse\u001b[49m\u001b[38;5;241;43m.\u001b[39;49m\u001b[43mon_failure\u001b[49m\u001b[43m(\u001b[49m\u001b[43msummary_metadata\u001b[49m\u001b[43m \u001b[49m\u001b[38;5;129;43;01mor\u001b[39;49;00m\u001b[43m \u001b[49m\u001b[43m{\u001b[49m\u001b[43m}\u001b[49m\u001b[43m)\u001b[49m\n\u001b[1;32m    497\u001b[0m \u001b[38;5;28;01mexcept\u001b[39;00m (ServiceUnavailable, DatabaseUnavailable):\n\u001b[1;32m    498\u001b[0m     \u001b[38;5;28;01mif\u001b[39;00m \u001b[38;5;28mself\u001b[39m\u001b[38;5;241m.\u001b[39mpool:\n",
      "File \u001b[0;32m/usr/local/lib/python3.9/site-packages/neo4j/_sync/io/_common.py:295\u001b[0m, in \u001b[0;36mLogonResponse.on_failure\u001b[0;34m(self, metadata)\u001b[0m\n\u001b[1;32m    293\u001b[0m handler \u001b[38;5;241m=\u001b[39m \u001b[38;5;28mself\u001b[39m\u001b[38;5;241m.\u001b[39mhandlers\u001b[38;5;241m.\u001b[39mget(\u001b[38;5;124m\"\u001b[39m\u001b[38;5;124mon_summary\u001b[39m\u001b[38;5;124m\"\u001b[39m)\n\u001b[1;32m    294\u001b[0m Util\u001b[38;5;241m.\u001b[39mcallback(handler)\n\u001b[0;32m--> 295\u001b[0m \u001b[38;5;28;01mraise\u001b[39;00m \u001b[38;5;28mself\u001b[39m\u001b[38;5;241m.\u001b[39m_hydrate_error(metadata)\n",
      "\u001b[0;31mAuthError\u001b[0m: {code: Neo.ClientError.Security.Unauthorized} {message: The client is unauthorized due to authentication failure.}"
     ]
    }
   ],
   "source": [
    "from neo4j import GraphDatabase\n",
    "\n",
    "def execute_queries(queries, uri, user, password):\n",
    "    driver = GraphDatabase.driver(uri, auth=(user, password))\n",
    "    with driver.session() as session:\n",
    "        for query in queries:\n",
    "            session.run(query)\n",
    "    driver.close()\n",
    "\n",
    "uri = \"neo4j://localhost:7687\"\n",
    "user = \"neo4j\"\n",
    "password = \"movies11\"\n",
    "\n",
<<<<<<< HEAD
    "execute_queries(queries, uri, user, password)\n"
=======
    "execute_queries(queries_apple, uri, user, password)"
>>>>>>> 0e81b9d (final clean code)
   ]
  },
  {
   "cell_type": "markdown",
   "metadata": {},
   "source": [
    "## Other option: \n",
    "### Using Langchain for Queries"
   ]
  },
  {
   "cell_type": "code",
   "execution_count": 13,
   "metadata": {},
   "outputs": [],
   "source": [
    "# %pip install langchain_openai\n",
    "# %pip install langchain_experimental\n",
    "# %pip install neo4j langchain-neo4j\n",
    "# %pip install yfiles_jupyter_graphs"
   ]
  },
  {
   "cell_type": "code",
   "execution_count": 14,
   "metadata": {},
   "outputs": [],
   "source": [
    "if not os.getenv(\"NEO4J_URI\"):\n",
    "    print(\"nope\")\n",
    "if not os.getenv(\"NEO4J_USERNAME\"):\n",
    "    print(\"nope\")\n",
    "if not os.getenv(\"NEO4J_PASSWORD\"):\n",
    "    print(\"nope\")"
   ]
  },
  {
   "cell_type": "code",
   "execution_count": 15,
   "metadata": {},
   "outputs": [],
   "source": [
    "from langchain.text_splitter import TokenTextSplitter\n",
    "text_splitter = TokenTextSplitter(chunk_size=512, chunk_overlap=24)\n",
    "tc_document = text_splitter.split_documents(tc_data)"
   ]
  },
  {
   "cell_type": "code",
   "execution_count": 16,
   "metadata": {},
   "outputs": [],
   "source": [
    "from langchain_openai import ChatOpenAI\n",
    "from langchain_experimental.graph_transformers import LLMGraphTransformer\n",
    "\n",
    "# llm=ChatOpenAI(temperature=0, model_name=\"gpt-4o-mini\")\n",
    "llm=ChatOpenAI(temperature=0, model_name=\"text-embedding-ada-002\")\n",
    "\n",
    "llm_transformer = LLMGraphTransformer(llm=llm)\n",
    "\n",
    "graph_documents = llm_transformer.convert_to_graph_documents(tc_document)"
   ]
  },
  {
   "cell_type": "code",
   "execution_count": 17,
   "metadata": {},
   "outputs": [],
   "source": [
    "from langchain_neo4j import Neo4jGraph\n",
    "\n",
    "graph = Neo4jGraph()\n",
    "graph.add_graph_documents(\n",
    "    graph_documents,\n",
    "    baseEntityLabel=True,\n",
    "    include_source=True\n",
    ")"
   ]
  },
  {
   "cell_type": "code",
   "execution_count": 18,
   "metadata": {},
   "outputs": [],
   "source": [
    "from yfiles_jupyter_graphs import GraphWidget\n",
    "from neo4j import GraphDatabase\n",
    "\n",
    "default_cypher = \"MATCH (s)-[r:!MENTIONS]->(t) RETURN s,r,t LIMIT 80\"\n",
    "\n",
    "def showGraph(cypher: str = default_cypher):\n",
    "    # create a neo4j session to run queries\n",
    "    driver = GraphDatabase.driver(\n",
    "        uri = os.environ[\"NEO4J_URI\"],\n",
    "        auth = (os.environ[\"NEO4J_USERNAME\"],\n",
    "                os.environ[\"NEO4J_PASSWORD\"]))\n",
    "    session = driver.session()\n",
    "    widget = GraphWidget(graph = session.run(cypher).graph())\n",
    "    widget.node_label_mapping = 'id'\n",
    "    display(widget)\n",
    "    return widget"
   ]
  },
  {
   "cell_type": "code",
   "execution_count": 19,
   "metadata": {},
   "outputs": [],
   "source": [
    "# showGraph()"
   ]
  },
  {
   "cell_type": "markdown",
   "metadata": {},
   "source": [
    "## Summarization based RAG"
   ]
  },
  {
   "cell_type": "code",
   "execution_count": 20,
   "metadata": {},
   "outputs": [],
   "source": [
    "from langchain.text_splitter import RecursiveCharacterTextSplitter\n",
    "from langchain.docstore.document import Document\n",
    "from langchain.prompts import PromptTemplate\n",
    "from langchain.chains.llm import LLMChain\n",
    "from langchain.chat_models import ChatOpenAI\n",
    "\n",
    "# Neo4j Connection\n",
    "class KnowledgeGraph:\n",
    "    def __init__(self, uri, user, password):\n",
    "        from neo4j import GraphDatabase\n",
    "        self.driver = GraphDatabase.driver(uri, auth=(user, password))\n",
    "\n",
    "    def close(self):\n",
    "        self.driver.close()\n",
    "\n",
    "    def get_all_summaries(self):\n",
    "        with self.driver.session() as session:\n",
    "            query = \"\"\"\n",
    "            MATCH (n)\n",
    "            RETURN DISTINCT n.descriptions AS descriptions\n",
    "            \"\"\"\n",
    "            results = session.run(query)\n",
    "            summaries = []\n",
    "            for record in results:\n",
    "                descriptions = record[\"descriptions\"]\n",
    "                if descriptions:\n",
    "                    summaries.extend(descriptions)\n",
    "            return list(set(summaries))"
   ]
  },
  {
   "cell_type": "code",
   "execution_count": 21,
   "metadata": {},
   "outputs": [],
   "source": [
    "# Simplified Summarization Workflow\n",
    "def summarize_in_chunks(summaries, llm):\n",
    "    # summaries to single text\n",
    "    combined_text = \" \".join(summaries)\n",
    "\n",
    "    text_splitter = RecursiveCharacterTextSplitter(chunk_size=1000, chunk_overlap=150)\n",
    "    split_texts = text_splitter.split_text(combined_text)\n",
    "\n",
    "    # summarize each split / chunk\n",
    "    chunk_prompt = PromptTemplate.from_template(\n",
    "        \"\"\"Summarize the following text while preserving key relationships, events, and timelines:\n",
    "        {text}\n",
    "        Helpful Answer:\"\"\"\n",
    "    )\n",
    "    llm_chain = LLMChain(llm=llm, prompt=chunk_prompt)\n",
    "\n",
    "    chunk_summaries = []\n",
    "    for chunk in split_texts:\n",
    "        summary = llm_chain.run({\"text\": chunk})\n",
    "        chunk_summaries.append(summary)\n",
    "\n",
    "    # combination into final summary\n",
    "    final_prompt = PromptTemplate.from_template(\n",
    "        \"\"\"Combine the following summaries into a cohesive final summary:\n",
    "        {text}\n",
    "        Helpful Answer:\"\"\"\n",
    "    )\n",
    "    final_chain = LLMChain(llm=llm, prompt=final_prompt)\n",
    "    final_summary = final_chain.run({\"text\": \" \".join(chunk_summaries)})\n",
    "\n",
    "    return final_summary"
   ]
  },
  {
   "cell_type": "code",
<<<<<<< HEAD
   "execution_count": 22,
=======
   "execution_count": 105,
   "metadata": {},
   "outputs": [],
   "source": [
    "# def clear_graph(uri, user, password):\n",
    "#     driver = GraphDatabase.driver(uri, auth=(user, password))\n",
    "#     with driver.session() as session:\n",
    "#         session.run(\"MATCH (n) DETACH DELETE n\")\n",
    "#     driver.close()\n",
    "\n",
    "# # Usage\n",
    "# clear_graph(\"neo4j://localhost:7687\", \"neo4j\", \"movies11\")\n"
   ]
  },
  {
   "cell_type": "markdown",
   "metadata": {},
   "source": [
    "#### Summary in bullet points"
   ]
  },
  {
   "cell_type": "code",
   "execution_count": 14,
   "metadata": {},
   "outputs": [],
   "source": [
    "# Simplified Summarization Workflow\n",
    "def summarize_in_points(summaries, llm):\n",
    "    # summaries to single text\n",
    "    combined_text = \" \".join(summaries)\n",
    "\n",
    "    text_splitter = RecursiveCharacterTextSplitter(chunk_size=500, chunk_overlap=70)\n",
    "    split_texts = text_splitter.split_text(combined_text)\n",
    "\n",
    "    # summarize each split / chunk\n",
    "    chunk_prompt = PromptTemplate.from_template(\n",
    "        \"\"\"Summarize the following text into a structured format with bullet points and headings, ensuring that key relationships and events are preserved: \n",
    "        {text} \n",
    "        Helpful Answer:\"\"\"\n",
    "    )\n",
    "    llm_chain = LLMChain(llm=llm, prompt=chunk_prompt)\n",
    "\n",
    "    chunk_summaries = []\n",
    "    for chunk in split_texts:\n",
    "        summary = llm_chain.run({\"text\": chunk})\n",
    "        chunk_summaries.append(summary)\n",
    "\n",
    "    # combination into final summary\n",
    "    final_prompt = PromptTemplate.from_template(\n",
    "        \"\"\"Combine the following summaries into a structured format with bullet points and headings, while keeping the same structure, into a cohesive final summary: \n",
    "        {text} \n",
    "        Helpful Answer:\"\"\"\n",
    "    )\n",
    "    final_chain = LLMChain(llm=llm, prompt=final_prompt)\n",
    "    final_summary = final_chain.run({\"text\": \" \".join(chunk_summaries)})\n",
    "\n",
    "    return final_summary"
   ]
  },
  {
   "cell_type": "markdown",
   "metadata": {},
   "source": [
    "## RAG flow with paragraphs"
   ]
  },
  {
   "cell_type": "code",
   "execution_count": 42,
>>>>>>> 0e81b9d (final clean code)
   "metadata": {},
   "outputs": [
    {
     "name": "stderr",
     "output_type": "stream",
     "text": [
      "/var/folders/6f/_m3vtyy92m94t_l4qyl157240000gn/T/ipykernel_37034/3427683880.py:17: LangChainDeprecationWarning: The class `ChatOpenAI` was deprecated in LangChain 0.0.10 and will be removed in 1.0. An updated version of the class exists in the :class:`~langchain-openai package and should be used instead. To use it run `pip install -U :class:`~langchain-openai` and import as `from :class:`~langchain_openai import ChatOpenAI``.\n",
      "  llm = ChatOpenAI(temperature=0, model_name=\"gpt-4\")\n",
      "/var/folders/6f/_m3vtyy92m94t_l4qyl157240000gn/T/ipykernel_37034/3619148993.py:15: LangChainDeprecationWarning: The class `LLMChain` was deprecated in LangChain 0.1.17 and will be removed in 1.0. Use :meth:`~RunnableSequence, e.g., `prompt | llm`` instead.\n",
      "  llm_chain = LLMChain(llm=llm, prompt=chunk_prompt)\n",
      "/var/folders/6f/_m3vtyy92m94t_l4qyl157240000gn/T/ipykernel_37034/3619148993.py:19: LangChainDeprecationWarning: The method `Chain.run` was deprecated in langchain 0.1.0 and will be removed in 1.0. Use :meth:`~invoke` instead.\n",
      "  summary = llm_chain.run({\"text\": chunk})\n"
     ]
    },
    {
     "name": "stdout",
     "output_type": "stream",
     "text": [
      "\n",
      "Final Summary:\n",
      "The text outlines the terms and conditions for using Apple Software on a supported Mac Computer, including automatic downloads and installations of software changes. The number of copies that can be downloaded depends on the user's license with Apple. The software is licensed under the MPEG-4 Visual Patent Portfolio License for personal and non-commercial use. It also discusses the use of Gracenote software, licensed by MPEG LA, for personal and non-commercial activities, and the use of Setup/Migration Assistant for transferring software between Apple-branded computers. The text warns about potential risks such as loss of profits, corruption or loss of data, and failure to transmit or receive any data. It also mentions the Wallet feature, which allows the storage of virtual representations of credit, debit, and prepaid cards. The text also outlines the terms of use for Apple Pay & Wallet, stating that the user must have employer authorization to bind their employer to these terms. The text also discusses the terms of use for Apple's software, including AMR encoding and decoding functionality, which is not licensed for use in cellular communications infrastructure. Users are prohibited from altering any proprietary notices on the software. The terms also cover the use of Apple Pay and Apple Wallet, which are considered a \"Service\" under the license. The text discusses licensing terms for the use of Apple Software, particularly those that contain AVC encoding and/or decoding functionality. Commercial use of H.264/AVC requires additional licensing, which can be obtained from MPEG LA, LLC. The text outlines the terms of a license for Apple Software obtained from the Mac App Store or through a software update. The license allows for a one-time permanent transfer of all rights to the software to another party, under certain conditions: the software must be transferred with Apple-branded hardware, and the transfer must include all of the software. The software will periodically check with Apple for updates. For UK-based consumers, the license is governed by local laws. The license also prohibits reverse engineering, disassembling, decrypting, modifying, or creating derivative works of the software, unless such restrictions are prohibited by law. The text discusses the terms of Apple's software license. It mentions that fonts can be embedded in content if allowed by the font's embedding restrictions. It clarifies that updates to Apple software are included in the license. The text also states that Apple is not a financial institution and that location data provided by Apple software is for basic navigation and planning only. The software cannot be exported or re-exported unless authorized by U.S. law and the laws of the jurisdiction where the software was obtained. Apple may provide access to third-party software or services as part of the software package or as an upgrade, update, or supplement. Users are not allowed to exploit these services. The text outlines the terms of use for Gracenote data, software, and servers, stating that they should not be exploited except as expressly permitted. It warns that sharing credentials with a third party could lead to unauthorized transactions. The text also states that users should not use Apple Software and Services to spam, defraud, harass, abuse, stalk, threaten, defame or infringe on the rights of others. Apple is not responsible for any misuse by the user or any offensive or illegal messages received as a result of using their software and services. The terms of use can be found on Apple's legal sales support page. The text outlines terms and conditions for Apple's services and software. It states that to obtain a refund, the entire hardware/software package must be returned. Redistribution of Flight Data requires prior written consent from the FAA. It also mentions that Apple does not guarantee uninterrupted or error-free services, continued availability of services, correction of defects, or compatibility with third-party software or services. Some software libraries and third-party software included with Apple Software are free and licensed under the GNU General Public License (GPL) or the GNU Library. The text discusses software licensed under the GNU General Public License (GPL) or the GNU Library/Lesser General Public License (LGPL). It specifies that the software documentation is licensed to U.S. Government end users only as commercial products and with the same rights as other end users. The text also states that Apple, Apple Payment Services, and their affiliates do not assume liability for any commerce activity made using Apple Pay or Wallet. Instead, users are advised to refer to their agreements with their card issuer, payment network, or merchant for any questions or disputes related to their supported cards and associated commerce activities. The text discusses any questions or disputes related to supported cards and associated commerce activities. It specifies that customers who are consumers (those using the Apple Software outside of their trade, business, or profession) may have legal rights in their country of residence that could prevent certain limitations from applying to them. If a lessee subleases the Apple Software, they must fully relinquish exclusive use for use only in specified countries and regions, including Argentina, Aruba, Australia, Austria, Barbados, Belgium, Bermuda, Brazil, Bulgaria, Canada, Cayman Islands, Chile, China mainland, Hong Kong, Taiwan, Colombia, Cyprus, Czech Republic, Denmark, Dominican Republic, Ecuador, El Salvador, Finland, France, Germany, Greece, Grenada, Guatemala, Hungary, Iceland, India, Indonesia, and Ireland. The text discusses the terms of use for Apple-branded software. It states that the software provided with a specific Apple-branded hardware product may not be compatible with other Apple-branded hardware models. The software can be used in virtual operating system environments, but only a single instance or copy can be virtualized. The Lessor, or provider, is responsible for ensuring that the Lessee, or user, complies with all license terms and assists Apple in enforcing compliance. The text also prohibits interference with Apple's verification, storage, or authentication mechanisms. The countries listed at the beginning of the text do not seem to be directly related to the rest of the information. The text discusses the security mechanisms implemented by Apple in its software, services, and content. It mentions digital rights management and signing among these mechanisms. The text also refers to Apple's Wallet service, which is provided with certain implied or statutory warranties and conditions, including merchantability, satisfactory quality, fitness for a particular purpose, accuracy, quiet enjoyment, and non-infringement of third-party rights. Information will be sent to Apple to determine eligibility and prevent fraud. The Wallet service is subject to terms and conditions, which can be accessed through the settings of supported devices.\n"
     ]
    }
   ],
   "source": [
    "# RAG Workflow\n",
    "def rag_summarization_with_chunks(uri, user, password):\n",
    "    # retrieve descriptions\n",
    "    kg = KnowledgeGraph(uri, user, password)\n",
    "    summaries = kg.get_all_summaries()\n",
    "    kg.close()\n",
    "\n",
    "    if not summaries:\n",
    "        print(\"No summaries found in the knowledge graph.\")\n",
    "        return \"No summaries found in the knowledge graph.\"\n",
    "\n",
    "    unique_summaries = list(set(summaries))\n",
    "    # print(\"Unique Descriptions Retrieved:\")\n",
    "    # for idx, summary in enumerate(unique_summaries, start=1):\n",
    "    #     print(f\"{idx}: {summary}\")\n",
    "\n",
    "    llm = ChatOpenAI(temperature=0, model_name=\"gpt-4\")\n",
    "    final_summary = summarize_in_chunks(unique_summaries, llm)\n",
    "    return final_summary\n",
    "\n",
    "# Perform RAG summarization with chunking\n",
<<<<<<< HEAD
    "final_summary = rag_summarization_with_chunks(uri, user, password)\n",
    "# print(\"\\nFinal Summary:\")\n",
    "print(final_summary)"
=======
    "apple_par_summary = rag_summarization_with_chunks(uri, user, password)\n",
    "print(\"\\nFinal Summary:\")\n",
    "print(apple_par_summary)"
   ]
  },
  {
   "cell_type": "markdown",
   "metadata": {},
   "source": [
    "## RAG flow with bullet points"
   ]
  },
  {
   "cell_type": "code",
   "execution_count": 21,
   "metadata": {},
   "outputs": [
    {
     "name": "stdout",
     "output_type": "stream",
     "text": [
      "\n",
      "Final Summary:\n",
      "- **Interference with Apple's Security Mechanisms**\n",
      "  - Prohibits circumventing or interfering with Apple's verification, storage, or authentication mechanisms.\n",
      "  - Includes digital signing, digital rights management, and other security mechanisms implemented in or by Apple software, services, or technology.\n",
      "  - Prohibits enabling others to interfere with these mechanisms.\n",
      "\n",
      "- **Apple Software Components and Open Source Programs**\n",
      "  - Certain components of the Apple Software and third-party open source programs included with the Apple Software may be made available by Apple on its Open Source website.\n",
      "\n",
      "- **Key Information**\n",
      "  - The AMR encoding and decoding functionality in the product is not licensed for use in cellular communications infrastructure, including base stations.\n",
      "  - For Australian consumers, the license does not affect or intend to affect statutory rights under the Australian Consumer Law.\n",
      "\n",
      "- **Apple Products and Services**\n",
      "  - Requires operating software that supports the services, with the latest version recommended and sometimes required.\n",
      "  - Requires an Apple Account associated with an iCloud account in good standing with Apple.\n",
      "  - Requires internet access or cellular data access, with potential fees.\n",
      "\n",
      "- **Gracenote Data, Software, and Servers**\n",
      "  - Users agree not to use or exploit these resources.\n",
      "  - Applicable to Supported Devices and can be accessed via: Settings > General > Apple.\n",
      "\n",
      "- **Liability and Endorsement**\n",
      "  - Apple, its officers, affiliates, and subsidiaries do not warrant or endorse and will not assume any liability or responsibility.\n",
      "\n",
      "- **Apple Software Changes**\n",
      "  - Provided by Apple with exceptions if changes are accompanied.\n",
      "\n",
      "- **Apple Software Support**\n",
      "  - Supported only on Apple-branded hardware that meets specified system requirements.\n",
      "\n",
      "- **Permitted Exceptions**\n",
      "  - As expressly permitted in Section 3, D. Maps of Apple Pay or Wallet.\n",
      "\n",
      "- **Third Party Decisions**\n",
      "  - Decisions made by an issuer, merchant, or other third party in connection with a Supported Card.\n",
      "\n",
      "- **Rewards and Stored Value**\n",
      "  - Accrual or redemption of rewards or stored value in connection with your account.\n",
      "\n",
      "- **Definition of Terms**\n",
      "  - End User Lessee: Refers to a Lessee who is the ultimate end user.\n",
      "\n",
      "- **License Terms and Conditions**\n",
      "  - Apply when remotely connecting from a device to an Apple-branded computer running the Apple Software.\n",
      "\n",
      "- **Device Definition**\n",
      "  - A device is any computer or electronic device used to remotely connect to an Apple-branded computer running the Apple Software.\n",
      "\n",
      "- **Apple Eligible Content and iCloud Service**\n",
      "  - Apple Eligible Content can be cached on a Mac Computer through the Screen Sharing feature or any other means.\n",
      "  - To complete a purchase on a Mac Computer, a Supported Card associated with an active iCloud account is required.\n",
      "  - The use of iCloud and its features is subject to the latest terms and conditions of the iCloud service.\n",
      "\n",
      "- **Access and Review**\n",
      "  - The legal terms for Apple's internet services, including iCloud, can be reviewed at: https://www.apple.com/legal/internet-services/icloud/.\n",
      "\n",
      "- **News App Content**\n",
      "  - The Adobe Color Profile software, which is distributed with Apple Software, can also be downloaded from Adobe's website at: https://www.adobe.com.\n",
      "\n",
      "- **Device Connection Limitations**\n",
      "  - Only one device can remotely connect at any given time to control the graphical desktop session of the Apple Software running and being displayed on the Home Mac.\n",
      "\n",
      "- **Home Mac Usage**\n",
      "  - A reasonable number of devices can remotely connect to the Home Mac simultaneously to observe the same graphical desktop session of the Apple Software running on the Home Mac.\n",
      "\n",
      "- **Apple Software Package**\n",
      "  - Apple provides access to certain third-party software as part of the Apple Software package.\n",
      "\n",
      "- **Potential Losses and Damages**\n",
      "  - Includes loss of profits, corruption or loss of data, failure to transmit or receive any data or information, and business interruption.\n",
      "\n",
      "- **Causes of Potential Losses and Damages**\n",
      "  - Use or inability to use the Apple software or services, and use or inability to use any third party software, applications, or services.\n",
      "\n",
      "- **Apple's Obligations**\n",
      "  - Apple is not obligated to provide updates, maintenance, warranty, technical or other support, or services for modified Apple Software.\n",
      "\n",
      "- **Restrictions on Apple Software**\n",
      "  - No portion of the Apple Software can be modified.\n",
      "\n",
      "- **Reproduction of Services**\n",
      "  - Services can be reproduced in any form or by any means.\n",
      "\n",
      "- **Content Removal and Disabling**\n",
      "  - Users have the right to remove cached Apple Eligible Content and can disable the Content Caching Features at any time.\n",
      "\n",
      "- **Proprietary Notices**\n",
      "  - Users agree not to remove, obscure, or alter any proprietary notices, including trademark and copyright notices.\n",
      "\n",
      "- **Automatic Download**\n",
      "  - If services are accessed through an automatic download, it is subject to the terms and conditions of the License.\n",
      "\n",
      "- **Apple Media Services Terms and Conditions**\n",
      "  - Services and Content Usage Rules are set forth in the Apple Media Services Terms and Conditions.\n",
      "\n",
      "- **License Granted**\n",
      "  - Users are granted a limited, non-transferable, non-exclusive license to download, install, use and run for personal, non-commercial use, one (1) copy of the Apple Software.\n",
      "\n",
      "\n"
     ]
    }
   ],
   "source": [
    "# RAG Workflow\n",
    "def rag_summarization_with_points(uri, user, password):\n",
    "    # retrieve descriptions\n",
    "    kg = KnowledgeGraph(uri, user, password)\n",
    "    summaries = kg.get_all_summaries()\n",
    "    kg.close()\n",
    "\n",
    "    if not summaries:\n",
    "        print(\"No summaries found in the knowledge graph.\")\n",
    "        return \"No summaries found in the knowledge graph.\"\n",
    "\n",
    "    unique_summaries = list(set(summaries))\n",
    "    # print(\"Unique Descriptions Retrieved:\")\n",
    "    # for idx, summary in enumerate(unique_summaries, start=1):\n",
    "    #     print(f\"{idx}: {summary}\")\n",
    "\n",
    "    llm = ChatOpenAI(temperature=0, model_name=\"gpt-4\")\n",
    "    final_summary = summarize_in_points(unique_summaries, llm)\n",
    "    return final_summary\n",
    "\n",
    "# Perform RAG summarization with chunking\n",
    "apple_points_summary = rag_summarization_with_points(uri, user, password)\n",
    "print(\"\\nFinal Summary:\")\n",
    "print(apple_points_summary)"
   ]
  },
  {
   "cell_type": "code",
   "execution_count": 16,
   "metadata": {},
   "outputs": [],
   "source": [
    "with open('apple_bullet_points.txt', \"w\") as file:\n",
    "        file.write(apple_points_summary)"
   ]
  },
  {
   "cell_type": "code",
   "execution_count": 20,
   "metadata": {},
   "outputs": [
    {
     "name": "stdout",
     "output_type": "stream",
     "text": [
      "\n",
      "Final Summary:\n",
      "- **Interference with Apple's Security Mechanisms**\n",
      "  - Prohibits circumventing or interfering with Apple's verification, storage, or authentication mechanisms.\n",
      "  - Includes digital signing, digital rights management, and other security mechanisms implemented in or by Apple software, services, or other Apple technology.\n",
      "  - Prohibits enabling others to interfere with these mechanisms.\n",
      "\n",
      "- **Apple Software Components and Open Source Programs**\n",
      "  - Certain components of the Apple software, and third-party open source programs included with the Apple software, have been or may be made available by Apple on its Open Source.\n",
      "  - Website: https://www.opensource.apple.com/ (referred to as \"Open-Sourced Components\")\n",
      "\n",
      "- **Key Information**\n",
      "  - The AMR encoding and decoding functionality in the product is not licensed for use in cellular communications infrastructure. This includes base stations.\n",
      "  - For Australian consumers: The license does not affect or intend to affect statutory rights under the law. - Australian Consumer Law\n",
      "  - Includes consumer guarantees\n",
      "\n",
      "- **Apple Products and Services**\n",
      "  - Requires operating software that supports the services\n",
      "    - Latest version recommended and sometimes required\n",
      "  - Requires an Apple Account associated with an iCloud account\n",
      "    - Account must be in good standing with Apple\n",
      "  - Requires internet access or cellular data access\n",
      "    - Fees may apply\n",
      "\n",
      "- **Gracenote Data, Software, and Servers**\n",
      "  - Users agree not to use or exploit these resources.\n",
      "  - Applicable to Supported Devices\n",
      "  - Terms are incorporated by reference\n",
      "  - Can be accessed via: Settings > General\n",
      "\n",
      "- **Liability and Endorsement**\n",
      "  - Apple, its officers, affiliates, and subsidiaries:\n",
      "    - Do not warrant or endorse\n",
      "    - Will not assume any liability or responsibility to the user or any other person.\n",
      "\n",
      "- **Apple Software Changes**\n",
      "  - Provided by Apple\n",
      "  - Only supported on Apple-branded hardware that meets specified system requirements\n",
      "\n",
      "- **Restrictions**\n",
      "  - Except as permitted in Section 3, D. Maps of Apple Pay or Wallet\n",
      "\n",
      "- **Third Party Decisions**\n",
      "  - Decisions made by an issuer, merchant, or other third party in connection with a Supported Card\n",
      "\n",
      "- **Rewards and Stored Value**\n",
      "  - Accrual or redemption of rewards or stored value in connection with your account - Supported Cards\n",
      "  - The text mentions the funding or reloading of prepaid Supported Cards.\n",
      "\n",
      "- **Definition of Terms**\n",
      "  - End User Lessee: A lessee who is the ultimate end user.\n",
      "\n",
      "- **License Terms and Conditions**\n",
      "  - The license allows for remote connection from another computer or electronic device (referred to as a \"Device\") to an Apple-branded computer running the Apple Software.\n",
      "\n",
      "- **Apple Eligible Content and iCloud Service**\n",
      "  - Apple Eligible Content can be cached on a Mac Computer (also known as the \"Home Mac\").\n",
      "  - This can be done through the Screen Sharing feature or any other means.\n",
      "  - The caching process is governed by specific license terms related to the type of Apple Eligible Content.\n",
      "  - To complete a purchase on a Mac Computer, a Supported Card associated with an active iCloud account is required.\n",
      "  - The use of iCloud and its features is subject to the latest terms and conditions of the iCloud service.\n",
      "\n",
      "- **Access and Review**\n",
      "  - The legal terms for Apple's internet services, including iCloud, can be reviewed at: https://www.apple.com/legal/internet-services/icloud/.\n",
      "\n",
      "- **News App Content**\n",
      "  - The Adobe Color Profile software that comes with Apple Software can also be downloaded from Adobe's website: https://www.adobe.com.\n",
      "\n",
      "- **Device Connection Limitations**\n",
      "  - Only one device can remotely connect at any given time to control the graphical desktop session of the Apple Software displayed on the Home Mac. This connection can be either direct or indirect.\n",
      "\n",
      "- **Home Mac Usage**\n",
      "  - A reasonable number of devices can remotely connect simultaneously\n",
      "  - The purpose is to observe the same graphical desktop session of the Apple Software running on the Home Mac\n",
      "  - The connected devices should not control the Apple Software\n",
      "\n",
      "- **Apple Software Package**\n",
      "  - Apple provides access to certain third-party software as part of the Apple Software package\n",
      "  - This access may also be provided as an upgrade, update, or supplement to the Apple Software\n",
      "\n",
      "- **Potential Risks and Losses**\n",
      "  - Loss of profits\n",
      "  - Corruption or loss of data\n",
      "  - Failure to transmit or receive any data or information\n",
      "    - This includes course instructions, assignments, and materials\n",
      "  - Business interruption\n",
      "  - Other commercial damages or losses\n",
      "\n",
      "- **Causes of Potential Risks and Losses**\n",
      "  - Use or inability to use the Apple software or services\n",
      "  - Use or inability to use any third party software, applications or services\n",
      "\n",
      "- **Apple Software and Services**\n",
      "  - Apple is not obligated to provide updates for modified Apple Software\n",
      "  - Apple is not required to provide maintenance for modified Apple Software\n",
      "  - No warranty is provided for modified Apple Software\n",
      "  - Apple does not offer technical or other support for modified Apple Software\n",
      "  - No services are provided for the resultant modified Apple Software\n",
      "\n"
     ]
    }
   ],
   "source": [
    "apple_points_summary2 = rag_summarization_with_points(uri, user, password)\n",
    "print(\"\\nFinal Summary:\")\n",
    "print(apple_points_summary2)\n"
   ]
  },
  {
   "cell_type": "code",
   "execution_count": 19,
   "metadata": {},
   "outputs": [
    {
     "name": "stdout",
     "output_type": "stream",
     "text": [
      "\n",
      "Final Summary:\n",
      "- **Interference with Apple's Security Mechanisms**\n",
      "  - Prohibits circumventing or interfering with Apple's verification, storage, or authentication mechanisms.\n",
      "  - Includes digital signing, digital rights management, and other security mechanisms implemented in or by Apple software, services, or technology.\n",
      "  - Prohibition extends to enabling others to interfere with these mechanisms.\n",
      "\n",
      "- **Components of Apple Software**\n",
      "  - Certain components of the Apple Software, and third-party open source programs included with the Apple Software, may be made available by Apple on its Open Source website.\n",
      "  - The product's AMR encoding and decoding functionality is not licensed for use in cellular communications infrastructure, including base stations.\n",
      "\n",
      "- **For Australian consumers**\n",
      "  - The license does not affect or intend to affect statutory rights under Australian Consumer Law.\n",
      "  - Includes consumer guarantees.\n",
      "\n",
      "- **Apple Products and Services**\n",
      "  - Requires operating software that supports the services, latest version recommended and sometimes required.\n",
      "  - Requires an Apple Account associated with an iCloud account, account must be in good standing with Apple.\n",
      "  - Requires internet access or cellular data access, fees may apply.\n",
      "\n",
      "- **Gracenote Data, Software, and Servers**\n",
      "  - Users agree not to use or exploit these resources.\n",
      "  - Applicable to Supported Devices.\n",
      "  - Terms are incorporated by reference.\n",
      "  - Can be accessed via: Settings > General > Apple.\n",
      "\n",
      "- **Liability and Endorsement**\n",
      "  - Apple, its officers, affiliates, and subsidiaries do not warrant or endorse and will not assume any liability or responsibility to you or any other person.\n",
      "\n",
      "- **Apple Software Changes**\n",
      "  - Provided by Apple, exceptions exist if changes are accompanied.\n",
      "\n",
      "- **Apple Software Support**\n",
      "  - Supported only on Apple-branded hardware, hardware must meet specified system requirements as indicated by Apple.\n",
      "\n",
      "- **Permitted Exceptions**\n",
      "  - Expressly permitted in Section 3, D. Maps of Apple Pay or Wallet.\n",
      "\n",
      "- **Third Party Decisions**\n",
      "  - Decisions made by an issuer, merchant, or other third party in connection with a Supported Card.\n",
      "\n",
      "- **Rewards and Stored Value**\n",
      "  - Accrual or redemption of rewards or stored value in connection with your account - Supported Cards.\n",
      "  - The text mentions the funding or reloading of prepaid Supported Cards.\n",
      "\n",
      "- **Definition of Terms**\n",
      "  - End User Lessee: A lessee who is the ultimate end user.\n",
      "\n",
      "- **License Terms and Conditions**\n",
      "  - The license allows for remote connection from another computer or electronic device (referred to as a \"Device\") to an Apple-branded computer running the Apple Software.\n",
      "\n",
      "- **Apple Eligible Content and iCloud Service**\n",
      "  - Apple Eligible Content can be cached on a Mac Computer (referred to as the \"Home Mac\").\n",
      "  - This can be done through the Screen Sharing feature or any other means.\n",
      "  - The caching process is governed by specific license terms.\n",
      "  - To complete a purchase on a Mac Computer, a Supported Card associated with an active iCloud account is required.\n",
      "  - Users must acknowledge and agree to the terms and conditions of the iCloud service.\n",
      "  - The use of iCloud and its features is subject to the latest terms and conditions.\n",
      "  - The legal aspects of Apple's internet services, including iCloud, can be reviewed at https://www.apple.com/legal/internet-services/icloud/.\n",
      "\n",
      "- **News App Content**\n",
      "  - The Adobe Color Profile software, which is distributed with Apple Software, can also be downloaded from Adobe's website at https://www.adobe.com.\n",
      "\n",
      "- **Device Connection Limitations**\n",
      "  - Only one device can remotely connect at any given time to control the graphical desktop session of the Apple Software.\n",
      "  - This connection can be either direct or indirect.\n",
      "  - The Apple Software must be running and displayed on the Home Mac.\n",
      "\n",
      "- **Home Mac Usage**\n",
      "  - A reasonable number of devices can remotely connect to the Home Mac simultaneously.\n",
      "  - The purpose of this connection is to observe the same graphical desktop session of the Apple Software running on the Home Mac.\n",
      "  - These devices should not control the Apple Software.\n",
      "\n",
      "- **Apple Software Package**\n",
      "  - Apple provides access to certain third-party software as part of the Apple Software package.\n",
      "  - This access may also be provided as an upgrade, update, or supplement to the Apple Software.\n",
      "\n",
      "- **Potential Losses and Damages**\n",
      "  - Loss of profits, corruption or loss of data, failure to transmit or receive any data or information, business interruption, other commercial damages or losses.\n",
      "\n",
      "- **Causes of Potential Losses and Damages**\n",
      "  - Use or inability to use the Apple software or services, use or inability to use any third party software, applications, or services.\n",
      "\n",
      "- **Apple's Obligations**\n",
      "  - Apple is not obligated to provide updates for the modified Apple Software.\n",
      "  - Apple is not required to provide maintenance for the modified Apple Software.\n",
      "  - Apple does not offer warranty for the modified Apple Software.\n",
      "  - Apple does not provide technical or other support for the modified Apple Software.\n",
      "  - Apple does not offer services for the modified Apple Software.\n",
      "\n",
      "- **Restrictions on Apple Software**\n",
      "  - No portion of the Apple Software can be modified.\n",
      "\n",
      "- **Reproduction of Services**\n",
      "  - Services can be reproduced in any form or by any means.\n",
      "\n",
      "- **Content Removal and Disabling**\n",
      "  - Users have the right to remove cached Apple Eligible Content.\n",
      "  - Users can disable the Content Caching Features at any time.\n",
      "\n",
      "- **Proprietary Notices**\n",
      "  - Users agree not to remove, obscure, or alter any proprietary notices.\n",
      "  - This includes trademark and copyright notices affixed to or contained within the Apple Software.\n",
      "\n",
      "- **Automatic Download\n"
     ]
    }
   ],
   "source": [
    "apple_points_summary3 = rag_summarization_with_points(uri, user, password)\n",
    "print(\"\\nFinal Summary:\")\n",
    "print(apple_points_summary3)"
   ]
  },
  {
   "cell_type": "code",
   "execution_count": 22,
   "metadata": {},
   "outputs": [],
   "source": [
    "with open('apple_bullet_points2.txt', \"w\") as file:\n",
    "        file.write(apple_points_summary3)"
>>>>>>> 0e81b9d (final clean code)
   ]
  }
 ],
 "metadata": {
  "kernelspec": {
   "display_name": "Python 3",
   "language": "python",
   "name": "python3"
  },
  "language_info": {
   "codemirror_mode": {
    "name": "ipython",
    "version": 3
   },
   "file_extension": ".py",
   "mimetype": "text/x-python",
   "name": "python",
   "nbconvert_exporter": "python",
   "pygments_lexer": "ipython3",
   "version": "3.9.21"
  }
 },
 "nbformat": 4,
 "nbformat_minor": 4
}
